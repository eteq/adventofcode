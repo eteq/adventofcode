{
 "cells": [
  {
   "cell_type": "code",
   "execution_count": 1,
   "metadata": {},
   "outputs": [],
   "source": [
    "import re\n",
    "import numpy as np\n",
    "\n",
    "import collections\n",
    "from scipy import ndimage"
   ]
  },
  {
   "cell_type": "markdown",
   "metadata": {},
   "source": [
    "https://adventofcode.com/2020"
   ]
  },
  {
   "cell_type": "markdown",
   "metadata": {},
   "source": [
    "# Day 9"
   ]
  },
  {
   "cell_type": "code",
   "execution_count": 10,
   "metadata": {},
   "outputs": [],
   "source": [
    "with open('input9') as f:\n",
    "    input9 = f.read().strip()"
   ]
  },
  {
   "cell_type": "markdown",
   "metadata": {},
   "source": [
    "## Part 1"
   ]
  },
  {
   "cell_type": "code",
   "execution_count": 44,
   "metadata": {},
   "outputs": [
    {
     "data": {
      "text/plain": [
       "array([ 35,  20,  15,  25,  47,  40,  62,  55,  65,  95, 102, 117, 150,\n",
       "       182, 127, 219, 299, 277, 309, 576])"
      ]
     },
     "execution_count": 44,
     "metadata": {},
     "output_type": "execute_result"
    }
   ],
   "source": [
    "test_input = \"\"\"35\n",
    "20\n",
    "15\n",
    "25\n",
    "47\n",
    "40\n",
    "62\n",
    "55\n",
    "65\n",
    "95\n",
    "102\n",
    "117\n",
    "150\n",
    "182\n",
    "127\n",
    "219\n",
    "299\n",
    "277\n",
    "309\n",
    "576\"\"\"\n",
    "def parse_input(inpt):\n",
    "    return np.array(inpt.split('\\n'), dtype=int)\n",
    "parse_input(test_input)"
   ]
  },
  {
   "cell_type": "code",
   "execution_count": 60,
   "metadata": {},
   "outputs": [],
   "source": [
    "def get_different_combinations(arr):\n",
    "    c1, c2 = np.meshgrid(arr, arr)\n",
    "    same_comb_msk = ~np.eye(arr.size, dtype=bool)\n",
    "    return np.array((c1[same_comb_msk], c2[same_comb_msk]))\n",
    "\n",
    "def validate_xmas(arr, preamble_size):    \n",
    "    valid = -np.ones(len(arr), dtype=int)  # -1 means not checked\n",
    "    for i in list(range(len(arr)))[preamble_size:]:\n",
    "        preamble = arr[(i-preamble_size):i]\n",
    "        assert len(preamble)==preamble_size\n",
    "        \n",
    "        combs = get_different_combinations(preamble)\n",
    "        sums = np.sum(combs, axis=0)\n",
    "        valid[i] = np.in1d(arr[i], sums)[0]\n",
    "        \n",
    "    return valid\n",
    "        \n",
    "inarr = parse_input(test_input)\n",
    "assert inarr[validate_xmas(inarr, 5)==0][0] == 127"
   ]
  },
  {
   "cell_type": "code",
   "execution_count": 64,
   "metadata": {},
   "outputs": [
    {
     "data": {
      "text/plain": [
       "array([-1, -1, -1, -1, -1, -1, -1, -1, -1, -1, -1, -1, -1, -1, -1, -1, -1,\n",
       "       -1, -1, -1, -1, -1, -1, -1, -1,  1,  1,  1,  1,  1,  1,  1,  1,  1,\n",
       "        1,  1,  1,  1,  1,  1,  1,  1,  1,  1,  1,  1,  1,  1,  1,  1,  1,\n",
       "        1,  1,  1,  1,  1,  1,  1,  1,  1,  1,  1,  1,  1,  1,  1,  1,  1,\n",
       "        1,  1,  1,  1,  1,  1,  1,  1,  1,  1,  1,  1,  1,  1,  1,  1,  1,\n",
       "        1,  1,  1,  1,  1,  1,  1,  1,  1,  1,  1,  1,  1,  1,  1,  1,  1,\n",
       "        1,  1,  1,  1,  1,  1,  1,  1,  1,  1,  1,  1,  1,  1,  1,  1,  1,\n",
       "        1,  1,  1,  1,  1,  1,  1,  1,  1,  1,  1,  1,  1,  1,  1,  1,  1,\n",
       "        1,  1,  1,  1,  1,  1,  1,  1,  1,  1,  1,  1,  1,  1,  1,  1,  1,\n",
       "        1,  1,  1,  1,  1,  1,  1,  1,  1,  1,  1,  1,  1,  1,  1,  1,  1,\n",
       "        1,  1,  1,  1,  1,  1,  1,  1,  1,  1,  1,  1,  1,  1,  1,  1,  1,\n",
       "        1,  1,  1,  1,  1,  1,  1,  1,  1,  1,  1,  1,  1,  1,  1,  1,  1,\n",
       "        1,  1,  1,  1,  1,  1,  1,  1,  1,  1,  1,  1,  1,  1,  1,  1,  1,\n",
       "        1,  1,  1,  1,  1,  1,  1,  1,  1,  1,  1,  1,  1,  1,  1,  1,  1,\n",
       "        1,  1,  1,  1,  1,  1,  1,  1,  1,  1,  1,  1,  1,  1,  1,  1,  1,\n",
       "        1,  1,  1,  1,  1,  1,  1,  1,  1,  1,  1,  1,  1,  1,  1,  1,  1,\n",
       "        1,  1,  1,  1,  1,  1,  1,  1,  1,  1,  1,  1,  1,  1,  1,  1,  1,\n",
       "        1,  1,  1,  1,  1,  1,  1,  1,  1,  1,  1,  1,  1,  1,  1,  1,  1,\n",
       "        1,  1,  1,  1,  1,  1,  1,  1,  1,  1,  1,  1,  1,  1,  1,  1,  1,\n",
       "        1,  1,  1,  1,  1,  1,  1,  1,  1,  1,  1,  1,  1,  1,  1,  1,  1,\n",
       "        1,  1,  1,  1,  1,  1,  1,  1,  1,  1,  1,  1,  1,  1,  1,  1,  1,\n",
       "        1,  1,  1,  1,  1,  1,  1,  1,  1,  1,  1,  1,  1,  1,  1,  1,  1,\n",
       "        1,  1,  1,  1,  1,  1,  1,  1,  1,  1,  1,  1,  1,  1,  1,  1,  1,\n",
       "        1,  1,  1,  1,  1,  1,  1,  1,  1,  1,  1,  1,  1,  1,  1,  1,  1,\n",
       "        1,  1,  1,  1,  1,  1,  1,  1,  1,  1,  1,  1,  1,  1,  1,  1,  1,\n",
       "        1,  1,  1,  1,  1,  1,  1,  1,  1,  1,  1,  1,  1,  1,  1,  1,  1,\n",
       "        1,  1,  1,  1,  1,  1,  1,  1,  1,  1,  1,  1,  1,  1,  1,  1,  1,\n",
       "        1,  1,  1,  1,  1,  1,  1,  1,  1,  1,  1,  1,  1,  1,  1,  1,  1,\n",
       "        1,  1,  1,  1,  1,  1,  1,  1,  1,  1,  1,  1,  1,  1,  1,  1,  1,\n",
       "        1,  1,  1,  1,  1,  1,  1,  1,  1,  1,  1,  1,  1,  1,  1,  1,  1,\n",
       "        1,  1,  1,  1,  1,  1,  1,  1,  1,  1,  1,  1,  1,  1,  1,  1,  1,\n",
       "        1,  1,  1,  1,  1,  1,  1,  1,  1,  1,  1,  1,  1,  1,  1,  1,  1,\n",
       "        1,  1,  1,  1,  1,  1,  1,  1,  1,  1,  1,  1,  1,  1,  1,  1,  1,\n",
       "        1,  1,  1,  1,  1,  1,  1,  1,  1,  1,  1,  1,  1,  1,  1,  1,  1,\n",
       "        1,  1,  1,  1,  1,  1,  1,  1,  1,  1,  1,  1,  1,  1,  1,  1,  1,\n",
       "        1,  1,  1,  1,  1,  1,  1,  1,  1,  1,  1,  1,  0,  1,  1,  1,  1,\n",
       "        1,  1,  1,  1,  1,  1,  1,  1,  1,  1,  1,  1,  1,  1,  1,  1,  1,\n",
       "        1,  1,  1,  1,  1,  1,  1,  1,  1,  1,  1,  1,  1,  1,  1,  1,  1,\n",
       "        1,  1,  1,  1,  1,  1,  1,  1,  1,  1,  1,  1,  1,  1,  1,  1,  1,\n",
       "        1,  1,  1,  1,  1,  1,  1,  1,  1,  1,  1,  1,  1,  1,  1,  1,  1,\n",
       "        1,  1,  1,  1,  1,  1,  1,  1,  1,  1,  1,  1,  1,  1,  1,  1,  1,\n",
       "        1,  1,  1,  1,  1,  1,  1,  1,  1,  1,  1,  1,  1,  1,  1,  1,  1,\n",
       "        1,  1,  1,  1,  1,  1,  1,  1,  1,  1,  1,  1,  1,  1,  1,  1,  1,\n",
       "        1,  1,  1,  1,  1,  1,  1,  1,  1,  1,  1,  1,  1,  1,  1,  1,  1,\n",
       "        1,  1,  1,  1,  1,  1,  1,  1,  1,  1,  1,  1,  1,  1,  1,  1,  1,\n",
       "        1,  1,  1,  1,  1,  1,  1,  1,  1,  1,  1,  1,  1,  1,  1,  1,  1,\n",
       "        1,  1,  1,  1,  1,  1,  1,  1,  1,  1,  1,  1,  1,  1,  1,  1,  1,\n",
       "        1,  1,  1,  1,  1,  1,  1,  1,  1,  1,  1,  1,  1,  1,  1,  1,  1,\n",
       "        1,  1,  1,  1,  1,  1,  1,  1,  1,  1,  1,  1,  1,  1,  1,  1,  1,\n",
       "        1,  1,  1,  1,  1,  1,  1,  1,  1,  1,  1,  1,  1,  1,  1,  1,  1,\n",
       "        1,  1,  1,  1,  1,  1,  1,  1,  1,  1,  1,  1,  1,  1,  1,  1,  1,\n",
       "        1,  1,  1,  1,  1,  1,  1,  1,  1,  1,  1,  1,  1,  1,  1,  1,  1,\n",
       "        1,  1,  1,  1,  1,  1,  1,  1,  1,  1,  1,  1,  1,  1,  1,  1,  1,\n",
       "        1,  1,  1,  1,  1,  1,  1,  1,  1,  1,  1,  1,  1,  1,  1,  1,  1,\n",
       "        1,  1,  1,  1,  1,  1,  1,  1,  1,  1,  1,  1,  1,  1,  1,  1,  1,\n",
       "        1,  1,  1,  1,  1,  1,  1,  1,  1,  1,  1,  1,  1,  1,  1,  1,  1,\n",
       "        1,  1,  1,  1,  1,  1,  1,  1,  1,  1,  1,  1,  1,  1,  1,  1,  1,\n",
       "        1,  1,  1,  1,  1,  1,  1,  1,  1,  1,  1,  1,  1,  1,  1,  1,  1,\n",
       "        1,  1,  1,  1,  1,  1,  1,  1,  1,  1,  1,  1,  1,  1])"
      ]
     },
     "execution_count": 64,
     "metadata": {},
     "output_type": "execute_result"
    }
   ],
   "source": [
    "arr9 = parse_input(input9)\n",
    "validity9 = validate_xmas(arr9, 25)\n",
    "validity9"
   ]
  },
  {
   "cell_type": "code",
   "execution_count": 92,
   "metadata": {},
   "outputs": [
    {
     "data": {
      "text/plain": [
       "375054920"
      ]
     },
     "execution_count": 92,
     "metadata": {},
     "output_type": "execute_result"
    }
   ],
   "source": [
    "invalid_numbers = arr9[validity9==0]\n",
    "assert len(invalid_numbers) == 1\n",
    "invalid_number9 = invalid_numbers[0]\n",
    "invalid_number9"
   ]
  },
  {
   "cell_type": "markdown",
   "metadata": {},
   "source": [
    "## Part 2 "
   ]
  },
  {
   "cell_type": "code",
   "execution_count": 71,
   "metadata": {},
   "outputs": [
    {
     "data": {
      "text/plain": [
       "1000000"
      ]
     },
     "execution_count": 71,
     "metadata": {},
     "output_type": "execute_result"
    }
   ],
   "source": [
    "arr9.size**2"
   ]
  },
  {
   "cell_type": "markdown",
   "metadata": {},
   "source": [
    "So nested for loop probably won't be prohibitively long?"
   ]
  },
  {
   "cell_type": "code",
   "execution_count": 90,
   "metadata": {},
   "outputs": [
    {
     "data": {
      "text/plain": [
       "62"
      ]
     },
     "execution_count": 90,
     "metadata": {},
     "output_type": "execute_result"
    }
   ],
   "source": [
    "def find_contiguous_xmas_sum(arr, invalid_number):\n",
    "    match = None\n",
    "    for i in range(len(arr)):\n",
    "        if match is not None:\n",
    "            break\n",
    "        for j in range(i+2, len(arr)):\n",
    "            if np.sum(arr[i:j]) == invalid_number:\n",
    "                match = (i, j)\n",
    "                break\n",
    "    return match\n",
    "\n",
    "testarr = parse_input(test_input)\n",
    "i, j = find_contiguous_xmas_sum(testarr, 127)\n",
    "\n",
    "np.min(testarr[i:j]) + np.max(testarr[i:j])"
   ]
  },
  {
   "cell_type": "code",
   "execution_count": 95,
   "metadata": {},
   "outputs": [
    {
     "data": {
      "text/plain": [
       "54142584"
      ]
     },
     "execution_count": 95,
     "metadata": {},
     "output_type": "execute_result"
    }
   ],
   "source": [
    "i, j = find_contiguous_xmas_sum(arr9, invalid_number9)\n",
    "np.min(arr9[i:j]) + np.max(arr9[i:j])"
   ]
  },
  {
   "cell_type": "markdown",
   "metadata": {},
   "source": [
    "# Day 10"
   ]
  },
  {
   "cell_type": "code",
   "execution_count": 5,
   "metadata": {},
   "outputs": [
    {
     "data": {
      "text/plain": [
       "array([  8, 131,  91,  35,  47, 116, 105, 121,  56,  62,  94,  72,  13,\n",
       "        82, 156, 102,  12,  59,  31, 138,  46, 120,   7, 127, 126, 111,\n",
       "         2, 123,  22,  69,  18, 157,  75, 149,  88,  81,  23,  98, 132,\n",
       "         1,  63, 142,  37, 133,  61, 112, 122, 128, 155, 145, 139,  66,\n",
       "        42, 134,  24,  60,   9,  28,  17,  29, 101, 148,  96,  68,  25,\n",
       "        19,   6,  67, 113,  55,  40, 135,  97,  79,  48, 159,  14,  43,\n",
       "        86,  36,  41,  85,  87, 119,  30, 108,  80, 152, 158, 151,  32,\n",
       "        78, 150,  95,   3,  52,  49])"
      ]
     },
     "execution_count": 5,
     "metadata": {},
     "output_type": "execute_result"
    }
   ],
   "source": [
    "input10 = np.loadtxt('input10', dtype=int)"
   ]
  },
  {
   "cell_type": "markdown",
   "metadata": {},
   "source": [
    "## Part 1"
   ]
  },
  {
   "cell_type": "code",
   "execution_count": 12,
   "metadata": {},
   "outputs": [],
   "source": [
    "test_input = np.array(\"\"\"16\n",
    "10\n",
    "15\n",
    "5\n",
    "1\n",
    "11\n",
    "7\n",
    "19\n",
    "6\n",
    "12\n",
    "4\"\"\".split('\\n'), dtype=int)"
   ]
  },
  {
   "cell_type": "code",
   "execution_count": 34,
   "metadata": {},
   "outputs": [],
   "source": [
    "all_jolts = np.concatenate([test_input, [np.max(test_input+3), 0]])\n",
    "num, counts = np.unique(np.diff(np.sort(all_jolts)), return_counts=True)\n",
    "assert dict(zip(num, counts)) == {1: 7, 3:5}"
   ]
  },
  {
   "cell_type": "code",
   "execution_count": 36,
   "metadata": {},
   "outputs": [],
   "source": [
    "test_input2 = np.array(\"\"\"28\n",
    "33\n",
    "18\n",
    "42\n",
    "31\n",
    "14\n",
    "46\n",
    "20\n",
    "48\n",
    "47\n",
    "24\n",
    "23\n",
    "49\n",
    "45\n",
    "19\n",
    "38\n",
    "39\n",
    "11\n",
    "1\n",
    "32\n",
    "25\n",
    "35\n",
    "8\n",
    "17\n",
    "7\n",
    "9\n",
    "4\n",
    "2\n",
    "34\n",
    "10\n",
    "3\"\"\".split('\\n'), dtype=int)"
   ]
  },
  {
   "cell_type": "code",
   "execution_count": 39,
   "metadata": {},
   "outputs": [],
   "source": [
    "all_jolts = np.concatenate([test_input2, [np.max(test_input2+3), 0]])\n",
    "num, counts = np.unique(np.diff(np.sort(all_jolts)), return_counts=True)\n",
    "assert dict(zip(num, counts)) == {1: 22, 3:10}"
   ]
  },
  {
   "cell_type": "code",
   "execution_count": 40,
   "metadata": {},
   "outputs": [
    {
     "data": {
      "text/plain": [
       "({1: 66, 3: 32}, 2112)"
      ]
     },
     "execution_count": 40,
     "metadata": {},
     "output_type": "execute_result"
    }
   ],
   "source": [
    "all_jolts = np.concatenate([input10, [np.max(input10+3), 0]])\n",
    "num, counts = np.unique(np.diff(np.sort(all_jolts)), return_counts=True)\n",
    "d = dict(zip(num, counts))\n",
    "d, d[1]*d[3]"
   ]
  },
  {
   "cell_type": "markdown",
   "metadata": {},
   "source": [
    "## Part 2 "
   ]
  },
  {
   "cell_type": "code",
   "execution_count": 77,
   "metadata": {},
   "outputs": [
    {
     "data": {
      "text/plain": [
       "array([2, 4, 3, 2])"
      ]
     },
     "execution_count": 77,
     "metadata": {},
     "output_type": "execute_result"
    }
   ],
   "source": [
    "def count_runs(arr, runnumber=1):\n",
    "    all_jolts = np.concatenate([arr, [np.max(arr+3), 0]])\n",
    "    sarr = np.sort(all_jolts)\n",
    "    dsarr = np.diff(sarr)\n",
    "    \n",
    "    #brute-force count the number of 1-runs\n",
    "    runs = []\n",
    "    runi = 0\n",
    "    for e in dsarr:\n",
    "        if e == 1:\n",
    "            runi += 1\n",
    "        elif runi!= 0:\n",
    "            runs.append(runi)\n",
    "            runi = 0\n",
    "        \n",
    "    return np.array(runs) +1 # the number of times a 1 appears in that run\n",
    "count_runs(test_input)"
   ]
  },
  {
   "cell_type": "markdown",
   "metadata": {},
   "source": [
    "Now count runs of 1 and multiple bythe number of ways they can be arranged"
   ]
  },
  {
   "cell_type": "code",
   "execution_count": 81,
   "metadata": {},
   "outputs": [
    {
     "data": {
      "text/plain": [
       "(4, 5, 5)"
      ]
     },
     "execution_count": 81,
     "metadata": {},
     "output_type": "execute_result"
    }
   ],
   "source": [
    "# find out the largest run we need to map out\n",
    "np.max(count_runs(test_input)), np.max(count_runs(test_input2)), np.max(count_runs(input10))"
   ]
  },
  {
   "cell_type": "code",
   "execution_count": 84,
   "metadata": {},
   "outputs": [],
   "source": [
    "runlength_to_narrangements = {2: 1, 3:2, 4:4, 5:7}\n",
    "def count_permutations(arr):\n",
    "    run_counts = count_runs(arr)\n",
    "    return np.prod([runlength_to_narrangements[count] for count in run_counts])\n",
    "assert count_permutations(test_input) == 8\n",
    "assert count_permutations(test_input2) == 19208"
   ]
  },
  {
   "cell_type": "code",
   "execution_count": 85,
   "metadata": {},
   "outputs": [
    {
     "data": {
      "text/plain": [
       "3022415986688"
      ]
     },
     "execution_count": 85,
     "metadata": {},
     "output_type": "execute_result"
    }
   ],
   "source": [
    "count_permutations(input10)"
   ]
  },
  {
   "cell_type": "markdown",
   "metadata": {},
   "source": [
    "# Day 11"
   ]
  },
  {
   "cell_type": "code",
   "execution_count": 2,
   "metadata": {},
   "outputs": [],
   "source": [
    "!mv ~/Desktop/input.txt input11"
   ]
  },
  {
   "cell_type": "code",
   "execution_count": 3,
   "metadata": {},
   "outputs": [],
   "source": [
    "with open('input11') as f:\n",
    "    input11 = f.read().strip()"
   ]
  },
  {
   "cell_type": "markdown",
   "metadata": {},
   "source": [
    "## Part 1"
   ]
  },
  {
   "cell_type": "code",
   "execution_count": 51,
   "metadata": {},
   "outputs": [
    {
     "name": "stdout",
     "output_type": "stream",
     "text": [
      "L.LL.LL.LL\n",
      "LLLLLLL.LL\n",
      "L.L.L..L..\n",
      "LLLL.LL.LL\n",
      "L.LL.LL.LL\n",
      "L.LLLLL.LL\n",
      "..L.L.....\n",
      "LLLLLLLLLL\n",
      "L.LLLLLL.L\n",
      "L.LLLLL.LL\n"
     ]
    }
   ],
   "source": [
    "test_input = \"\"\"L.LL.LL.LL\n",
    "LLLLLLL.LL\n",
    "L.L.L..L..\n",
    "LLLL.LL.LL\n",
    "L.LL.LL.LL\n",
    "L.LLLLL.LL\n",
    "..L.L.....\n",
    "LLLLLLLLLL\n",
    "L.LLLLLL.L\n",
    "L.LLLLL.LL\"\"\"\n",
    "\n",
    "def make_seat_map(inptstr, has_seat='L'):\n",
    "    arr = np.array([list(row) for row in inptstr.split('\\n')])\n",
    "    return arr == has_seat\n",
    "\n",
    "seat_map = make_seat_map(test_input)\n",
    "occupied = make_seat_map(test_input, '#')\n",
    "\n",
    "def seat_string(occupied, has_seat):\n",
    "    strs = []\n",
    "    for  orow, hrow in zip(occupied, has_seat):\n",
    "        rowstr = []\n",
    "        for o, h in zip(orow, hrow):\n",
    "            if o:\n",
    "                rowstr.append('#')\n",
    "            elif h:\n",
    "                rowstr.append('L')\n",
    "            else:\n",
    "                rowstr.append('.')\n",
    "        \n",
    "        strs.append(''.join(rowstr))\n",
    "        strs.append('\\n')\n",
    "        \n",
    "    return ''.join(strs[:-1])\n",
    "\n",
    "print(seat_string(occupied, seat_map))"
   ]
  },
  {
   "cell_type": "code",
   "execution_count": 53,
   "metadata": {},
   "outputs": [],
   "source": [
    "seat_map = make_seat_map(test_input)\n",
    "occupied = make_seat_map(test_input, '#')\n",
    "\n",
    "def step(occupied, has_seat):\n",
    "    kernel = [[1,1,1], [1, 0, 1], [1, 1, 1]]\n",
    "    n_neighbors = ndimage.correlate(occupied, kernel, mode='constant', cval=0, output=int)\n",
    "    to_occupy = n_neighbors == 0\n",
    "    to_vacate = n_neighbors >= 4\n",
    "    \n",
    "    occupied = occupied | (to_occupy & has_seat)\n",
    "    occupied = occupied & ~to_vacate\n",
    "    \n",
    "    return occupied\n",
    "\n",
    "step1 = step(occupied, seat_map)\n",
    "step2 = step(step1, seat_map)\n",
    "\n",
    "assert seat_string(step2, seat_map) == \"\"\"#.LL.L#.##\n",
    "#LLLLLL.L#\n",
    "L.L.L..L..\n",
    "#LLL.LL.L#\n",
    "#.LL.LL.LL\n",
    "#.LLLL#.##\n",
    "..L.L.....\n",
    "#LLLLLLLL#\n",
    "#.LLLLLL.L\n",
    "#.#LLLL.##\"\"\""
   ]
  },
  {
   "cell_type": "code",
   "execution_count": 58,
   "metadata": {},
   "outputs": [],
   "source": [
    "seat_map = make_seat_map(test_input)\n",
    "occupied = make_seat_map(test_input, '#')\n",
    "\n",
    "this_map = occupied\n",
    "last_map = None\n",
    "i = 0\n",
    "while not np.all(last_map == this_map):\n",
    "    last_map = this_map\n",
    "    this_map = step(this_map, seat_map)\n",
    "    i += 1\n",
    "    \n",
    "assert i == 6\n",
    "assert np.sum(this_map) == 37"
   ]
  },
  {
   "cell_type": "code",
   "execution_count": 60,
   "metadata": {},
   "outputs": [
    {
     "data": {
      "text/plain": [
       "(81, 2204)"
      ]
     },
     "execution_count": 60,
     "metadata": {},
     "output_type": "execute_result"
    }
   ],
   "source": [
    "seat_map = make_seat_map(input11)\n",
    "occupied = make_seat_map(input11, '#')\n",
    "\n",
    "this_map = occupied\n",
    "last_map = None\n",
    "i = 0\n",
    "while not np.all(last_map == this_map):\n",
    "    last_map = this_map\n",
    "    this_map = step(this_map, seat_map)\n",
    "    i += 1\n",
    "    \n",
    "i, np.sum(this_map)"
   ]
  },
  {
   "cell_type": "markdown",
   "metadata": {},
   "source": [
    "## Part 2 "
   ]
  },
  {
   "cell_type": "code",
   "execution_count": 78,
   "metadata": {},
   "outputs": [
    {
     "name": "stdout",
     "output_type": "stream",
     "text": [
      "L.LL.LL.LL\n",
      "LLLLLLL.LL\n",
      "L.L.L..L..\n",
      "LLL#.LL.LL\n",
      "L.LL.##.LL\n",
      "L.LL#L#.LL\n",
      "..L.#.....\n",
      "LLLLL#L#LL\n",
      "L.LLLLLL.L\n",
      "L.LLLLL.LL\n"
     ]
    }
   ],
   "source": [
    "DIRECTION_VECTORS = np.array([(1,0),(-1,0),(0,1),(0,-1),(1,1),(-1, 1),(1, -1),(-1, -1)])\n",
    "def find_site_seat(startingx, startingy, seat_map):\n",
    "    visible_seats = np.zeros(seat_map.shape, dtype=bool)\n",
    "    for vx, vy in DIRECTION_VECTORS:\n",
    "        for i in range(1, np.max(seat_map.shape)):\n",
    "            xi = startingx + i*vx\n",
    "            yi = startingy + i*vy\n",
    "            if not (0 <= xi < seat_map.shape[0]) or not (0 <= yi < seat_map.shape[1]):\n",
    "                break\n",
    "                \n",
    "            if seat_map[xi, yi]:\n",
    "                visible_seats[xi, yi] = True\n",
    "                break\n",
    "    return visible_seats\n",
    "\n",
    "seat_map = make_seat_map(test_input)\n",
    "occupied = make_seat_map(test_input, '#')\n",
    "print(seat_string(find_site_seat(5, 5, seat_map), seat_map))"
   ]
  },
  {
   "cell_type": "code",
   "execution_count": 82,
   "metadata": {},
   "outputs": [],
   "source": [
    "def construct_visible_map(seat_map):\n",
    "    visible_map = []\n",
    "    for i in range(seat_map.shape[0]):\n",
    "        row = []\n",
    "        for j in range(seat_map.shape[1]):\n",
    "            if seat_map[i ,j]:\n",
    "                row.append(find_site_seat(i, j, seat_map))\n",
    "            else:\n",
    "                row.append(np.zeros(seat_map.shape, dtype=bool))\n",
    "        visible_map.append(row)\n",
    "    return np.array(visible_map)\n",
    "assert np.all(construct_visible_map(seat_map)[5, 5] ==  find_site_seat(5, 5, seat_map))"
   ]
  },
  {
   "cell_type": "code",
   "execution_count": 94,
   "metadata": {},
   "outputs": [],
   "source": [
    "def step2(occupied, seat_map, visible_map=None):\n",
    "    if visible_map is None:\n",
    "        visible_map = construct_visible_map(seat_map)\n",
    "        \n",
    "    nvisible = np.zeros(seat_map.shape, dtype=int)\n",
    "    for i in range(seat_map.shape[0]):\n",
    "        for j in range(seat_map.shape[1]):\n",
    "            if seat_map[i,j]:\n",
    "                nvisible[i, j] = np.sum(occupied & visible_map[i, j])\n",
    "     \n",
    "    new_occupied = occupied.copy()\n",
    "    #nvisible now contains the number of people that seat can see\n",
    "    new_occupied[nvisible >= 5] = False\n",
    "    new_occupied[(nvisible == 0) & seat_map] = True\n",
    "    return new_occupied\n",
    "\n",
    "occupied2 = step2(occupied, seat_map)\n",
    "occupied3 = step2(occupied2, seat_map)\n",
    "\n",
    "assert np.all(occupied2 == seat_map)\n",
    "assert seat_string(occupied3, seat_map) == \"\"\"#.LL.LL.L#\n",
    "#LLLLLL.LL\n",
    "L.L.L..L..\n",
    "LLLL.LL.LL\n",
    "L.LL.LL.LL\n",
    "L.LLLLL.LL\n",
    "..L.L.....\n",
    "LLLLLLLLL#\n",
    "#.LLLLLL.L\n",
    "#.LLLLL.L#\"\"\"\n"
   ]
  },
  {
   "cell_type": "code",
   "execution_count": 99,
   "metadata": {},
   "outputs": [
    {
     "data": {
      "text/plain": [
       "(7, 26)"
      ]
     },
     "execution_count": 99,
     "metadata": {},
     "output_type": "execute_result"
    }
   ],
   "source": [
    "seat_map = make_seat_map(test_input)\n",
    "occupied = make_seat_map(test_input, '#')\n",
    "\n",
    "this_map = occupied\n",
    "last_map = None\n",
    "i = 0\n",
    "while not np.all(last_map == this_map):\n",
    "    last_map = this_map\n",
    "    this_map = step2(this_map, seat_map)\n",
    "    i += 1\n",
    "    \n",
    "i, np.sum(this_map)"
   ]
  },
  {
   "cell_type": "code",
   "execution_count": 100,
   "metadata": {},
   "outputs": [
    {
     "name": "stdout",
     "output_type": "stream",
     "text": [
      "4.56 ms ± 112 µs per loop (mean ± std. dev. of 7 runs, 100 loops each)\n"
     ]
    }
   ],
   "source": [
    "%timeit step2(this_map, seat_map)"
   ]
  },
  {
   "cell_type": "code",
   "execution_count": 102,
   "metadata": {},
   "outputs": [
    {
     "data": {
      "text/plain": [
       "((10, 10), (91, 95))"
      ]
     },
     "execution_count": 102,
     "metadata": {},
     "output_type": "execute_result"
    }
   ],
   "source": [
    "make_seat_map(test_input).shape,  make_seat_map(input10).shape"
   ]
  },
  {
   "cell_type": "markdown",
   "metadata": {},
   "source": [
    "Real thing - might take some time since this is a rather slow approach and above suggestions ~1 sec per iteration."
   ]
  },
  {
   "cell_type": "code",
   "execution_count": 106,
   "metadata": {},
   "outputs": [
    {
     "name": "stdout",
     "output_type": "stream",
     "text": [
      "85\r"
     ]
    },
    {
     "data": {
      "text/plain": [
       "(86, 1986)"
      ]
     },
     "execution_count": 106,
     "metadata": {},
     "output_type": "execute_result"
    }
   ],
   "source": [
    "seat_map = make_seat_map(input11)\n",
    "occupied = make_seat_map(input11, '#')\n",
    "\n",
    "this_map = occupied\n",
    "last_map = None\n",
    "i = 0\n",
    "while not np.all(last_map == this_map):\n",
    "    print(i, end='\\r')\n",
    "    last_map = this_map\n",
    "    this_map = step2(this_map, seat_map)\n",
    "    i += 1\n",
    "    \n",
    "i, np.sum(this_map)"
   ]
  },
  {
   "cell_type": "markdown",
   "metadata": {},
   "source": [
    "# Day 12"
   ]
  },
  {
   "cell_type": "code",
   "execution_count": 2,
   "metadata": {},
   "outputs": [],
   "source": [
    "with open('input12') as f:\n",
    "    input12 = f.read().strip()"
   ]
  },
  {
   "cell_type": "markdown",
   "metadata": {},
   "source": [
    "## Part 1"
   ]
  },
  {
   "cell_type": "code",
   "execution_count": 3,
   "metadata": {},
   "outputs": [
    {
     "data": {
      "text/plain": [
       "[('F', 10), ('N', 3), ('F', 7), ('R', 90), ('F', 11)]"
      ]
     },
     "execution_count": 3,
     "metadata": {},
     "output_type": "execute_result"
    }
   ],
   "source": [
    "test_input=\"\"\"F10\n",
    "N3\n",
    "F7\n",
    "R90\n",
    "F11\"\"\"\n",
    "def parse_input(inptstr):\n",
    "    return [(e[0], int(e[1:])) for e in inptstr.strip().split('\\n')]\n",
    "parse_input(test_input)"
   ]
  },
  {
   "cell_type": "code",
   "execution_count": 15,
   "metadata": {},
   "outputs": [
    {
     "name": "stdout",
     "output_type": "stream",
     "text": [
      "0 0 90 0\n",
      "10.0 6.123233995736766e-16 90 10.0\n",
      "10.0 3.0000000000000004 90 13.0\n",
      "17.0 3.000000000000001 90 20.0\n",
      "17.0 3.000000000000001 180 20.0\n",
      "17.0 -7.999999999999999 180 25.0\n"
     ]
    }
   ],
   "source": [
    "# I'm an astronomer so east and north are positive x and y\n",
    "# angle is degrees east of north\n",
    "\n",
    "class Boat:\n",
    "    def __init__(self, initial_direction=90):\n",
    "        self.direction = 90\n",
    "        self.x = self.y = 0\n",
    "        \n",
    "    @property\n",
    "    def manhattan_distance(self):\n",
    "        return np.abs(self.x) + np.abs(self.y)\n",
    "    \n",
    "    def execute_instruction(self, action, number):\n",
    "        if action == 'N':\n",
    "            self.y += number\n",
    "        elif action == 'S':\n",
    "            self.y -= number\n",
    "        elif action == 'E':\n",
    "            self.x += number\n",
    "        elif action == 'W':\n",
    "            self.x -= number\n",
    "        elif action == 'L':\n",
    "            self.direction -= number\n",
    "        elif action == 'R':\n",
    "            self.direction += number\n",
    "        elif action == 'F':\n",
    "            self.x += number*np.sin(np.radians(self.direction))\n",
    "            self.y += number*np.cos(np.radians(self.direction))\n",
    "        else:\n",
    "            raise ValueError(f'invalid action {action}')\n",
    "            \n",
    "    def execute_instruction_string(self, s, verbose=False):\n",
    "        for elem in parse_input(s):\n",
    "            if verbose:\n",
    "                print(test_boat.x, test_boat.y, test_boat.direction, test_boat.manhattan_distance)\n",
    "            self.execute_instruction(*elem)\n",
    "        if verbose:\n",
    "            print(test_boat.x, test_boat.y, test_boat.direction, test_boat.manhattan_distance)\n",
    "            \n",
    "test_boat = Boat()\n",
    "test_boat.execute_instruction_string(test_input, verbose=True)\n",
    "assert test_boat.manhattan_distance == 25"
   ]
  },
  {
   "cell_type": "code",
   "execution_count": 17,
   "metadata": {},
   "outputs": [
    {
     "data": {
      "text/plain": [
       "1601.000000000001"
      ]
     },
     "execution_count": 17,
     "metadata": {},
     "output_type": "execute_result"
    }
   ],
   "source": [
    "boat = Boat()\n",
    "\n",
    "boat.execute_instruction_string(input12, verbose=False)\n",
    "boat.manhattan_distance"
   ]
  },
  {
   "cell_type": "markdown",
   "metadata": {},
   "source": [
    "## Part 2 "
   ]
  },
  {
   "cell_type": "code",
   "execution_count": 37,
   "metadata": {},
   "outputs": [
    {
     "name": "stdout",
     "output_type": "stream",
     "text": [
      "0 0 10 1 0\n",
      "100 10 10 1 110\n",
      "100 10 10 4 110\n",
      "170 38 10 4 208\n",
      "170 38 4.000000000000001 -10.0 208\n",
      "214.0 -72.0 4.000000000000001 -10.0 286.0\n"
     ]
    }
   ],
   "source": [
    "class CorrectedBoat(Boat):\n",
    "    def __init__(self):\n",
    "        super().__init__()\n",
    "        # waypoint in units relative to boat\n",
    "        self.wx = 10\n",
    "        self.wy = 1\n",
    "        \n",
    "    def execute_instruction(self, action, number):\n",
    "        if action == 'N':\n",
    "            self.wy += number\n",
    "        elif action == 'S':\n",
    "            self.wy -= number\n",
    "        elif action == 'E':\n",
    "            self.wx += number\n",
    "        elif action == 'W':\n",
    "            self.wx -= number\n",
    "        elif action == 'L':\n",
    "            sin = np.sin(np.radians(number))\n",
    "            cos = np.cos(np.radians(number))\n",
    "            self.wx, self.wy = (self.wx*cos - self.wy*sin), (self.wx*sin + self.wy*cos)\n",
    "        elif action == 'R':\n",
    "            sin = np.sin(np.radians(-number))\n",
    "            cos = np.cos(np.radians(-number))\n",
    "            self.wx, self.wy = (self.wx*cos - self.wy*sin), (self.wx*sin + self.wy*cos)\n",
    "        elif action == 'F':\n",
    "            self.x += number*self.wx\n",
    "            self.y += number*self.wy\n",
    "        else:\n",
    "            raise ValueError(f'invalid action {action}')\n",
    "            \n",
    "    def execute_instruction_string(self, s, verbose=False):\n",
    "        for elem in parse_input(s):\n",
    "            if verbose:\n",
    "                print(test_boat.x, test_boat.y, test_boat.wx, test_boat.wy, test_boat.manhattan_distance)\n",
    "            self.execute_instruction(*elem)\n",
    "        if verbose:\n",
    "            print(test_boat.x, test_boat.y, test_boat.wx, test_boat.wy, test_boat.manhattan_distance)\n",
    "    \n",
    "test_boat = CorrectedBoat()\n",
    "test_boat.execute_instruction_string(test_input, verbose=True)\n",
    "assert test_boat.manhattan_distance == 286"
   ]
  },
  {
   "cell_type": "code",
   "execution_count": 38,
   "metadata": {},
   "outputs": [
    {
     "data": {
      "text/plain": [
       "13340.000000000007"
      ]
     },
     "execution_count": 38,
     "metadata": {},
     "output_type": "execute_result"
    }
   ],
   "source": [
    "boat = CorrectedBoat()\n",
    "\n",
    "boat.execute_instruction_string(input12, verbose=False)\n",
    "boat.manhattan_distance"
   ]
  },
  {
   "cell_type": "markdown",
   "metadata": {},
   "source": [
    "# Day N"
   ]
  },
  {
   "cell_type": "code",
   "execution_count": 2,
   "metadata": {},
   "outputs": [],
   "source": [
    "!mv ~/Desktop/input.txt inputN"
   ]
  },
  {
   "cell_type": "code",
   "execution_count": null,
   "metadata": {},
   "outputs": [],
   "source": [
    "with open('inputN') as f:\n",
    "    inputN = f.read().strip()"
   ]
  },
  {
   "cell_type": "markdown",
   "metadata": {},
   "source": [
    "## Part 1"
   ]
  },
  {
   "cell_type": "code",
   "execution_count": null,
   "metadata": {},
   "outputs": [],
   "source": []
  },
  {
   "cell_type": "markdown",
   "metadata": {},
   "source": [
    "## Part 2 "
   ]
  },
  {
   "cell_type": "code",
   "execution_count": null,
   "metadata": {},
   "outputs": [],
   "source": []
  }
 ],
 "metadata": {
  "kernelspec": {
   "display_name": "Python 3",
   "language": "python",
   "name": "python3"
  },
  "language_info": {
   "codemirror_mode": {
    "name": "ipython",
    "version": 3
   },
   "file_extension": ".py",
   "mimetype": "text/x-python",
   "name": "python",
   "nbconvert_exporter": "python",
   "pygments_lexer": "ipython3",
   "version": "3.8.2"
  }
 },
 "nbformat": 4,
 "nbformat_minor": 4
}
