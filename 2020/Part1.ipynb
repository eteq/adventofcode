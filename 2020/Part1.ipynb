{
 "cells": [
  {
   "cell_type": "code",
   "execution_count": 47,
   "metadata": {},
   "outputs": [],
   "source": [
    "import re\n",
    "import numpy as np\n",
    "\n",
    "import itertools"
   ]
  },
  {
   "cell_type": "markdown",
   "metadata": {},
   "source": [
    "https://adventofcode.com/2020"
   ]
  },
  {
   "cell_type": "markdown",
   "metadata": {},
   "source": [
    "# Day 1 "
   ]
  },
  {
   "cell_type": "code",
   "execution_count": null,
   "metadata": {},
   "outputs": [],
   "source": [
    "input1 = np.loadtxt('input1', dtype=int)"
   ]
  },
  {
   "cell_type": "markdown",
   "metadata": {},
   "source": [
    "## Part 1"
   ]
  },
  {
   "cell_type": "code",
   "execution_count": 13,
   "metadata": {},
   "outputs": [
    {
     "data": {
      "text/plain": [
       "471019"
      ]
     },
     "execution_count": 13,
     "metadata": {},
     "output_type": "execute_result"
    }
   ],
   "source": [
    "matches = []\n",
    "for vals in itertools.combinations(input1, 2):\n",
    "    if np.sum(vals) == 2020:\n",
    "        matches.append(vals)\n",
    "        \n",
    "assert len(matches) == 1\n",
    "np.prod(matches[0])"
   ]
  },
  {
   "cell_type": "markdown",
   "metadata": {},
   "source": [
    "## Part 2 "
   ]
  },
  {
   "cell_type": "code",
   "execution_count": 14,
   "metadata": {},
   "outputs": [
    {
     "data": {
      "text/plain": [
       "103927824"
      ]
     },
     "execution_count": 14,
     "metadata": {},
     "output_type": "execute_result"
    }
   ],
   "source": [
    "matches = []\n",
    "for vals in itertools.combinations(input1, 3):\n",
    "    if np.sum(vals) == 2020:\n",
    "        matches.append(vals)\n",
    "        \n",
    "assert len(matches) == 1\n",
    "np.prod(matches[0])"
   ]
  },
  {
   "cell_type": "markdown",
   "metadata": {},
   "source": [
    "# Day 2"
   ]
  },
  {
   "cell_type": "code",
   "execution_count": 17,
   "metadata": {},
   "outputs": [
    {
     "data": {
      "text/plain": [
       "('t', (3, 4))"
      ]
     },
     "execution_count": 17,
     "metadata": {},
     "output_type": "execute_result"
    }
   ],
   "source": [
    "policies = [] # letter, (mn, mx)\n",
    "pws = []\n",
    "\n",
    "with open('input2') as f:\n",
    "    for line in f:\n",
    "        policy, pw = line.split(': ')\n",
    "        pws.append(pw.strip())\n",
    "        \n",
    "        rng, letter = policy.split()\n",
    "        rngs = [int(e) for e in rng.split('-')]\n",
    "        policies.append((letter, tuple(rngs)))"
   ]
  },
  {
   "cell_type": "markdown",
   "metadata": {},
   "source": [
    "## Part 1"
   ]
  },
  {
   "cell_type": "code",
   "execution_count": 24,
   "metadata": {},
   "outputs": [
    {
     "data": {
      "text/plain": [
       "586"
      ]
     },
     "execution_count": 24,
     "metadata": {},
     "output_type": "execute_result"
    }
   ],
   "source": [
    "valid = []\n",
    "for (letter, (mn, mx)), pw in zip(policies, pws):\n",
    "    nletter = pw.count(letter)\n",
    "    valid.append(nletter >= mn and nletter <= mx)\n",
    "np.sum(valid)"
   ]
  },
  {
   "cell_type": "markdown",
   "metadata": {},
   "source": [
    "## Part 2 "
   ]
  },
  {
   "cell_type": "code",
   "execution_count": 27,
   "metadata": {},
   "outputs": [
    {
     "data": {
      "text/plain": [
       "352"
      ]
     },
     "execution_count": 27,
     "metadata": {},
     "output_type": "execute_result"
    }
   ],
   "source": [
    "valid = []\n",
    "for (letter, (mn, mx)), pw in zip(policies, pws):\n",
    "    match1 = pw[mn-1] == letter\n",
    "    match2 = pw[mx-1] == letter\n",
    "    valid.append(match1 != match2) # effectively XOR\n",
    "np.sum(valid)"
   ]
  },
  {
   "cell_type": "markdown",
   "metadata": {},
   "source": [
    "# Day 3"
   ]
  },
  {
   "cell_type": "code",
   "execution_count": 27,
   "metadata": {},
   "outputs": [
    {
     "data": {
      "text/plain": [
       "(323, 31)"
      ]
     },
     "execution_count": 27,
     "metadata": {},
     "output_type": "execute_result"
    }
   ],
   "source": [
    "trees = []\n",
    "with open('input3') as f:\n",
    "    for line in f:\n",
    "        trees.append(np.array(list(line.strip()))=='#')\n",
    "trees = np.array(trees)\n",
    "trees.shape"
   ]
  },
  {
   "cell_type": "markdown",
   "metadata": {},
   "source": [
    "## Part 1"
   ]
  },
  {
   "cell_type": "code",
   "execution_count": 25,
   "metadata": {},
   "outputs": [],
   "source": [
    "rightperdown = 3"
   ]
  },
  {
   "cell_type": "code",
   "execution_count": 30,
   "metadata": {},
   "outputs": [
    {
     "data": {
      "text/plain": [
       "242"
      ]
     },
     "execution_count": 30,
     "metadata": {},
     "output_type": "execute_result"
    }
   ],
   "source": [
    "ntrees = 0\n",
    "j = 0\n",
    "for i in range(trees.shape[0]):\n",
    "    ntrees += trees[i, j%trees.shape[1]]\n",
    "    j += rightperdown\n",
    "ntrees"
   ]
  },
  {
   "cell_type": "code",
   "execution_count": 31,
   "metadata": {},
   "outputs": [],
   "source": [
    "ntrees_part1 = ntrees"
   ]
  },
  {
   "cell_type": "markdown",
   "metadata": {},
   "source": [
    "## Part 2 "
   ]
  },
  {
   "cell_type": "code",
   "execution_count": 32,
   "metadata": {},
   "outputs": [],
   "source": [
    "scenarios_to_check = [(1, 1),\n",
    "                      (3, 1),\n",
    "                      (5, 1),\n",
    "                      (7, 1),\n",
    "                      (1, 2)]"
   ]
  },
  {
   "cell_type": "code",
   "execution_count": 34,
   "metadata": {},
   "outputs": [],
   "source": [
    "def check_trees(right, down):\n",
    "    ntrees = 0\n",
    "    i = j = 0\n",
    "    while i < trees.shape[0]:\n",
    "        ntrees += trees[i, j%trees.shape[1]]\n",
    "        i += down\n",
    "        j += right\n",
    "    return ntrees\n",
    "assert check_trees(rightperdown, 1) == ntrees_part1"
   ]
  },
  {
   "cell_type": "code",
   "execution_count": 36,
   "metadata": {},
   "outputs": [
    {
     "data": {
      "text/plain": [
       "2265549792"
      ]
     },
     "execution_count": 36,
     "metadata": {},
     "output_type": "execute_result"
    }
   ],
   "source": [
    "ntrees_per_scenario = [check_trees(*scen) for scen in scenarios_to_check]\n",
    "np.prod(ntrees_per_scenario)"
   ]
  },
  {
   "cell_type": "markdown",
   "metadata": {},
   "source": [
    "# Day 4"
   ]
  },
  {
   "cell_type": "code",
   "execution_count": 75,
   "metadata": {},
   "outputs": [],
   "source": [
    "fields = {'byr':'Birth Year',\n",
    "            'iyr':'Issue Year',\n",
    "            'eyr':'Expiration Year',\n",
    "            'hgt':'Height',\n",
    "            'hcl':'Hair Color',\n",
    "            'ecl':'Eye Color',\n",
    "            'pid':'Passport ID',\n",
    "            'cid':'Country ID'}"
   ]
  },
  {
   "cell_type": "code",
   "execution_count": 76,
   "metadata": {},
   "outputs": [
    {
     "data": {
      "text/plain": [
       "{'cid': '244',\n",
       " 'hcl': '#866857',\n",
       " 'ecl': 'amb',\n",
       " 'byr': '1931',\n",
       " 'eyr': '1928',\n",
       " 'pid': '557376401',\n",
       " 'hgt': '182cm',\n",
       " 'iyr': '2013'}"
      ]
     },
     "execution_count": 76,
     "metadata": {},
     "output_type": "execute_result"
    }
   ],
   "source": [
    "with open('input4') as f:\n",
    "    iddocs = f.read().strip().split('\\n\\n')\n",
    "iddocs = [doc.replace('\\n', ' ') for doc in iddocs]\n",
    "iddocs = [dict([kv.split(':') for kv in doc.split(' ')]) for doc in iddocs]\n",
    "iddocs[-1]"
   ]
  },
  {
   "cell_type": "markdown",
   "metadata": {},
   "source": [
    "## Part 1"
   ]
  },
  {
   "cell_type": "code",
   "execution_count": 77,
   "metadata": {},
   "outputs": [
    {
     "data": {
      "text/plain": [
       "196"
      ]
     },
     "execution_count": 77,
     "metadata": {},
     "output_type": "execute_result"
    }
   ],
   "source": [
    "required_fields = set(fields.keys())\n",
    "required_fields.remove('cid')\n",
    "optional_fields = {'cid'}\n",
    "all_valid_fields = optional_fields.union(required_fields)\n",
    "\n",
    "valids = []\n",
    "\n",
    "for doc in iddocs:\n",
    "    doc_fields = set(doc.keys())\n",
    "    \n",
    "    # check if all required fields are present\n",
    "    if required_fields.difference(doc_fields):\n",
    "        valids.append(False)\n",
    "    # check if there's an invalid field\n",
    "    elif doc_fields.difference(all_valid_fields):\n",
    "        valids.append(False)\n",
    "    else:\n",
    "        valids.append(True)\n",
    "        \n",
    "sum(valids)"
   ]
  },
  {
   "cell_type": "markdown",
   "metadata": {},
   "source": [
    "## Part 2 "
   ]
  },
  {
   "cell_type": "code",
   "execution_count": 78,
   "metadata": {},
   "outputs": [
    {
     "data": {
      "text/plain": [
       "115"
      ]
     },
     "execution_count": 78,
     "metadata": {},
     "output_type": "execute_result"
    }
   ],
   "source": [
    "required_fields = set(fields.keys())\n",
    "required_fields.remove('cid')\n",
    "optional_fields = {'cid'}\n",
    "all_valid_fields = optional_fields.union(required_fields)\n",
    "\n",
    "valids = []\n",
    "invalid_docs = []\n",
    "valid_docs = []\n",
    "\n",
    "for doc in iddocs:\n",
    "    doc_fields = set(doc.keys())\n",
    "    \n",
    "    # check if all required fields are present\n",
    "    if required_fields.difference(doc_fields):\n",
    "        valids.append(False)\n",
    "    # check if there's an invalid field\n",
    "    elif doc_fields.difference(all_valid_fields):\n",
    "        valids.append(False)\n",
    "    else:\n",
    "        # valid fields, now check the values\n",
    "        if not (1920 <= int(doc['byr']) <= 2002):\n",
    "            valids.append(False)\n",
    "        elif not (2010 <= int(doc['iyr']) <= 2020):\n",
    "            valids.append(False)\n",
    "        elif not (2020 <= int(doc['eyr']) <= 2030):\n",
    "            valids.append(False)\n",
    "        elif not re.match('#[0-9a-f]{6}', doc['hcl']):\n",
    "            valids.append(False)\n",
    "        elif doc['ecl'] not in ('amb', 'blu', 'brn', 'gry', 'grn', 'hzl', 'oth'):\n",
    "            valids.append(False)\n",
    "        elif not re.match('[0-9]{9}', doc['pid']):\n",
    "            valids.append(False)\n",
    "        else:\n",
    "            # treat height separately due to the complex unit parsing\n",
    "            match = re.match('(\\d*)(cm|in)', doc['hgt'])\n",
    "            if match:\n",
    "                num, unit = match.groups()\n",
    "                if unit == 'cm':\n",
    "                    valids.append(150 <= int(num) <=193)\n",
    "                elif unit == 'in':\n",
    "                    valids.append(59 <= int(num) <=76)\n",
    "                else:\n",
    "                    assert False, 'should be impossible'\n",
    "            else:\n",
    "                valids.append(False)\n",
    "        if valids[-1]:\n",
    "            valid_docs.append(doc)\n",
    "        else:\n",
    "            invalid_docs.append(doc)\n",
    "        \n",
    "sum(valids)"
   ]
  },
  {
   "cell_type": "markdown",
   "metadata": {},
   "source": [
    "# Day N"
   ]
  },
  {
   "cell_type": "markdown",
   "metadata": {},
   "source": [
    "## Part 1"
   ]
  },
  {
   "cell_type": "code",
   "execution_count": null,
   "metadata": {},
   "outputs": [],
   "source": []
  },
  {
   "cell_type": "markdown",
   "metadata": {},
   "source": [
    "## Part 2 "
   ]
  },
  {
   "cell_type": "code",
   "execution_count": null,
   "metadata": {},
   "outputs": [],
   "source": []
  }
 ],
 "metadata": {
  "kernelspec": {
   "display_name": "Python 3",
   "language": "python",
   "name": "python3"
  },
  "language_info": {
   "codemirror_mode": {
    "name": "ipython",
    "version": 3
   },
   "file_extension": ".py",
   "mimetype": "text/x-python",
   "name": "python",
   "nbconvert_exporter": "python",
   "pygments_lexer": "ipython3",
   "version": "3.8.5"
  }
 },
 "nbformat": 4,
 "nbformat_minor": 4
}
