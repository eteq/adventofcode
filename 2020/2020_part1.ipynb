{
 "cells": [
  {
   "cell_type": "code",
   "execution_count": 1,
   "metadata": {},
   "outputs": [],
   "source": [
    "import re\n",
    "import numpy as np\n",
    "\n",
    "import itertools"
   ]
  },
  {
   "cell_type": "markdown",
   "metadata": {},
   "source": [
    "https://adventofcode.com/2020"
   ]
  },
  {
   "cell_type": "markdown",
   "metadata": {},
   "source": [
    "# Day 1 "
   ]
  },
  {
   "cell_type": "code",
   "execution_count": null,
   "metadata": {},
   "outputs": [],
   "source": [
    "input1 = np.loadtxt('input1', dtype=int)"
   ]
  },
  {
   "cell_type": "markdown",
   "metadata": {},
   "source": [
    "## Part 1"
   ]
  },
  {
   "cell_type": "code",
   "execution_count": 13,
   "metadata": {},
   "outputs": [
    {
     "data": {
      "text/plain": [
       "471019"
      ]
     },
     "execution_count": 13,
     "metadata": {},
     "output_type": "execute_result"
    }
   ],
   "source": [
    "matches = []\n",
    "for vals in itertools.combinations(input1, 2):\n",
    "    if np.sum(vals) == 2020:\n",
    "        matches.append(vals)\n",
    "        \n",
    "assert len(matches) == 1\n",
    "np.prod(matches[0])"
   ]
  },
  {
   "cell_type": "markdown",
   "metadata": {},
   "source": [
    "## Part 2 "
   ]
  },
  {
   "cell_type": "code",
   "execution_count": 14,
   "metadata": {},
   "outputs": [
    {
     "data": {
      "text/plain": [
       "103927824"
      ]
     },
     "execution_count": 14,
     "metadata": {},
     "output_type": "execute_result"
    }
   ],
   "source": [
    "matches = []\n",
    "for vals in itertools.combinations(input1, 3):\n",
    "    if np.sum(vals) == 2020:\n",
    "        matches.append(vals)\n",
    "        \n",
    "assert len(matches) == 1\n",
    "np.prod(matches[0])"
   ]
  },
  {
   "cell_type": "markdown",
   "metadata": {},
   "source": [
    "# Day 2"
   ]
  },
  {
   "cell_type": "code",
   "execution_count": 17,
   "metadata": {},
   "outputs": [
    {
     "data": {
      "text/plain": [
       "('t', (3, 4))"
      ]
     },
     "execution_count": 17,
     "metadata": {},
     "output_type": "execute_result"
    }
   ],
   "source": [
    "policies = [] # letter, (mn, mx)\n",
    "pws = []\n",
    "\n",
    "with open('input2') as f:\n",
    "    for line in f:\n",
    "        policy, pw = line.split(': ')\n",
    "        pws.append(pw.strip())\n",
    "        \n",
    "        rng, letter = policy.split()\n",
    "        rngs = [int(e) for e in rng.split('-')]\n",
    "        policies.append((letter, tuple(rngs)))"
   ]
  },
  {
   "cell_type": "markdown",
   "metadata": {},
   "source": [
    "## Part 1"
   ]
  },
  {
   "cell_type": "code",
   "execution_count": 24,
   "metadata": {},
   "outputs": [
    {
     "data": {
      "text/plain": [
       "586"
      ]
     },
     "execution_count": 24,
     "metadata": {},
     "output_type": "execute_result"
    }
   ],
   "source": [
    "valid = []\n",
    "for (letter, (mn, mx)), pw in zip(policies, pws):\n",
    "    nletter = pw.count(letter)\n",
    "    valid.append(nletter >= mn and nletter <= mx)\n",
    "np.sum(valid)"
   ]
  },
  {
   "cell_type": "markdown",
   "metadata": {},
   "source": [
    "## Part 2 "
   ]
  },
  {
   "cell_type": "code",
   "execution_count": 27,
   "metadata": {},
   "outputs": [
    {
     "data": {
      "text/plain": [
       "352"
      ]
     },
     "execution_count": 27,
     "metadata": {},
     "output_type": "execute_result"
    }
   ],
   "source": [
    "valid = []\n",
    "for (letter, (mn, mx)), pw in zip(policies, pws):\n",
    "    match1 = pw[mn-1] == letter\n",
    "    match2 = pw[mx-1] == letter\n",
    "    valid.append(match1 != match2) # effectively XOR\n",
    "np.sum(valid)"
   ]
  },
  {
   "cell_type": "markdown",
   "metadata": {},
   "source": [
    "# Day 3"
   ]
  },
  {
   "cell_type": "code",
   "execution_count": 27,
   "metadata": {},
   "outputs": [
    {
     "data": {
      "text/plain": [
       "(323, 31)"
      ]
     },
     "execution_count": 27,
     "metadata": {},
     "output_type": "execute_result"
    }
   ],
   "source": [
    "trees = []\n",
    "with open('input3') as f:\n",
    "    for line in f:\n",
    "        trees.append(np.array(list(line.strip()))=='#')\n",
    "trees = np.array(trees)\n",
    "trees.shape"
   ]
  },
  {
   "cell_type": "markdown",
   "metadata": {},
   "source": [
    "## Part 1"
   ]
  },
  {
   "cell_type": "code",
   "execution_count": 25,
   "metadata": {},
   "outputs": [],
   "source": [
    "rightperdown = 3"
   ]
  },
  {
   "cell_type": "code",
   "execution_count": 30,
   "metadata": {},
   "outputs": [
    {
     "data": {
      "text/plain": [
       "242"
      ]
     },
     "execution_count": 30,
     "metadata": {},
     "output_type": "execute_result"
    }
   ],
   "source": [
    "ntrees = 0\n",
    "j = 0\n",
    "for i in range(trees.shape[0]):\n",
    "    ntrees += trees[i, j%trees.shape[1]]\n",
    "    j += rightperdown\n",
    "ntrees"
   ]
  },
  {
   "cell_type": "code",
   "execution_count": 31,
   "metadata": {},
   "outputs": [],
   "source": [
    "ntrees_part1 = ntrees"
   ]
  },
  {
   "cell_type": "markdown",
   "metadata": {},
   "source": [
    "## Part 2 "
   ]
  },
  {
   "cell_type": "code",
   "execution_count": 32,
   "metadata": {},
   "outputs": [],
   "source": [
    "scenarios_to_check = [(1, 1),\n",
    "                      (3, 1),\n",
    "                      (5, 1),\n",
    "                      (7, 1),\n",
    "                      (1, 2)]"
   ]
  },
  {
   "cell_type": "code",
   "execution_count": 34,
   "metadata": {},
   "outputs": [],
   "source": [
    "def check_trees(right, down):\n",
    "    ntrees = 0\n",
    "    i = j = 0\n",
    "    while i < trees.shape[0]:\n",
    "        ntrees += trees[i, j%trees.shape[1]]\n",
    "        i += down\n",
    "        j += right\n",
    "    return ntrees\n",
    "assert check_trees(rightperdown, 1) == ntrees_part1"
   ]
  },
  {
   "cell_type": "code",
   "execution_count": 36,
   "metadata": {},
   "outputs": [
    {
     "data": {
      "text/plain": [
       "2265549792"
      ]
     },
     "execution_count": 36,
     "metadata": {},
     "output_type": "execute_result"
    }
   ],
   "source": [
    "ntrees_per_scenario = [check_trees(*scen) for scen in scenarios_to_check]\n",
    "np.prod(ntrees_per_scenario)"
   ]
  },
  {
   "cell_type": "markdown",
   "metadata": {},
   "source": [
    "# Day 4"
   ]
  },
  {
   "cell_type": "code",
   "execution_count": 75,
   "metadata": {},
   "outputs": [],
   "source": [
    "fields = {'byr':'Birth Year',\n",
    "            'iyr':'Issue Year',\n",
    "            'eyr':'Expiration Year',\n",
    "            'hgt':'Height',\n",
    "            'hcl':'Hair Color',\n",
    "            'ecl':'Eye Color',\n",
    "            'pid':'Passport ID',\n",
    "            'cid':'Country ID'}"
   ]
  },
  {
   "cell_type": "code",
   "execution_count": 76,
   "metadata": {},
   "outputs": [
    {
     "data": {
      "text/plain": [
       "{'cid': '244',\n",
       " 'hcl': '#866857',\n",
       " 'ecl': 'amb',\n",
       " 'byr': '1931',\n",
       " 'eyr': '1928',\n",
       " 'pid': '557376401',\n",
       " 'hgt': '182cm',\n",
       " 'iyr': '2013'}"
      ]
     },
     "execution_count": 76,
     "metadata": {},
     "output_type": "execute_result"
    }
   ],
   "source": [
    "with open('input4') as f:\n",
    "    iddocs = f.read().strip().split('\\n\\n')\n",
    "iddocs = [doc.replace('\\n', ' ') for doc in iddocs]\n",
    "iddocs = [dict([kv.split(':') for kv in doc.split(' ')]) for doc in iddocs]\n",
    "iddocs[-1]"
   ]
  },
  {
   "cell_type": "markdown",
   "metadata": {},
   "source": [
    "## Part 1"
   ]
  },
  {
   "cell_type": "code",
   "execution_count": 77,
   "metadata": {},
   "outputs": [
    {
     "data": {
      "text/plain": [
       "196"
      ]
     },
     "execution_count": 77,
     "metadata": {},
     "output_type": "execute_result"
    }
   ],
   "source": [
    "required_fields = set(fields.keys())\n",
    "required_fields.remove('cid')\n",
    "optional_fields = {'cid'}\n",
    "all_valid_fields = optional_fields.union(required_fields)\n",
    "\n",
    "valids = []\n",
    "\n",
    "for doc in iddocs:\n",
    "    doc_fields = set(doc.keys())\n",
    "    \n",
    "    # check if all required fields are present\n",
    "    if required_fields.difference(doc_fields):\n",
    "        valids.append(False)\n",
    "    # check if there's an invalid field\n",
    "    elif doc_fields.difference(all_valid_fields):\n",
    "        valids.append(False)\n",
    "    else:\n",
    "        valids.append(True)\n",
    "        \n",
    "sum(valids)"
   ]
  },
  {
   "cell_type": "markdown",
   "metadata": {},
   "source": [
    "## Part 2 "
   ]
  },
  {
   "cell_type": "code",
   "execution_count": 78,
   "metadata": {},
   "outputs": [
    {
     "data": {
      "text/plain": [
       "115"
      ]
     },
     "execution_count": 78,
     "metadata": {},
     "output_type": "execute_result"
    }
   ],
   "source": [
    "required_fields = set(fields.keys())\n",
    "required_fields.remove('cid')\n",
    "optional_fields = {'cid'}\n",
    "all_valid_fields = optional_fields.union(required_fields)\n",
    "\n",
    "valids = []\n",
    "invalid_docs = []\n",
    "valid_docs = []\n",
    "\n",
    "for doc in iddocs:\n",
    "    doc_fields = set(doc.keys())\n",
    "    \n",
    "    # check if all required fields are present\n",
    "    if required_fields.difference(doc_fields):\n",
    "        valids.append(False)\n",
    "    # check if there's an invalid field\n",
    "    elif doc_fields.difference(all_valid_fields):\n",
    "        valids.append(False)\n",
    "    else:\n",
    "        # valid fields, now check the values\n",
    "        if not (1920 <= int(doc['byr']) <= 2002):\n",
    "            valids.append(False)\n",
    "        elif not (2010 <= int(doc['iyr']) <= 2020):\n",
    "            valids.append(False)\n",
    "        elif not (2020 <= int(doc['eyr']) <= 2030):\n",
    "            valids.append(False)\n",
    "        elif not re.match('#[0-9a-f]{6}', doc['hcl']):\n",
    "            valids.append(False)\n",
    "        elif doc['ecl'] not in ('amb', 'blu', 'brn', 'gry', 'grn', 'hzl', 'oth'):\n",
    "            valids.append(False)\n",
    "        elif not re.match('[0-9]{9}', doc['pid']):\n",
    "            valids.append(False)\n",
    "        else:\n",
    "            # treat height separately due to the complex unit parsing\n",
    "            match = re.match('(\\d*)(cm|in)', doc['hgt'])\n",
    "            if match:\n",
    "                num, unit = match.groups()\n",
    "                if unit == 'cm':\n",
    "                    valids.append(150 <= int(num) <=193)\n",
    "                elif unit == 'in':\n",
    "                    valids.append(59 <= int(num) <=76)\n",
    "                else:\n",
    "                    assert False, 'should be impossible'\n",
    "            else:\n",
    "                valids.append(False)\n",
    "        if valids[-1]:\n",
    "            valid_docs.append(doc)\n",
    "        else:\n",
    "            invalid_docs.append(doc)\n",
    "        \n",
    "sum(valids)"
   ]
  },
  {
   "cell_type": "markdown",
   "metadata": {},
   "source": [
    "# Day 5"
   ]
  },
  {
   "cell_type": "code",
   "execution_count": 13,
   "metadata": {},
   "outputs": [],
   "source": [
    "with open('input5') as f:\n",
    "    boarding_passes = f.read().strip().split('\\n')"
   ]
  },
  {
   "cell_type": "markdown",
   "metadata": {},
   "source": [
    "## Part 1"
   ]
  },
  {
   "cell_type": "code",
   "execution_count": 10,
   "metadata": {},
   "outputs": [],
   "source": [
    "def bsp_seat(inpt):\n",
    "    rowstr = inpt[:7]\n",
    "    \n",
    "    scale = 2**len(rowstr)\n",
    "    row_num = 0\n",
    "    for e in rowstr:\n",
    "        scale //= 2\n",
    "        if e == 'B':\n",
    "            row_num += scale\n",
    "        elif e == 'F':\n",
    "            pass\n",
    "        else:\n",
    "            raise ValueError('invalid value encountered in finding row')\n",
    "    assert scale == 1  # row_num is now the correct row\n",
    "    \n",
    "    seatstr = inpt[7:]\n",
    "    scale = 2**len(seatstr)\n",
    "    seat_num = 0\n",
    "    for e in seatstr:\n",
    "        scale //= 2\n",
    "        if e == 'R':\n",
    "            seat_num += scale\n",
    "        elif e == 'L':\n",
    "            pass\n",
    "        else:\n",
    "            raise ValueError('invalid value encountered in finding seat')\n",
    "        \n",
    "    return row_num, seat_num\n",
    "        \n",
    "    \n",
    "test_input0 = 'FBFBBFFRLR'\n",
    "row, seat = bsp_seat(test_input0)\n",
    "assert row == 44\n",
    "assert seat == 5"
   ]
  },
  {
   "cell_type": "code",
   "execution_count": 16,
   "metadata": {},
   "outputs": [],
   "source": [
    "def rowcol_to_id(row, seat):\n",
    "    return row*8 + seat\n",
    "\n",
    "assert rowcol_to_id(*bsp_seat('BFFFBBFRRR')) == 567\n",
    "assert rowcol_to_id(*bsp_seat('FFFBBBFRRR')) == 119\n",
    "assert rowcol_to_id(*bsp_seat('BBFFBBFRLL')) == 820"
   ]
  },
  {
   "cell_type": "code",
   "execution_count": 18,
   "metadata": {},
   "outputs": [
    {
     "data": {
      "text/plain": [
       "926"
      ]
     },
     "execution_count": 18,
     "metadata": {},
     "output_type": "execute_result"
    }
   ],
   "source": [
    "ids = [rowcol_to_id(*bsp_seat(bpstr)) for bpstr in boarding_passes]\n",
    "max(ids)"
   ]
  },
  {
   "cell_type": "markdown",
   "metadata": {},
   "source": [
    "## Part 2 "
   ]
  },
  {
   "cell_type": "code",
   "execution_count": 35,
   "metadata": {},
   "outputs": [],
   "source": [
    "sortids = np.sort(ids)"
   ]
  },
  {
   "cell_type": "code",
   "execution_count": 39,
   "metadata": {},
   "outputs": [
    {
     "data": {
      "text/plain": [
       "array([656, 658])"
      ]
     },
     "execution_count": 39,
     "metadata": {},
     "output_type": "execute_result"
    }
   ],
   "source": [
    "idx_skip = np.where(np.diff(sortids)==2)[0][0]\n",
    "sortids[idx_skip:idx_skip+2]"
   ]
  },
  {
   "cell_type": "code",
   "execution_count": 40,
   "metadata": {},
   "outputs": [
    {
     "data": {
      "text/plain": [
       "657"
      ]
     },
     "execution_count": 40,
     "metadata": {},
     "output_type": "execute_result"
    }
   ],
   "source": [
    "my_seat = sortids[idx_skip]+1\n",
    "my_seat"
   ]
  },
  {
   "cell_type": "markdown",
   "metadata": {},
   "source": [
    "# Day 6"
   ]
  },
  {
   "cell_type": "code",
   "execution_count": 111,
   "metadata": {},
   "outputs": [],
   "source": [
    "with open('input6') as f:\n",
    "    input6 = f.read().strip()"
   ]
  },
  {
   "cell_type": "code",
   "execution_count": 30,
   "metadata": {},
   "outputs": [],
   "source": [
    "qnames = tuple([chr(97+i) for i in range(26)])"
   ]
  },
  {
   "cell_type": "markdown",
   "metadata": {},
   "source": [
    "## Part 1"
   ]
  },
  {
   "cell_type": "code",
   "execution_count": 5,
   "metadata": {},
   "outputs": [
    {
     "data": {
      "text/plain": [
       "[[('a', 'b', 'c')],\n",
       " [('a',), ('b',), ('c',)],\n",
       " [('a', 'b'), ('a', 'c')],\n",
       " [('a',), ('a',), ('a',), ('a',)],\n",
       " [('b',)]]"
      ]
     },
     "execution_count": 5,
     "metadata": {},
     "output_type": "execute_result"
    }
   ],
   "source": [
    "test_input = \"\"\"abc\n",
    "\n",
    "a\n",
    "b\n",
    "c\n",
    "\n",
    "ab\n",
    "ac\n",
    "\n",
    "a\n",
    "a\n",
    "a\n",
    "a\n",
    "\n",
    "b\"\"\"\n",
    "\n",
    "def parse_groups(inpt):\n",
    "    groups = []\n",
    "    for group in inpt.split('\\n\\n'):\n",
    "        groups.append([tuple(answers) for answers in group.split('\\n')])\n",
    "    return groups\n",
    "    \n",
    "parse_groups(test_input)"
   ]
  },
  {
   "cell_type": "code",
   "execution_count": 112,
   "metadata": {},
   "outputs": [
    {
     "data": {
      "text/plain": [
       "11"
      ]
     },
     "execution_count": 112,
     "metadata": {},
     "output_type": "execute_result"
    }
   ],
   "source": [
    "def count_any_yeses(groups):\n",
    "    group_yeses = []\n",
    "    for group in groups:\n",
    "        qs_yesed = set()\n",
    "        for person in group:\n",
    "            for q in person:\n",
    "                qs_yesed.add(q)\n",
    "        group_yeses.append(len(qs_yesed))\n",
    "    return group_yeses\n",
    "\n",
    "answers = count_any_yeses(parse_groups(test_input))\n",
    "assert np.all(np.array([3, 3, 3, 1, 1])==answers)\n",
    "sum(answers)"
   ]
  },
  {
   "cell_type": "code",
   "execution_count": 113,
   "metadata": {},
   "outputs": [
    {
     "data": {
      "text/plain": [
       "6714"
      ]
     },
     "execution_count": 113,
     "metadata": {},
     "output_type": "execute_result"
    }
   ],
   "source": [
    "sum(count_any_yeses(parse_groups(input6)))"
   ]
  },
  {
   "cell_type": "markdown",
   "metadata": {},
   "source": [
    "## Part 2 "
   ]
  },
  {
   "cell_type": "code",
   "execution_count": 114,
   "metadata": {},
   "outputs": [
    {
     "data": {
      "text/plain": [
       "6"
      ]
     },
     "execution_count": 114,
     "metadata": {},
     "output_type": "execute_result"
    }
   ],
   "source": [
    "def count_all_yeses(groups):\n",
    "    group_yeses = []\n",
    "    for group in groups:\n",
    "        qs_yesed = set(qnames)\n",
    "        for person in group:\n",
    "            persons_yeses = set(person)\n",
    "            qs_yesed = persons_yeses.intersection(qs_yesed)\n",
    "        group_yeses.append(len(qs_yesed))\n",
    "    return group_yeses\n",
    "\n",
    "answers = count_all_yeses(parse_groups(test_input))\n",
    "assert np.all(np.array([3, 0, 1, 1, 1])==answers)\n",
    "sum(answers)"
   ]
  },
  {
   "cell_type": "code",
   "execution_count": 115,
   "metadata": {},
   "outputs": [
    {
     "data": {
      "text/plain": [
       "3435"
      ]
     },
     "execution_count": 115,
     "metadata": {},
     "output_type": "execute_result"
    }
   ],
   "source": [
    "sum(count_all_yeses(parse_groups(input6)))"
   ]
  },
  {
   "cell_type": "markdown",
   "metadata": {},
   "source": [
    "# Day 7"
   ]
  },
  {
   "cell_type": "code",
   "execution_count": 2,
   "metadata": {},
   "outputs": [],
   "source": [
    "with open('input7') as f:\n",
    "    input7 = f.read().strip()"
   ]
  },
  {
   "cell_type": "markdown",
   "metadata": {},
   "source": [
    "## Part 1"
   ]
  },
  {
   "cell_type": "code",
   "execution_count": 3,
   "metadata": {},
   "outputs": [],
   "source": [
    "test_input = \"\"\"light red bags contain 1 bright white bag, 2 muted yellow bags.\n",
    "dark orange bags contain 3 bright white bags, 4 muted yellow bags.\n",
    "bright white bags contain 1 shiny gold bag.\n",
    "muted yellow bags contain 2 shiny gold bags, 9 faded blue bags.\n",
    "shiny gold bags contain 1 dark olive bag, 2 vibrant plum bags.\n",
    "dark olive bags contain 3 faded blue bags, 4 dotted black bags.\n",
    "vibrant plum bags contain 5 faded blue bags, 6 dotted black bags.\n",
    "faded blue bags contain no other bags.\n",
    "dotted black bags contain no other bags.\"\"\""
   ]
  },
  {
   "cell_type": "code",
   "execution_count": 69,
   "metadata": {},
   "outputs": [
    {
     "data": {
      "text/plain": [
       "{'light red': ((1, 'bright white'), (2, 'muted yellow')),\n",
       " 'dark orange': ((3, 'bright white'), (4, 'muted yellow')),\n",
       " 'bright white': ((1, 'shiny gold'),),\n",
       " 'muted yellow': ((2, 'shiny gold'), (9, 'faded blue')),\n",
       " 'shiny gold': ((1, 'dark olive'), (2, 'vibrant plum')),\n",
       " 'dark olive': ((3, 'faded blue'), (4, 'dotted black')),\n",
       " 'vibrant plum': ((5, 'faded blue'), (6, 'dotted black')),\n",
       " 'faded blue': (),\n",
       " 'dotted black': ()}"
      ]
     },
     "execution_count": 69,
     "metadata": {},
     "output_type": "execute_result"
    }
   ],
   "source": [
    "def parse_lines(inpt):\n",
    "    if isinstance(inpt, str):\n",
    "        inpt = inpt.split('\\n')\n",
    "        \n",
    "    bag_contents = {}\n",
    "    for line in inpt:\n",
    "        bag, contains = re.match('(.*) bags contain (.*)', line).groups()\n",
    "        if contains == 'no other bags.':\n",
    "            bag_contents[bag] = tuple()\n",
    "        else:\n",
    "            contents = []\n",
    "            for innerstr in contains.split(', '):\n",
    "                num, innerbag = re.match('([0-9]+) (.*) bag', innerstr).groups()\n",
    "                contents.append((int(num), innerbag))\n",
    "                \n",
    "            bag_contents[bag] = tuple(contents)\n",
    "        \n",
    "    return bag_contents\n",
    "\n",
    "test_parsed = parse_lines(test_input)\n",
    "test_parsed"
   ]
  },
  {
   "cell_type": "code",
   "execution_count": 70,
   "metadata": {},
   "outputs": [],
   "source": [
    "def recurse_contain(container, target, dct):\n",
    "    if dct[container]: # not empty\n",
    "        for num, inner_container in dct[container]:\n",
    "            if inner_container == target:\n",
    "                return True\n",
    "            elif recurse_contain(inner_container, target, dct):\n",
    "                return True\n",
    "            # otherwise keep going\n",
    "            \n",
    "    return False\n",
    "    \n",
    "matches = [recurse_contain(name, 'shiny gold', test_parsed) for name in test_parsed.keys()]\n",
    "assert sum(matches) == 4\n",
    "assert sum(matches[:4]) == 4  # only works in py versions where order is preserved in dicts"
   ]
  },
  {
   "cell_type": "markdown",
   "metadata": {},
   "source": [
    "Real thign"
   ]
  },
  {
   "cell_type": "code",
   "execution_count": 71,
   "metadata": {},
   "outputs": [
    {
     "data": {
      "text/plain": [
       "112"
      ]
     },
     "execution_count": 71,
     "metadata": {},
     "output_type": "execute_result"
    }
   ],
   "source": [
    "parsed7 = parse_lines(input7)\n",
    "sum([recurse_contain(name, 'shiny gold', parsed7) for name in parsed7.keys()])"
   ]
  },
  {
   "cell_type": "markdown",
   "metadata": {},
   "source": [
    "## Part 2 "
   ]
  },
  {
   "cell_type": "code",
   "execution_count": 72,
   "metadata": {},
   "outputs": [
    {
     "data": {
      "text/plain": [
       "{'shiny gold': ((2, 'dark red'),),\n",
       " 'dark red': ((2, 'dark orange'),),\n",
       " 'dark orange': ((2, 'dark yellow'),),\n",
       " 'dark yellow': ((2, 'dark green'),),\n",
       " 'dark green': ((2, 'dark blue'),),\n",
       " 'dark blue': ((2, 'dark violet'),),\n",
       " 'dark violet': ()}"
      ]
     },
     "execution_count": 72,
     "metadata": {},
     "output_type": "execute_result"
    }
   ],
   "source": [
    "test_input2 = \"\"\"shiny gold bags contain 2 dark red bags.\n",
    "dark red bags contain 2 dark orange bags.\n",
    "dark orange bags contain 2 dark yellow bags.\n",
    "dark yellow bags contain 2 dark green bags.\n",
    "dark green bags contain 2 dark blue bags.\n",
    "dark blue bags contain 2 dark violet bags.\n",
    "dark violet bags contain no other bags.\"\"\"\n",
    "\n",
    "test_parsed2 = parse_lines(test_input2)\n",
    "test_parsed2"
   ]
  },
  {
   "cell_type": "code",
   "execution_count": 79,
   "metadata": {},
   "outputs": [],
   "source": [
    "def recurse_count(target, dct):\n",
    "    count = 0\n",
    "    for n, bagtype in dct[target]:\n",
    "        ninsideper = recurse_count(bagtype, dct)\n",
    "        count += n * (ninsideper + 1)\n",
    "    return count\n",
    "\n",
    "assert recurse_count('shiny gold', test_parsed2) == 126"
   ]
  },
  {
   "cell_type": "code",
   "execution_count": 80,
   "metadata": {},
   "outputs": [
    {
     "data": {
      "text/plain": [
       "6260"
      ]
     },
     "execution_count": 80,
     "metadata": {},
     "output_type": "execute_result"
    }
   ],
   "source": [
    "recurse_count('shiny gold', parsed7)"
   ]
  },
  {
   "cell_type": "markdown",
   "metadata": {},
   "source": [
    "# Day N"
   ]
  },
  {
   "cell_type": "markdown",
   "metadata": {},
   "source": [
    "## Part 1"
   ]
  },
  {
   "cell_type": "code",
   "execution_count": null,
   "metadata": {},
   "outputs": [],
   "source": []
  },
  {
   "cell_type": "markdown",
   "metadata": {},
   "source": [
    "## Part 2 "
   ]
  },
  {
   "cell_type": "code",
   "execution_count": null,
   "metadata": {},
   "outputs": [],
   "source": []
  }
 ],
 "metadata": {
  "kernelspec": {
   "display_name": "Python 3",
   "language": "python",
   "name": "python3"
  },
  "language_info": {
   "codemirror_mode": {
    "name": "ipython",
    "version": 3
   },
   "file_extension": ".py",
   "mimetype": "text/x-python",
   "name": "python",
   "nbconvert_exporter": "python",
   "pygments_lexer": "ipython3",
   "version": "3.8.5"
  }
 },
 "nbformat": 4,
 "nbformat_minor": 4
}
