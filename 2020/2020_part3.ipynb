{
 "cells": [
  {
   "cell_type": "code",
   "execution_count": 164,
   "metadata": {},
   "outputs": [],
   "source": [
    "import numpy as np\n",
    "\n",
    "from scipy import ndimage"
   ]
  },
  {
   "cell_type": "markdown",
   "metadata": {},
   "source": [
    "https://adventofcode.com/2020"
   ]
  },
  {
   "cell_type": "markdown",
   "metadata": {},
   "source": [
    "# Day 17"
   ]
  },
  {
   "cell_type": "code",
   "execution_count": 5,
   "metadata": {},
   "outputs": [],
   "source": [
    "input17 = \"\"\"..##.#.#\n",
    ".#####..\n",
    "#.....##\n",
    "##.##.#.\n",
    "..#...#.\n",
    ".#..##..\n",
    ".#...#.#\n",
    "#..##.##\"\"\""
   ]
  },
  {
   "cell_type": "code",
   "execution_count": 51,
   "metadata": {},
   "outputs": [],
   "source": [
    "def map_to_array(astmap):\n",
    "    arr2d = np.array([[e=='#' for e in row] for row in astmap.split('\\n')]).T\n",
    "    return arr2d.copy()\n",
    "\n",
    "def array_to_map(arr, marker='#'):\n",
    "    buffer = []\n",
    "    for row in arr.T:\n",
    "        for element in row:\n",
    "            buffer.append(marker if element else '.')\n",
    "        buffer.append('\\n')\n",
    "    return ''.join(buffer)"
   ]
  },
  {
   "cell_type": "markdown",
   "metadata": {},
   "source": [
    "## Part 1"
   ]
  },
  {
   "cell_type": "code",
   "execution_count": 53,
   "metadata": {},
   "outputs": [
    {
     "name": "stdout",
     "output_type": "stream",
     "text": [
      ".#.\n",
      "..#\n",
      "###\n",
      "\n"
     ]
    }
   ],
   "source": [
    "test_input = \"\"\".#.\n",
    "..#\n",
    "###\"\"\"\n",
    "testarr = map_to_array(test_input)\n",
    "print(array_to_map(testarr))"
   ]
  },
  {
   "cell_type": "code",
   "execution_count": 65,
   "metadata": {},
   "outputs": [
    {
     "name": "stdout",
     "output_type": "stream",
     "text": [
      "...............\n",
      "...............\n",
      "...............\n",
      "...............\n",
      "...............\n",
      "...............\n",
      ".......#.......\n",
      "........#......\n",
      "......###......\n",
      "...............\n",
      "...............\n",
      "...............\n",
      "...............\n",
      "...............\n",
      "...............\n",
      "\n"
     ]
    }
   ],
   "source": [
    "boot_field = np.zeros((testarr.shape[0] + 6*2, testarr.shape[1] + 6*2, 1 + 6*2), dtype=bool)\n",
    "boot_field[6:9, 6:9, 6] = testarr\n",
    "print(array_to_map(boot_field[..., 6]))"
   ]
  },
  {
   "cell_type": "code",
   "execution_count": 101,
   "metadata": {},
   "outputs": [],
   "source": [
    "neighbor_kernel = [[[1,1,1],\n",
    "                    [1,1,1],\n",
    "                    [1,1,1]],\n",
    "                   [[1,1,1],\n",
    "                    [1,0,1],\n",
    "                    [1,1,1]],\n",
    "                   [[1,1,1],\n",
    "                    [1,1,1],\n",
    "                    [1,1,1]]]\n",
    "neighbor_kernel = np.array(neighbor_kernel)\n",
    "assert np.sum(neighbor_kernel) == 26\n",
    "\n",
    "def do_step(initial_field, nsteps=1):\n",
    "    if nsteps==0:\n",
    "        return initial_field.reshape(initial_field.shape[0], initial_field.shape[1], 1)\n",
    "    \n",
    "    boot_field = np.zeros((initial_field.shape[0] + nsteps*2, \n",
    "                           initial_field.shape[1] + nsteps*2, \n",
    "                           1 + nsteps*2), dtype=int)\n",
    "    boot_field[nsteps:(nsteps + initial_field.shape[0]), \n",
    "               nsteps:(nsteps + initial_field.shape[1]), \n",
    "               nsteps] = initial_field.astype(int)\n",
    "    \n",
    "    for i in range(nsteps):\n",
    "        corr = ndimage.correlate(boot_field, neighbor_kernel, mode='constant')\n",
    "        new_field = boot_field & (corr==2)\n",
    "        new_field[corr==3] = True\n",
    "        boot_field = new_field.astype(int)\n",
    "    \n",
    "    return boot_field\n",
    "\n",
    "step3 = do_step(testarr, nsteps=3)\n",
    "                     \n",
    "                     \n",
    "assert array_to_map(step3[1:-1, 2:, 3]) == \"\"\"...#...\n",
    ".......\n",
    "#......\n",
    ".......\n",
    ".....##\n",
    ".##.#..\n",
    "...#...\n",
    "\"\"\"\n",
    "\n",
    "assert np.sum(do_step(testarr, nsteps=6)) == 112"
   ]
  },
  {
   "cell_type": "code",
   "execution_count": 102,
   "metadata": {},
   "outputs": [
    {
     "data": {
      "text/plain": [
       "213"
      ]
     },
     "execution_count": 102,
     "metadata": {},
     "output_type": "execute_result"
    }
   ],
   "source": [
    "np.sum(do_step(map_to_array(input17), nsteps=6))"
   ]
  },
  {
   "cell_type": "markdown",
   "metadata": {},
   "source": [
    "## Part 2 "
   ]
  },
  {
   "cell_type": "code",
   "execution_count": 105,
   "metadata": {},
   "outputs": [],
   "source": [
    "neighbor_kernel4 = np.ones((3, 3, 3, 3), dtype=int)\n",
    "neighbor_kernel4[1,1,1,1] = 0\n",
    "neighbor_kernel4 = np.array(neighbor_kernel4)\n",
    "assert np.sum(neighbor_kernel4) == 80"
   ]
  },
  {
   "cell_type": "code",
   "execution_count": 117,
   "metadata": {},
   "outputs": [],
   "source": [
    "def do_step4(initial_field, nsteps=1):\n",
    "    if nsteps==0:\n",
    "        return initial_field.reshape(initial_field.shape[0], initial_field.shape[1], 1, 1)\n",
    "    \n",
    "    boot_field = np.zeros((initial_field.shape[0] + nsteps*2, \n",
    "                           initial_field.shape[1] + nsteps*2, \n",
    "                           1 + nsteps*2, 1 + nsteps*2), dtype=int)\n",
    "    boot_field[nsteps:(nsteps + initial_field.shape[0]), \n",
    "               nsteps:(nsteps + initial_field.shape[1]), \n",
    "               nsteps, nsteps] = initial_field.astype(int)\n",
    "    \n",
    "    for i in range(nsteps):\n",
    "        corr = ndimage.correlate(boot_field, neighbor_kernel4, mode='constant')\n",
    "        new_field = boot_field & (corr==2)\n",
    "        new_field[corr==3] = True\n",
    "        boot_field = new_field.astype(int)\n",
    "    \n",
    "    return boot_field\n",
    "\n",
    "assert array_to_map(do_step4(testarr, 2)[1:-1, 2:, 2, 0]) == \"\"\"###..\n",
    "##.##\n",
    "#...#\n",
    ".#..#\n",
    ".###.\n",
    "\"\"\"\"\"\""
   ]
  },
  {
   "cell_type": "code",
   "execution_count": 131,
   "metadata": {},
   "outputs": [],
   "source": [
    "assert np.sum(do_step4(testarr, nsteps=6)) == 848"
   ]
  },
  {
   "cell_type": "code",
   "execution_count": 132,
   "metadata": {},
   "outputs": [
    {
     "data": {
      "text/plain": [
       "1624"
      ]
     },
     "execution_count": 132,
     "metadata": {},
     "output_type": "execute_result"
    }
   ],
   "source": [
    "np.sum(do_step4(map_to_array(input17), nsteps=6))"
   ]
  },
  {
   "cell_type": "markdown",
   "metadata": {},
   "source": [
    "# Day 18"
   ]
  },
  {
   "cell_type": "code",
   "execution_count": 3,
   "metadata": {},
   "outputs": [],
   "source": [
    "with open('input18') as f:\n",
    "    input18 = f.read().strip()"
   ]
  },
  {
   "cell_type": "markdown",
   "metadata": {},
   "source": [
    "## Part 1"
   ]
  },
  {
   "cell_type": "markdown",
   "metadata": {},
   "source": [
    "For loop over lines is probably ok for modest-size inputs"
   ]
  },
  {
   "cell_type": "code",
   "execution_count": 101,
   "metadata": {},
   "outputs": [],
   "source": [
    "def find_subexpressions(s):\n",
    "    sub_exprs = {}\n",
    "    if '(' in s:\n",
    "        paren_level = 0\n",
    "        for i, si in enumerate(s):\n",
    "            if si=='(':\n",
    "                paren_level += 1\n",
    "                if paren_level == 1:\n",
    "                    sub_exprs['current'] = i\n",
    "            elif si == ')':\n",
    "                paren_level -= 1\n",
    "                if paren_level == 0:\n",
    "                    sub_exprs[sub_exprs['current']] = i\n",
    "                    del sub_exprs['current']\n",
    "        if paren_level != 0:\n",
    "            raise ValueError('parens not matched!')\n",
    "    return sub_exprs\n",
    "    \n",
    "\n",
    "def evaluate_expression(s):\n",
    "    sub_exprs = find_subexpressions(s)\n",
    "    # accumulate\n",
    "    result = 0\n",
    "    \n",
    "    operator = 'start'\n",
    "    nums = tuple('1234567890')\n",
    "    i = 0\n",
    "    while i < len(s):\n",
    "        si = s[i]\n",
    "        \n",
    "        if i in sub_exprs:\n",
    "            substr = s[i+1:sub_exprs[i]]\n",
    "            subres = evaluate_expression(substr)\n",
    "            if operator == 'start':\n",
    "                result = subres\n",
    "            elif operator is None:\n",
    "                raise ValueError('syntax error - num does not follow operator')\n",
    "            elif operator == '+':\n",
    "                result += subres\n",
    "            elif operator == '*':\n",
    "                result *= subres\n",
    "            operator = None\n",
    "            j = sub_exprs[i]+2\n",
    "            i = j\n",
    "            continue\n",
    "        elif si in ('*', '+'):\n",
    "            operator = si\n",
    "        elif si in nums:\n",
    "            if operator == 'start':\n",
    "                result += int(si)\n",
    "            elif operator is None:\n",
    "                raise ValueError('syntax error - num does not follow operator')\n",
    "            elif operator == '+':\n",
    "                result += int(si)\n",
    "            elif operator == '*':\n",
    "                result *= int(si)\n",
    "                operator = None\n",
    "        elif si == ' ':\n",
    "            pass\n",
    "        else:\n",
    "            raise ValueError(f\"don't know what to do with character {si}\")\n",
    "        i += 1\n",
    "    return result\n",
    "\n",
    "assert evaluate_expression('9 + 3 * 4') == (9 + 3) * 4\n",
    "assert evaluate_expression('9 + (3 * 4)') == 9 + 3 * 4 \n",
    "assert evaluate_expression('1 + (3 + 2) + ((1 + 2) + 3)') == 1 + (3 + 2) + ((1 + 2) + 3)"
   ]
  },
  {
   "cell_type": "code",
   "execution_count": 102,
   "metadata": {},
   "outputs": [
    {
     "name": "stdout",
     "output_type": "stream",
     "text": [
      "9.38 µs ± 114 ns per loop (mean ± std. dev. of 7 runs, 100000 loops each)\n"
     ]
    }
   ],
   "source": [
    "%timeit evaluate_expression('1 + (3 + 2) + ((1 + 2) + 3)')"
   ]
  },
  {
   "cell_type": "code",
   "execution_count": 103,
   "metadata": {},
   "outputs": [
    {
     "data": {
      "text/plain": [
       "7147789965219"
      ]
     },
     "execution_count": 103,
     "metadata": {},
     "output_type": "execute_result"
    }
   ],
   "source": [
    "sum([evaluate_expression(line) for line in input18.split('\\n')])"
   ]
  },
  {
   "cell_type": "markdown",
   "metadata": {},
   "source": [
    "## Part 1b\n",
    "\n",
    "As feared, the above doesn't really work with part 2..."
   ]
  },
  {
   "cell_type": "code",
   "execution_count": 148,
   "metadata": {},
   "outputs": [],
   "source": [
    "NUMS = tuple('1234567890')\n",
    "OPERATORS = ('*', '+')\n",
    "\n",
    "class Number:\n",
    "    def __init__(self, num):\n",
    "        self.num = int(num)\n",
    "    def __call__(self):\n",
    "        return self.num\n",
    "    \n",
    "class Expression:\n",
    "    def __init__(self, s):\n",
    "        self.expressions = []\n",
    "        self.operators = []\n",
    "        \n",
    "        sub_exprs = find_subexpressions(s)\n",
    "        \n",
    "        i = 0\n",
    "        while i < len(s):\n",
    "            si = s[i]\n",
    "            if si in NUMS:\n",
    "                self.expressions.append(Number(si))\n",
    "            if si in OPERATORS:\n",
    "                self.operators.append(si)\n",
    "            elif i in sub_exprs:\n",
    "                self.expressions.append(self.__class__(s[i+1:sub_exprs[i]]))\n",
    "                j = sub_exprs[i]+2\n",
    "                i = j\n",
    "                continue\n",
    "            i += 1\n",
    "        if len(self.expressions)-1!= len(self.operators):\n",
    "            raise ValueError(f'operators and expressions not matched! expressions:{self.expressions}, operators:{self.operators}')\n",
    "    def __call__(self):\n",
    "        evaled = [e() for e in self.expressions]\n",
    "        result = evaled[0]\n",
    "        for i, op in enumerate(self.operators):\n",
    "            if op == '+':\n",
    "                result += evaled[i+1]\n",
    "            elif op == '*':\n",
    "                result *= evaled[i+1]\n",
    "            else:\n",
    "                raise ValueError(f'Invalid operator \"{op}\"')\n",
    "        return result\n",
    "            \n",
    "assert Expression('2 * 3 + (4 * 5)')() == 26\n",
    "assert Expression('5 + (8 * 3 + 9 + 3 * 4 * 3)')() == 437\n",
    "assert Expression('5 * 9 * (7 * 3 * 3 + 9 * 3 + (8 + 6 * 4))')() == 12240\n",
    "assert Expression('((2 + 4 * 9) * (6 + 9 * 8 + 6) + 6) + 2 + 4 * 2')() == 13632"
   ]
  },
  {
   "cell_type": "code",
   "execution_count": 150,
   "metadata": {},
   "outputs": [],
   "source": [
    "assert sum([Expression(line)() for line in input18.split('\\n')]) == 7147789965219"
   ]
  },
  {
   "cell_type": "markdown",
   "metadata": {},
   "source": [
    "## Part 2 "
   ]
  },
  {
   "cell_type": "code",
   "execution_count": 169,
   "metadata": {},
   "outputs": [],
   "source": [
    "class PlusPrecedenceExpression(Expression):\n",
    "    def __call__(self):\n",
    "        evaled = [e() for e in self.expressions]\n",
    "        ops = self.operators.copy()\n",
    "        result = evaled[0]\n",
    "        for i in range(len(self.operators))[::-1]:\n",
    "            op = ops[i]\n",
    "            if op == '+':\n",
    "                result = evaled[i] + evaled[i+1]\n",
    "                del evaled[i+1]\n",
    "                evaled[i] = result\n",
    "                del ops[i]\n",
    "            elif op == '*':\n",
    "                pass\n",
    "            else:\n",
    "                raise ValueError(f'Invalid operator \"{op}\"')\n",
    "        return np.prod(evaled)\n",
    "    \n",
    "assert PlusPrecedenceExpression('1 + (2 * 3) + (4 * (5 + 6))')() == 51\n",
    "assert PlusPrecedenceExpression('2 * 3 + (4 * 5)')() == 46\n",
    "assert PlusPrecedenceExpression('5 + (8 * 3 + 9 + 3 * 4 * 3)')() == 1445\n",
    "assert PlusPrecedenceExpression('5 * 9 * (7 * 3 * 3 + 9 * 3 + (8 + 6 * 4))')() == 669060\n",
    "assert PlusPrecedenceExpression('((2 + 4 * 9) * (6 + 9 * 8 + 6) + 6) + 2 + 4 * 2')() == 23340"
   ]
  },
  {
   "cell_type": "code",
   "execution_count": 170,
   "metadata": {},
   "outputs": [
    {
     "data": {
      "text/plain": [
       "136824720421264"
      ]
     },
     "execution_count": 170,
     "metadata": {},
     "output_type": "execute_result"
    }
   ],
   "source": [
    "sum([PlusPrecedenceExpression(line)() for line in input18.split('\\n')])"
   ]
  },
  {
   "cell_type": "markdown",
   "metadata": {},
   "source": [
    "# Day N"
   ]
  },
  {
   "cell_type": "code",
   "execution_count": null,
   "metadata": {},
   "outputs": [],
   "source": [
    "!mv ~/Desktop/input.txt inputN"
   ]
  },
  {
   "cell_type": "code",
   "execution_count": null,
   "metadata": {},
   "outputs": [],
   "source": [
    "with open('inputN') as f:\n",
    "    inputN = f.read().strip()"
   ]
  },
  {
   "cell_type": "markdown",
   "metadata": {},
   "source": [
    "## Part 1"
   ]
  },
  {
   "cell_type": "code",
   "execution_count": null,
   "metadata": {},
   "outputs": [],
   "source": []
  },
  {
   "cell_type": "markdown",
   "metadata": {},
   "source": [
    "## Part 2 "
   ]
  },
  {
   "cell_type": "code",
   "execution_count": null,
   "metadata": {
    "jupyter": {
     "source_hidden": true
    }
   },
   "outputs": [],
   "source": []
  }
 ],
 "metadata": {
  "kernelspec": {
   "display_name": "Python 3",
   "language": "python",
   "name": "python3"
  },
  "language_info": {
   "codemirror_mode": {
    "name": "ipython",
    "version": 3
   },
   "file_extension": ".py",
   "mimetype": "text/x-python",
   "name": "python",
   "nbconvert_exporter": "python",
   "pygments_lexer": "ipython3",
   "version": "3.8.2"
  }
 },
 "nbformat": 4,
 "nbformat_minor": 4
}
