{
 "cells": [
  {
   "cell_type": "code",
   "execution_count": 122,
   "metadata": {},
   "outputs": [],
   "source": [
    "import numpy as np\n",
    "\n",
    "from scipy import ndimage\n",
    "\n",
    "import itertools"
   ]
  },
  {
   "cell_type": "markdown",
   "metadata": {},
   "source": [
    "https://adventofcode.com/2020"
   ]
  },
  {
   "cell_type": "markdown",
   "metadata": {},
   "source": [
    "# Day 17"
   ]
  },
  {
   "cell_type": "code",
   "execution_count": 5,
   "metadata": {},
   "outputs": [],
   "source": [
    "input17 = \"\"\"..##.#.#\n",
    ".#####..\n",
    "#.....##\n",
    "##.##.#.\n",
    "..#...#.\n",
    ".#..##..\n",
    ".#...#.#\n",
    "#..##.##\"\"\""
   ]
  },
  {
   "cell_type": "code",
   "execution_count": 51,
   "metadata": {},
   "outputs": [],
   "source": [
    "def map_to_array(astmap):\n",
    "    arr2d = np.array([[e=='#' for e in row] for row in astmap.split('\\n')]).T\n",
    "    return arr2d.copy()\n",
    "\n",
    "def array_to_map(arr, marker='#'):\n",
    "    buffer = []\n",
    "    for row in arr.T:\n",
    "        for element in row:\n",
    "            buffer.append(marker if element else '.')\n",
    "        buffer.append('\\n')\n",
    "    return ''.join(buffer)"
   ]
  },
  {
   "cell_type": "markdown",
   "metadata": {},
   "source": [
    "## Part 1"
   ]
  },
  {
   "cell_type": "code",
   "execution_count": 53,
   "metadata": {},
   "outputs": [
    {
     "name": "stdout",
     "output_type": "stream",
     "text": [
      ".#.\n",
      "..#\n",
      "###\n",
      "\n"
     ]
    }
   ],
   "source": [
    "test_input = \"\"\".#.\n",
    "..#\n",
    "###\"\"\"\n",
    "testarr = map_to_array(test_input)\n",
    "print(array_to_map(testarr))"
   ]
  },
  {
   "cell_type": "code",
   "execution_count": 65,
   "metadata": {},
   "outputs": [
    {
     "name": "stdout",
     "output_type": "stream",
     "text": [
      "...............\n",
      "...............\n",
      "...............\n",
      "...............\n",
      "...............\n",
      "...............\n",
      ".......#.......\n",
      "........#......\n",
      "......###......\n",
      "...............\n",
      "...............\n",
      "...............\n",
      "...............\n",
      "...............\n",
      "...............\n",
      "\n"
     ]
    }
   ],
   "source": [
    "boot_field = np.zeros((testarr.shape[0] + 6*2, testarr.shape[1] + 6*2, 1 + 6*2), dtype=bool)\n",
    "boot_field[6:9, 6:9, 6] = testarr\n",
    "print(array_to_map(boot_field[..., 6]))"
   ]
  },
  {
   "cell_type": "code",
   "execution_count": 101,
   "metadata": {},
   "outputs": [],
   "source": [
    "neighbor_kernel = [[[1,1,1],\n",
    "                    [1,1,1],\n",
    "                    [1,1,1]],\n",
    "                   [[1,1,1],\n",
    "                    [1,0,1],\n",
    "                    [1,1,1]],\n",
    "                   [[1,1,1],\n",
    "                    [1,1,1],\n",
    "                    [1,1,1]]]\n",
    "neighbor_kernel = np.array(neighbor_kernel)\n",
    "assert np.sum(neighbor_kernel) == 26\n",
    "\n",
    "def do_step(initial_field, nsteps=1):\n",
    "    if nsteps==0:\n",
    "        return initial_field.reshape(initial_field.shape[0], initial_field.shape[1], 1)\n",
    "    \n",
    "    boot_field = np.zeros((initial_field.shape[0] + nsteps*2, \n",
    "                           initial_field.shape[1] + nsteps*2, \n",
    "                           1 + nsteps*2), dtype=int)\n",
    "    boot_field[nsteps:(nsteps + initial_field.shape[0]), \n",
    "               nsteps:(nsteps + initial_field.shape[1]), \n",
    "               nsteps] = initial_field.astype(int)\n",
    "    \n",
    "    for i in range(nsteps):\n",
    "        corr = ndimage.correlate(boot_field, neighbor_kernel, mode='constant')\n",
    "        new_field = boot_field & (corr==2)\n",
    "        new_field[corr==3] = True\n",
    "        boot_field = new_field.astype(int)\n",
    "    \n",
    "    return boot_field\n",
    "\n",
    "step3 = do_step(testarr, nsteps=3)\n",
    "                     \n",
    "                     \n",
    "assert array_to_map(step3[1:-1, 2:, 3]) == \"\"\"...#...\n",
    ".......\n",
    "#......\n",
    ".......\n",
    ".....##\n",
    ".##.#..\n",
    "...#...\n",
    "\"\"\"\n",
    "\n",
    "assert np.sum(do_step(testarr, nsteps=6)) == 112"
   ]
  },
  {
   "cell_type": "code",
   "execution_count": 102,
   "metadata": {},
   "outputs": [
    {
     "data": {
      "text/plain": [
       "213"
      ]
     },
     "execution_count": 102,
     "metadata": {},
     "output_type": "execute_result"
    }
   ],
   "source": [
    "np.sum(do_step(map_to_array(input17), nsteps=6))"
   ]
  },
  {
   "cell_type": "markdown",
   "metadata": {},
   "source": [
    "## Part 2 "
   ]
  },
  {
   "cell_type": "code",
   "execution_count": 105,
   "metadata": {},
   "outputs": [],
   "source": [
    "neighbor_kernel4 = np.ones((3, 3, 3, 3), dtype=int)\n",
    "neighbor_kernel4[1,1,1,1] = 0\n",
    "neighbor_kernel4 = np.array(neighbor_kernel4)\n",
    "assert np.sum(neighbor_kernel4) == 80"
   ]
  },
  {
   "cell_type": "code",
   "execution_count": 117,
   "metadata": {},
   "outputs": [],
   "source": [
    "def do_step4(initial_field, nsteps=1):\n",
    "    if nsteps==0:\n",
    "        return initial_field.reshape(initial_field.shape[0], initial_field.shape[1], 1, 1)\n",
    "    \n",
    "    boot_field = np.zeros((initial_field.shape[0] + nsteps*2, \n",
    "                           initial_field.shape[1] + nsteps*2, \n",
    "                           1 + nsteps*2, 1 + nsteps*2), dtype=int)\n",
    "    boot_field[nsteps:(nsteps + initial_field.shape[0]), \n",
    "               nsteps:(nsteps + initial_field.shape[1]), \n",
    "               nsteps, nsteps] = initial_field.astype(int)\n",
    "    \n",
    "    for i in range(nsteps):\n",
    "        corr = ndimage.correlate(boot_field, neighbor_kernel4, mode='constant')\n",
    "        new_field = boot_field & (corr==2)\n",
    "        new_field[corr==3] = True\n",
    "        boot_field = new_field.astype(int)\n",
    "    \n",
    "    return boot_field\n",
    "\n",
    "assert array_to_map(do_step4(testarr, 2)[1:-1, 2:, 2, 0]) == \"\"\"###..\n",
    "##.##\n",
    "#...#\n",
    ".#..#\n",
    ".###.\n",
    "\"\"\"\"\"\""
   ]
  },
  {
   "cell_type": "code",
   "execution_count": 131,
   "metadata": {},
   "outputs": [],
   "source": [
    "assert np.sum(do_step4(testarr, nsteps=6)) == 848"
   ]
  },
  {
   "cell_type": "code",
   "execution_count": 132,
   "metadata": {},
   "outputs": [
    {
     "data": {
      "text/plain": [
       "1624"
      ]
     },
     "execution_count": 132,
     "metadata": {},
     "output_type": "execute_result"
    }
   ],
   "source": [
    "np.sum(do_step4(map_to_array(input17), nsteps=6))"
   ]
  },
  {
   "cell_type": "markdown",
   "metadata": {},
   "source": [
    "# Day 18"
   ]
  },
  {
   "cell_type": "code",
   "execution_count": 3,
   "metadata": {},
   "outputs": [],
   "source": [
    "with open('input18') as f:\n",
    "    input18 = f.read().strip()"
   ]
  },
  {
   "cell_type": "markdown",
   "metadata": {},
   "source": [
    "## Part 1"
   ]
  },
  {
   "cell_type": "markdown",
   "metadata": {},
   "source": [
    "For loop over lines is probably ok for modest-size inputs"
   ]
  },
  {
   "cell_type": "code",
   "execution_count": 101,
   "metadata": {},
   "outputs": [],
   "source": [
    "def find_subexpressions(s):\n",
    "    sub_exprs = {}\n",
    "    if '(' in s:\n",
    "        paren_level = 0\n",
    "        for i, si in enumerate(s):\n",
    "            if si=='(':\n",
    "                paren_level += 1\n",
    "                if paren_level == 1:\n",
    "                    sub_exprs['current'] = i\n",
    "            elif si == ')':\n",
    "                paren_level -= 1\n",
    "                if paren_level == 0:\n",
    "                    sub_exprs[sub_exprs['current']] = i\n",
    "                    del sub_exprs['current']\n",
    "        if paren_level != 0:\n",
    "            raise ValueError('parens not matched!')\n",
    "    return sub_exprs\n",
    "    \n",
    "\n",
    "def evaluate_expression(s):\n",
    "    sub_exprs = find_subexpressions(s)\n",
    "    # accumulate\n",
    "    result = 0\n",
    "    \n",
    "    operator = 'start'\n",
    "    nums = tuple('1234567890')\n",
    "    i = 0\n",
    "    while i < len(s):\n",
    "        si = s[i]\n",
    "        \n",
    "        if i in sub_exprs:\n",
    "            substr = s[i+1:sub_exprs[i]]\n",
    "            subres = evaluate_expression(substr)\n",
    "            if operator == 'start':\n",
    "                result = subres\n",
    "            elif operator is None:\n",
    "                raise ValueError('syntax error - num does not follow operator')\n",
    "            elif operator == '+':\n",
    "                result += subres\n",
    "            elif operator == '*':\n",
    "                result *= subres\n",
    "            operator = None\n",
    "            j = sub_exprs[i]+2\n",
    "            i = j\n",
    "            continue\n",
    "        elif si in ('*', '+'):\n",
    "            operator = si\n",
    "        elif si in nums:\n",
    "            if operator == 'start':\n",
    "                result += int(si)\n",
    "            elif operator is None:\n",
    "                raise ValueError('syntax error - num does not follow operator')\n",
    "            elif operator == '+':\n",
    "                result += int(si)\n",
    "            elif operator == '*':\n",
    "                result *= int(si)\n",
    "                operator = None\n",
    "        elif si == ' ':\n",
    "            pass\n",
    "        else:\n",
    "            raise ValueError(f\"don't know what to do with character {si}\")\n",
    "        i += 1\n",
    "    return result\n",
    "\n",
    "assert evaluate_expression('9 + 3 * 4') == (9 + 3) * 4\n",
    "assert evaluate_expression('9 + (3 * 4)') == 9 + 3 * 4 \n",
    "assert evaluate_expression('1 + (3 + 2) + ((1 + 2) + 3)') == 1 + (3 + 2) + ((1 + 2) + 3)"
   ]
  },
  {
   "cell_type": "code",
   "execution_count": 102,
   "metadata": {},
   "outputs": [
    {
     "name": "stdout",
     "output_type": "stream",
     "text": [
      "9.38 µs ± 114 ns per loop (mean ± std. dev. of 7 runs, 100000 loops each)\n"
     ]
    }
   ],
   "source": [
    "%timeit evaluate_expression('1 + (3 + 2) + ((1 + 2) + 3)')"
   ]
  },
  {
   "cell_type": "code",
   "execution_count": 103,
   "metadata": {},
   "outputs": [
    {
     "data": {
      "text/plain": [
       "7147789965219"
      ]
     },
     "execution_count": 103,
     "metadata": {},
     "output_type": "execute_result"
    }
   ],
   "source": [
    "sum([evaluate_expression(line) for line in input18.split('\\n')])"
   ]
  },
  {
   "cell_type": "markdown",
   "metadata": {},
   "source": [
    "## Part 1b\n",
    "\n",
    "As feared, the above doesn't really work with part 2..."
   ]
  },
  {
   "cell_type": "code",
   "execution_count": 148,
   "metadata": {},
   "outputs": [],
   "source": [
    "NUMS = tuple('1234567890')\n",
    "OPERATORS = ('*', '+')\n",
    "\n",
    "class Number:\n",
    "    def __init__(self, num):\n",
    "        self.num = int(num)\n",
    "    def __call__(self):\n",
    "        return self.num\n",
    "    \n",
    "class Expression:\n",
    "    def __init__(self, s):\n",
    "        self.expressions = []\n",
    "        self.operators = []\n",
    "        \n",
    "        sub_exprs = find_subexpressions(s)\n",
    "        \n",
    "        i = 0\n",
    "        while i < len(s):\n",
    "            si = s[i]\n",
    "            if si in NUMS:\n",
    "                self.expressions.append(Number(si))\n",
    "            if si in OPERATORS:\n",
    "                self.operators.append(si)\n",
    "            elif i in sub_exprs:\n",
    "                self.expressions.append(self.__class__(s[i+1:sub_exprs[i]]))\n",
    "                j = sub_exprs[i]+2\n",
    "                i = j\n",
    "                continue\n",
    "            i += 1\n",
    "        if len(self.expressions)-1!= len(self.operators):\n",
    "            raise ValueError(f'operators and expressions not matched! expressions:{self.expressions}, operators:{self.operators}')\n",
    "    def __call__(self):\n",
    "        evaled = [e() for e in self.expressions]\n",
    "        result = evaled[0]\n",
    "        for i, op in enumerate(self.operators):\n",
    "            if op == '+':\n",
    "                result += evaled[i+1]\n",
    "            elif op == '*':\n",
    "                result *= evaled[i+1]\n",
    "            else:\n",
    "                raise ValueError(f'Invalid operator \"{op}\"')\n",
    "        return result\n",
    "            \n",
    "assert Expression('2 * 3 + (4 * 5)')() == 26\n",
    "assert Expression('5 + (8 * 3 + 9 + 3 * 4 * 3)')() == 437\n",
    "assert Expression('5 * 9 * (7 * 3 * 3 + 9 * 3 + (8 + 6 * 4))')() == 12240\n",
    "assert Expression('((2 + 4 * 9) * (6 + 9 * 8 + 6) + 6) + 2 + 4 * 2')() == 13632"
   ]
  },
  {
   "cell_type": "code",
   "execution_count": 150,
   "metadata": {},
   "outputs": [],
   "source": [
    "assert sum([Expression(line)() for line in input18.split('\\n')]) == 7147789965219"
   ]
  },
  {
   "cell_type": "markdown",
   "metadata": {},
   "source": [
    "## Part 2 "
   ]
  },
  {
   "cell_type": "code",
   "execution_count": 169,
   "metadata": {},
   "outputs": [],
   "source": [
    "class PlusPrecedenceExpression(Expression):\n",
    "    def __call__(self):\n",
    "        evaled = [e() for e in self.expressions]\n",
    "        ops = self.operators.copy()\n",
    "        result = evaled[0]\n",
    "        for i in range(len(self.operators))[::-1]:\n",
    "            op = ops[i]\n",
    "            if op == '+':\n",
    "                result = evaled[i] + evaled[i+1]\n",
    "                del evaled[i+1]\n",
    "                evaled[i] = result\n",
    "                del ops[i]\n",
    "            elif op == '*':\n",
    "                pass\n",
    "            else:\n",
    "                raise ValueError(f'Invalid operator \"{op}\"')\n",
    "        return np.prod(evaled)\n",
    "    \n",
    "assert PlusPrecedenceExpression('1 + (2 * 3) + (4 * (5 + 6))')() == 51\n",
    "assert PlusPrecedenceExpression('2 * 3 + (4 * 5)')() == 46\n",
    "assert PlusPrecedenceExpression('5 + (8 * 3 + 9 + 3 * 4 * 3)')() == 1445\n",
    "assert PlusPrecedenceExpression('5 * 9 * (7 * 3 * 3 + 9 * 3 + (8 + 6 * 4))')() == 669060\n",
    "assert PlusPrecedenceExpression('((2 + 4 * 9) * (6 + 9 * 8 + 6) + 6) + 2 + 4 * 2')() == 23340"
   ]
  },
  {
   "cell_type": "code",
   "execution_count": 170,
   "metadata": {},
   "outputs": [
    {
     "data": {
      "text/plain": [
       "136824720421264"
      ]
     },
     "execution_count": 170,
     "metadata": {},
     "output_type": "execute_result"
    }
   ],
   "source": [
    "sum([PlusPrecedenceExpression(line)() for line in input18.split('\\n')])"
   ]
  },
  {
   "cell_type": "markdown",
   "metadata": {},
   "source": [
    "# Day 19"
   ]
  },
  {
   "cell_type": "code",
   "execution_count": 2,
   "metadata": {},
   "outputs": [],
   "source": [
    "with open('input19') as f:\n",
    "    input19 = f.read().strip()"
   ]
  },
  {
   "cell_type": "markdown",
   "metadata": {},
   "source": [
    "## Part 1"
   ]
  },
  {
   "cell_type": "code",
   "execution_count": 55,
   "metadata": {},
   "outputs": [
    {
     "data": {
      "text/plain": [
       "({0: [(1, 2)], 1: 'a', 2: [(1, 3), (3, 1)], 3: 'b'}, [])"
      ]
     },
     "execution_count": 55,
     "metadata": {},
     "output_type": "execute_result"
    }
   ],
   "source": [
    "basic_test_input = '''0: 1 2\n",
    "1: \"a\"\n",
    "2: 1 3 | 3 1\n",
    "3: \"b\"'''\n",
    "\n",
    "def parse_input(s):\n",
    "    rules = {}\n",
    "    messages = []\n",
    "    in_rules = True\n",
    "    for l in s.strip().split('\\n'):\n",
    "        if l.strip() == '':\n",
    "            in_rules = False\n",
    "        elif in_rules:\n",
    "            code, rule = l.split(':')\n",
    "            if '\"' in rule:\n",
    "                rules[int(code)] = rule.replace('\"', '').strip()\n",
    "            else:\n",
    "                rules[int(code)] = [tuple([int(n) for n in grp.split()]) for grp in rule.split('|')]\n",
    "        else:\n",
    "            messages.append(l.strip())\n",
    "    return rules, messages\n",
    "            \n",
    "basic_rules, messages = parse_input(basic_test_input)  \n",
    "basic_rules, messages"
   ]
  },
  {
   "cell_type": "code",
   "execution_count": 94,
   "metadata": {},
   "outputs": [
    {
     "data": {
      "text/plain": [
       "(True, True, False)"
      ]
     },
     "execution_count": 94,
     "metadata": {},
     "output_type": "execute_result"
    }
   ],
   "source": [
    "def check_message(message, rules, start_index):\n",
    "    my_rules = rules[start_index]\n",
    "    isstring = isinstance(my_rules, str)\n",
    "        \n",
    "    if isinstance(my_rules, str):\n",
    "        if message[0] == my_rules:\n",
    "            return message[1:]\n",
    "        else:\n",
    "            return False\n",
    "    else:\n",
    "        for ruleset_or in my_rules:\n",
    "            current_message = message\n",
    "            for rule in ruleset_or:\n",
    "                if current_message == '' or current_message is True:\n",
    "                    return False\n",
    "                current_message = check_message(current_message, rules, rule)\n",
    "                if current_message is False:\n",
    "                    break\n",
    "            else:\n",
    "                if current_message == '':\n",
    "                    return True\n",
    "                else:\n",
    "                    return current_message\n",
    "        else:\n",
    "            return False\n",
    "        \n",
    "check_message('aab', basic_rules, 0), check_message('aba', basic_rules, 0), check_message('abb', basic_rules, 0)"
   ]
  },
  {
   "cell_type": "code",
   "execution_count": 95,
   "metadata": {},
   "outputs": [
    {
     "data": {
      "text/plain": [
       "({0: [(4, 1, 5)],\n",
       "  1: [(2, 3), (3, 2)],\n",
       "  2: [(4, 4), (5, 5)],\n",
       "  3: [(4, 5), (5, 4)],\n",
       "  4: 'a',\n",
       "  5: 'b'},\n",
       " ['ababbb', 'bababa', 'abbbab', 'aaabbb', 'aaaabbb'])"
      ]
     },
     "execution_count": 95,
     "metadata": {},
     "output_type": "execute_result"
    }
   ],
   "source": [
    "test_input = \"\"\"0: 4 1 5\n",
    "1: 2 3 | 3 2\n",
    "2: 4 4 | 5 5\n",
    "3: 4 5 | 5 4\n",
    "4: \"a\"\n",
    "5: \"b\"\n",
    "\n",
    "ababbb\n",
    "bababa\n",
    "abbbab\n",
    "aaabbb\n",
    "aaaabbb\"\"\"\n",
    "rules, messages = parse_input(test_input)\n",
    "rules, messages"
   ]
  },
  {
   "cell_type": "code",
   "execution_count": 96,
   "metadata": {},
   "outputs": [],
   "source": [
    "assert np.all(np.array([check_message(message, rules, 0) is True for message in messages]) == \n",
    "              [True, False, True, False, False])"
   ]
  },
  {
   "cell_type": "code",
   "execution_count": 97,
   "metadata": {},
   "outputs": [
    {
     "data": {
      "text/plain": [
       "156"
      ]
     },
     "execution_count": 97,
     "metadata": {},
     "output_type": "execute_result"
    }
   ],
   "source": [
    "rules, messages = parse_input(input19)\n",
    "sum([check_message(message, rules, 0) is True for message in messages])"
   ]
  },
  {
   "cell_type": "markdown",
   "metadata": {},
   "source": [
    "## Part 2 "
   ]
  },
  {
   "cell_type": "code",
   "execution_count": 98,
   "metadata": {},
   "outputs": [],
   "source": [
    "updated_input19 = input19.replace('8: 42', '8: 42 | 42 8').replace('11: 42 31', '11: 42 31 | 42 11 31')"
   ]
  },
  {
   "cell_type": "code",
   "execution_count": 99,
   "metadata": {},
   "outputs": [
    {
     "data": {
      "text/plain": [
       "199"
      ]
     },
     "execution_count": 99,
     "metadata": {},
     "output_type": "execute_result"
    }
   ],
   "source": [
    "rules, messages = parse_input(updated_input19)\n",
    "sum([check_message(message, rules, 0) is True for message in messages])"
   ]
  },
  {
   "cell_type": "markdown",
   "metadata": {},
   "source": [
    "Hmm, it's not doing infinite recursion.  Clearly an algorithm flaw"
   ]
  },
  {
   "cell_type": "markdown",
   "metadata": {},
   "source": [
    "# Day 20"
   ]
  },
  {
   "cell_type": "code",
   "execution_count": 273,
   "metadata": {},
   "outputs": [],
   "source": [
    "with open('input20') as f:\n",
    "    input20 = f.read().strip()"
   ]
  },
  {
   "cell_type": "markdown",
   "metadata": {},
   "source": [
    "## Part 1"
   ]
  },
  {
   "cell_type": "code",
   "execution_count": 274,
   "metadata": {},
   "outputs": [
    {
     "data": {
      "text/plain": [
       "dict_keys([2311, 1951, 1171, 1427, 1489, 2473, 2971, 2729, 3079])"
      ]
     },
     "execution_count": 274,
     "metadata": {},
     "output_type": "execute_result"
    }
   ],
   "source": [
    "test_input = \"\"\"Tile 2311:\n",
    "..##.#..#.\n",
    "##..#.....\n",
    "#...##..#.\n",
    "####.#...#\n",
    "##.##.###.\n",
    "##...#.###\n",
    ".#.#.#..##\n",
    "..#....#..\n",
    "###...#.#.\n",
    "..###..###\n",
    "\n",
    "Tile 1951:\n",
    "#.##...##.\n",
    "#.####...#\n",
    ".....#..##\n",
    "#...######\n",
    ".##.#....#\n",
    ".###.#####\n",
    "###.##.##.\n",
    ".###....#.\n",
    "..#.#..#.#\n",
    "#...##.#..\n",
    "\n",
    "Tile 1171:\n",
    "####...##.\n",
    "#..##.#..#\n",
    "##.#..#.#.\n",
    ".###.####.\n",
    "..###.####\n",
    ".##....##.\n",
    ".#...####.\n",
    "#.##.####.\n",
    "####..#...\n",
    ".....##...\n",
    "\n",
    "Tile 1427:\n",
    "###.##.#..\n",
    ".#..#.##..\n",
    ".#.##.#..#\n",
    "#.#.#.##.#\n",
    "....#...##\n",
    "...##..##.\n",
    "...#.#####\n",
    ".#.####.#.\n",
    "..#..###.#\n",
    "..##.#..#.\n",
    "\n",
    "Tile 1489:\n",
    "##.#.#....\n",
    "..##...#..\n",
    ".##..##...\n",
    "..#...#...\n",
    "#####...#.\n",
    "#..#.#.#.#\n",
    "...#.#.#..\n",
    "##.#...##.\n",
    "..##.##.##\n",
    "###.##.#..\n",
    "\n",
    "Tile 2473:\n",
    "#....####.\n",
    "#..#.##...\n",
    "#.##..#...\n",
    "######.#.#\n",
    ".#...#.#.#\n",
    ".#########\n",
    ".###.#..#.\n",
    "########.#\n",
    "##...##.#.\n",
    "..###.#.#.\n",
    "\n",
    "Tile 2971:\n",
    "..#.#....#\n",
    "#...###...\n",
    "#.#.###...\n",
    "##.##..#..\n",
    ".#####..##\n",
    ".#..####.#\n",
    "#..#.#..#.\n",
    "..####.###\n",
    "..#.#.###.\n",
    "...#.#.#.#\n",
    "\n",
    "Tile 2729:\n",
    "...#.#.#.#\n",
    "####.#....\n",
    "..#.#.....\n",
    "....#..#.#\n",
    ".##..##.#.\n",
    ".#.####...\n",
    "####.#.#..\n",
    "##.####...\n",
    "##..#.##..\n",
    "#.##...##.\n",
    "\n",
    "Tile 3079:\n",
    "#.#.#####.\n",
    ".#..######\n",
    "..#.......\n",
    "######....\n",
    "####.#..#.\n",
    ".#...#.##.\n",
    "#.#####.##\n",
    "..#.###...\n",
    "..#.......\n",
    "..#.###...\"\"\"\n",
    "\n",
    "def parse_input(s):\n",
    "    tiles = {}\n",
    "    tilenum = None\n",
    "    tiles = {}\n",
    "    for line in s.strip().split('\\n'):\n",
    "        if line.strip() == '':\n",
    "            pass\n",
    "        elif line.startswith('Tile'):\n",
    "            tilenum = int(line.split(':')[0].split('Tile ')[1])\n",
    "            tiles[tilenum] = []\n",
    "        else:\n",
    "            tiles[tilenum].append([c=='#' for c in line])\n",
    "    for nm in tiles:\n",
    "        tiles[nm] = np.array(tiles[nm])\n",
    "    return tiles\n",
    "\n",
    "test_tiles = parse_input(test_input)\n",
    "test_tiles.keys()"
   ]
  },
  {
   "cell_type": "code",
   "execution_count": 275,
   "metadata": {},
   "outputs": [
    {
     "name": "stdout",
     "output_type": "stream",
     "text": [
      "..##.#..#.\n",
      "##..#.....\n",
      "#...##..#.\n",
      "####.#...#\n",
      "##.##.###.\n",
      "##...#.###\n",
      ".#.#.#..##\n",
      "..#....#..\n",
      "###...#.#.\n",
      "..###..###\n",
      "\n"
     ]
    }
   ],
   "source": [
    "def tile_to_map(tile):\n",
    "    chars = []\n",
    "    for row in tile:\n",
    "        for e in row:\n",
    "            chars.append('#' if e else '.')\n",
    "        chars.append('\\n')\n",
    "    return ''.join(chars)\n",
    "print(tile_to_map(test_tiles[2311]))"
   ]
  },
  {
   "cell_type": "code",
   "execution_count": 276,
   "metadata": {},
   "outputs": [],
   "source": [
    "def make_edges_arrays(tiles):\n",
    "    #first for each tile make an array of all the different edge combinations:\n",
    "    # [left, top , right, bottom] + [l_flipped, t_flipped, r_flipped, bottom_flipped]\n",
    "    edge_arrays = {}\n",
    "    for nm, tile in tiles.items():\n",
    "        edges = [tile[0, :], tile[:, 0], tile[-1, :], tile[:, -1]]\n",
    "        edge_arrays[nm] = np.array(edges + [e[::-1] for e in edges])\n",
    "    return edge_arrays\n",
    "\n",
    "edge_arrays = make_edges_arrays(test_tiles)\n",
    "a1 = edge_arrays[2311]\n",
    "a2 = edge_arrays[1951]"
   ]
  },
  {
   "cell_type": "code",
   "execution_count": 277,
   "metadata": {},
   "outputs": [
    {
     "name": "stdout",
     "output_type": "stream",
     "text": [
      "CPU times: user 11.5 ms, sys: 11 µs, total: 11.5 ms\n",
      "Wall time: 9.71 ms\n"
     ]
    },
    {
     "data": {
      "text/plain": [
       "{2311: [(0, 1427, 2), (1, 1951, 3), (3, 3079, 5)],\n",
       " 1951: [(0, 2729, 2), (3, 2311, 1)],\n",
       " 1171: [(0, 2473, 1), (3, 1489, 7)],\n",
       " 1427: [(0, 1489, 2), (1, 2729, 3), (2, 2311, 0), (3, 2473, 2)],\n",
       " 1489: [(1, 2971, 3), (2, 1427, 0), (3, 1171, 7)],\n",
       " 2473: [(1, 1171, 0), (2, 1427, 3), (3, 3079, 6)],\n",
       " 2971: [(2, 2729, 0), (3, 1489, 1)],\n",
       " 2729: [(0, 2971, 2), (2, 1951, 0), (3, 1427, 1)],\n",
       " 3079: [(1, 2311, 7), (2, 2473, 7)]}"
      ]
     },
     "execution_count": 277,
     "metadata": {},
     "output_type": "execute_result"
    }
   ],
   "source": [
    "def find_matches(tiles):\n",
    "    edge_arrays = make_edges_arrays(tiles)\n",
    "    \n",
    "    matches = {}\n",
    "    for tile, edges in edge_arrays.items():\n",
    "        for i, edge in enumerate(edges[:4]):  # only match the \"forward\" versions since otherwise there's a double flip\n",
    "            for tile2, edges2 in edge_arrays.items():\n",
    "                if tile2 == tile:\n",
    "                    continue\n",
    "                for j, edge2 in enumerate(edges2):\n",
    "                    if np.all(edge == edge2):\n",
    "                        matches.setdefault(tile, []).append((i, tile2, j))\n",
    "    return matches\n",
    "\n",
    "%time find_matches(test_tiles)"
   ]
  },
  {
   "cell_type": "code",
   "execution_count": 278,
   "metadata": {},
   "outputs": [
    {
     "data": {
      "text/plain": [
       "(9, 144)"
      ]
     },
     "execution_count": 278,
     "metadata": {},
     "output_type": "execute_result"
    }
   ],
   "source": [
    "len(make_edges_arrays(test_tiles)), len(make_edges_arrays(parse_input(input20)))"
   ]
  },
  {
   "cell_type": "markdown",
   "metadata": {},
   "source": [
    "factor of ~10 larger is only 100 slower, so not too slow.  Continue with method to make matches"
   ]
  },
  {
   "cell_type": "markdown",
   "metadata": {},
   "source": [
    "Cheat! The corners are the ones that have exactly two matches..."
   ]
  },
  {
   "cell_type": "code",
   "execution_count": 134,
   "metadata": {},
   "outputs": [],
   "source": [
    "test_matches = find_matches(test_tiles)\n",
    "corners = [tile for tile in test_matches if len(test_matches[tile]) == 2]\n",
    "assert len(corners) == 4\n",
    "assert np.prod(corners) == 20899048083289"
   ]
  },
  {
   "cell_type": "code",
   "execution_count": 135,
   "metadata": {},
   "outputs": [
    {
     "data": {
      "text/plain": [
       "{2311: [(0, 1427, 2), (1, 1951, 3), (3, 3079, 5)],\n",
       " 1951: [(0, 2729, 2), (3, 2311, 1)],\n",
       " 1171: [(0, 2473, 1), (3, 1489, 7)],\n",
       " 1427: [(0, 1489, 2), (1, 2729, 3), (2, 2311, 0), (3, 2473, 2)],\n",
       " 1489: [(1, 2971, 3), (2, 1427, 0), (3, 1171, 7)],\n",
       " 2473: [(1, 1171, 0), (2, 1427, 3), (3, 3079, 6)],\n",
       " 2971: [(2, 2729, 0), (3, 1489, 1)],\n",
       " 2729: [(0, 2971, 2), (2, 1951, 0), (3, 1427, 1)],\n",
       " 3079: [(1, 2311, 7), (2, 2473, 7)]}"
      ]
     },
     "execution_count": 135,
     "metadata": {},
     "output_type": "execute_result"
    }
   ],
   "source": [
    "test_matches"
   ]
  },
  {
   "cell_type": "code",
   "execution_count": 281,
   "metadata": {},
   "outputs": [],
   "source": [
    "matches = find_matches(parse_input(input20))"
   ]
  },
  {
   "cell_type": "code",
   "execution_count": 282,
   "metadata": {},
   "outputs": [
    {
     "data": {
      "text/plain": [
       "15405893262491"
      ]
     },
     "execution_count": 282,
     "metadata": {},
     "output_type": "execute_result"
    }
   ],
   "source": [
    "corners = [tile for tile in matches if len(matches[tile]) == 2]\n",
    "assert len(corners) == 4\n",
    "np.prod(corners)"
   ]
  },
  {
   "cell_type": "markdown",
   "metadata": {},
   "source": [
    "## Part 2 "
   ]
  },
  {
   "cell_type": "markdown",
   "metadata": {},
   "source": [
    "Arg the cheat isn't good enough - need to construct the whole picture..."
   ]
  },
  {
   "cell_type": "code",
   "execution_count": 138,
   "metadata": {},
   "outputs": [
    {
     "data": {
      "text/plain": [
       "12.0"
      ]
     },
     "execution_count": 138,
     "metadata": {},
     "output_type": "execute_result"
    }
   ],
   "source": [
    "len(matches)**0.5"
   ]
  },
  {
   "cell_type": "markdown",
   "metadata": {},
   "source": [
    "12 x 12 means there should be 4 corners (2 matches), 10x4 = 40 edges(3 matches), and the remainder (100) should have 4 matches:"
   ]
  },
  {
   "cell_type": "code",
   "execution_count": 139,
   "metadata": {},
   "outputs": [
    {
     "data": {
      "text/plain": [
       "(4, 40, 100)"
      ]
     },
     "execution_count": 139,
     "metadata": {},
     "output_type": "execute_result"
    }
   ],
   "source": [
    "nmatches = [len(v) for v in matches.values()]\n",
    "nmatches.count(2), nmatches.count(3), nmatches.count(4)"
   ]
  },
  {
   "cell_type": "markdown",
   "metadata": {},
   "source": [
    "Hooray! A unique solution. Just need to construct it. Can declare any corner to be the \"first\" corner.  Just pick the 0th one:"
   ]
  },
  {
   "cell_type": "code",
   "execution_count": 270,
   "metadata": {},
   "outputs": [],
   "source": [
    "def arrange_tiles(matches):\n",
    "    sqsize = len(matches)**0.5\n",
    "    assert int(sqsize) == sqsize\n",
    "    sqsize = int(sqsize)\n",
    "    \n",
    "    corners = [tile for tile in matches if len(matches[tile]) == 2]\n",
    "    tile_positions = (-sqsize-1)*np.ones((sqsize, sqsize), dtype=int)\n",
    "    tile_positions[0, 0] = corners[0]\n",
    "    \n",
    "    next_edge_index = None\n",
    "    for i in range(len(tile_positions)-1):\n",
    "        tile = tile_positions[i, 0]\n",
    "        for ei1, nexttile, ei2 in matches[tile]:\n",
    "            if nexttile not in tile_positions.ravel() and (next_edge_index is None or ei1%2 == next_edge_index):\n",
    "                tile_positions[i+1, 0] = nexttile\n",
    "                next_edge_index = ei2 % 2\n",
    "                break\n",
    "        else:\n",
    "            assert False\n",
    "    # now do the same but along all y-axes\n",
    "    for i in range(tile_positions.shape[0]):\n",
    "        next_edge_index = None\n",
    "        for j in range(tile_positions.shape[1]-1):\n",
    "            tile = tile_positions[i, j]\n",
    "            for ei1, nexttile, ei2 in matches[tile]:\n",
    "                if nexttile not in tile_positions.ravel() and (next_edge_index is None or ei1%2 == next_edge_index):\n",
    "                    tile_positions[i, j+1] = nexttile\n",
    "                    next_edge_index = ei2 % 2\n",
    "                    break\n",
    "            else:\n",
    "                assert False\n",
    "                \n",
    "    # check the corners make sense\n",
    "    for i, j in [(0,0), (0, -1), (-1, 0), (-1, -1)]:\n",
    "        assert tile_positions[i, j] in corners, 'Corners not consistent!'\n",
    "\n",
    "    return tile_positions\n",
    "\n",
    "test_matches = find_matches(test_tiles)\n",
    "test_arrangement = arrange_tiles(test_matches)\n",
    "\n",
    "assert np.all(test_arrangement == np.array(\n",
    "      [[1951, 2311, 3079],\n",
    "       [2729, 1427, 2473],\n",
    "       [2971, 1489, 1171]]))"
   ]
  },
  {
   "cell_type": "markdown",
   "metadata": {},
   "source": [
    "Now need to figure out how they're oriented to align"
   ]
  },
  {
   "cell_type": "code",
   "execution_count": 272,
   "metadata": {},
   "outputs": [
    {
     "name": "stdout",
     "output_type": "stream",
     "text": [
      "#...##.#.. ..###..### #.#.#####.\n",
      "..#.#..#.# ###...#.#. .#..######\n",
      ".###....#. ..#....#.. ..#.......\n",
      "###.##.##. .#.#.#..## ######....\n",
      ".###.##### ##...#.### ####.#..#.\n",
      ".##.#....# ##.##.###. .#...#.##.\n",
      "#...###### ####.#...# #.#####.##\n",
      ".....#..## #...##..#. ..#.###...\n",
      "#.####...# ##..#..... ..#.......\n",
      "#.##...##. ..##.#..#. ..#.###...\n",
      "  \n",
      "\n",
      "#.##...##. ..##.#..#. ..#.###...\n",
      "##..#.##.. ..#..###.# ##.##....#\n",
      "##.####... .#.####.#. ..#.###..#\n",
      "####.#.#.. ...#.##### ###.#..###\n",
      ".#.####... ...##..##. .######.##\n",
      ".##..##.#. ....#...## #.#.#.#...\n",
      "....#..#.# #.#.#.##.# #.###.###.\n",
      "..#.#..... .#.##.#..# #.###.##..\n",
      "####.#.... .#..#.##.. .######...\n",
      "...#.#.#.# ###.##.#.. .##...####\n",
      "  \n",
      "\n",
      "...#.#.#.# ###.##.#.. .##...####\n",
      "..#.#.###. ..##.##.## #..#.##..#\n",
      "..####.### ##.#...##. .#.#..#.##\n",
      "#..#.#..#. ...#.#.#.. .####.###.\n",
      ".#..####.# #..#.#.#.# ####.###..\n",
      ".#####..## #####...#. .##....##.\n",
      "##.##..#.. ..#...#... .####...#.\n",
      "#.#.###... .##..##... .####.##.#\n",
      "#...###... ..##...#.. ...#..####\n",
      "..#.#....# ##.#.#.... ...##.....\n",
      "  \n",
      "\n"
     ]
    }
   ],
   "source": [
    "def reorient_tile(tile, rots, flip):\n",
    "    for _ in range(rots):\n",
    "        tile = np.rot90(tile)\n",
    "        \n",
    "    if flip == 1:\n",
    "        return tile[::-1]\n",
    "    elif flip == 2:\n",
    "        return tile[:, ::-1]\n",
    "    elif flip == 0:\n",
    "        return tile\n",
    "    else:\n",
    "        raise ValueError(f'Invalid flip value {flip}')\n",
    "\n",
    "transformation_edge_map = {(0,0):{0:0, 1:1, 2:2, 3:3},\n",
    "                   (1,0):{0:1, 1:2, 2:3, 3:0},\n",
    "                   (2,0):{0:2, 1:3, 2:0, 3:1},\n",
    "                   (3,0):{0:3, 1:0, 2:1, 3:2},\n",
    "                   (0,1):{0:2, 1:1, 2:0, 3:3},\n",
    "                   (1,1):{0:1, 1:0, 2:3, 3:2},\n",
    "                   (2,1):{0:0, 1:3, 2:2, 3:1},\n",
    "                   (3,1):{0:3, 1:2, 2:1, 3:0}\n",
    "                   }\n",
    "def find_orientation(tile_positions, matches):\n",
    "    tile_orientations = {}\n",
    "    for i in range(tile_positions.shape[0]):\n",
    "        for j in range(tile_positions.shape[1]):\n",
    "            tilenum = tile_positions[i, j]\n",
    "            \n",
    "            tile0 = tile1 = tile2 = tile3 = None\n",
    "            if i>0:\n",
    "                tile0 = tile_positions[i-1, j]\n",
    "            if (i+1) < tile_positions.shape[0]:\n",
    "                tile2 = tile_positions[i+1, j]\n",
    "            if j>0:\n",
    "                tile1 = tile_positions[i, j-1]\n",
    "            if (j+1) < tile_positions.shape[1]:\n",
    "                tile3 = tile_positions[i, j+1]\n",
    "                \n",
    "            matched_edges = {tilenum:edge_idx for edge_idx, tilenum, _ in matches[tilenum]}\n",
    "            goal = np.array([i for i, t in zip(range(4),[tile0, tile1, tile2, tile3]) if t is not None])\n",
    "            starting_edges = [matched_edges[t] for t in [tile0, tile1, tile2, tile3] if t is not None]\n",
    "            for reorient, transform_map in transformation_edge_map.items():\n",
    "                edges = np.array([transform_map[e] for e in starting_edges])\n",
    "                if np.all(edges == goal):\n",
    "                    tile_orientations[tilenum] = reorient\n",
    "                    break\n",
    "            else:\n",
    "                raise ValueError(f'unsolvable tile! {tilenum}')\n",
    "    return tile_orientations\n",
    "\n",
    "def print_tile_array(tiles, tile_positions, tile_orientations):\n",
    "    for i in range(tile_positions.shape[0]):\n",
    "        multilines = {}\n",
    "        for j in range(tile_positions.shape[1]):\n",
    "            tilenum = tile_positions[i, j]\n",
    "            retile = reorient_tile(tiles[tilenum], *tile_orientations[tilenum])\n",
    "            tile_lines = tile_to_map(retile).split('\\n')\n",
    "            for k, line in enumerate(tile_lines):\n",
    "                multilines.setdefault(k, []).append(line)\n",
    "        for k in sorted(multilines):\n",
    "            print(' '.join(multilines[k]))\n",
    "        print('')\n",
    "      \n",
    "\n",
    "test_orientations = find_orientation(test_arrangement, test_matches)\n",
    "print_tile_array(test_tiles, test_arrangement, test_orientations)"
   ]
  },
  {
   "cell_type": "code",
   "execution_count": 286,
   "metadata": {
    "scrolled": true
   },
   "outputs": [
    {
     "name": "stdout",
     "output_type": "stream",
     "text": [
      "...###.#.. ..#####... ...#..##.. .#.#..#..# #..###.### #.###.###. .###.##### #.###...## ####.#...# ##..#..... ..###...## ##...#.##.\n",
      "#.....#... ....#.#... ...#...... ..#....#.# #...#...## #..###.... ...#.#..#. ..###..#.# #....#...# ##....#..# #.....#.#. .......##.\n",
      "........#. ......#..# ##.###..## ###..#.... .....###.. .#.......# #.#...#..# #..#....#. .......... .......... .#..##.### #..#.....#\n",
      ".....#...# #..#..#.## #.#.#.#### #.#..#.... ..##.#...# #..#....## #...#.##.. .......... .......... ....##.##. ..##..#... .##.......\n",
      "#......#.. .......... ...#.#...# #.###....# #.......#. .###..#... .......... .....##... ....#....# ##......#. .........# #.#......#\n",
      "##......#. ...#...##. .....#.... ..##..#... ....#...## ##......#. ....#.#... .....#..#. .####..... ......#... .......... ...#..#...\n",
      "#...#....# ###...#..# ##...#...# ##.##..#.# #.##.#.##. .#.###..#. ...#...#.# #.......#. .##......# #..#.#...# ###...#... ..#..#.#..\n",
      "#........# #..#..#..# #...#...## #...##.... .......##. ..#.##...# #..##.#..# #.##....#. .##...##.. ....#..#.# #.....#..# #...##.#.#\n",
      ".##...#.#. ....##.... ....#.###. ......#.#. .........# ###.#....# ##..#.#... ......#... .##.####.# ##.....### #......... ...###..#.\n",
      ".##.##..## ##..#..#.# ##.##.##.# ##.#.....# #.#.###### #..#.##.#. .#.###..#. .#####.#.# ##.#.###.. .###.#..## ####.###.. ...#####.#\n",
      "           \n",
      "\n",
      ".##.##..## ##..#..#.# ##.##.##.# ##.#.....# #.#.###### #..#.##.#. .#.###..#. .#####.#.# ##.#.###.. .###.#..## ####.###.. ...#####.#\n",
      "...#.#...# #..#..##.# #.....#.#. ..#...###. ........#. ......##.# #..###.... ...#.....# #......... .#...#.... ......##.. ..#.###...\n",
      "#........# #....#...# #.#....#.. .#.....#.# ###.##..## #.#......# #....#.#.# ##........ ....#...#. .#..##.#.. .#......## #.......#.\n",
      "##.....### #.......## #......... .#....#..# #...##...# ##.#....## #.#.#..#.. ..#..#.... ..#....... .##.##..## #.#...#... ....###..#\n",
      ".#.#...#.# #.#..#..## #.#.#.#..# #....#...# #...##...# ##.......# #..#..#.#. .....###.# ##..#....# #...###... .#...#.... ......#..#\n",
      "#..#....## ###....... .##..#..## ##.....#.# #....##..# #.#...#... ..##..#..# #........# ####.##... ....#.#### ##........ .....##...\n",
      "#..#.##... ....#..... ..#.....## #...#..... .#....###. .#.......# #......... ..###..#.# #.##.....# #.###..... .#.##..... .##..#....\n",
      "....##.##. .#.##..#.. .#.#...##. ......#..# #.###....# #.....#... .##.##...# ##.#....#. ...#...... ....#..... .#.##..... ..#...##.#\n",
      "#..#...##. ..#.#.#... .#....#..# ####...... ....#.#.#. ..#.....## ##...#...# #......#.. ........## #.....#... ....#.#..# #...#..#..\n",
      "....##..## ##.#...#.# #....###.# ##.#..##.# ###.##.#.. .##....### #....#.... .####.#.#. ...#..#### ##..#.##.. ...#.#.#.# ##...#..##\n",
      "           \n",
      "\n",
      "....##..## ##.#...#.# #....###.# ##.#..##.# ###.##.#.. .##....### #....#.... .####.#.#. ...#..#### ##..#.##.. ...#.#.#.# ##...#..##\n",
      "#......#.. .#...#.... .......... .......... ...###.... .#.##.#..# ##.#...#.# #..##.##.# #.#..#.#.. .#...##..# #...##.... .#.#.#...#\n",
      "....#..#.. ....##..## ##.#.....# #........# #..###.... .##..#.#.. .###.....# #...#....# ###......# ###..##..# #.#...#..# #.....#..#\n",
      "#......... .##.#.#..# #.#.#..... .#..#....# #...###..# #.#...#..# ##.#....## #...#....# ##.....#.# ##....#... .#.#...... .#.#.#####\n",
      "##...#.#.# #....#.#.# #.#.#.#.#. ....##..## #........# #........# #..##..... ..#..##... ..#..#...# #.#.#.##.. ..#..##... ...#.#.#..\n",
      "##.##....# ##.###...# #.####.##. ....#.#.#. ..###.#... .#..#..#.. ..#...##.. .......... .#..#.#... ..#.#.##.. .#..#..### #..#.###.#\n",
      "#........# #..##....# #......... .#....#.#. ...#..#... ..#......# ##...#...# #...#.#.#. ..#......# #.#...#.## #..##....# #.#......#\n",
      ".#...#.### #..#.#...# #....##.#. ...#.#.#.# #..#.#...# ##.#...... .#.###...# #..#....## #.###...#. ..#..##... .#...#.... ..#.......\n",
      "#..#.#..## #.#.#.#... ...##....# #.#......# #....#..## #.##...... ..#.#..... ........## ####.....# #..#.#...# #.#.###..# #.....#.#.\n",
      "##...#.#.. .##.#...#. ...#.##.#. ...##.##.# ######..## ##...##.#. .#.#.##..# ###.....## #.#....... .#..##.##. .###.#.### ##........\n",
      "           \n",
      "\n",
      "##...#.#.. .##.#...#. ...#.##.#. ...##.##.# ######..## ##...##.#. .#.#.##..# ###.....## #.#....... .#..##.##. .###.#.### ##........\n",
      "#......... ...##....# ####.....# ##.....#.. .....##... ...#...... .#....#... .#.##.#... .....#...# ####.###.. ..#....... .#...##..#\n",
      "#..#.#.#.. .#.#.#...# #.#..#.##. ...#...#.# ##...##.## #....#..#. .......... ..##..###. .#.....#.# #....#..#. ....###..# #...##...#\n",
      "...#.#...# #...#..##. .#.###...# ##.#..#..# #..#.....# #..##.#.#. ..##.###.# #....#..#. .#........ .#...##.## ##..#...#. .......#..\n",
      "##.#....#. ....#..#.# #.#.#...#. ......##.. ......#..# #.#..##### ##...##..# ##..##...# #..#.#.#.. ....###... ..###..##. .#....#..#\n",
      "...#..#..# #..#.#.... .....###.. ......#..# #....##... .##.....## ##.#..##.. ..##.#...# #..#.....# #..#.#.... ....#####. ...#.#...#\n",
      "..##..#... ..#......# #.##...... ........#. .........# #.#..#...# #.##.#.#.# #.....#..# #....#..#. ....#..... .#..#.#..# ##......#.\n",
      "#..##..#.. ..#..#...# #.##.#..#. ...#..##.. ...#...... .#.#...... .......... ....#...#. ....#....# #.....##.# #....#.#.# ##.#......\n",
      "#..##..#.# #....#.#.# #...#..### #.#....... .##......# ###.#..#.. .##.#...#. ..##...... ........## #...#..##. .....#.#.# #..#.#.##.\n",
      ".##.#....# ###..####. .#.##..##. .....####. ....#...## ######.#.. .##.###### ####.#.#.. ...##..#.. ...#....#. .#.##.#.## ####.#..##\n",
      "           \n",
      "\n",
      ".##.#....# ###..####. .#.##..##. .....####. ....#...## ######.#.. .##.###### ####.#.#.. ...##..#.. ...#....#. .#.##.#.## ####.#..##\n",
      "#........# #.#.#.##.. ...#....## #..#...#.. ......#... .....#.#.# #.#...##.. .#....#... .#........ .........# #...#....# #.....#...\n",
      "#...#...#. ..#..#.#.# ###.#....# ##....#### #..#..##.. ..##..#..# ##.#.###.. ....##.#.. ..#....#.# #......#.# #.#....### #...#..#.#\n",
      "....#..#.# #..#.....# #......... ...##..#.. .......##. ..#....#.. ..#.#.###. ...####.## ##...#...# #........# #.#..#..#. .#.......#\n",
      ".#.#.#.... .........# #......... ...#...### #.....#... ..##.##... .......##. ......#..# ##.#.....# #...#..... ...##..##. ....#..#..\n",
      "#.##.....# #.#......# ##.......# ##....#.## #....##... ..##...... ..#....... ..#....#.. ....#....# #.......## ##.##...#. .....#....\n",
      "#..##.#... .....##... ......#### ###......# #.....#... .......... ..#.##..## ###..#.... ..#.....## ###.##...# #..#.#.#.. .##.##....\n",
      "##..#...## ##..#..... .##.....#. ..#.###.#. ...#.#...# #......#.. ..#....#.# ##.#.##..# #..#...### #...#....# #.##...#.. ....##...#\n",
      ".....#.... ....#...## #.......#. .#.....#.# #.##...... ..##...... ..##..#### ##...#.... ...##...## #.#....... ........## #.....#..#\n",
      ".#.#..#.## ###..#..## ###.#..#.. .#.#..##.# ##.#...##. .##.###.#. .......### #.#..#.### #.##.##..# #####..##. ..####.#.. .######.#.\n",
      "           \n",
      "\n",
      ".#.#..#.## ###..#..## ###.#..#.. .#.#..##.# ##.#...##. .##.###.#. .......### #.#..#.### #.##.##..# #####..##. ..####.#.. .######.#.\n",
      "..#.#..#.# ##........ ..#.#..### #.....##.. ..##.###.. ..#..#..## ##....#..# #....#..#. .#..#..... .#.....##. .#.......# ###......#\n",
      "#..#...... .#.#.....# #........# #....#..## #....#...# ####..#.## ###.##.#.# #....##..# #.#..#...# #......... .#......#. .....##...\n",
      "...#.....# #...##.... ....#..... .#.......# ##.....#.. .#.#.....# ##..#..... .#..###..# #......#.# #...#..... ..#...#.## #.#..##...\n",
      "....#...#. .#..#....# ##....#.## ##.#...#.. ...##..... ....#.#.#. ..##.##..# #...#..### #.#....... .#...#.##. ...#.#...# ##.###..#.\n",
      ".........# #.#.#....# #...#...## #..##...## ##........ ....#....# ####...#.# ##.#..#... ...###..#. ...#.....# #.....##.# #....#...#\n",
      "#....#...# ##......#. .......... .#.....#.. .......... ..##...##. ...#.##... ...#.#.... ....#...## #..##.#.## #.......#. ......#..#\n",
      "#...#..### ##......#. .........# ##.#...#.# #......#.# #.###...#. .##......# #........# #..#....#. .#..#.#... ...#.#...# ###......#\n",
      ".#.#....## #.#..##..# #..#....#. ......#.#. .##...#..# #.#.##.##. .#.##...## #...#..... ..#....#.. ...##...## #.......#. .#..#....#\n",
      "..####.### ##.#####.# #..#.###.# #.#.##.### #####.#... .#.#.#.##. .#.#.##... ....#.#... ....####.# ##.#.##... ..#####.## ###.#...#.\n",
      "           \n",
      "\n",
      "..####.### ##.#####.# #..#.###.# #.#.##.### #####.#... .#.#.#.##. .#.#.##... ....#.#... ....####.# ##.#.##... ..#####.## ###.#...#.\n",
      "..#.....## #......##. .#....#..# ##........ ...#...#.# #...#....# ##...#...# #.#..#.... .....##.#. .##....#.# #.....#.#. ...##.#.#.\n",
      "#.#...#..# ##..#..... ........## #...#..... .#....#... ...###.... .##..#...# ##..#.##.. ......#... .##..#.#.. .......#.# ##...#....\n",
      "#....##... ......#... ...#...#.. .....#..## #........# #.......## ##..#.#..# #.....##.. ........#. ...#..#... .......... ....###...\n",
      ".##....##. .#....#### #......... .#..#.#### #.#......# #........# #....#.### #..#...### #...###.#. .#....#... .#......## ###..##...\n",
      ".#.#.#...# #.....#.#. ...##....# ###......# ##...#.#.. ..##.....# ###..#...# #.##.##### ##.#..#.#. .####.#..# #.#.#..... .#......##\n",
      "..##...... ......#..# #.....#.#. ..#....... .#....#.#. ...##....# ####...... ....#..... ....##.#.# #......... ..#...#.#. .#........\n",
      ".#.#...... ..##...##. ....###... ........## #.....#.## ###...#..# ##...#..#. .......... .....#.#.. .....##.#. .##.....#. ......#..#\n",
      ".#.#...##. .........# #....#.### #......##. .....#.... ..#....#.# #.#..#.... ........## #....#.... .#....##.# #.#......# #.#..#..##\n",
      ".##..###.# #.##...### ####.##.#. .######..# ###..##.#. ..#..#...# #....####. ...##.#... .#...###.. .#.##.###. ..#...###. ..###.##..\n",
      "           \n",
      "\n",
      ".##..###.# #.##...### ####.##.#. .######..# ###..##.#. ..#..#...# #....####. ...##.#... .#...###.. .#.##.###. ..#...###. ..###.##..\n",
      "#.##...#.. .#........ .####...## ##.##....# #..###.### #.#.#....# #.#..#.### #.....##.. .##..#.##. ....#....# ##.##...## ###...#...\n",
      "#..#.....# #...##...# #....#...# #.......## ##.....##. ..#.#....# #...#....# #.#.#..#.. ..#.....## #.....#.#. ...##..##. ..#.#.....\n",
      "#.#.#....# #..##..#.# #.##.#..#. .....#.... .....##.#. .#........ ..#......# #...###.#. ....#..#.# ###....... ...#.#.... ....#.....\n",
      "#..#..##.. ........## #..#.#...# #.#...#..# #.....#..# ##.##...#. .##.#....# ##.......# #.#.....#. .........# #..#....## #.#.......\n",
      "#.##.....# #.#.#..#.# ###....#.. ...#....## #...##...# #...#..... .#...#..## #......#.# ##.....#.# #.#.#..... ..#..#..#. .#.#......\n",
      "##..#.##.. ........#. .##....... ..##.#.... ....##...# #.....#..# #..##....# ##...#..## #....#..## #......#.# ###..#.... ....##....\n",
      ".#.##...#. .#.#..#... ....#....# #..#.#.... ..#....... .##.....## #.......## #....#.##. ....#..... ......##.# ##.#...... ..#...#...\n",
      "##.#...### ##........ .........# #.#####.#. ...#....#. ....#..... ....##.#.# #...#.##.# #..##..... .....###.. .......... .#.#..#.##\n",
      "#...#..... ..#...#.## #...#..#.# #.....##.. ...#.##..# #...##.... .#..##.### ##.##.#### #.....#..# ##.####... ..###.#.#. ...#.#..#.\n",
      "           \n",
      "\n",
      "#...#..... ..#...#.## #...#..#.# #.....##.. ...#.##..# #...##.... .#..##.### ##.##.#### #.....#..# ##.####... ..###.#.#. ...#.#..#.\n",
      "..#.###... ....##.... ..#...#... ......#... ......#.## #........# #......... .....#..#. .....#.### #......... ....#...## #.........\n",
      "...#..##.. .#.###.... ...#.....# #......... ......#... .#..#....# #.##...... .......... .#...#...# #.#.#..... ...#.....# #..#.....#\n",
      ".#....#..# ##...#.... ..##.#.#.# #...##.... ...##..##. ..#....... ...#.....# ##.##..... ..#.##.#.. ......##.# #.#...##.. ......##..\n",
      ".#.###...# ##....#.#. .#####.### #..#.#.... .......#.. .......#.# ###..#.... .#...#..#. ..##.###.. .#.....#.. ..#....#.# ###....#..\n",
      "##.#.##... .#...#.#.# ##....#..# #..#...... .....#..## ##...#.... .##..##..# #..#...#.. .#...#.### #..##..... ...#...#.# #....#...#\n",
      ".#.#.#.#.# #.##..##.. .....#...# #...#.#.## ##.#.#..## #...##..## #....#...# #....#.##. ..#..##..# #....#.#.# ###......# #...###..#\n",
      "....##.#.# #.....##.# #....#.... .##...#... ...#.##### #.#...#### #.......## ##.......# #...###..# #.#....#.. .##.#.#..# #....#..#.\n",
      "....#.#... ..#.###... ........#. .........# #.......## ###.#...#. ..###....# #.....###. ......#... ......#..# #..##.#..# #.....#..#\n",
      "#.#.#..... ...##....# ##.###.#.# #....#..## ###..#.#.. ..###..#.# ##....#..# ########.# #.##....#. .#.###.### #..#...... .#.#.#.###\n",
      "           \n",
      "\n",
      "#.#.#..... ...##....# ##.###.#.# #....#..## ###..#.#.. ..###..#.# ##....#..# ########.# #.##....#. .#.###.### #..#...... .#.#.#.###\n",
      "#.....#..# #....#.... ...#...... .##.#.#... ....#.#... .....#.#.. .#....#..# #..#...### #.#....#.# #........# #.#.##.#.. ...#.#....\n",
      "#...#.#... .#....#.## #........# #..#.#.#.. .#.#.....# ##.....##. .##...#.#. ...##....# #...#....# #.....#... ..#......# ##.....##.\n",
      "#.##.##... ......#... ....#..#.. ..##..#... .#.#...### ##....#... ..###...#. .....###.. .#.....#.. .#.#####.# #..#.....# #.##..#...\n",
      "...#..#... ....#..#.. ..###..### ##..#...## #..##.#.#. ..##..#... .#....#.#. ..#...##.# ##..#.###. .#..##...# #.#.###... ..##.#....\n",
      "..#.#..#.# #.....#### #...#.#..# #..#.....# #......... .##.....#. .......... .......### ##....#..# #.####.#.. .##....#.# ##...#.#..\n",
      "..#.....#. ..##.#.... ..#..#...# #...###... .#..#....# ##.....### #........# #...#..##. .#...##.#. ....#....# #.#......# #..#.###..\n",
      "#....##... .#..##.... ....##...# #.#.#...## #...#...#. ..##.....# ##....#..# #......... ..##...#.# #....#.... ...#...... ....#.....\n",
      "##.#...#.. .#....#... .....#.##. ...#...... .#.#.....# ##.##..... ....##.### #....###.. ..#...#.#. ...#.....# #.......## #...#...##\n",
      ".#....##.. .####.##.. ..#.#.##.. .#..###... ...#.#.#.. .....###.# ##..#..##. ..#..##### #####.##.. .#.#.....# #..###..## ##.##.....\n",
      "           \n",
      "\n",
      ".#....##.. .####.##.. ..#.#.##.. .#..###... ...#.#.#.. .....###.# ##..#..##. ..#..##### #####.##.. .#.#.....# #..###..## ##.##.....\n",
      "#....#..## #....#..## #########. ...#...... ...#.#...# #.#....... ..#...#... ........## #.#.##...# #.#.##.### #.#......# ##..#.##.#\n",
      "##...#.... .#...#.... ....#..#.# #.#..#..#. .....#...# #.#.#....# ##...###.. .#.#...#.# ##.#...#.. .#.#.#..#. ...#...#.. .....#.###\n",
      "..##..##.# #.#...#... ..#.#####. .........# #.......## #.#...#.#. ...##...#. .#..#.##.# #..#..#.## #..##..... .##......# #....#....\n",
      "....#..... ...#.##..# #.##.##... .........# ####.....# #.......## #.....#.#. ..##....#. ....#.#..# #...#...#. ..#.###... ......##.#\n",
      ".......#.# #..#.#.#.. .....###.. .#.#.....# ##..#..#.. ...#...##. .#...#...# #...##.... ...##..#.# #....#.#.# ##.##.#... ......#.#.\n",
      ".##.#.##.. ...#.....# #....#.#.. ........#. .......### #.#....#.. ..#......# ##....#... ..#......# #....##... ..#.#....# #........#\n",
      "..#..#..## ###....#.# #...##.... ......#..# #.#.#.#..# ###.##...# #.##..#... ..#..#.##. ...#...... .#........ .#.......# #.#..##.#.\n",
      "##......#. .#....#### #...#..... .....#.#.# #.......#. ..##.#...# ##.....##. .#.#...#.. ...###.#.. ...###..## ##.#.#.#.# #....#.#..\n",
      ".####.#..# #.#.#.###. .#.#...... .###..##.. ......##.# #....##.#. .........# #..#.##... ..#######. ..#.#####. ..###..... ....#.####\n",
      "           \n",
      "\n",
      ".####.#..# #.#.#.###. .#.#...... .###..##.. ......##.# #....##.#. .........# #..#.##... ..#######. ..#.#####. ..###..... ....#.####\n",
      "...##..... ..#.#...## #...#....# ##.#...#.. ..#.#....# #......##. .#..###### #......#.# #####.#..# #.####...# ####..##.# ##...####.\n",
      "...#...... ...#.#...# #..#.#.... ..#..#.... ......#... .#....#..# #....###.. .......### #....#.... .#..##.#.# #.#.###..# ###..##..#\n",
      "..#....#.# #......##. ......#... ......#... .#...#...# ##....#... ...##..... ...###.... ....#...#. ..#.##...# ##.#.....# #.#.......\n",
      "##.##...## #......... .#..#.#..# ##.#...... ....#..##. .......... ...#...#.. ...#...#.# #......... ...#..#... .......#.. .#.....#..\n",
      "##........ ...#...... .....##.## ###...#.#. .#.....### #..#.#.#.# #........# ##..#...## ##..#.##.. .........# ##.....##. .........#\n",
      ".......#.. .#......## ##.##..#.# #.#.##...# #......##. ..#.#..... .#........ .......### #..##.#.## #....#...# #..#...#.. .....#..#.\n",
      "##.#...#.. ..#....... .#.#...... .......##. ...#..#..# ##........ ......#... .......... ..#....... .#..##..#. ..#...#... ..##......\n",
      ".........# ##.#.##... ..#.....## #.#..#.#.. .........# #.....#..# #.#....#.. ....#.#### #...#....# #..#..#..# #....#...# #..#.....#\n",
      ".####..#.# ##....##.# #....##..# ###...#... ....#.#.#. .##..##.## ####.###.# ##.#...### #.##.###.# ###.#.##.# ###.#.#... .#.###.#..\n",
      "           \n",
      "\n"
     ]
    }
   ],
   "source": [
    "tiles = parse_input(input20)\n",
    "tile_matches = find_matches(tiles)\n",
    "tile_arrangement = arrange_tiles(tile_matches)\n",
    "tile_orientations = find_orientation(tile_arrangement, tile_matches)\n",
    "print_tile_array(tiles, tile_arrangement, tile_orientations)"
   ]
  },
  {
   "cell_type": "code",
   "execution_count": 321,
   "metadata": {},
   "outputs": [
    {
     "name": "stdout",
     "output_type": "stream",
     "text": [
      "#...##.#....###..####.#.#####.\n",
      "..#.#..#.####...#.#..#..######\n",
      ".###....#...#....#....#.......\n",
      "###.##.##..#.#.#..########....\n",
      ".###.#######...#.#######.#..#.\n",
      ".##.#....###.##.###..#...#.##.\n",
      "#...##########.#...##.#####.##\n",
      ".....#..###...##..#...#.###...\n",
      "#.####...###..#.......#.......\n",
      "#.##...##...##.#..#...#.###...\n",
      "#.##...##...##.#..#...#.###...\n",
      "##..#.##....#..###.###.##....#\n",
      "##.####....#.####.#...#.###..#\n",
      "####.#.#.....#.########.#..###\n",
      ".#.####......##..##..######.##\n",
      ".##..##.#.....#...###.#.#.#...\n",
      "....#..#.##.#.#.##.##.###.###.\n",
      "..#.#......#.##.#..##.###.##..\n",
      "####.#.....#..#.##...######...\n",
      "...#.#.#.####.##.#...##...####\n",
      "...#.#.#.####.##.#...##...####\n",
      "..#.#.###...##.##.###..#.##..#\n",
      "..####.#####.#...##..#.#..#.##\n",
      "#..#.#..#....#.#.#...####.###.\n",
      ".#..####.##..#.#.#.#####.###..\n",
      ".#####..#######...#..##....##.\n",
      "##.##..#....#...#....####...#.\n",
      "#.#.###....##..##....####.##.#\n",
      "#...###.....##...#.....#..####\n",
      "..#.#....###.#.#.......##.....\n",
      "\n",
      ".#.#..#.##...#.##..#####\n",
      "###....#.#....#..#......\n",
      "##.##.###.#.#..######...\n",
      "###.#####...#.#####.#..#\n",
      "##.#....#.##.####...#.##\n",
      "...########.#....#####.#\n",
      "....#..#...##..#.#.###..\n",
      ".####...#..#.....#......\n",
      "#..#.##..#..###.#.##....\n",
      "#.####..#.####.#.#.###..\n",
      "###.#.#...#.######.#..##\n",
      "#.####....##..########.#\n",
      "##..##.#...#...#.#.#.#..\n",
      "...#..#..#.#.##..###.###\n",
      ".#.#....#.##.#...###.##.\n",
      "###.#...#..#.##.######..\n",
      ".#.#.###.##.##.#..#.##..\n",
      ".####.###.#...###.#..#.#\n",
      "..#.#..#..#.#.#.####.###\n",
      "#..####...#.#.#.###.###.\n",
      "#####..#####...###....##\n",
      "#.##..#..#...#..####...#\n",
      ".#.###..##..##..####.##.\n",
      "...###...##...#...#..###\n",
      "\n"
     ]
    }
   ],
   "source": [
    "def stitch_tiles(tiles, positions, orientations, border=None):\n",
    "    def get_tile(tnm):\n",
    "        if border:\n",
    "            tile = tiles[tnm][border:-border, border:-border]\n",
    "        else:\n",
    "            tile = tiles[tnm]\n",
    "        return reorient_tile(tile, *orientations[tnm])\n",
    "    \n",
    "    tile_lsts = [[get_tile(positions[i, j]) for j in range(positions.shape[0])] for i in range(positions.shape[1])]\n",
    "    return np.block(tile_lsts)\n",
    "print(tile_to_map(stitch_tiles(test_tiles, test_arrangement, test_orientations)))\n",
    "test_stiched = stitch_tiles(test_tiles, test_arrangement, test_orientations, border=1)\n",
    "print(tile_to_map(test_stiched))"
   ]
  },
  {
   "cell_type": "code",
   "execution_count": 322,
   "metadata": {},
   "outputs": [
    {
     "name": "stdout",
     "output_type": "stream",
     "text": [
      ".....#.....#.#....#......#....#....#...#..###.....#.#..#.###..#.....#...#....#.......#.#......##\n",
      ".......#.....#..#.###..###..#.......###.#........#...#....#....#................#..##.##..#.....\n",
      "....#.....#..#.#.#.#.###.#..#....##.#.....#....#...#.##....................##.##.##..#..##......\n",
      "......#...........#.#....###...........####..#..............##.....#....#......#.........#......\n",
      "#......#..#...##....#....##..#.....#...##......#...#.#......#..#####.........#............#..#..\n",
      "...#....##...#..#...#...#.##..#..##.#.###.###..#..#...#........###........#.#...##...#...#..#.#.\n",
      "..........#..#.....#...#...##.........##.#.##.....##.#...##....###...##....#..#......#.....##.#.\n",
      "##...#.#...##......#.###.....#.#........##.#....#..#.#.......#..##.####.#.....##..........###..#\n",
      "..#.#.....#..##......#.#.#...###.......#.....##...###.....#.............#...#........##..#.###..\n",
      "............#....#....#.#.....#.##.##..#.#..........#.#.#..........#...##..##.#.#......#.......#\n",
      "#.....##.......#........#....#.....##...#.#....#.#.#..#..#..#....#......##.##..#.#...#.....###..\n",
      "#.#...#..#..#..#.#.#.#......#......##...#.........#..#.#....###.#..#.......###..#...#........#..\n",
      "..#....###......##..#..##.....#.....##...#...#...##..#..........###.##.....#.####...........##..\n",
      "..#.##.....#.....#.....#...#....#....####................###..#..##......###....#.##....##..#...\n",
      "...##.###.##..#.#.#...##.....#...###.........#..##.##...#.#....#..#........#....#.##.....#...##.\n",
      "..#...##.#.#.#..#....#..###........#.#.#.#.....##...#.........#........#.....#.....#.#.....#..#.\n",
      "......#.#...#.....................###...#.##.#..#.#...#...##.##..#..#.#.#...##.....##...#.#.#...\n",
      "...#..#....##..##.#...............###...##..#.#.###........#....##......##..##...#...#.......#..\n",
      "........##.#.#...#.#....#..#.......###...#...#..#.#....#...#....#.....#.#....#..#.#.....#.#.####\n",
      "#...#.#.....#.#..#.#.#.#...##..#..................##.....#..##...#..#....#.#.##..#..##....#.#.#.\n",
      "#.##....#.###....####.##...#.#.#.###.#..#..#..#..#...##.........#..#.#...#.#.##.#..#..##..#.###.\n",
      "..........##............#....#.#..#..#...#......#...#......#.#.#.#.......#...#.#..##.....#......\n",
      "#...#.##..#.#.......##.#..#.#.#...#.#...#.#.....#.###.....#....#.###...#.#..##..#...#....#......\n",
      "..#.#..#.#.#.#....##.....#..........#..#.##......#.#...........####.......#.#....#.###.......#.#\n",
      "..........##....###.....#.....#.....##....#.....#....#..#.##.#......#...###.###..#......#...##..\n",
      "..#.#.#.#.#.#....#..#.##..#...#.#...##.#....#..#.........##..####.....#.....#..#...###.....##...\n",
      "..#.#......#..###.###...#.#..#....#.......##.#.#.##.###.....#..##.......#...##.##..#...#......#.\n",
      "#.#....#...#..#..#.#...#.....##......#...#..#####...##..#..##.....#.#.#....###...###..###....#..\n",
      "..#..#....#.#.......###......#......##..##.....##.#..##..##.#.....#.......#.#......#####..#.#...\n",
      ".##..#...#.......##............#.........#..#....##.#.#......#......#..#...#....#..#.#..#......#\n",
      "..##..#..#..#....##.#..#..#..##...#.....#.#................#...#...#.........##.....#.#.#.#.....\n",
      "..##..#.....#.#....#..##.#......##......##.#..#.##.#...#.##............#...#..##....#.#...#.#.##\n",
      ".........#.#.##...#....#..#...#......#......#.#..#...##.#....#..#..................#.........#..\n",
      "...#...#.#..#.#.##.#....#....###..#..##..##..#..#.#.###....##.#..#....#.......#..#....##...#..#.\n",
      "...#..#...#...............##..#.......##.#....#..#.#.###..####.##...#............#..#..##.......\n",
      "#.#.#.....................#...##.....#...##.##........##.....#..#.#........#......##..##...#..#.\n",
      ".##......#......#.......#....#.#....##...##......#.......#....#....#...........##.##...#....#...\n",
      "..##.#......##.......#####...........#...........#.##..###..#....#.....###.##.....#.#.#.##.##...\n",
      "#..#...##..#....##.....#.#.###.#..#.#.........#..#....#.#.#.##....#...##...#.....##...#....##...\n",
      "....#......#...#.......##.....#..##......##......##..####...#.....##...#.#.............#.....#..\n",
      ".#.#..#.#........#.#..##.....##..##.###..#..#..##....#......#..##..#....#.....###.......##......\n",
      "..#.....#.#.................#..#....#...###..#.###.##.#.....##...#..#...........#......#....##..\n",
      "..#........##......#....#.......#.....#.#.#.....#..#....#..###........#....#.....#...#.#.#..##..\n",
      "...#...##..#....#....#.##.#...#...##.......#.#.#.##.##.....#..##.#......#...#.##..#.#...#.###..#\n",
      ".........#.#.......#...#..##...##..........#....###...#.#.#..#....###..#..#..........##.....#...\n",
      "....#...#......#........#.....#..........##...##..#.##....#.#......#...#..##.#.#.......#.....#..\n",
      "...#..###......#........#.#...#.......#..###...###................#....##..#.#....#.#...##......\n",
      "#.#....#.#..##....#....#.....#.###...#...#.##.###.##...#...#.....#....#...##...#.......##..#....\n",
      ".#.....#......###....#..#.........#...#....#....#...#....#..#.......##.###....#......#.#..##.#.#\n",
      ".#...#..#..#...........#...#....#....#....###...##..#...#..#.##......#..##..#.#.......#.#...#...\n",
      "....##.......#....#...#.....#..#...............##..#.#.......##........#..#..#.............###..\n",
      "##....###....###........#..#.###.#..................#.##..#...##...###.##....#..#......###..##..\n",
      "#.#.#........#.#..##....##......#...#.#..##.....##..#....##.#####.#..#.#####.#...#.#....#......#\n",
      ".##..........#.......#.#.#......#....#.#..##....###........#.......##.#..........#...#.##.......\n",
      "#.#......##...##...###.........#.....#.###...#..#...#..#............#.#.....##.###.....#.....#..\n",
      "#.#...##............#.##......##....#....#....#..#..#..........#....#...#....##..#.......#..#..#\n",
      ".##...#.#.......####...##.##......###.##.#.#.....#..#.##.....##.##..#.##...#....#.##...###...#..\n",
      "..#........##.......#..........##.....##.#.#.......#.....#.#..#..#.....#.....#.#..##..##.#.#....\n",
      ".#.#......##..#..##.#..#....#.......##.##........#.........###.#...#..#.##........#.#......#....\n",
      "..#..##........#..#.#....#...#.......#..#.##...###.#....#........#.....#..........#....#.#......\n",
      ".##......#.#..#.##....#...#....#...##......#....#...#..#......#.#.....#..#.#.....#..#..##.#.....\n",
      "#..#.##........###.......##.#......##........#....##....#...#..#....#..#......#.##..#......##...\n",
      "#.##...##.#..#.....#......#.#....#......##.....#.......#....#.##...#.........##.#.#......#...#..\n",
      "#.#...###................#####.#..#....#...#.......##.#....#.##...##........###.........#.#..#.#\n",
      ".#.###.....##....#...#.......#.......#.#....................#..#....#.##...........#...#........\n",
      "..#..##.#.###.....#..................#..#..#.....##.............#...#....#.#......#.......#.....\n",
      "#....#..#...#....##.#.#....##.....##..##.#........#.....#.##.....#.##.#......##..#...##......##.\n",
      "#.###...#....#.######.##..#.#.........#.......#.##..#...#...#..#.##.###.#.....#..#....#.##....#.\n",
      "#.#.##..#...#.#.#....#....#.........#..##...#...##..##....#...#.#...#.##..##......#...#.....#...\n",
      "#.#.#.#..##..##.....#......#.#.##.#.#..#...##..#....#.......#.##.#..##......#.#.##.........###..\n",
      "...##.#......##.....#...##...#....#.####.#...###.......##..........###...#....#.##.#.#......#..#\n",
      "...#.#...#.###.........#...............###.#...#.###.........###.....#.......#....##.#.......#..\n",
      ".....#......#.....#.....##.#.#.....#.#......#.#.#....#....#...##.#....#..........#.##.#...#.#...\n",
      "...#.#..#....#.#..........#.#.#.#.#.....#.....####...#.#..##.......#.........#...#......#.....##\n",
      ".##.##.......#.....#..#..##..#..#.#...###....#...###...#....###.#.....#.#.#####...#......##..#..\n",
      "..#..#.....#..#..###..###..#...#..##.#.#.##..#..#....#.#.#...##.#..#.####..##....#.###...##.#...\n",
      ".#.#..#......###...#.#....#.............##.....#..............###....#...####.#.##....#.#...#.#.\n",
      ".#.....#.##.#....#..#......###..#..#....#.....##...........#..###...##.#...#.....#........#.###.\n",
      "....##..#..##......##....#.#...#...#...#.##.....#....#...........##...#.....#.....#........#....\n",
      "#.#...#.#....#......#.##..#.....#.#.....#.##.......##.##....###..#...#.#..#............#...#...#\n",
      "....#..#....#..#########..#.......#.#....#.......#...#.........#.#.##....#.##.##.#......#..#.##.\n",
      "#...#...#...#......#..#..#..#..#....#....#.#....#...###.#.#...#.#.#...#.#.#.#..#..#...#.....#.##\n",
      ".##..##..#...#...#.#####...............#.#...#.#..##...##..#.##...#..#.#..##....##..........#...\n",
      "...#......#.##...##.##..........###............#.....#.#.##....#...#.#.....#...#.#.###.......##.\n",
      "......#...#.#.#.....###.#.#.....#..#..#...#...###...#......##.....##..#.....#.#.#.##.#.......#.#\n",
      "##.#.##...#.........#.#........#......##.#....#..#......#....#...#..........##...#.#............\n",
      ".#..#..###....#....##........#...#.#.#..##.##....##..#...#..#.##..#.....#.......#........#..##.#\n",
      "#......##....###...#........#.#........#.##.#...#.....###.#...#...###.#...###..##.#.#.#.....#.#.\n",
      "..##.....#.#...#...#....#.#...#..#.#..........###..#####......#.####.#...####...###..##.#...####\n",
      "..#.......#.#.....#.#....#..#........#..#....#......###.......##....#...#..##.#..#.###..##..##..\n",
      ".#....#.......##.....#.......#..#...#...#....#....##......###......#...#.#.##...#.#......#......\n",
      "#.##...#........#..#.#..#.#........#..##..........#...#...#...#...........#..#........#.#.....#.\n",
      "#.........#.........##.###...#.##.....##..#.#.#.........#..#...##..#.##.........#.....##........\n",
      "......#.#......##.##..#..#.##.........##.#.#....#.............##..##.#.#....#.....#...#.....#..#\n",
      "#.#...#..#......#.#...........##..#..#..#............#...........#......#..##..#.#...#...##.....\n",
      "........#.#.##...#.....#.#..#.#..............#...#....#....#.###...#......#..#......#.....#.....\n",
      "\n"
     ]
    },
    {
     "data": {
      "text/plain": [
       "(96, 96)"
      ]
     },
     "execution_count": 322,
     "metadata": {},
     "output_type": "execute_result"
    }
   ],
   "source": [
    "stiched_image = stitch_tiles(tiles, tile_arrangement, tile_orientations, border=1)\n",
    "print(tile_to_map(stiched_image))\n",
    "stiched_image.shape"
   ]
  },
  {
   "cell_type": "code",
   "execution_count": 320,
   "metadata": {},
   "outputs": [
    {
     "data": {
      "text/plain": [
       "(3, 20)"
      ]
     },
     "execution_count": 320,
     "metadata": {},
     "output_type": "execute_result"
    }
   ],
   "source": [
    "monster_template = \"\"\"                  # \n",
    "#    ##    ##    ###\n",
    " #  #  #  #  #  #   \"\"\"\n",
    "monster_arr = np.array([[c=='#' for c in row] for row in monster_template.split('\\n')])\n",
    "monster_arr.shape"
   ]
  },
  {
   "cell_type": "code",
   "execution_count": 333,
   "metadata": {},
   "outputs": [
    {
     "name": "stdout",
     "output_type": "stream",
     "text": [
      ".####...#####..#...###..\n",
      "#####..#..#.#.####..#.#.\n",
      ".#.#...#.###...#.##.##..\n",
      "#.#.##.###.#.##.##.#####\n",
      "..##.###.####..#.####.##\n",
      "...#.#..##.##...#..#..##\n",
      "#.##.#..#.#..#..##.#.#..\n",
      ".###.##.....#...###.#...\n",
      "#.####.#.#....##.#..#.#.\n",
      "##...#..#....#..#...####\n",
      "..#.##...###..#.#####..#\n",
      "....#.##.#.#####....#...\n",
      "..##.##.###.....#.##..#.\n",
      "#...#...###..####....##.\n",
      ".#.##...#.##.#.#.###...#\n",
      "#.###.#..####...##..#...\n",
      "#.###...#.##...#.######.\n",
      ".###.###.#######..#####.\n",
      "..##.#..#..#.#######.###\n",
      "#.#..##.########..#..##.\n",
      "#.#####..#.#...##..#....\n",
      "#....##..#.#########..##\n",
      "#...#.....#..##...###.##\n",
      "#..###....##.#...##.##.#\n",
      "\n"
     ]
    }
   ],
   "source": [
    "print(tile_to_map(reorient_tile(test_stiched, 1, 1)))"
   ]
  },
  {
   "cell_type": "markdown",
   "metadata": {},
   "source": [
    "That's the correct orientation to find 2 monsters, so lets check that we do:"
   ]
  },
  {
   "cell_type": "code",
   "execution_count": 337,
   "metadata": {},
   "outputs": [],
   "source": [
    "assert np.sum(ndimage.correlate(test_stiched.astype(int), monster_arr, mode='constant').ravel() == np.sum(monster_arr)) == 0\n",
    "assert np.sum(ndimage.correlate(reorient_tile(test_stiched, 1, 1).astype(int), monster_arr, mode='constant').ravel() == np.sum(monster_arr)) == 2"
   ]
  },
  {
   "cell_type": "markdown",
   "metadata": {},
   "source": [
    "Infer the non-monster pixels from the counts remaining"
   ]
  },
  {
   "cell_type": "code",
   "execution_count": 341,
   "metadata": {},
   "outputs": [],
   "source": [
    "assert (np.sum(test_stiched) - np.sum(monster_arr)*2) == 273"
   ]
  },
  {
   "cell_type": "code",
   "execution_count": 350,
   "metadata": {},
   "outputs": [
    {
     "name": "stdout",
     "output_type": "stream",
     "text": [
      "n_monsters in (0, 0) 0\n",
      "n_monsters in (1, 0) 0\n",
      "n_monsters in (2, 0) 0\n",
      "n_monsters in (3, 0) 33\n",
      "n_monsters in (0, 1) 0\n",
      "n_monsters in (1, 1) 0\n",
      "n_monsters in (2, 1) 0\n",
      "n_monsters in (3, 1) 0\n"
     ]
    }
   ],
   "source": [
    "good_orients = []\n",
    "for reorients in transformation_edge_map:\n",
    "    tile = reorient_tile(full_image, *reorients).astype(int)\n",
    "    monsters = ndimage.correlate(tile, monster_arr, mode='constant') == np.sum(monster_arr)\n",
    "    nmonsters = np.sum(monsters)\n",
    "    if nmonsters > 0:\n",
    "        good_orients.append((nmonsters, reorients, tile))\n",
    "    print('n_monsters in', reorients, nmonsters)\n",
    "assert len(good_orients) == 1"
   ]
  },
  {
   "cell_type": "code",
   "execution_count": 351,
   "metadata": {},
   "outputs": [
    {
     "data": {
      "text/plain": [
       "2133"
      ]
     },
     "execution_count": 351,
     "metadata": {},
     "output_type": "execute_result"
    }
   ],
   "source": [
    "np.sum(full_image) - np.sum(monster_arr)*good_orients[0][0]"
   ]
  },
  {
   "cell_type": "markdown",
   "metadata": {},
   "source": [
    "# Day 21"
   ]
  },
  {
   "cell_type": "code",
   "execution_count": 6,
   "metadata": {},
   "outputs": [],
   "source": [
    "with open('input21') as f:\n",
    "    input21 = f.read().strip()"
   ]
  },
  {
   "cell_type": "markdown",
   "metadata": {},
   "source": [
    "## Part 1"
   ]
  },
  {
   "cell_type": "code",
   "execution_count": 116,
   "metadata": {},
   "outputs": [
    {
     "data": {
      "text/plain": [
       "[(['mxmxvkd', 'kfcds', 'sqjhc', 'nhms'], ['dairy', 'fish']),\n",
       " (['trh', 'fvjkl', 'sbzzf', 'mxmxvkd'], ['dairy']),\n",
       " (['sqjhc', 'fvjkl'], ['soy']),\n",
       " (['sqjhc', 'mxmxvkd', 'sbzzf'], ['fish'])]"
      ]
     },
     "execution_count": 116,
     "metadata": {},
     "output_type": "execute_result"
    }
   ],
   "source": [
    "test_input = \"\"\"mxmxvkd kfcds sqjhc nhms (contains dairy, fish)\n",
    "trh fvjkl sbzzf mxmxvkd (contains dairy)\n",
    "sqjhc fvjkl (contains soy)\n",
    "sqjhc mxmxvkd sbzzf (contains fish)\"\"\"\n",
    "def parse_input(s):\n",
    "    inall_pairs = []\n",
    "    for line in s.strip().split('\\n'):\n",
    "        ingredients, allergens = line.split(' (contains ')\n",
    "        ingredients = ingredients.split()\n",
    "        allergens = allergens.replace(')', '').split(', ')\n",
    "        inall_pairs.append((ingredients, allergens))\n",
    "    return inall_pairs\n",
    "test_inalls = parse_input(test_input)\n",
    "test_inalls"
   ]
  },
  {
   "cell_type": "code",
   "execution_count": 77,
   "metadata": {},
   "outputs": [],
   "source": [
    "def get_non_allergens(inalls):\n",
    "    allergen_to_ingredient_map = {}\n",
    "    for ings, aller in inalls:\n",
    "        for a in aller:\n",
    "            allergen_to_ingredient_map.setdefault(a, []).append(ings)\n",
    "\n",
    "    all_ingredients = set()\n",
    "    possible_allergen_sets = set()\n",
    "    for allergen, inglists in allergen_to_ingredient_map.items():\n",
    "        s1 = set(inglists[0])\n",
    "        possible_allergen_sets = possible_allergen_sets.union(s1.intersection(*inglists))\n",
    "        all_ingredients = all_ingredients.union(*inglists)\n",
    "    return all_ingredients.difference(possible_allergen_sets)\n",
    "\n",
    "non_allergens = get_non_allergens(test_inalls)\n",
    "\n",
    "n = 0\n",
    "for nall in non_allergens:\n",
    "    for ings, _ in test_inalls:\n",
    "        if nall in ings:\n",
    "            n+= 1\n",
    "assert n == 5"
   ]
  },
  {
   "cell_type": "code",
   "execution_count": 79,
   "metadata": {},
   "outputs": [
    {
     "data": {
      "text/plain": [
       "2724"
      ]
     },
     "execution_count": 79,
     "metadata": {},
     "output_type": "execute_result"
    }
   ],
   "source": [
    "inalls = parse_input(input21)\n",
    "non_allergens = get_non_allergens(inalls)\n",
    "\n",
    "n = 0\n",
    "for nall in non_allergens:\n",
    "    for ings, _ in inalls:\n",
    "        if nall in ings:\n",
    "            n+= 1\n",
    "n"
   ]
  },
  {
   "cell_type": "markdown",
   "metadata": {},
   "source": [
    "## Part 2 "
   ]
  },
  {
   "cell_type": "code",
   "execution_count": 80,
   "metadata": {},
   "outputs": [
    {
     "data": {
      "text/plain": [
       "[(['mxmxvkd', 'sqjhc'], ['dairy', 'fish']),\n",
       " (['fvjkl', 'mxmxvkd'], ['dairy']),\n",
       " (['sqjhc', 'fvjkl'], ['soy']),\n",
       " (['sqjhc', 'mxmxvkd'], ['fish'])]"
      ]
     },
     "execution_count": 80,
     "metadata": {},
     "output_type": "execute_result"
    }
   ],
   "source": [
    "def only_possible_allergens(inalls):\n",
    "    non_allergens = get_non_allergens(inalls)\n",
    "    \n",
    "    only_allergens = []\n",
    "    for ings, aller in inalls:\n",
    "        only_allergens.append(([ing for ing in ings if ing not in non_allergens], aller))\n",
    "    return only_allergens\n",
    "only_possible_allergens(test_inalls)"
   ]
  },
  {
   "cell_type": "code",
   "execution_count": 106,
   "metadata": {},
   "outputs": [
    {
     "data": {
      "text/plain": [
       "{'dairy': 'mxmxvkd', 'fish': 'sqjhc', 'soy': 'fvjkl'}"
      ]
     },
     "execution_count": 106,
     "metadata": {},
     "output_type": "execute_result"
    }
   ],
   "source": [
    "def allergen_to_ingredients(inalls):\n",
    "    sub_inalls = only_possible_allergens(inalls)\n",
    "    allergen_to_ingredient_map = {}\n",
    "    all_allergens = set()\n",
    "    for ings, aller in sub_inalls:\n",
    "        for a in aller:\n",
    "            allergen_to_ingredient_map.setdefault(a, []).append(ings)\n",
    "        all_allergens = all_allergens.union(aller)\n",
    "            \n",
    "    allergen_to_ingredient = {}\n",
    "    while len(allergen_to_ingredient) < len(all_allergens):\n",
    "        for a, ings in allergen_to_ingredient_map.items():\n",
    "            overlap_set = set(ings[0]).intersection(*ings)\n",
    "            if len(overlap_set) == 1:\n",
    "                allergen_to_ingredient[a] = ing = overlap_set.pop()\n",
    "                for a, inglist in allergen_to_ingredient_map.items():\n",
    "                    for ings in inglist:\n",
    "                        if ing in ings:\n",
    "                            ings.remove(ing)\n",
    "                break\n",
    "        else:\n",
    "            raise ValueError('Unsolvable!')\n",
    "    return allergen_to_ingredient\n",
    "            \n",
    "allergen_to_ingredients(test_inalls)"
   ]
  },
  {
   "cell_type": "code",
   "execution_count": 108,
   "metadata": {},
   "outputs": [],
   "source": [
    "a2i = allergen_to_ingredients(test_inalls)\n",
    "assert ','.join([a2i[a] for a in sorted(a2i)]) == 'mxmxvkd,sqjhc,fvjkl'"
   ]
  },
  {
   "cell_type": "code",
   "execution_count": 118,
   "metadata": {},
   "outputs": [
    {
     "data": {
      "text/plain": [
       "'xlxknk,cskbmx,cjdmk,bmhn,jrmr,tzxcmr,fmgxh,fxzh'"
      ]
     },
     "execution_count": 118,
     "metadata": {},
     "output_type": "execute_result"
    }
   ],
   "source": [
    "a2i = allergen_to_ingredients(parse_input(input21))\n",
    "','.join([a2i[a] for a in sorted(a2i)]) "
   ]
  },
  {
   "cell_type": "markdown",
   "metadata": {},
   "source": [
    "# Day 22"
   ]
  },
  {
   "cell_type": "code",
   "execution_count": 3,
   "metadata": {},
   "outputs": [],
   "source": [
    "with open('input22') as f:\n",
    "    input22 = f.read().strip()"
   ]
  },
  {
   "cell_type": "markdown",
   "metadata": {},
   "source": [
    "## Part 1"
   ]
  },
  {
   "cell_type": "code",
   "execution_count": 8,
   "metadata": {},
   "outputs": [
    {
     "data": {
      "text/plain": [
       "{1: [9, 2, 6, 3, 1], 2: [5, 8, 4, 7, 10]}"
      ]
     },
     "execution_count": 8,
     "metadata": {},
     "output_type": "execute_result"
    }
   ],
   "source": [
    "test_input=\"\"\"Player 1:\n",
    "9\n",
    "2\n",
    "6\n",
    "3\n",
    "1\n",
    "\n",
    "Player 2:\n",
    "5\n",
    "8\n",
    "4\n",
    "7\n",
    "10\"\"\"\n",
    "\n",
    "def parse_input(s):\n",
    "    player_decks = {}\n",
    "    player = None\n",
    "    for l in s.split('\\n'):\n",
    "        if l.strip() == '':\n",
    "            pass\n",
    "        elif l.startswith('Player'):\n",
    "            player = int(l.replace('Player ', '').replace(':', '').strip())\n",
    "        elif player is None:\n",
    "            raise ValueError('invalid start of decks')\n",
    "        else:\n",
    "            player_decks.setdefault(player, []).append(int(l.strip()))\n",
    "    return player_decks\n",
    "parse_input(test_input)"
   ]
  },
  {
   "cell_type": "code",
   "execution_count": 16,
   "metadata": {},
   "outputs": [],
   "source": [
    "def play_round(decks):\n",
    "    card1 = decks[1].pop(0)\n",
    "    card2 = decks[2].pop(0)\n",
    "    if card1 > card2:\n",
    "        decks[1].append(card1)\n",
    "        decks[1].append(card2)\n",
    "        return 1\n",
    "    elif card2 > card1:\n",
    "        decks[2].append(card2)\n",
    "        decks[2].append(card1)\n",
    "        return 2\n",
    "    else:\n",
    "        raise NotImplementedError('ties are currently ambiguous')\n",
    "        \n",
    "test_decks = parse_input(test_input)\n",
    "while all([len(deck) > 0 for deck in test_decks.values()]):\n",
    "    winner = play_round(test_decks)\n",
    "\n",
    "\n",
    "winning_hand = np.array(test_decks[winner])\n",
    "assert np.sum(winning_hand*(np.arange(len(winning_hand))[::-1]+1)) == 306"
   ]
  },
  {
   "cell_type": "code",
   "execution_count": 50,
   "metadata": {},
   "outputs": [
    {
     "data": {
      "text/plain": [
       "(1, 32162)"
      ]
     },
     "execution_count": 50,
     "metadata": {},
     "output_type": "execute_result"
    }
   ],
   "source": [
    "decks = parse_input(input22)\n",
    "while all([len(deck) > 0 for deck in decks.values()]):\n",
    "    winner = play_round(decks)\n",
    "\n",
    "\n",
    "winning_hand = np.array(decks[winner])\n",
    "winner, np.sum(winning_hand*(np.arange(len(winning_hand))[::-1]+1))"
   ]
  },
  {
   "cell_type": "markdown",
   "metadata": {},
   "source": [
    "## Part 2 "
   ]
  },
  {
   "cell_type": "code",
   "execution_count": 31,
   "metadata": {},
   "outputs": [],
   "source": [
    "recursive_test = \"\"\"\n",
    "Player 1:\n",
    "43\n",
    "19\n",
    "\n",
    "Player 2:\n",
    "2\n",
    "29\n",
    "14\"\"\""
   ]
  },
  {
   "cell_type": "code",
   "execution_count": 61,
   "metadata": {},
   "outputs": [],
   "source": [
    "def encode_game(decks):\n",
    "    s1 = ','.join([str(card) for card in decks[1]])\n",
    "    s2 = ','.join([str(card) for card in decks[2]])\n",
    "    return s1 + '|' + s2\n",
    "\n",
    "def recursive_game(decks):\n",
    "    past_games_encoded = set()\n",
    "    while all([len(deck) > 0 for deck in decks.values()]):\n",
    "        enc = encode_game(decks)\n",
    "        if enc in past_games_encoded:\n",
    "            return -1, decks\n",
    "        else:\n",
    "            past_games_encoded.add(enc)\n",
    "            \n",
    "        if decks[1][0] < len(decks[1]) and decks[2][0] < len(decks[2]):\n",
    "            # recurse\n",
    "            card1 = decks[1].pop(0)\n",
    "            card2 = decks[2].pop(0)\n",
    "            winner, recursive_hand = recursive_game({1: decks[1][:card1], 2: decks[2][:card2]})\n",
    "            if winner == 1:\n",
    "                decks[1].append(card1)\n",
    "                decks[1].append(card2)\n",
    "            elif winner == 2:\n",
    "                decks[2].append(card2)\n",
    "                decks[2].append(card1)\n",
    "            elif winner == -1:\n",
    "                # winner is 1 for recursion purposes?\n",
    "                decks[1].append(card1)\n",
    "                decks[1].append(card2)\n",
    "            else:\n",
    "                raise ValueError(f'invalid winner {winner}')\n",
    "\n",
    "        else:\n",
    "            winner = play_round(decks)\n",
    "            \n",
    "    \n",
    "    return winner, decks[winner]\n",
    "\n",
    "assert recursive_game(parse_input(recursive_test))[0] == -1\n",
    "winner, hand = recursive_game(parse_input(test_input))\n",
    "assert winner == 2\n",
    "assert np.sum(hand*(np.arange(len(hand))[::-1]+1)) == 291"
   ]
  },
  {
   "cell_type": "code",
   "execution_count": 62,
   "metadata": {},
   "outputs": [
    {
     "data": {
      "text/plain": [
       "(1, 32534)"
      ]
     },
     "execution_count": 62,
     "metadata": {},
     "output_type": "execute_result"
    }
   ],
   "source": [
    "winner, hand = recursive_game(parse_input(input22))\n",
    "if winner == -1:\n",
    "    hand = hand[1]\n",
    "winner, np.sum(hand*(np.arange(len(hand))[::-1]+1))"
   ]
  },
  {
   "cell_type": "markdown",
   "metadata": {},
   "source": [
    "# Day 23"
   ]
  },
  {
   "cell_type": "code",
   "execution_count": 7,
   "metadata": {},
   "outputs": [],
   "source": [
    "with open('input23') as f:\n",
    "    input23 = [int(c) for c in f.read().strip()]"
   ]
  },
  {
   "cell_type": "markdown",
   "metadata": {},
   "source": [
    "## Part 1"
   ]
  },
  {
   "cell_type": "code",
   "execution_count": 372,
   "metadata": {},
   "outputs": [],
   "source": [
    "test_input = [int(c) for c in '389125467']"
   ]
  },
  {
   "cell_type": "code",
   "execution_count": 88,
   "metadata": {},
   "outputs": [
    {
     "name": "stdout",
     "output_type": "stream",
     "text": [
      "[3, 8, 9, 1, 2, 5, 4, 6, 7] 0 2 [8, 9, 1]\n",
      "[3, 2, 8, 9, 1, 5, 4, 6, 7] 1 7 [8, 9, 1]\n",
      "[3, 2, 5, 4, 6, 7, 8, 9, 1] 2 3 [4, 6, 7]\n",
      "[3, 4, 6, 7, 2, 5, 8, 9, 1] 6 7 [9, 1, 3]\n",
      "[4, 6, 7, 9, 1, 3, 2, 5, 8] 0 3 [6, 7, 9]\n",
      "[4, 1, 3, 6, 7, 9, 2, 5, 8] 1 9 [3, 6, 7]\n",
      "[4, 1, 9, 3, 6, 7, 2, 5, 8] 2 8 [3, 6, 7]\n",
      "[4, 1, 9, 2, 5, 8, 3, 6, 7] 3 1 [5, 8, 3]\n",
      "[4, 1, 5, 8, 3, 9, 2, 6, 7] 7 5 [7, 4, 1]\n",
      "[5, 7, 4, 1, 8, 3, 9, 2, 6] 0 3 [7, 4, 1]\n"
     ]
    }
   ],
   "source": [
    "def do_moves(icups, moves=100, verbose=False, progress=None):\n",
    "    cups = icups.copy()\n",
    "    \n",
    "    mincups = min(cups)\n",
    "    maxcups = max(cups)\n",
    "    \n",
    "    if progress is None:\n",
    "        progress = lambda x:x\n",
    "    \n",
    "    idx = 0\n",
    "    for i in progress(range(moves)):\n",
    "        current_cup = cups[idx]\n",
    "        \n",
    "        picked_up = []\n",
    "        for j in range(3):\n",
    "            picked_up.append(cups[(idx+j+1) % len(cups)])\n",
    "            \n",
    "        dest = current_cup - 1\n",
    "        if dest < mincups:\n",
    "            dest = maxcups\n",
    "        while dest in picked_up:\n",
    "            dest -= 1\n",
    "            if dest < mincups:\n",
    "                dest = maxcups\n",
    "        if verbose:\n",
    "            print(cups, idx, dest, picked_up)\n",
    "                \n",
    "        for pcup in picked_up:\n",
    "            cups.remove(pcup)\n",
    "        idx_dest = cups.index(dest)\n",
    "        for pcup in reversed(picked_up):\n",
    "            cups.insert(idx_dest+1,  pcup)\n",
    "        idx = (cups.index(current_cup) + 1) % len(cups)\n",
    "            \n",
    "    return cups\n",
    "\n",
    "final_cups = do_moves(test_input, 10, verbose=True)"
   ]
  },
  {
   "cell_type": "code",
   "execution_count": 64,
   "metadata": {},
   "outputs": [],
   "source": [
    "idx1 = final_cups.index(1)\n",
    "assert ''.join([str(final_cups[(idx1 + i) % len(final_cups)]) for i in range(1, len(final_cups))]) == '92658374'"
   ]
  },
  {
   "cell_type": "code",
   "execution_count": 65,
   "metadata": {},
   "outputs": [],
   "source": [
    "final_cups = do_moves(test_input, 100)\n",
    "\n",
    "idx1 = final_cups.index(1)\n",
    "assert ''.join([str(final_cups[(idx1 + i) % len(final_cups)]) for i in range(1, len(final_cups))]) == '67384529'"
   ]
  },
  {
   "cell_type": "code",
   "execution_count": 66,
   "metadata": {},
   "outputs": [
    {
     "data": {
      "text/plain": [
       "'96342875'"
      ]
     },
     "execution_count": 66,
     "metadata": {},
     "output_type": "execute_result"
    }
   ],
   "source": [
    "final_cups = do_moves(input23, 100)\n",
    "\n",
    "idx1 = final_cups.index(1)\n",
    "''.join([str(final_cups[(idx1 + i) % len(final_cups)]) for i in range(1, len(final_cups))])"
   ]
  },
  {
   "cell_type": "markdown",
   "metadata": {},
   "source": [
    "## Part 2 "
   ]
  },
  {
   "cell_type": "code",
   "execution_count": 79,
   "metadata": {},
   "outputs": [],
   "source": [
    "extended_input23 = input23.copy()\n",
    "extended_input23.extend(range(len(input23)+1, 1000001))\n",
    "assert len(np.unique(extended_input23)) == 1e6"
   ]
  },
  {
   "cell_type": "code",
   "execution_count": 83,
   "metadata": {},
   "outputs": [
    {
     "name": "stdout",
     "output_type": "stream",
     "text": [
      "CPU times: user 1.09 s, sys: 0 ns, total: 1.09 s\n",
      "Wall time: 1.09 s\n"
     ]
    }
   ],
   "source": [
    "%time final_cups = do_moves(extended_input23, 100)"
   ]
  },
  {
   "cell_type": "code",
   "execution_count": 87,
   "metadata": {},
   "outputs": [
    {
     "data": {
      "text/plain": [
       "166.66666666666666"
      ]
     },
     "execution_count": 87,
     "metadata": {},
     "output_type": "execute_result"
    }
   ],
   "source": [
    "minutes_estimate = 1e6/100/60\n",
    "minutes_estimate"
   ]
  },
  {
   "cell_type": "markdown",
   "metadata": {},
   "source": [
    "Eh, I can let it run for a few hours."
   ]
  },
  {
   "cell_type": "code",
   "execution_count": 110,
   "metadata": {},
   "outputs": [
    {
     "data": {
      "application/vnd.jupyter.widget-view+json": {
       "model_id": "ad26b936701e4ccdaa3411ec17cddcfb",
       "version_major": 2,
       "version_minor": 0
      },
      "text/plain": [
       "HBox(children=(HTML(value=''), FloatProgress(value=0.0, max=1000000.0), HTML(value='')))"
      ]
     },
     "metadata": {},
     "output_type": "display_data"
    },
    {
     "name": "stdout",
     "output_type": "stream",
     "text": [
      "\n"
     ]
    },
    {
     "data": {
      "text/plain": [
       "70"
      ]
     },
     "execution_count": 110,
     "metadata": {},
     "output_type": "execute_result"
    }
   ],
   "source": [
    "from tqdm.notebook import tqdm\n",
    "\n",
    "extended_input23 = input23.copy()\n",
    "extended_input23.extend(range(len(input23)+1, 1000001))\n",
    "\n",
    "final_cups = do_moves(extended_input23, 1000000, progress=tqdm)\n",
    "\n",
    "idx1 = final_cups.index(1)\n",
    "cup2, cup3 = final_cups[idx1+1:idx1+3]\n",
    "cup2 * cup3"
   ]
  },
  {
   "cell_type": "markdown",
   "metadata": {},
   "source": [
    "Oops, misread... it's 10 million. Need to profile what's slow..."
   ]
  },
  {
   "cell_type": "code",
   "execution_count": 382,
   "metadata": {},
   "outputs": [
    {
     "name": "stdout",
     "output_type": "stream",
     "text": [
      "The line_profiler extension is already loaded. To reload it, use:\n",
      "  %reload_ext line_profiler\n"
     ]
    }
   ],
   "source": [
    "%load_ext line_profiler\n",
    "\n",
    "lprof = %lprun -r -f do_moves do_moves(extended_input23, 100)"
   ]
  },
  {
   "cell_type": "markdown",
   "metadata": {},
   "source": [
    "~80% of the time is in cups.index(dest) and ~12% is in cups.remove ... suggests numpy might do better"
   ]
  },
  {
   "cell_type": "code",
   "execution_count": 467,
   "metadata": {
    "scrolled": false
   },
   "outputs": [
    {
     "name": "stdout",
     "output_type": "stream",
     "text": [
      "CPU times: user 1.08 s, sys: 0 ns, total: 1.08 s\n",
      "Wall time: 1.07 s\n",
      "CPU times: user 375 ms, sys: 0 ns, total: 375 ms\n",
      "Wall time: 374 ms\n",
      "[3, 8, 9, 1, 2, 5, 4, 6, 7] 0 2 [8, 9, 1]\n",
      "[3, 2, 8, 9, 1, 5, 4, 6, 7] 1 7 [8, 9, 1]\n",
      "[3, 2, 5, 4, 6, 7, 8, 9, 1] 2 3 [4, 6, 7]\n",
      "[3, 4, 6, 7, 2, 5, 8, 9, 1] 6 7 [9, 1, 3]\n",
      "[4, 6, 7, 9, 1, 3, 2, 5, 8] 0 3 [6, 7, 9]\n",
      "[4, 1, 3, 6, 7, 9, 2, 5, 8] 1 9 [3, 6, 7]\n",
      "[4, 1, 9, 3, 6, 7, 2, 5, 8] 2 8 [3, 6, 7]\n",
      "[4, 1, 9, 2, 5, 8, 3, 6, 7] 3 1 [5, 8, 3]\n",
      "[4, 1, 5, 8, 3, 9, 2, 6, 7] 7 5 [7, 4, 1]\n",
      "[5, 7, 4, 1, 8, 3, 9, 2, 6] 0 3 [7, 4, 1]\n",
      "[3 8 9 1 2 5 4 6 7] 0 2 [8 9 1]\n",
      "[3 2 8 9 1 5 4 6 7] 1 7 [8 9 1]\n",
      "[3 2 5 4 6 7 8 9 1] 2 3 [4 6 7]\n",
      "[7 2 5 8 9 1 3 4 6] 3 7 [9 1 3]\n",
      "[3 2 5 8 4 6 7 9 1] 4 3 [6 7 9]\n",
      "[9 2 5 8 4 1 3 6 7] 5 9 [3 6 7]\n",
      "[9 3 6 7 2 5 8 4 1] 0 8 [3 6 7]\n",
      "[9 2 5 8 3 6 7 4 1] 1 1 [5 8 3]\n",
      "[9 2 6 7 4 1 5 8 3] 2 5 [7 4 1]\n",
      "[9 2 6 5 7 4 1 8 3] 3 3 [7 4 1]\n"
     ]
    },
    {
     "data": {
      "text/plain": [
       "array([9, 2, 6, 5, 8, 3, 7, 4, 1])"
      ]
     },
     "execution_count": 467,
     "metadata": {},
     "output_type": "execute_result"
    }
   ],
   "source": [
    "def do_moves_faster(icups, moves=100, verbose=False, progress=None):\n",
    "    cups = np.array(icups, copy=True)\n",
    "    \n",
    "    mincups = np.min(cups)\n",
    "    maxcups = np.max(cups)\n",
    "    \n",
    "    if progress is None:\n",
    "        progress = lambda x:x\n",
    "    \n",
    "    current_idx = 0\n",
    "    for i in progress(range(moves)):\n",
    "        try:\n",
    "            if current_idx >= (len(cups)-3):\n",
    "                cups = np.roll(cups, -3)\n",
    "                current_idx -= 3\n",
    "            current_cup = cups[current_idx]\n",
    "            picked_up = cups[current_idx+1:current_idx+4]\n",
    "            head = cups[:current_idx+1]\n",
    "            tail = cups[current_idx+4:]\n",
    "\n",
    "            dest = current_cup - 1\n",
    "            if dest < mincups:\n",
    "                dest = maxcups\n",
    "            while dest in picked_up:\n",
    "                dest -= 1\n",
    "                if dest < mincups:\n",
    "                    dest = maxcups\n",
    "            if verbose:\n",
    "                print(cups, current_idx, dest, picked_up)\n",
    "\n",
    "            spliced = np.concatenate((head, tail))\n",
    "\n",
    "            idx_dest = np.where(dest==spliced)[0][0] +1\n",
    "        except:\n",
    "            fn = 'checkfile_day23'\n",
    "            print(f'Writing out check point file {fn}...')\n",
    "            np.savez(fn, cups=cups, i=np.array([i]), icups=np.array(icups))\n",
    "            raise\n",
    "        cups = np.concatenate((spliced[:idx_dest], picked_up, spliced[idx_dest:]))\n",
    "        current_idx = (np.where(cups==current_cup)[0][0] + 1) % len(cups)\n",
    "\n",
    "    return cups\n",
    "\n",
    "%time do_moves(extended_input23, 100, verbose=False)\n",
    "%time do_moves_faster(extended_input23, 100, verbose=False)\n",
    "do_moves(test_input, 10, verbose=True)\n",
    "do_moves_faster(test_input, 10, verbose=True)"
   ]
  },
  {
   "cell_type": "markdown",
   "metadata": {},
   "source": [
    "Still will take a long time, but \"overnight\" is fine."
   ]
  },
  {
   "cell_type": "code",
   "execution_count": 468,
   "metadata": {},
   "outputs": [
    {
     "data": {
      "application/vnd.jupyter.widget-view+json": {
       "model_id": "4d695e1ad93540699871e00f0e93eef0",
       "version_major": 2,
       "version_minor": 0
      },
      "text/plain": [
       "HBox(children=(HTML(value=''), FloatProgress(value=0.0, max=10000000.0), HTML(value='')))"
      ]
     },
     "metadata": {},
     "output_type": "display_data"
    },
    {
     "name": "stdout",
     "output_type": "stream",
     "text": [
      "\n"
     ]
    },
    {
     "ename": "AttributeError",
     "evalue": "'numpy.ndarray' object has no attribute 'index'",
     "output_type": "error",
     "traceback": [
      "\u001b[0;31m---------------------------------------------------------------------------\u001b[0m",
      "\u001b[0;31mAttributeError\u001b[0m                            Traceback (most recent call last)",
      "\u001b[0;32m<ipython-input-468-a0eadb5f176c>\u001b[0m in \u001b[0;36m<module>\u001b[0;34m\u001b[0m\n\u001b[1;32m      6\u001b[0m \u001b[0mfinal_cups\u001b[0m \u001b[0;34m=\u001b[0m \u001b[0mdo_moves_faster\u001b[0m\u001b[0;34m(\u001b[0m\u001b[0mextended_input23\u001b[0m\u001b[0;34m,\u001b[0m \u001b[0;36m10000000\u001b[0m\u001b[0;34m,\u001b[0m \u001b[0mprogress\u001b[0m\u001b[0;34m=\u001b[0m\u001b[0mtqdm\u001b[0m\u001b[0;34m)\u001b[0m\u001b[0;34m\u001b[0m\u001b[0;34m\u001b[0m\u001b[0m\n\u001b[1;32m      7\u001b[0m \u001b[0;34m\u001b[0m\u001b[0m\n\u001b[0;32m----> 8\u001b[0;31m \u001b[0midx1\u001b[0m \u001b[0;34m=\u001b[0m \u001b[0mfinal_cups\u001b[0m\u001b[0;34m.\u001b[0m\u001b[0mindex\u001b[0m\u001b[0;34m(\u001b[0m\u001b[0;36m1\u001b[0m\u001b[0;34m)\u001b[0m\u001b[0;34m\u001b[0m\u001b[0;34m\u001b[0m\u001b[0m\n\u001b[0m\u001b[1;32m      9\u001b[0m \u001b[0mcup2\u001b[0m\u001b[0;34m,\u001b[0m \u001b[0mcup3\u001b[0m \u001b[0;34m=\u001b[0m \u001b[0mfinal_cups\u001b[0m\u001b[0;34m[\u001b[0m\u001b[0midx1\u001b[0m\u001b[0;34m+\u001b[0m\u001b[0;36m1\u001b[0m\u001b[0;34m:\u001b[0m\u001b[0midx1\u001b[0m\u001b[0;34m+\u001b[0m\u001b[0;36m3\u001b[0m\u001b[0;34m]\u001b[0m\u001b[0;34m\u001b[0m\u001b[0;34m\u001b[0m\u001b[0m\n\u001b[1;32m     10\u001b[0m \u001b[0mcup2\u001b[0m \u001b[0;34m*\u001b[0m \u001b[0mcup3\u001b[0m\u001b[0;34m\u001b[0m\u001b[0;34m\u001b[0m\u001b[0m\n",
      "\u001b[0;31mAttributeError\u001b[0m: 'numpy.ndarray' object has no attribute 'index'"
     ]
    }
   ],
   "source": [
    "from tqdm.notebook import tqdm\n",
    "\n",
    "extended_input23 = input23.copy()\n",
    "extended_input23.extend(range(len(input23)+1, 1000001))\n",
    "\n",
    "final_cups = do_moves_faster(extended_input23, 10000000, progress=tqdm)"
   ]
  },
  {
   "cell_type": "code",
   "execution_count": 472,
   "metadata": {},
   "outputs": [
    {
     "data": {
      "text/plain": [
       "563362809504"
      ]
     },
     "execution_count": 472,
     "metadata": {},
     "output_type": "execute_result"
    }
   ],
   "source": [
    "idx1 = np.where(final_cups == 1)[0][0]\n",
    "cup2, cup3 = final_cups[idx1+1:idx1+3]\n",
    "cup2 * cup3"
   ]
  },
  {
   "cell_type": "code",
   "execution_count": 476,
   "metadata": {},
   "outputs": [],
   "source": [
    "np.savez('end_state_day23', cups=final_cups, i=np.array([10000000]), icups=np.array(extended_input23))"
   ]
  }
 ],
 "metadata": {
  "kernelspec": {
   "display_name": "Python 3",
   "language": "python",
   "name": "python3"
  },
  "language_info": {
   "codemirror_mode": {
    "name": "ipython",
    "version": 3
   },
   "file_extension": ".py",
   "mimetype": "text/x-python",
   "name": "python",
   "nbconvert_exporter": "python",
   "pygments_lexer": "ipython3",
   "version": "3.8.2"
  }
 },
 "nbformat": 4,
 "nbformat_minor": 4
}
