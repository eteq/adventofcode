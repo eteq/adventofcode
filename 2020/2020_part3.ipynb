{
 "cells": [
  {
   "cell_type": "code",
   "execution_count": 28,
   "metadata": {},
   "outputs": [],
   "source": [
    "import numpy as np\n",
    "\n",
    "from scipy import ndimage"
   ]
  },
  {
   "cell_type": "markdown",
   "metadata": {},
   "source": [
    "https://adventofcode.com/2020"
   ]
  },
  {
   "cell_type": "markdown",
   "metadata": {},
   "source": [
    "# Day 17"
   ]
  },
  {
   "cell_type": "code",
   "execution_count": 5,
   "metadata": {},
   "outputs": [],
   "source": [
    "input17 = \"\"\"..##.#.#\n",
    ".#####..\n",
    "#.....##\n",
    "##.##.#.\n",
    "..#...#.\n",
    ".#..##..\n",
    ".#...#.#\n",
    "#..##.##\"\"\""
   ]
  },
  {
   "cell_type": "code",
   "execution_count": 51,
   "metadata": {},
   "outputs": [],
   "source": [
    "def map_to_array(astmap):\n",
    "    arr2d = np.array([[e=='#' for e in row] for row in astmap.split('\\n')]).T\n",
    "    return arr2d.copy()\n",
    "\n",
    "def array_to_map(arr, marker='#'):\n",
    "    buffer = []\n",
    "    for row in arr.T:\n",
    "        for element in row:\n",
    "            buffer.append(marker if element else '.')\n",
    "        buffer.append('\\n')\n",
    "    return ''.join(buffer)"
   ]
  },
  {
   "cell_type": "markdown",
   "metadata": {},
   "source": [
    "## Part 1"
   ]
  },
  {
   "cell_type": "code",
   "execution_count": 53,
   "metadata": {},
   "outputs": [
    {
     "name": "stdout",
     "output_type": "stream",
     "text": [
      ".#.\n",
      "..#\n",
      "###\n",
      "\n"
     ]
    }
   ],
   "source": [
    "test_input = \"\"\".#.\n",
    "..#\n",
    "###\"\"\"\n",
    "testarr = map_to_array(test_input)\n",
    "print(array_to_map(testarr))"
   ]
  },
  {
   "cell_type": "code",
   "execution_count": 65,
   "metadata": {},
   "outputs": [
    {
     "name": "stdout",
     "output_type": "stream",
     "text": [
      "...............\n",
      "...............\n",
      "...............\n",
      "...............\n",
      "...............\n",
      "...............\n",
      ".......#.......\n",
      "........#......\n",
      "......###......\n",
      "...............\n",
      "...............\n",
      "...............\n",
      "...............\n",
      "...............\n",
      "...............\n",
      "\n"
     ]
    }
   ],
   "source": [
    "boot_field = np.zeros((testarr.shape[0] + 6*2, testarr.shape[1] + 6*2, 1 + 6*2), dtype=bool)\n",
    "boot_field[6:9, 6:9, 6] = testarr\n",
    "print(array_to_map(boot_field[..., 6]))"
   ]
  },
  {
   "cell_type": "code",
   "execution_count": 101,
   "metadata": {},
   "outputs": [],
   "source": [
    "neighbor_kernel = [[[1,1,1],\n",
    "                    [1,1,1],\n",
    "                    [1,1,1]],\n",
    "                   [[1,1,1],\n",
    "                    [1,0,1],\n",
    "                    [1,1,1]],\n",
    "                   [[1,1,1],\n",
    "                    [1,1,1],\n",
    "                    [1,1,1]]]\n",
    "neighbor_kernel = np.array(neighbor_kernel)\n",
    "assert np.sum(neighbor_kernel) == 26\n",
    "\n",
    "def do_step(initial_field, nsteps=1):\n",
    "    if nsteps==0:\n",
    "        return initial_field.reshape(initial_field.shape[0], initial_field.shape[1], 1)\n",
    "    \n",
    "    boot_field = np.zeros((initial_field.shape[0] + nsteps*2, \n",
    "                           initial_field.shape[1] + nsteps*2, \n",
    "                           1 + nsteps*2), dtype=int)\n",
    "    boot_field[nsteps:(nsteps + initial_field.shape[0]), \n",
    "               nsteps:(nsteps + initial_field.shape[1]), \n",
    "               nsteps] = initial_field.astype(int)\n",
    "    \n",
    "    for i in range(nsteps):\n",
    "        corr = ndimage.correlate(boot_field, neighbor_kernel, mode='constant')\n",
    "        new_field = boot_field & (corr==2)\n",
    "        new_field[corr==3] = True\n",
    "        boot_field = new_field.astype(int)\n",
    "    \n",
    "    return boot_field\n",
    "\n",
    "step3 = do_step(testarr, nsteps=3)\n",
    "                     \n",
    "                     \n",
    "assert array_to_map(step3[1:-1, 2:, 3]) == \"\"\"...#...\n",
    ".......\n",
    "#......\n",
    ".......\n",
    ".....##\n",
    ".##.#..\n",
    "...#...\n",
    "\"\"\"\n",
    "\n",
    "assert np.sum(do_step(testarr, nsteps=6)) == 112"
   ]
  },
  {
   "cell_type": "code",
   "execution_count": 102,
   "metadata": {},
   "outputs": [
    {
     "data": {
      "text/plain": [
       "213"
      ]
     },
     "execution_count": 102,
     "metadata": {},
     "output_type": "execute_result"
    }
   ],
   "source": [
    "np.sum(do_step(map_to_array(input17), nsteps=6))"
   ]
  },
  {
   "cell_type": "markdown",
   "metadata": {},
   "source": [
    "## Part 2 "
   ]
  },
  {
   "cell_type": "code",
   "execution_count": 105,
   "metadata": {},
   "outputs": [],
   "source": [
    "neighbor_kernel4 = np.ones((3, 3, 3, 3), dtype=int)\n",
    "neighbor_kernel4[1,1,1,1] = 0\n",
    "neighbor_kernel4 = np.array(neighbor_kernel4)\n",
    "assert np.sum(neighbor_kernel4) == 80"
   ]
  },
  {
   "cell_type": "code",
   "execution_count": 117,
   "metadata": {},
   "outputs": [],
   "source": [
    "def do_step4(initial_field, nsteps=1):\n",
    "    if nsteps==0:\n",
    "        return initial_field.reshape(initial_field.shape[0], initial_field.shape[1], 1, 1)\n",
    "    \n",
    "    boot_field = np.zeros((initial_field.shape[0] + nsteps*2, \n",
    "                           initial_field.shape[1] + nsteps*2, \n",
    "                           1 + nsteps*2, 1 + nsteps*2), dtype=int)\n",
    "    boot_field[nsteps:(nsteps + initial_field.shape[0]), \n",
    "               nsteps:(nsteps + initial_field.shape[1]), \n",
    "               nsteps, nsteps] = initial_field.astype(int)\n",
    "    \n",
    "    for i in range(nsteps):\n",
    "        corr = ndimage.correlate(boot_field, neighbor_kernel4, mode='constant')\n",
    "        new_field = boot_field & (corr==2)\n",
    "        new_field[corr==3] = True\n",
    "        boot_field = new_field.astype(int)\n",
    "    \n",
    "    return boot_field\n",
    "\n",
    "assert array_to_map(do_step4(testarr, 2)[1:-1, 2:, 2, 0]) == \"\"\"###..\n",
    "##.##\n",
    "#...#\n",
    ".#..#\n",
    ".###.\n",
    "\"\"\"\"\"\""
   ]
  },
  {
   "cell_type": "code",
   "execution_count": 131,
   "metadata": {},
   "outputs": [],
   "source": [
    "assert np.sum(do_step4(testarr, nsteps=6)) == 848"
   ]
  },
  {
   "cell_type": "code",
   "execution_count": 132,
   "metadata": {},
   "outputs": [
    {
     "data": {
      "text/plain": [
       "1624"
      ]
     },
     "execution_count": 132,
     "metadata": {},
     "output_type": "execute_result"
    }
   ],
   "source": [
    "np.sum(do_step4(map_to_array(input17), nsteps=6))"
   ]
  },
  {
   "cell_type": "markdown",
   "metadata": {},
   "source": [
    "# Day N"
   ]
  },
  {
   "cell_type": "code",
   "execution_count": null,
   "metadata": {},
   "outputs": [],
   "source": [
    "!mv ~/Desktop/input.txt inputN"
   ]
  },
  {
   "cell_type": "code",
   "execution_count": null,
   "metadata": {},
   "outputs": [],
   "source": [
    "with open('inputN') as f:\n",
    "    inputN = f.read().strip()"
   ]
  },
  {
   "cell_type": "markdown",
   "metadata": {},
   "source": [
    "## Part 1"
   ]
  },
  {
   "cell_type": "code",
   "execution_count": null,
   "metadata": {},
   "outputs": [],
   "source": []
  },
  {
   "cell_type": "markdown",
   "metadata": {},
   "source": [
    "## Part 2 "
   ]
  },
  {
   "cell_type": "code",
   "execution_count": null,
   "metadata": {
    "jupyter": {
     "source_hidden": true
    }
   },
   "outputs": [],
   "source": []
  }
 ],
 "metadata": {
  "kernelspec": {
   "display_name": "Python 3",
   "language": "python",
   "name": "python3"
  },
  "language_info": {
   "codemirror_mode": {
    "name": "ipython",
    "version": 3
   },
   "file_extension": ".py",
   "mimetype": "text/x-python",
   "name": "python",
   "nbconvert_exporter": "python",
   "pygments_lexer": "ipython3",
   "version": "3.8.2"
  }
 },
 "nbformat": 4,
 "nbformat_minor": 4
}
