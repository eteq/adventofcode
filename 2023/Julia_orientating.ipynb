{
 "cells": [
  {
   "cell_type": "code",
   "execution_count": 1,
   "id": "e2944a05-62ac-4a31-8d86-9eaa119bb1b1",
   "metadata": {},
   "outputs": [
    {
     "ename": "LoadError",
     "evalue": "UndefVarError: `Π` not defined",
     "output_type": "error",
     "traceback": [
      "UndefVarError: `Π` not defined",
      ""
     ]
    }
   ],
   "source": [
    "Π"
   ]
  },
  {
   "cell_type": "code",
   "execution_count": 2,
   "id": "c671222b-9922-4bf9-9f92-f20f51912a8e",
   "metadata": {},
   "outputs": [
    {
     "name": "stdout",
     "output_type": "stream",
     "text": [
      "\"\u001b[36mα\u001b[39m\" can be typed by \u001b[36m\\alpha<tab>\u001b[39m\n",
      "\n",
      "search:\n",
      "\n",
      "Couldn't find \u001b[36mα\u001b[39m\n",
      "Perhaps you meant !, %, &, ', *, +, -, /, :, <, >, \\, ^, |, ~, ÷, π, ℯ, ∈ or ∉\n"
     ]
    },
    {
     "data": {
      "text/latex": [
       "No documentation found.\n",
       "\n",
       "Binding \\texttt{α} does not exist.\n",
       "\n"
      ],
      "text/markdown": [
       "No documentation found.\n",
       "\n",
       "Binding `α` does not exist.\n"
      ],
      "text/plain": [
       "  No documentation found.\n",
       "\n",
       "  Binding \u001b[36mα\u001b[39m does not exist."
      ]
     },
     "execution_count": 2,
     "metadata": {},
     "output_type": "execute_result"
    }
   ],
   "source": [
    "?α"
   ]
  },
  {
   "cell_type": "code",
   "execution_count": 5,
   "id": "f4378871-a2f4-47fc-ba4a-d3a1baf94061",
   "metadata": {},
   "outputs": [
    {
     "data": {
      "text/plain": [
       "π = 3.1415926535897..."
      ]
     },
     "execution_count": 5,
     "metadata": {},
     "output_type": "execute_result"
    }
   ],
   "source": [
    "π"
   ]
  },
  {
   "cell_type": "code",
   "execution_count": 7,
   "id": "69831f1b-37bc-49d4-8a0b-81d5c585c3d6",
   "metadata": {},
   "outputs": [
    {
     "data": {
      "text/plain": [
       "9.283185307179586"
      ]
     },
     "execution_count": 7,
     "metadata": {},
     "output_type": "execute_result"
    }
   ],
   "source": [
    "2π + 3"
   ]
  },
  {
   "cell_type": "code",
   "execution_count": 8,
   "id": "388a983d-1550-4f60-919c-100f872c00ba",
   "metadata": {},
   "outputs": [
    {
     "data": {
      "text/plain": [
       "3-element Vector{Float64}:\n",
       " 1.2\n",
       " 3.0\n",
       " 1.0"
      ]
     },
     "execution_count": 8,
     "metadata": {},
     "output_type": "execute_result"
    }
   ],
   "source": [
    "v = [1.2,3,1]"
   ]
  },
  {
   "cell_type": "code",
   "execution_count": 9,
   "id": "2bac5bfa-d353-4b80-a131-1b0021d27a22",
   "metadata": {},
   "outputs": [
    {
     "data": {
      "text/plain": [
       "3-element Vector{Int64}:\n",
       " 1\n",
       " 4\n",
       " 2"
      ]
     },
     "execution_count": 9,
     "metadata": {},
     "output_type": "execute_result"
    }
   ],
   "source": [
    "v=[1,4,2]"
   ]
  },
  {
   "cell_type": "code",
   "execution_count": 10,
   "id": "a89bfbe0-cfb1-4dc1-bced-5455c23096b4",
   "metadata": {},
   "outputs": [
    {
     "data": {
      "text/plain": [
       "Inf"
      ]
     },
     "execution_count": 10,
     "metadata": {},
     "output_type": "execute_result"
    }
   ],
   "source": [
    "12/0"
   ]
  },
  {
   "cell_type": "code",
   "execution_count": 11,
   "id": "c02600ce-542a-4f92-9a96-1d3861a6ea37",
   "metadata": {},
   "outputs": [
    {
     "data": {
      "text/plain": [
       "Inf"
      ]
     },
     "execution_count": 11,
     "metadata": {},
     "output_type": "execute_result"
    }
   ],
   "source": [
    "12.2/0"
   ]
  },
  {
   "cell_type": "code",
   "execution_count": 15,
   "id": "06ea5785-b950-4896-b6a2-8ee0209964dc",
   "metadata": {},
   "outputs": [
    {
     "data": {
      "text/plain": [
       "Float64"
      ]
     },
     "execution_count": 15,
     "metadata": {},
     "output_type": "execute_result"
    }
   ],
   "source": [
    "typeof(4/3)"
   ]
  },
  {
   "cell_type": "code",
   "execution_count": 14,
   "id": "36cee9e6-d504-4a94-ab1c-0fc1727ad988",
   "metadata": {},
   "outputs": [
    {
     "data": {
      "text/plain": [
       "Rational{Int64}"
      ]
     },
     "execution_count": 14,
     "metadata": {},
     "output_type": "execute_result"
    }
   ],
   "source": [
    "typeof(4//3)"
   ]
  },
  {
   "cell_type": "code",
   "execution_count": 30,
   "id": "10b1d622-46ab-4d6a-b237-3cd23cbd2ea2",
   "metadata": {},
   "outputs": [
    {
     "data": {
      "text/plain": [
       "1"
      ]
     },
     "execution_count": 30,
     "metadata": {},
     "output_type": "execute_result"
    }
   ],
   "source": [
    "5 ÷ 3"
   ]
  },
  {
   "cell_type": "code",
   "execution_count": 29,
   "id": "ecb6cb7a-3590-4fe8-85fb-6957e7c1fdda",
   "metadata": {},
   "outputs": [
    {
     "name": "stdout",
     "output_type": "stream",
     "text": [
      "\"\u001b[36m÷\u001b[39m\" can be typed by \u001b[36m\\div<tab>\u001b[39m\n",
      "\n",
      "search: \u001b[0m\u001b[1m÷\u001b[22m\n",
      "\n"
     ]
    },
    {
     "data": {
      "text/latex": [
       "\\begin{verbatim}\n",
       "div(x, y)\n",
       "÷(x, y)\n",
       "\\end{verbatim}\n",
       "The quotient from Euclidean (integer) division. Generally equivalent to a mathematical operation x/y without a fractional part.\n",
       "\n",
       "See also: \\href{@ref}{\\texttt{cld}}, \\href{@ref}{\\texttt{fld}}, \\href{@ref}{\\texttt{rem}}, \\href{@ref}{\\texttt{divrem}}.\n",
       "\n",
       "\\section{Examples}\n",
       "\\begin{verbatim}\n",
       "julia> 9 ÷ 4\n",
       "2\n",
       "\n",
       "julia> -5 ÷ 3\n",
       "-1\n",
       "\n",
       "julia> 5.0 ÷ 2\n",
       "2.0\n",
       "\n",
       "julia> div.(-5:5, 3)'\n",
       "1×11 adjoint(::Vector{Int64}) with eltype Int64:\n",
       " -1  -1  -1  0  0  0  0  0  1  1  1\n",
       "\\end{verbatim}\n",
       "\\rule{\\textwidth}{1pt}\n",
       "\\begin{verbatim}\n",
       "div(x, y, r::RoundingMode=RoundToZero)\n",
       "\\end{verbatim}\n",
       "The quotient from Euclidean (integer) division. Computes \\texttt{x / y}, rounded to an integer according to the rounding mode \\texttt{r}. In other words, the quantity\n",
       "\n",
       "\\begin{verbatim}\n",
       "round(x / y, r)\n",
       "\\end{verbatim}\n",
       "without any intermediate rounding.\n",
       "\n",
       "\\begin{quote}\n",
       "\\textbf{compat}\n",
       "\n",
       "Julia 1.4\n",
       "\n",
       "The three-argument method taking a \\texttt{RoundingMode} requires Julia 1.4 or later.\n",
       "\n",
       "\\end{quote}\n",
       "See also \\href{@ref}{\\texttt{fld}} and \\href{@ref}{\\texttt{cld}}, which are special cases of this function.\n",
       "\n",
       "\\begin{quote}\n",
       "\\textbf{compat}\n",
       "\n",
       "Julia 1.9\n",
       "\n",
       "\\texttt{RoundFromZero} requires at least Julia 1.9.\n",
       "\n",
       "\\end{quote}\n",
       "\\section{Examples:}\n",
       "\\begin{verbatim}\n",
       "julia> div(4, 3, RoundDown) # Matches fld(4, 3)\n",
       "1\n",
       "julia> div(4, 3, RoundUp) # Matches cld(4, 3)\n",
       "2\n",
       "julia> div(5, 2, RoundNearest)\n",
       "2\n",
       "julia> div(5, 2, RoundNearestTiesAway)\n",
       "3\n",
       "julia> div(-5, 2, RoundNearest)\n",
       "-2\n",
       "julia> div(-5, 2, RoundNearestTiesAway)\n",
       "-3\n",
       "julia> div(-5, 2, RoundNearestTiesUp)\n",
       "-2\n",
       "julia> div(4, 3, RoundFromZero)\n",
       "2\n",
       "julia> div(-4, 3, RoundFromZero)\n",
       "-2\n",
       "\\end{verbatim}\n"
      ],
      "text/markdown": [
       "```\n",
       "div(x, y)\n",
       "÷(x, y)\n",
       "```\n",
       "\n",
       "The quotient from Euclidean (integer) division. Generally equivalent to a mathematical operation x/y without a fractional part.\n",
       "\n",
       "See also: [`cld`](@ref), [`fld`](@ref), [`rem`](@ref), [`divrem`](@ref).\n",
       "\n",
       "# Examples\n",
       "\n",
       "```jldoctest\n",
       "julia> 9 ÷ 4\n",
       "2\n",
       "\n",
       "julia> -5 ÷ 3\n",
       "-1\n",
       "\n",
       "julia> 5.0 ÷ 2\n",
       "2.0\n",
       "\n",
       "julia> div.(-5:5, 3)'\n",
       "1×11 adjoint(::Vector{Int64}) with eltype Int64:\n",
       " -1  -1  -1  0  0  0  0  0  1  1  1\n",
       "```\n",
       "\n",
       "---\n",
       "\n",
       "```\n",
       "div(x, y, r::RoundingMode=RoundToZero)\n",
       "```\n",
       "\n",
       "The quotient from Euclidean (integer) division. Computes `x / y`, rounded to an integer according to the rounding mode `r`. In other words, the quantity\n",
       "\n",
       "```\n",
       "round(x / y, r)\n",
       "```\n",
       "\n",
       "without any intermediate rounding.\n",
       "\n",
       "!!! compat \"Julia 1.4\"\n",
       "    The three-argument method taking a `RoundingMode` requires Julia 1.4 or later.\n",
       "\n",
       "\n",
       "See also [`fld`](@ref) and [`cld`](@ref), which are special cases of this function.\n",
       "\n",
       "!!! compat \"Julia 1.9\"\n",
       "    `RoundFromZero` requires at least Julia 1.9.\n",
       "\n",
       "\n",
       "# Examples:\n",
       "\n",
       "```jldoctest\n",
       "julia> div(4, 3, RoundDown) # Matches fld(4, 3)\n",
       "1\n",
       "julia> div(4, 3, RoundUp) # Matches cld(4, 3)\n",
       "2\n",
       "julia> div(5, 2, RoundNearest)\n",
       "2\n",
       "julia> div(5, 2, RoundNearestTiesAway)\n",
       "3\n",
       "julia> div(-5, 2, RoundNearest)\n",
       "-2\n",
       "julia> div(-5, 2, RoundNearestTiesAway)\n",
       "-3\n",
       "julia> div(-5, 2, RoundNearestTiesUp)\n",
       "-2\n",
       "julia> div(4, 3, RoundFromZero)\n",
       "2\n",
       "julia> div(-4, 3, RoundFromZero)\n",
       "-2\n",
       "```\n"
      ],
      "text/plain": [
       "\u001b[36m  div(x, y)\u001b[39m\n",
       "\u001b[36m  ÷(x, y)\u001b[39m\n",
       "\n",
       "  The quotient from Euclidean (integer) division. Generally equivalent to a\n",
       "  mathematical operation x/y without a fractional part.\n",
       "\n",
       "  See also: \u001b[36mcld\u001b[39m, \u001b[36mfld\u001b[39m, \u001b[36mrem\u001b[39m, \u001b[36mdivrem\u001b[39m.\n",
       "\n",
       "\u001b[1m  Examples\u001b[22m\n",
       "\u001b[1m  ≡≡≡≡≡≡≡≡≡≡\u001b[22m\n",
       "\n",
       "\u001b[36m  julia> 9 ÷ 4\u001b[39m\n",
       "\u001b[36m  2\u001b[39m\n",
       "\u001b[36m  \u001b[39m\n",
       "\u001b[36m  julia> -5 ÷ 3\u001b[39m\n",
       "\u001b[36m  -1\u001b[39m\n",
       "\u001b[36m  \u001b[39m\n",
       "\u001b[36m  julia> 5.0 ÷ 2\u001b[39m\n",
       "\u001b[36m  2.0\u001b[39m\n",
       "\u001b[36m  \u001b[39m\n",
       "\u001b[36m  julia> div.(-5:5, 3)'\u001b[39m\n",
       "\u001b[36m  1×11 adjoint(::Vector{Int64}) with eltype Int64:\u001b[39m\n",
       "\u001b[36m   -1  -1  -1  0  0  0  0  0  1  1  1\u001b[39m\n",
       "\n",
       "  ────────────────────────────────────────────────────────────────────────────\n",
       "\n",
       "\u001b[36m  div(x, y, r::RoundingMode=RoundToZero)\u001b[39m\n",
       "\n",
       "  The quotient from Euclidean (integer) division. Computes \u001b[36mx / y\u001b[39m, rounded to\n",
       "  an integer according to the rounding mode \u001b[36mr\u001b[39m. In other words, the quantity\n",
       "\n",
       "\u001b[36m  round(x / y, r)\u001b[39m\n",
       "\n",
       "  without any intermediate rounding.\n",
       "\n",
       "\u001b[39m\u001b[1m  │ \u001b[22m\u001b[39m\u001b[1mJulia 1.4\u001b[22m\n",
       "\u001b[39m\u001b[1m  │\u001b[22m\n",
       "\u001b[39m\u001b[1m  │\u001b[22m  The three-argument method taking a \u001b[36mRoundingMode\u001b[39m requires Julia 1.4\n",
       "\u001b[39m\u001b[1m  │\u001b[22m  or later.\n",
       "\n",
       "  See also \u001b[36mfld\u001b[39m and \u001b[36mcld\u001b[39m, which are special cases of this function.\n",
       "\n",
       "\u001b[39m\u001b[1m  │ \u001b[22m\u001b[39m\u001b[1mJulia 1.9\u001b[22m\n",
       "\u001b[39m\u001b[1m  │\u001b[22m\n",
       "\u001b[39m\u001b[1m  │\u001b[22m  \u001b[36mRoundFromZero\u001b[39m requires at least Julia 1.9.\n",
       "\n",
       "\u001b[1m  Examples:\u001b[22m\n",
       "\u001b[1m  ≡≡≡≡≡≡≡≡≡≡≡\u001b[22m\n",
       "\n",
       "\u001b[36m  julia> div(4, 3, RoundDown) # Matches fld(4, 3)\u001b[39m\n",
       "\u001b[36m  1\u001b[39m\n",
       "\u001b[36m  julia> div(4, 3, RoundUp) # Matches cld(4, 3)\u001b[39m\n",
       "\u001b[36m  2\u001b[39m\n",
       "\u001b[36m  julia> div(5, 2, RoundNearest)\u001b[39m\n",
       "\u001b[36m  2\u001b[39m\n",
       "\u001b[36m  julia> div(5, 2, RoundNearestTiesAway)\u001b[39m\n",
       "\u001b[36m  3\u001b[39m\n",
       "\u001b[36m  julia> div(-5, 2, RoundNearest)\u001b[39m\n",
       "\u001b[36m  -2\u001b[39m\n",
       "\u001b[36m  julia> div(-5, 2, RoundNearestTiesAway)\u001b[39m\n",
       "\u001b[36m  -3\u001b[39m\n",
       "\u001b[36m  julia> div(-5, 2, RoundNearestTiesUp)\u001b[39m\n",
       "\u001b[36m  -2\u001b[39m\n",
       "\u001b[36m  julia> div(4, 3, RoundFromZero)\u001b[39m\n",
       "\u001b[36m  2\u001b[39m\n",
       "\u001b[36m  julia> div(-4, 3, RoundFromZero)\u001b[39m\n",
       "\u001b[36m  -2\u001b[39m"
      ]
     },
     "execution_count": 29,
     "metadata": {},
     "output_type": "execute_result"
    }
   ],
   "source": [
    "?÷"
   ]
  },
  {
   "cell_type": "code",
   "execution_count": 21,
   "id": "7caaf6d6-17ce-4ce7-a1db-f13d3ad45c50",
   "metadata": {},
   "outputs": [
    {
     "data": {
      "text/plain": [
       "Float32"
      ]
     },
     "execution_count": 21,
     "metadata": {},
     "output_type": "execute_result"
    }
   ],
   "source": [
    "typeof(1.321f25*2)"
   ]
  },
  {
   "cell_type": "code",
   "execution_count": 25,
   "id": "ee3e8b61-d16c-44bd-b7a6-a993580e5041",
   "metadata": {},
   "outputs": [
    {
     "data": {
      "text/plain": [
       "3-element Vector{Float64}:\n",
       " 0.0\n",
       " 0.0\n",
       " 0.0"
      ]
     },
     "execution_count": 25,
     "metadata": {},
     "output_type": "execute_result"
    }
   ],
   "source": [
    "zero([1,2,.41])"
   ]
  },
  {
   "cell_type": "code",
   "execution_count": 31,
   "id": "634f50eb-42d3-4e18-885d-27b258d7d114",
   "metadata": {},
   "outputs": [
    {
     "ename": "LoadError",
     "evalue": "MethodError: no method matching ^(::Vector{Int64}, ::Int64)\n\n\u001b[0mClosest candidates are:\n\u001b[0m  ^(\u001b[91m::Union{AbstractChar, AbstractString}\u001b[39m, ::Integer)\n\u001b[0m\u001b[90m   @\u001b[39m \u001b[90mBase\u001b[39m \u001b[90mstrings/\u001b[39m\u001b[90m\u001b[4mbasic.jl:733\u001b[24m\u001b[39m\n\u001b[0m  ^(\u001b[91m::Rational\u001b[39m, ::Integer)\n\u001b[0m\u001b[90m   @\u001b[39m \u001b[90mBase\u001b[39m \u001b[90m\u001b[4mrational.jl:491\u001b[24m\u001b[39m\n\u001b[0m  ^(\u001b[91m::LinearAlgebra.UniformScaling\u001b[39m, ::Number)\n\u001b[0m\u001b[90m   @\u001b[39m \u001b[36mLinearAlgebra\u001b[39m \u001b[90m/usr/share/julia/stdlib/v1.9/LinearAlgebra/src/\u001b[39m\u001b[90m\u001b[4muniformscaling.jl:317\u001b[24m\u001b[39m\n\u001b[0m  ...\n",
     "output_type": "error",
     "traceback": [
      "MethodError: no method matching ^(::Vector{Int64}, ::Int64)\n\n\u001b[0mClosest candidates are:\n\u001b[0m  ^(\u001b[91m::Union{AbstractChar, AbstractString}\u001b[39m, ::Integer)\n\u001b[0m\u001b[90m   @\u001b[39m \u001b[90mBase\u001b[39m \u001b[90mstrings/\u001b[39m\u001b[90m\u001b[4mbasic.jl:733\u001b[24m\u001b[39m\n\u001b[0m  ^(\u001b[91m::Rational\u001b[39m, ::Integer)\n\u001b[0m\u001b[90m   @\u001b[39m \u001b[90mBase\u001b[39m \u001b[90m\u001b[4mrational.jl:491\u001b[24m\u001b[39m\n\u001b[0m  ^(\u001b[91m::LinearAlgebra.UniformScaling\u001b[39m, ::Number)\n\u001b[0m\u001b[90m   @\u001b[39m \u001b[36mLinearAlgebra\u001b[39m \u001b[90m/usr/share/julia/stdlib/v1.9/LinearAlgebra/src/\u001b[39m\u001b[90m\u001b[4muniformscaling.jl:317\u001b[24m\u001b[39m\n\u001b[0m  ...\n",
      "",
      "Stacktrace:",
      " [1] literal_pow(f::typeof(^), x::Vector{Int64}, #unused#::Val{3})",
      "   @ Base ./intfuncs.jl:338",
      " [2] top-level scope",
      "   @ In[31]:1"
     ]
    }
   ],
   "source": [
    "[1,2,3]^3"
   ]
  },
  {
   "cell_type": "code",
   "execution_count": 32,
   "id": "e2212b51-2f22-4a0a-897c-9fc3c6cfa79a",
   "metadata": {},
   "outputs": [
    {
     "data": {
      "text/plain": [
       "3-element Vector{Int64}:\n",
       "  1\n",
       "  8\n",
       " 27"
      ]
     },
     "execution_count": 32,
     "metadata": {},
     "output_type": "execute_result"
    }
   ],
   "source": [
    "[1,2,3].^3"
   ]
  },
  {
   "cell_type": "code",
   "execution_count": 41,
   "id": "6b9a1993-cde1-4b42-9ac4-6580d09853ea",
   "metadata": {},
   "outputs": [
    {
     "data": {
      "text/plain": [
       "0.4636476090008061"
      ]
     },
     "execution_count": 41,
     "metadata": {},
     "output_type": "execute_result"
    }
   ],
   "source": [
    "atan(1,2)"
   ]
  },
  {
   "cell_type": "code",
   "execution_count": 40,
   "id": "0e0b69ee-1773-4efa-a17c-685bf1544ccf",
   "metadata": {},
   "outputs": [
    {
     "data": {
      "text/plain": [
       "26.56505117707799"
      ]
     },
     "execution_count": 40,
     "metadata": {},
     "output_type": "execute_result"
    }
   ],
   "source": [
    "atand(1,2)"
   ]
  },
  {
   "cell_type": "code",
   "execution_count": 42,
   "id": "f55a1494-1f0e-43f4-860d-b8753a677c7d",
   "metadata": {},
   "outputs": [
    {
     "data": {
      "text/plain": [
       "'∀': Unicode U+2200 (category Sm: Symbol, math)"
      ]
     },
     "execution_count": 42,
     "metadata": {},
     "output_type": "execute_result"
    }
   ],
   "source": [
    "'\\u2200'"
   ]
  },
  {
   "cell_type": "code",
   "execution_count": 44,
   "id": "19e8c292-fe97-4594-ba5d-ab0d253d8013",
   "metadata": {},
   "outputs": [
    {
     "data": {
      "text/plain": [
       "\"hello world\""
      ]
     },
     "execution_count": 44,
     "metadata": {},
     "output_type": "execute_result"
    }
   ],
   "source": [
    "s = \"hello world\""
   ]
  },
  {
   "cell_type": "code",
   "execution_count": 45,
   "id": "2b6613b7-14b2-4e79-827a-1c22f619253d",
   "metadata": {},
   "outputs": [
    {
     "data": {
      "text/plain": [
       "'e': ASCII/Unicode U+0065 (category Ll: Letter, lowercase)"
      ]
     },
     "execution_count": 45,
     "metadata": {},
     "output_type": "execute_result"
    }
   ],
   "source": [
    "s[2]"
   ]
  },
  {
   "cell_type": "code",
   "execution_count": 50,
   "id": "56801be2-635a-4d3b-a683-2f233402b08a",
   "metadata": {},
   "outputs": [
    {
     "data": {
      "text/plain": [
       "'l': ASCII/Unicode U+006C (category Ll: Letter, lowercase)"
      ]
     },
     "execution_count": 50,
     "metadata": {},
     "output_type": "execute_result"
    }
   ],
   "source": [
    "s[end-1]"
   ]
  },
  {
   "cell_type": "code",
   "execution_count": 52,
   "id": "8179b3a0-d513-4d8e-8100-2aabd1f45db8",
   "metadata": {},
   "outputs": [
    {
     "data": {
      "text/plain": [
       "'h': ASCII/Unicode U+0068 (category Ll: Letter, lowercase)"
      ]
     },
     "execution_count": 52,
     "metadata": {},
     "output_type": "execute_result"
    }
   ],
   "source": [
    "s[1]"
   ]
  },
  {
   "cell_type": "code",
   "execution_count": 53,
   "id": "cda1b0de-8774-4bf7-81fc-9c76298d20d2",
   "metadata": {},
   "outputs": [
    {
     "data": {
      "text/plain": [
       "'h': ASCII/Unicode U+0068 (category Ll: Letter, lowercase)"
      ]
     },
     "execution_count": 53,
     "metadata": {},
     "output_type": "execute_result"
    }
   ],
   "source": [
    "s[begin]"
   ]
  },
  {
   "cell_type": "code",
   "execution_count": 54,
   "id": "2baea629-ec51-4207-849c-5c584467400a",
   "metadata": {},
   "outputs": [
    {
     "ename": "LoadError",
     "evalue": "BoundsError: attempt to access 3-element Vector{Int64} at index [0]",
     "output_type": "error",
     "traceback": [
      "BoundsError: attempt to access 3-element Vector{Int64} at index [0]",
      "",
      "Stacktrace:",
      " [1] getindex(A::Vector{Int64}, i1::Int64)",
      "   @ Base ./essentials.jl:13",
      " [2] top-level scope",
      "   @ In[54]:2"
     ]
    }
   ],
   "source": [
    "l = [1,2,3]\n",
    "l[0]"
   ]
  },
  {
   "cell_type": "code",
   "execution_count": 55,
   "id": "a90d15af-629a-4471-84e8-9618f2c8f570",
   "metadata": {},
   "outputs": [
    {
     "data": {
      "text/plain": [
       "1"
      ]
     },
     "execution_count": 55,
     "metadata": {},
     "output_type": "execute_result"
    }
   ],
   "source": [
    "l[1]"
   ]
  },
  {
   "cell_type": "code",
   "execution_count": 60,
   "id": "9fd80814-7a02-46da-8289-f8f818f5a668",
   "metadata": {},
   "outputs": [
    {
     "data": {
      "text/plain": [
       "\"hell\""
      ]
     },
     "execution_count": 60,
     "metadata": {},
     "output_type": "execute_result"
    }
   ],
   "source": [
    "s[1:4]"
   ]
  },
  {
   "cell_type": "code",
   "execution_count": 61,
   "id": "88ce7096-cee8-4d2a-9a93-b61192d4e593",
   "metadata": {},
   "outputs": [
    {
     "data": {
      "text/plain": [
       "\"hello \""
      ]
     },
     "execution_count": 61,
     "metadata": {},
     "output_type": "execute_result"
    }
   ],
   "source": [
    "s[1:end-5]"
   ]
  },
  {
   "cell_type": "code",
   "execution_count": 62,
   "id": "10349422-78c6-4921-aceb-5f84e6384b51",
   "metadata": {},
   "outputs": [
    {
     "data": {
      "text/plain": [
       "String"
      ]
     },
     "execution_count": 62,
     "metadata": {},
     "output_type": "execute_result"
    }
   ],
   "source": [
    "typeof(s)"
   ]
  },
  {
   "cell_type": "code",
   "execution_count": 63,
   "id": "8a4afc6c-d6cb-4817-8566-f58b20281427",
   "metadata": {},
   "outputs": [
    {
     "data": {
      "text/plain": [
       "String"
      ]
     },
     "execution_count": 63,
     "metadata": {},
     "output_type": "execute_result"
    }
   ],
   "source": [
    "typeof(s[2:5])"
   ]
  },
  {
   "cell_type": "code",
   "execution_count": 64,
   "id": "c42d7ffa-f189-4601-be33-c7b008ff9b9c",
   "metadata": {},
   "outputs": [
    {
     "data": {
      "text/plain": [
       "SubString{String}"
      ]
     },
     "execution_count": 64,
     "metadata": {},
     "output_type": "execute_result"
    }
   ],
   "source": [
    "typeof(@views s[2:5])"
   ]
  },
  {
   "cell_type": "code",
   "execution_count": 67,
   "id": "79df3e02-1ac9-4084-84de-e5e152d363ed",
   "metadata": {},
   "outputs": [
    {
     "data": {
      "text/plain": [
       "3-element Vector{SubString{String}}:\n",
       " \"a\"\n",
       " \"b\"\n",
       " \"c\""
      ]
     },
     "execution_count": 67,
     "metadata": {},
     "output_type": "execute_result"
    }
   ],
   "source": [
    "split(\"a,b,c\", \",\")"
   ]
  },
  {
   "cell_type": "code",
   "execution_count": 74,
   "id": "4c019b32-32b3-4f7c-9108-8d76975b0931",
   "metadata": {},
   "outputs": [
    {
     "data": {
      "text/plain": [
       "0"
      ]
     },
     "execution_count": 74,
     "metadata": {},
     "output_type": "execute_result"
    }
   ],
   "source": [
    "i = 0"
   ]
  },
  {
   "cell_type": "code",
   "execution_count": 75,
   "id": "9f086a5f-914d-4b0d-a788-6c3309c97d5a",
   "metadata": {},
   "outputs": [
    {
     "name": "stdout",
     "output_type": "stream",
     "text": [
      "0\n",
      "1\n",
      "2\n",
      "3\n"
     ]
    }
   ],
   "source": [
    "while i <= 3\n",
    "    println(i)\n",
    "    i += 1\n",
    "end"
   ]
  },
  {
   "cell_type": "code",
   "execution_count": 81,
   "id": "204e318e-3ad2-4b27-a937-e18829ef5436",
   "metadata": {},
   "outputs": [
    {
     "data": {
      "text/plain": [
       "0.0 + 1.0im"
      ]
     },
     "execution_count": 81,
     "metadata": {},
     "output_type": "execute_result"
    }
   ],
   "source": [
    "sqrt(-1+0im)"
   ]
  },
  {
   "cell_type": "code",
   "execution_count": null,
   "id": "5fb60a9e-0104-4783-ab5e-f28c9f64afaf",
   "metadata": {},
   "outputs": [],
   "source": []
  }
 ],
 "metadata": {
  "kernelspec": {
   "display_name": "Julia 1.9.4",
   "language": "julia",
   "name": "julia-1.9"
  },
  "language_info": {
   "file_extension": ".jl",
   "mimetype": "application/julia",
   "name": "julia",
   "version": "1.9.4"
  }
 },
 "nbformat": 4,
 "nbformat_minor": 5
}
