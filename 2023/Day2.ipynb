{
 "cells": [
  {
   "cell_type": "markdown",
   "id": "8a001ff4-b1d9-45d5-9831-2f493792b76e",
   "metadata": {},
   "source": [
    "# https://adventofcode.com/2023/day/2"
   ]
  },
  {
   "cell_type": "code",
   "execution_count": 6,
   "id": "8d2bc4cf-7278-4e35-97a8-2690946ae332",
   "metadata": {},
   "outputs": [
    {
     "data": {
      "text/plain": [
       "100-element Vector{SubString{String}}:\n",
       " \"Game 1: 1 red, 10 blue, 5 green\" ⋯ 53 bytes ⋯ \" 3 blue; 3 blue, 4 green, 1 red\"\n",
       " \"Game 2: 3 red, 5 green; 5 green\" ⋯ 31 bytes ⋯ \"; 3 red, 2 blue; 5 green, 4 red\"\n",
       " \"Game 3: 4 blue, 4 green; 2 green, 2 blue; 8 green, 2 red, 3 blue\"\n",
       " \"Game 4: 3 blue, 15 green; 16 green; 2 red, 7 green; 2 blue, 14 green\"\n",
       " \"Game 5: 8 green, 6 red, 16 blue\" ⋯ 77 bytes ⋯ \" green; 15 red, 4 blue, 8 green\"\n",
       " \"Game 6: 5 blue, 2 green; 6 red,\" ⋯ 17 bytes ⋯ \", 4 blue, 2 red; 14 blue, 2 red\"\n",
       " \"Game 7: 2 green, 6 blue, 1 red;\" ⋯ 31 bytes ⋯ \" 1 green; 6 blue, 1 red; 2 blue\"\n",
       " \"Game 8: 1 red, 10 blue, 1 green\" ⋯ 59 bytes ⋯ \"3 blue; 10 blue, 3 green, 3 red\"\n",
       " \"Game 9: 2 blue; 8 green, 3 blue\" ⋯ 28 bytes ⋯ \"2 blue; 3 blue, 1 red, 12 green\"\n",
       " \"Game 10: 1 blue, 7 green; 1 red\" ⋯ 35 bytes ⋯ \" 1 red; 13 green, 5 blue, 2 red\"\n",
       " \"Game 11: 1 green, 10 red, 6 blue; 15 red, 12 blue; 18 red, 1 green, 1 blue\"\n",
       " \"Game 12: 16 red, 8 blue, 1 green; 15 red, 3 blue, 1 green; 5 red\"\n",
       " \"Game 13: 6 red, 7 blue, 7 green\" ⋯ 93 bytes ⋯ \" 2 red; 4 blue, 18 green, 4 red\"\n",
       " ⋮\n",
       " \"Game 89: 3 blue, 15 green, 1 re\" ⋯ 38 bytes ⋯ \" green, 4 red; 10 green, 1 blue\"\n",
       " \"Game 90: 1 red, 13 green; 3 gre\" ⋯ 56 bytes ⋯ \"blue, 10 green; 13 green, 1 red\"\n",
       " \"Game 91: 13 green, 11 red, 4 bl\" ⋯ 21 bytes ⋯ \"10 blue; 4 red, 2 green, 3 blue\"\n",
       " \"Game 92: 2 red, 3 blue, 6 green\" ⋯ 18 bytes ⋯ \" green; 14 blue, 1 red, 1 green\"\n",
       " \"Game 93: 15 blue, 2 red, 13 gre\" ⋯ 19 bytes ⋯ \" 8 blue; 6 blue, 1 red, 2 green\"\n",
       " \"Game 94: 5 red, 4 green, 9 blue\" ⋯ 18 bytes ⋯ \"4 blue; 11 blue, 4 green, 2 red\"\n",
       " \"Game 95: 9 blue, 3 green; 2 gre\" ⋯ 23 bytes ⋯ \"3 blue; 1 green, 1 red, 10 blue\"\n",
       " \"Game 96: 4 blue, 2 red; 3 green\" ⋯ 52 bytes ⋯ \" green; 10 blue, 4 green, 1 red\"\n",
       " \"Game 97: 6 red, 4 green; 1 blue, 13 red; 3 green, 13 red\"\n",
       " \"Game 98: 1 red, 13 blue, 1 gree\" ⋯ 78 bytes ⋯ \", 1 red; 4 blue, 3 red, 2 green\"\n",
       " \"Game 99: 1 red, 2 green; 2 red,\" ⋯ 73 bytes ⋯ \"4 green; 1 blue, 2 red, 1 green\"\n",
       " \"Game 100: 9 green, 2 blue, 12 red; 2 blue, 14 red, 2 green; 14 red, 12 green\""
      ]
     },
     "execution_count": 6,
     "metadata": {},
     "output_type": "execute_result"
    }
   ],
   "source": [
    "input = \"\"\"Game 1: 1 red, 10 blue, 5 green; 11 blue, 6 green; 6 green; 1 green, 1 red, 12 blue; 3 blue; 3 blue, 4 green, 1 red\n",
    "Game 2: 3 red, 5 green; 5 green, 7 red; 1 blue, 7 red, 3 green; 3 red, 2 blue; 5 green, 4 red\n",
    "Game 3: 4 blue, 4 green; 2 green, 2 blue; 8 green, 2 red, 3 blue\n",
    "Game 4: 3 blue, 15 green; 16 green; 2 red, 7 green; 2 blue, 14 green\n",
    "Game 5: 8 green, 6 red, 16 blue; 8 red, 12 green; 1 red, 9 green, 16 blue; 8 red, 3 green; 2 blue, 5 red, 10 green; 15 red, 4 blue, 8 green\n",
    "Game 6: 5 blue, 2 green; 6 red, 3 green; 4 green, 4 blue, 2 red; 14 blue, 2 red\n",
    "Game 7: 2 green, 6 blue, 1 red; 2 blue, 1 red; 8 blue; 5 blue, 1 green; 6 blue, 1 red; 2 blue\n",
    "Game 8: 1 red, 10 blue, 1 green; 6 blue, 1 red; 3 blue, 2 green; 1 red, 1 blue, 3 green; 13 blue; 10 blue, 3 green, 3 red\n",
    "Game 9: 2 blue; 8 green, 3 blue; 4 green; 14 green, 1 red, 2 blue; 3 blue, 1 red, 12 green\n",
    "Game 10: 1 blue, 7 green; 1 red, 3 green, 5 blue; 1 blue, 5 green, 1 red; 13 green, 5 blue, 2 red\n",
    "Game 11: 1 green, 10 red, 6 blue; 15 red, 12 blue; 18 red, 1 green, 1 blue\n",
    "Game 12: 16 red, 8 blue, 1 green; 15 red, 3 blue, 1 green; 5 red\n",
    "Game 13: 6 red, 7 blue, 7 green; 3 blue, 4 red, 13 green; 1 blue, 6 red, 11 green; 2 red, 1 blue, 14 green; 8 green, 5 blue, 2 red; 4 blue, 18 green, 4 red\n",
    "Game 14: 16 red, 3 blue, 1 green; 7 green, 3 red; 16 red, 15 green, 3 blue; 3 blue, 13 red, 10 green\n",
    "Game 15: 1 blue, 1 red; 3 blue, 2 green; 1 red; 2 red, 2 green, 3 blue; 3 blue, 1 red, 3 green\n",
    "Game 16: 9 red, 3 blue; 13 red, 9 blue; 9 blue, 10 red; 5 red, 10 blue, 1 green; 2 red, 6 green, 8 blue; 6 green, 13 red, 5 blue\n",
    "Game 17: 15 red, 17 green, 8 blue; 18 red, 16 blue, 15 green; 8 blue, 17 green, 10 red; 5 green, 3 red, 12 blue\n",
    "Game 18: 2 blue, 11 red, 2 green; 1 green, 11 red, 11 blue; 1 red, 4 blue; 10 blue, 9 red; 1 blue, 7 red\n",
    "Game 19: 2 blue, 3 green, 5 red; 8 blue, 16 green; 12 red, 7 blue, 8 green; 9 green, 1 blue; 3 red, 16 green, 10 blue\n",
    "Game 20: 3 blue, 5 green, 6 red; 2 red, 8 blue, 7 green; 7 green, 3 blue; 2 red, 11 blue; 1 green, 6 red, 3 blue\n",
    "Game 21: 16 red, 3 blue, 8 green; 10 red, 15 blue, 3 green; 6 green, 13 red, 15 blue; 11 green, 13 blue, 10 red\n",
    "Game 22: 8 green, 1 blue; 2 blue, 9 green, 3 red; 2 red, 2 blue; 1 red, 3 blue, 8 green; 2 blue, 1 green; 1 green, 2 blue\n",
    "Game 23: 2 blue, 8 red, 5 green; 9 green, 2 blue; 10 red, 2 green; 12 red, 1 blue; 11 green, 2 blue, 13 red; 7 green\n",
    "Game 24: 6 red; 13 green, 7 red, 10 blue; 7 green, 9 red, 1 blue; 3 blue, 2 green, 2 red\n",
    "Game 25: 7 green, 1 red, 2 blue; 8 green, 2 blue, 5 red; 5 blue, 8 green, 4 red; 5 blue, 2 green, 1 red; 5 green, 3 red, 7 blue; 3 blue, 6 green, 1 red\n",
    "Game 26: 6 green, 3 red; 1 blue, 2 green, 2 red; 2 green, 2 red, 3 blue; 4 blue, 8 red, 2 green; 1 red, 1 green, 1 blue; 6 red, 5 blue\n",
    "Game 27: 4 green, 13 blue, 2 red; 2 red, 7 green, 10 blue; 14 blue, 11 green, 1 red; 10 blue, 15 green\n",
    "Game 28: 4 green, 13 red, 7 blue; 2 red, 5 blue; 5 blue, 4 green\n",
    "Game 29: 6 green, 15 red; 1 blue, 6 red, 8 green; 6 green, 1 blue; 12 red; 1 green, 7 red, 1 blue\n",
    "Game 30: 4 blue, 4 green, 2 red; 6 blue, 9 red, 20 green; 9 blue, 4 red, 2 green; 8 red, 8 blue, 1 green; 6 green, 12 blue, 2 red; 8 green, 8 red\n",
    "Game 31: 9 blue; 1 red, 2 blue, 5 green; 2 blue, 2 red, 9 green; 2 blue, 1 red, 8 green; 11 green, 2 red, 3 blue; 7 green, 5 blue\n",
    "Game 32: 15 red, 5 green; 4 green, 2 blue, 3 red; 1 blue, 9 red; 1 blue, 15 red; 4 blue, 2 red, 8 green; 3 green, 3 blue\n",
    "Game 33: 13 blue, 1 red, 1 green; 8 blue, 6 red; 4 blue, 2 red\n",
    "Game 34: 5 blue, 9 red, 7 green; 8 red, 6 green, 5 blue; 2 blue, 7 green, 12 red\n",
    "Game 35: 4 blue, 15 red; 1 green, 10 blue, 7 red; 9 red, 3 green, 1 blue; 13 red, 9 blue; 3 blue, 2 red\n",
    "Game 36: 4 blue, 18 green, 2 red; 5 green, 6 blue, 11 red; 6 red, 12 blue, 14 green; 19 green, 10 blue, 7 red; 7 red, 8 green, 9 blue\n",
    "Game 37: 16 blue, 5 green, 18 red; 3 blue, 14 green, 1 red; 4 blue, 3 green, 14 red; 12 green, 7 red, 15 blue; 15 green, 11 blue, 2 red; 8 blue, 13 green, 6 red\n",
    "Game 38: 6 red, 4 blue, 12 green; 3 red, 11 blue; 16 green, 2 blue, 8 red; 4 blue, 11 red, 4 green; 17 green, 7 red, 10 blue; 9 blue, 15 green, 1 red\n",
    "Game 39: 1 green, 1 red, 10 blue; 1 red, 5 blue, 2 green; 4 red, 7 blue; 9 red, 6 green, 5 blue; 1 green, 2 blue, 9 red\n",
    "Game 40: 13 blue, 11 red, 12 green; 8 green, 11 red, 4 blue; 2 blue, 2 green, 12 red; 2 green, 3 red, 13 blue; 13 blue, 6 red, 2 green; 4 green, 6 red, 8 blue\n",
    "Game 41: 12 red, 4 green, 13 blue; 4 red, 7 blue, 10 green; 17 green, 17 red, 11 blue\n",
    "Game 42: 1 red, 1 green; 1 red, 4 green; 1 blue, 4 red, 4 green; 3 red; 1 blue, 3 green, 1 red\n",
    "Game 43: 7 blue, 10 green; 5 blue, 2 green; 2 blue, 1 green, 4 red; 14 red, 6 green, 7 blue; 4 green, 14 red, 8 blue; 4 green, 6 red\n",
    "Game 44: 9 green, 4 red; 4 red, 6 green; 5 red, 2 blue, 7 green; 9 blue, 1 green, 14 red\n",
    "Game 45: 20 blue, 4 red, 6 green; 3 blue, 1 green, 6 red; 8 blue, 8 green, 11 red\n",
    "Game 46: 1 green, 6 red; 6 red, 3 blue, 3 green; 6 red, 3 blue, 4 green; 1 blue, 5 red; 1 green, 4 red, 1 blue; 2 green, 4 red\n",
    "Game 47: 12 green, 8 red, 4 blue; 7 green, 6 red, 11 blue; 4 red, 11 blue, 12 green\n",
    "Game 48: 1 green, 3 blue; 13 green, 3 red, 11 blue; 7 blue, 1 green, 2 red; 7 red, 15 green, 4 blue; 4 red, 8 blue, 10 green; 15 green, 8 blue, 6 red\n",
    "Game 49: 2 red; 2 red, 9 blue; 4 blue, 1 green\n",
    "Game 50: 10 blue, 1 green, 18 red; 13 red, 1 green, 7 blue; 4 red, 2 green, 9 blue; 2 green, 4 red, 10 blue; 7 blue, 3 red; 19 red, 9 blue\n",
    "Game 51: 2 green, 2 red, 5 blue; 9 red, 5 blue; 3 red, 10 blue; 9 blue, 6 red, 7 green; 2 red, 5 blue\n",
    "Game 52: 6 blue, 3 green; 5 green, 3 blue, 5 red; 1 blue, 2 green, 2 red\n",
    "Game 53: 2 blue, 9 green, 15 red; 18 red, 1 blue; 13 red, 12 green; 7 green, 2 blue, 9 red\n",
    "Game 54: 18 green; 2 red, 6 green; 6 red, 9 green, 1 blue; 1 blue, 4 green, 5 red; 3 red; 3 green, 4 red\n",
    "Game 55: 5 red, 2 blue, 5 green; 10 blue, 4 green, 8 red; 15 green, 9 blue, 9 red; 1 green, 9 blue\n",
    "Game 56: 8 green, 11 blue, 1 red; 1 blue, 1 red, 4 green; 8 blue\n",
    "Game 57: 5 green, 4 blue; 1 blue, 4 green; 1 red, 1 green, 3 blue; 1 red, 2 blue, 6 green\n",
    "Game 58: 8 green, 10 red, 10 blue; 8 blue, 6 green, 12 red; 9 green, 11 blue, 1 red; 12 red, 5 green, 11 blue; 7 red, 2 green, 8 blue\n",
    "Game 59: 10 red, 1 green, 3 blue; 16 red, 1 green, 4 blue; 9 red, 2 blue; 1 red\n",
    "Game 60: 11 blue, 13 green, 10 red; 15 red, 12 blue; 3 blue, 9 green, 6 red; 12 blue, 5 green\n",
    "Game 61: 2 blue, 7 red; 3 green, 14 blue, 11 red; 7 red, 10 blue; 6 blue, 3 green, 4 red; 10 blue\n",
    "Game 62: 1 blue, 7 green; 6 red, 12 green, 1 blue; 8 red\n",
    "Game 63: 1 blue, 3 green, 1 red; 8 green, 10 red, 1 blue; 8 green, 11 red; 1 blue, 11 green, 5 red; 8 green, 11 red, 2 blue; 2 blue, 10 red, 6 green\n",
    "Game 64: 17 green, 2 blue; 12 blue, 8 green; 11 green, 3 red, 4 blue; 5 red, 9 green, 14 blue\n",
    "Game 65: 7 blue, 12 green, 5 red; 13 green, 5 blue, 4 red; 4 blue, 8 green, 1 red; 5 red, 10 green, 10 blue; 5 red, 5 blue, 15 green; 4 red, 9 green, 10 blue\n",
    "Game 66: 8 green, 2 red; 8 red, 4 green; 5 red, 2 blue, 7 green\n",
    "Game 67: 10 green, 7 blue, 2 red; 15 blue, 1 green, 9 red; 2 red, 7 green, 18 blue; 3 green, 5 blue, 8 red; 10 green, 11 blue, 1 red; 10 green, 4 red, 17 blue\n",
    "Game 68: 13 green, 10 blue, 7 red; 1 red, 15 green, 7 blue; 17 green, 14 red, 3 blue; 6 green, 8 blue, 6 red; 4 red, 3 blue, 5 green\n",
    "Game 69: 1 red, 6 green, 3 blue; 3 red, 4 blue, 6 green; 2 blue, 2 red, 1 green; 6 blue, 9 green, 2 red; 5 green, 6 blue\n",
    "Game 70: 1 green, 1 red, 3 blue; 2 green, 4 blue, 8 red; 5 red, 2 green, 3 blue; 3 green, 1 red, 3 blue; 3 green, 4 blue\n",
    "Game 71: 11 blue, 13 green; 1 red, 11 green, 3 blue; 6 blue, 14 green, 1 red; 5 blue, 17 green\n",
    "Game 72: 3 blue, 10 green, 4 red; 2 green, 6 red, 13 blue; 1 green, 1 blue, 6 red; 5 red, 1 blue, 1 green; 2 green, 5 red, 5 blue; 9 blue, 10 green, 6 red\n",
    "Game 73: 6 red, 4 green, 1 blue; 1 blue, 5 red, 3 green; 2 red, 11 green, 3 blue\n",
    "Game 74: 13 green, 2 red, 2 blue; 5 blue, 6 green; 12 green, 3 red, 4 blue; 2 green\n",
    "Game 75: 9 red, 10 blue, 6 green; 12 blue, 9 red; 11 red, 6 green; 12 blue, 2 red, 1 green\n",
    "Game 76: 1 green, 2 blue, 5 red; 2 blue, 1 green; 1 blue, 2 green, 1 red; 2 blue, 1 red; 3 green, 3 red\n",
    "Game 77: 5 green, 12 blue, 3 red; 11 blue, 9 green, 13 red; 8 blue, 13 green, 13 red\n",
    "Game 78: 2 red, 3 blue, 1 green; 1 green, 19 blue, 1 red; 7 blue, 2 green, 2 red\n",
    "Game 79: 5 red, 1 blue, 4 green; 1 blue, 9 green, 10 red; 13 red, 1 green; 1 blue, 1 red, 5 green\n",
    "Game 80: 13 green, 2 blue; 1 red, 4 blue, 13 green; 5 red, 7 green, 4 blue\n",
    "Game 81: 3 red, 4 blue, 12 green; 16 green, 5 red, 1 blue; 4 blue, 2 red, 2 green; 4 blue, 5 red, 13 green; 8 red, 4 blue, 13 green; 16 green, 3 red\n",
    "Game 82: 6 red, 3 green, 2 blue; 1 green, 6 red, 2 blue; 3 blue, 8 green, 9 red\n",
    "Game 83: 3 green, 3 red, 1 blue; 3 blue, 4 green, 3 red; 3 blue, 4 green, 1 red; 2 red, 8 green, 2 blue\n",
    "Game 84: 5 red, 6 blue, 3 green; 1 blue, 2 green; 3 green, 2 blue, 2 red; 1 red, 3 green, 6 blue; 12 red, 2 green; 4 blue, 2 green, 4 red\n",
    "Game 85: 11 green, 4 blue, 9 red; 13 red, 1 blue, 11 green; 7 green, 8 blue, 7 red; 1 red, 4 blue\n",
    "Game 86: 3 blue, 19 green, 7 red; 19 green, 1 red, 1 blue; 9 green, 2 red; 7 red, 6 green, 1 blue\n",
    "Game 87: 1 blue, 1 green, 4 red; 1 green, 6 red; 6 red, 2 blue; 8 red, 3 blue\n",
    "Game 88: 9 red, 6 blue; 4 red, 1 blue, 2 green; 1 green, 10 blue, 6 red; 2 blue, 1 green, 10 red; 7 red, 9 blue\n",
    "Game 89: 3 blue, 15 green, 1 red; 1 red, 13 green, 3 blue; 4 blue, 14 green, 4 red; 10 green, 1 blue\n",
    "Game 90: 1 red, 13 green; 3 green, 1 red, 5 blue; 5 blue, 6 green; 14 green, 4 blue; 3 blue, 10 green; 13 green, 1 red\n",
    "Game 91: 13 green, 11 red, 4 blue; 14 red, 1 green, 10 blue; 4 red, 2 green, 3 blue\n",
    "Game 92: 2 red, 3 blue, 6 green; 2 red, 2 blue, 8 green; 14 blue, 1 red, 1 green\n",
    "Game 93: 15 blue, 2 red, 13 green; 8 green, 2 red, 8 blue; 6 blue, 1 red, 2 green\n",
    "Game 94: 5 red, 4 green, 9 blue; 1 red, 5 green, 4 blue; 11 blue, 4 green, 2 red\n",
    "Game 95: 9 blue, 3 green; 2 green, 12 blue; 10 green, 3 blue; 1 green, 1 red, 10 blue\n",
    "Game 96: 4 blue, 2 red; 3 green, 10 blue, 7 red; 2 blue, 7 green, 1 red; 13 blue, 9 green; 10 blue, 4 green, 1 red\n",
    "Game 97: 6 red, 4 green; 1 blue, 13 red; 3 green, 13 red\n",
    "Game 98: 1 red, 13 blue, 1 green; 7 green, 5 blue, 3 red; 15 blue, 6 green; 4 blue, 5 green; 13 blue, 2 green, 1 red; 4 blue, 3 red, 2 green\n",
    "Game 99: 1 red, 2 green; 2 red, 2 blue, 1 green; 3 green, 1 blue, 6 red; 3 red, 4 green; 5 red, 1 blue, 4 green; 1 blue, 2 red, 1 green\n",
    "Game 100: 9 green, 2 blue, 12 red; 2 blue, 14 red, 2 green; 14 red, 12 green\"\"\"\n",
    "input = split(input, '\\n')"
   ]
  },
  {
   "cell_type": "markdown",
   "id": "a26ba03b-b362-4e32-bb84-ba2d455c108d",
   "metadata": {},
   "source": [
    "## Part 1"
   ]
  },
  {
   "cell_type": "code",
   "execution_count": 18,
   "id": "00da8606-ac68-40b3-b596-809be189b3e2",
   "metadata": {},
   "outputs": [
    {
     "data": {
      "text/plain": [
       "7:8"
      ]
     },
     "execution_count": 18,
     "metadata": {},
     "output_type": "execute_result"
    }
   ],
   "source": [
    "r = findfirst(\": \", input[1])"
   ]
  },
  {
   "cell_type": "code",
   "execution_count": 22,
   "id": "8264448b-c818-4984-ab4c-1b8921bc3278",
   "metadata": {},
   "outputs": [
    {
     "data": {
      "text/plain": [
       "\"1 red, 10 blue, 5 green; 11 blue, 6 green; 6 green; 1 green, 1 red, 12 blue; 3 blue; 3 blue, 4 green, 1 red\""
      ]
     },
     "execution_count": 22,
     "metadata": {},
     "output_type": "execute_result"
    }
   ],
   "source": [
    "input[1][r.stop+1:end]"
   ]
  },
  {
   "cell_type": "code",
   "execution_count": 28,
   "id": "7434b959-e05f-47f0-890b-22f9e107571a",
   "metadata": {},
   "outputs": [
    {
     "data": {
      "text/plain": [
       "\"1\""
      ]
     },
     "execution_count": 28,
     "metadata": {},
     "output_type": "execute_result"
    }
   ],
   "source": [
    "input[1][6:r.start-1]"
   ]
  },
  {
   "cell_type": "code",
   "execution_count": 35,
   "id": "31886903-64cd-48c8-8f36-48646084d56d",
   "metadata": {},
   "outputs": [
    {
     "data": {
      "text/plain": [
       "6-element Vector{SubString{String}}:\n",
       " \"1 red, 10 blue, 5 green\"\n",
       " \"11 blue, 6 green\"\n",
       " \"6 green\"\n",
       " \"1 green, 1 red, 12 blue\"\n",
       " \"3 blue\"\n",
       " \"3 blue, 4 green, 1 red\""
      ]
     },
     "execution_count": 35,
     "metadata": {},
     "output_type": "execute_result"
    }
   ],
   "source": [
    "v = split(input[1][r.stop+1:end], \"; \")"
   ]
  },
  {
   "cell_type": "code",
   "execution_count": 40,
   "id": "ebbe17ea-8af3-412b-a656-2246efc271e8",
   "metadata": {},
   "outputs": [
    {
     "data": {
      "text/plain": [
       "3-element Vector{SubString{String}}:\n",
       " \"1 red\"\n",
       " \"10 blue\"\n",
       " \"5 green\""
      ]
     },
     "execution_count": 40,
     "metadata": {},
     "output_type": "execute_result"
    }
   ],
   "source": [
    "e = split(v[1], \", \")"
   ]
  },
  {
   "cell_type": "code",
   "execution_count": 47,
   "id": "7fcd616e-1c70-4d57-a628-c143798971fc",
   "metadata": {},
   "outputs": [
    {
     "data": {
      "text/plain": [
       "2-element Vector{SubString{String}}:\n",
       " \"1\"\n",
       " \"red\""
      ]
     },
     "execution_count": 47,
     "metadata": {},
     "output_type": "execute_result"
    }
   ],
   "source": [
    "n, c = split(e[1], ' ')"
   ]
  },
  {
   "cell_type": "code",
   "execution_count": 52,
   "id": "a4fe625c-bcf0-4b99-9648-836265cebd6d",
   "metadata": {},
   "outputs": [
    {
     "data": {
      "text/plain": [
       "Dict{String, Int64} with 3 entries:\n",
       "  \"blue\"  => 14\n",
       "  \"green\" => 13\n",
       "  \"red\"   => 12"
      ]
     },
     "execution_count": 52,
     "metadata": {},
     "output_type": "execute_result"
    }
   ],
   "source": [
    "max_colors = Dict(\"red\"=>12, \"green\"=>13, \"blue\"=>14)"
   ]
  },
  {
   "cell_type": "code",
   "execution_count": 56,
   "id": "0936560d-7bc0-463f-93ce-14a77563e088",
   "metadata": {},
   "outputs": [
    {
     "data": {
      "text/plain": [
       "2563"
      ]
     },
     "execution_count": 56,
     "metadata": {},
     "output_type": "execute_result"
    }
   ],
   "source": [
    "idcount = 0\n",
    "\n",
    "for line in input\n",
    "    r = findfirst(\": \", line)\n",
    "    id = parse(Int32, line[6:r.start-1])\n",
    "    valid = true\n",
    "    for game in split(line[r.stop+1:end], \"; \")\n",
    "        for ncolor in split(game, \", \")\n",
    "            n, c = split(ncolor, ' ')\n",
    "            n = parse(Int32, n)\n",
    "            if n > max_colors[c]\n",
    "                valid = false\n",
    "            end\n",
    "        end\n",
    "    end\n",
    "    if valid\n",
    "        idcount += id\n",
    "    end\n",
    "end\n",
    "\n",
    "idcount"
   ]
  },
  {
   "cell_type": "markdown",
   "id": "9e287a85-c2f0-412f-833f-b8731861aa54",
   "metadata": {},
   "source": [
    "## Part 2"
   ]
  },
  {
   "cell_type": "code",
   "execution_count": 67,
   "id": "8bc209ad-726a-42c6-8ed3-299a58d58b02",
   "metadata": {},
   "outputs": [
    {
     "data": {
      "text/plain": [
       "2184"
      ]
     },
     "execution_count": 67,
     "metadata": {},
     "output_type": "execute_result"
    }
   ],
   "source": [
    "12*13*14"
   ]
  },
  {
   "cell_type": "code",
   "execution_count": 66,
   "id": "94d781ae-0681-45b1-ad25-6454fc36cfc3",
   "metadata": {},
   "outputs": [
    {
     "data": {
      "text/plain": [
       "2184"
      ]
     },
     "execution_count": 66,
     "metadata": {},
     "output_type": "execute_result"
    }
   ],
   "source": [
    "prod(values(max_colors))"
   ]
  },
  {
   "cell_type": "code",
   "execution_count": 68,
   "id": "a9e6e898-606a-4686-9a1a-134058fcebd8",
   "metadata": {},
   "outputs": [
    {
     "data": {
      "text/plain": [
       "70768"
      ]
     },
     "execution_count": 68,
     "metadata": {},
     "output_type": "execute_result"
    }
   ],
   "source": [
    "allpower = 0\n",
    "\n",
    "for line in input\n",
    "    r = findfirst(\": \", line)\n",
    "    id = parse(Int32, line[6:r.start-1])\n",
    "    min_colors = Dict(\"red\"=>0, \"green\"=>0, \"blue\"=>0)\n",
    "    for game in split(line[r.stop+1:end], \"; \")\n",
    "        for ncolor in split(game, \", \")\n",
    "            n, c = split(ncolor, ' ')\n",
    "            n = parse(Int32, n)\n",
    "            if n > min_colors[c]\n",
    "                min_colors[c] = n\n",
    "            end\n",
    "        end\n",
    "    end\n",
    "    power = prod(values(min_colors))\n",
    "    allpower += power\n",
    "end\n",
    "\n",
    "allpower"
   ]
  }
 ],
 "metadata": {
  "kernelspec": {
   "display_name": "Julia 1.9.4",
   "language": "julia",
   "name": "julia-1.9"
  },
  "language_info": {
   "file_extension": ".jl",
   "mimetype": "application/julia",
   "name": "julia",
   "version": "1.9.4"
  }
 },
 "nbformat": 4,
 "nbformat_minor": 5
}
