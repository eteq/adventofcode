{
 "cells": [
  {
   "cell_type": "markdown",
   "id": "8a001ff4-b1d9-45d5-9831-2f493792b76e",
   "metadata": {},
   "source": [
    "# https://adventofcode.com/2023/day/4"
   ]
  },
  {
   "cell_type": "code",
   "execution_count": null,
   "id": "e2fbf10a-08d9-467c-9e51-8f22502d2960",
   "metadata": {},
   "outputs": [],
   "source": [
    "s = raw\"\"\"\"\"\"\n",
    "input = split(s, '\\n')"
   ]
  },
  {
   "cell_type": "markdown",
   "id": "a26ba03b-b362-4e32-bb84-ba2d455c108d",
   "metadata": {},
   "source": [
    "## Part 1"
   ]
  },
  {
   "cell_type": "code",
   "execution_count": null,
   "id": "0936560d-7bc0-463f-93ce-14a77563e088",
   "metadata": {},
   "outputs": [],
   "source": []
  },
  {
   "cell_type": "markdown",
   "id": "9e287a85-c2f0-412f-833f-b8731861aa54",
   "metadata": {},
   "source": [
    "## Part 2"
   ]
  },
  {
   "cell_type": "code",
   "execution_count": null,
   "id": "a9e6e898-606a-4686-9a1a-134058fcebd8",
   "metadata": {},
   "outputs": [],
   "source": []
  }
 ],
 "metadata": {
  "kernelspec": {
   "display_name": "Julia 1.9.4",
   "language": "julia",
   "name": "julia-1.9"
  },
  "language_info": {
   "file_extension": ".jl",
   "mimetype": "application/julia",
   "name": "julia",
   "version": "1.9.4"
  }
 },
 "nbformat": 4,
 "nbformat_minor": 5
}
