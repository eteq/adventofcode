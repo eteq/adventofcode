{
 "cells": [
  {
   "cell_type": "markdown",
   "id": "3b65893f",
   "metadata": {},
   "source": [
    "https://adventofcode.com/2021/day/11\n",
    "\n",
    "# Part 1"
   ]
  },
  {
   "cell_type": "code",
   "execution_count": null,
   "id": "60c99f61",
   "metadata": {},
   "outputs": [],
   "source": [
    "let test_input = \"\";"
   ]
  },
  {
   "cell_type": "code",
   "execution_count": null,
   "id": "8209821e",
   "metadata": {},
   "outputs": [],
   "source": [
    "let input11 = \"\";"
   ]
  },
  {
   "cell_type": "markdown",
   "id": "46ef2343",
   "metadata": {},
   "source": [
    "# Part 2"
   ]
  },
  {
   "cell_type": "code",
   "execution_count": null,
   "id": "3e2064e5",
   "metadata": {},
   "outputs": [],
   "source": []
  }
 ],
 "metadata": {
  "kernelspec": {
   "display_name": "Rust",
   "language": "rust",
   "name": "rust"
  },
  "language_info": {
   "codemirror_mode": "rust",
   "file_extension": ".rs",
   "mimetype": "text/rust",
   "name": "Rust",
   "pygment_lexer": "rust",
   "version": ""
  }
 },
 "nbformat": 4,
 "nbformat_minor": 5
}
