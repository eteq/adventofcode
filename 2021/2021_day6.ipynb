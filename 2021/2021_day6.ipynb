{
 "cells": [
  {
   "cell_type": "markdown",
   "id": "3b65893f",
   "metadata": {},
   "source": [
    "https://adventofcode.com/2021/day/6\n",
    "\n",
    "# Part 1"
   ]
  },
  {
   "cell_type": "code",
   "execution_count": 3,
   "id": "60c99f61",
   "metadata": {},
   "outputs": [],
   "source": [
    "let test_input = \"3,4,3,1,2\";"
   ]
  },
  {
   "cell_type": "code",
   "execution_count": 6,
   "id": "3c6ad0fb",
   "metadata": {},
   "outputs": [
    {
     "data": {
      "text/plain": [
       "[3, 4, 3, 1, 2]"
      ]
     },
     "execution_count": 6,
     "metadata": {},
     "output_type": "execute_result"
    }
   ],
   "source": [
    "fn input_to_vec(input: &str) -> Vec<usize> {\n",
    "    let mut vec = Vec::new();\n",
    "    for elem in input.split(\",\") {\n",
    "        match elem.parse() {\n",
    "            Ok(parsed) => { vec.push(parsed); },\n",
    "            Err(e) => {},\n",
    "        }\n",
    "    }\n",
    "    vec\n",
    "}\n",
    "input_to_vec(test_input)"
   ]
  },
  {
   "cell_type": "code",
   "execution_count": 13,
   "id": "a9a00c65-7c03-42ab-b8d7-e63714da5af2",
   "metadata": {},
   "outputs": [
    {
     "data": {
      "text/plain": [
       "5934"
      ]
     },
     "execution_count": 13,
     "metadata": {},
     "output_type": "execute_result"
    }
   ],
   "source": [
    "fn model_lanternfish(ivec: Vec<usize>, ndays: usize) -> Vec<usize> {\n",
    "    let mut vec = ivec.to_vec();\n",
    "    \n",
    "    for _ in 0..ndays {\n",
    "        for i in 0..vec.len() {\n",
    "            if vec[i] == 0 {\n",
    "                vec[i] = 6;\n",
    "                vec.push(8);\n",
    "            } else {\n",
    "                vec[i] -= 1;\n",
    "            }\n",
    "        }\n",
    "    }\n",
    "    vec\n",
    "}\n",
    "model_lanternfish(input_to_vec(test_input), 80).len()"
   ]
  },
  {
   "cell_type": "code",
   "execution_count": 14,
   "id": "8209821e",
   "metadata": {},
   "outputs": [],
   "source": [
    "let input6 = \"2,5,5,3,2,2,5,1,4,5,2,1,5,5,1,2,3,3,4,1,4,1,4,4,2,1,5,5,3,5,4,3,4,1,5,4,1,5,5,5,4,3,1,2,1,5,1,4,4,1,4,1,3,1,1,1,3,1,1,2,1,3,1,1,1,2,3,5,5,3,2,3,3,2,2,1,3,1,3,1,5,5,1,2,3,2,1,1,2,1,2,1,2,2,1,3,5,4,3,3,2,2,3,1,4,2,2,1,3,4,5,4,2,5,4,1,2,1,3,5,3,3,5,4,1,1,5,2,4,4,1,2,2,5,5,3,1,2,4,3,3,1,4,2,5,1,5,1,2,1,1,1,1,3,5,5,1,5,5,1,2,2,1,2,1,2,1,2,1,4,5,1,2,4,3,3,3,1,5,3,2,2,1,4,2,4,2,3,2,5,1,5,1,1,1,3,1,1,3,5,4,2,5,3,2,2,1,4,5,1,3,2,5,1,2,1,4,1,5,5,1,2,2,1,2,4,5,3,3,1,4,4,3,1,4,2,4,4,3,4,1,4,5,3,1,4,2,2,3,4,4,4,1,4,3,1,3,4,5,1,5,4,4,4,5,5,5,2,1,3,4,3,2,5,3,1,3,2,2,3,1,4,5,3,5,5,3,2,3,1,2,5,2,1,3,1,1,1,5,1\";"
   ]
  },
  {
   "cell_type": "code",
   "execution_count": 15,
   "id": "06fd7860-d56b-439b-b09c-8417641d09c9",
   "metadata": {},
   "outputs": [
    {
     "data": {
      "text/plain": [
       "352151"
      ]
     },
     "execution_count": 15,
     "metadata": {},
     "output_type": "execute_result"
    }
   ],
   "source": [
    "model_lanternfish(input_to_vec(input6), 80).len()"
   ]
  },
  {
   "cell_type": "markdown",
   "id": "46ef2343",
   "metadata": {},
   "source": [
    "# Part 2"
   ]
  },
  {
   "cell_type": "markdown",
   "id": "569d26c1-eb5e-49a6-ac09-608abda17aee",
   "metadata": {},
   "source": [
    "Oh, tricky, but I should have foreseen it: not enough memory for the naive approach above.  Try instead just keep counts per day:"
   ]
  },
  {
   "cell_type": "code",
   "execution_count": 28,
   "id": "e944a942-47bc-49b8-9be9-b45b47a4c21e",
   "metadata": {},
   "outputs": [
    {
     "data": {
      "text/plain": [
       "({1: 729, 8: 571, 2: 558, 4: 739, 7: 370, 6: 991, 0: 424, 5: 762, 3: 790}, 5934)"
      ]
     },
     "execution_count": 28,
     "metadata": {},
     "output_type": "execute_result"
    }
   ],
   "source": [
    "use std::collections::HashMap;\n",
    "\n",
    "fn model_lanternfish_efficient(ivec: Vec<usize>, ndays: usize) -> (HashMap<usize, usize>, usize) {\n",
    "    let mut hmap = HashMap::new();\n",
    "    \n",
    "    for timerval in ivec { \n",
    "        let count = hmap.entry(timerval).or_insert(0);\n",
    "        *count += 1;\n",
    "    }\n",
    "        \n",
    "    for _ in 0..ndays {\n",
    "        for (timerval, count) in hmap.clone().iter() {\n",
    "            if *timerval == 0 {\n",
    "                *hmap.entry(0).or_insert(0) -= count;\n",
    "                *hmap.entry(6).or_insert(0) += count;\n",
    "                *hmap.entry(8).or_insert(0) += count;\n",
    "            } else {\n",
    "                *hmap.entry(*timerval).or_insert(0) -= count;\n",
    "                *hmap.entry(timerval-1).or_insert(0) += count;\n",
    "            }\n",
    "        }\n",
    "    }\n",
    "    \n",
    "    \n",
    "    let mut n = 0;\n",
    "    for (key, val) in hmap.iter() { n += val; }\n",
    "    \n",
    "    (hmap, n)\n",
    "}\n",
    "model_lanternfish_efficient(input_to_vec(test_input), 80)"
   ]
  },
  {
   "cell_type": "code",
   "execution_count": 29,
   "id": "97a9778e-ad71-4b10-9210-8e68d6012f40",
   "metadata": {},
   "outputs": [
    {
     "data": {
      "text/plain": [
       "({1: 42064, 2: 32767, 8: 32810, 3: 47062, 4: 42470, 7: 23814, 5: 47787, 0: 26448, 6: 56929}, 352151)"
      ]
     },
     "execution_count": 29,
     "metadata": {},
     "output_type": "execute_result"
    }
   ],
   "source": [
    "model_lanternfish_efficient(input_to_vec(input6), 80)"
   ]
  },
  {
   "cell_type": "code",
   "execution_count": 30,
   "id": "6762461d-18ca-49c2-ba0d-5b0e8356f814",
   "metadata": {},
   "outputs": [
    {
     "data": {
      "text/plain": [
       "({5: 3681986557, 2: 2897294544, 7: 1985489551, 8: 2329711392, 3: 3164316379, 4: 3541830408, 1: 2731163883, 0: 2376852196, 6: 4275812629}, 26984457539)"
      ]
     },
     "execution_count": 30,
     "metadata": {},
     "output_type": "execute_result"
    }
   ],
   "source": [
    "model_lanternfish_efficient(input_to_vec(test_input), 256)"
   ]
  },
  {
   "cell_type": "code",
   "execution_count": 31,
   "id": "853d6308-a163-4caf-bd62-d320589f4502",
   "metadata": {},
   "outputs": [
    {
     "data": {
      "text/plain": [
       "({1: 162398235631, 5: 220345821187, 4: 208592941772, 0: 141329956382, 7: 118747584832, 3: 189150930106, 6: 252220061006, 8: 137659875271, 2: 171171477832}, 1601616884019)"
      ]
     },
     "execution_count": 31,
     "metadata": {},
     "output_type": "execute_result"
    }
   ],
   "source": [
    "model_lanternfish_efficient(input_to_vec(input6), 256)"
   ]
  },
  {
   "cell_type": "code",
   "execution_count": null,
   "id": "9743d1cf-5034-4c99-be7d-0bdb2b920720",
   "metadata": {},
   "outputs": [],
   "source": []
  }
 ],
 "metadata": {
  "kernelspec": {
   "display_name": "Rust",
   "language": "rust",
   "name": "rust"
  },
  "language_info": {
   "codemirror_mode": "rust",
   "file_extension": ".rs",
   "mimetype": "text/rust",
   "name": "Rust",
   "pygment_lexer": "rust",
   "version": ""
  }
 },
 "nbformat": 4,
 "nbformat_minor": 5
}
