{
 "cells": [
  {
   "cell_type": "code",
   "execution_count": 1,
   "metadata": {},
   "outputs": [],
   "source": [
    "import numpy as np\n",
    "\n",
    "from tqdm.notebook import tqdm"
   ]
  },
  {
   "cell_type": "markdown",
   "metadata": {},
   "source": [
    "# 1 - https://adventofcode.com/2019/day/1"
   ]
  },
  {
   "cell_type": "markdown",
   "metadata": {},
   "source": [
    "## Part 1"
   ]
  },
  {
   "cell_type": "code",
   "execution_count": 9,
   "metadata": {},
   "outputs": [],
   "source": [
    "def mass_to_fuel(mass):\n",
    "    return np.floor(mass/3).astype(int) - 2\n",
    "\n",
    "assert mass_to_fuel(12) == 2\n",
    "assert mass_to_fuel(14) == 2\n",
    "assert mass_to_fuel(1969) == 654\n",
    "assert mass_to_fuel(100756) == 33583"
   ]
  },
  {
   "cell_type": "code",
   "execution_count": 55,
   "metadata": {},
   "outputs": [],
   "source": [
    "input_1 = \"\"\"90859\n",
    "127415\n",
    "52948\n",
    "92106\n",
    "106899\n",
    "72189\n",
    "60084\n",
    "79642\n",
    "138828\n",
    "103609\n",
    "149073\n",
    "127749\n",
    "86976\n",
    "104261\n",
    "139341\n",
    "81414\n",
    "102622\n",
    "131030\n",
    "120878\n",
    "96809\n",
    "130331\n",
    "119212\n",
    "52317\n",
    "108990\n",
    "136871\n",
    "67279\n",
    "76541\n",
    "113254\n",
    "77739\n",
    "75027\n",
    "53863\n",
    "97732\n",
    "65646\n",
    "87851\n",
    "63712\n",
    "92660\n",
    "131821\n",
    "127837\n",
    "52363\n",
    "70349\n",
    "66110\n",
    "132249\n",
    "50319\n",
    "125948\n",
    "98360\n",
    "137675\n",
    "61957\n",
    "143540\n",
    "137402\n",
    "135774\n",
    "51376\n",
    "144833\n",
    "118646\n",
    "128136\n",
    "141140\n",
    "82856\n",
    "63345\n",
    "143617\n",
    "79733\n",
    "73449\n",
    "116126\n",
    "73591\n",
    "63899\n",
    "110409\n",
    "79602\n",
    "77485\n",
    "64050\n",
    "131760\n",
    "90509\n",
    "112728\n",
    "55181\n",
    "55329\n",
    "98597\n",
    "126579\n",
    "108227\n",
    "80707\n",
    "92962\n",
    "90396\n",
    "123775\n",
    "125248\n",
    "128814\n",
    "64593\n",
    "63108\n",
    "76486\n",
    "107135\n",
    "111064\n",
    "142569\n",
    "68579\n",
    "149006\n",
    "52258\n",
    "143477\n",
    "131889\n",
    "142506\n",
    "146732\n",
    "58663\n",
    "92013\n",
    "62410\n",
    "71035\n",
    "51208\n",
    "66372\"\"\""
   ]
  },
  {
   "cell_type": "code",
   "execution_count": 56,
   "metadata": {},
   "outputs": [
    {
     "data": {
      "text/plain": [
       "3262991"
      ]
     },
     "execution_count": 56,
     "metadata": {},
     "output_type": "execute_result"
    }
   ],
   "source": [
    "masses = []\n",
    "for line in input_1.split():\n",
    "    masses.append(int(line))\n",
    "masses = np.array(masses)\n",
    "    \n",
    "np.sum(mass_to_fuel(masses))"
   ]
  },
  {
   "cell_type": "markdown",
   "metadata": {},
   "source": [
    "## Part 2"
   ]
  },
  {
   "cell_type": "code",
   "execution_count": null,
   "metadata": {},
   "outputs": [],
   "source": []
  },
  {
   "cell_type": "code",
   "execution_count": 37,
   "metadata": {},
   "outputs": [
    {
     "name": "stdout",
     "output_type": "stream",
     "text": [
      "3 of 3\n",
      "2 of 3\n",
      "2 of 3\n",
      "2 of 3\n",
      "2 of 3\n",
      "1 of 3\n",
      "1 of 3\n",
      "1 of 3\n",
      "1 of 3\n"
     ]
    }
   ],
   "source": [
    "def mass_to_fuel_iterative(mass):\n",
    "    added_fuels = [mass_to_fuel(mass)]\n",
    "    while np.sum(added_fuels[-1]) > 0:\n",
    "        print(np.sum(added_fuels[-1] > 0), 'of', len(added_fuels[-1]))\n",
    "        added_fuels.append(mass_to_fuel(added_fuels[-1]))\n",
    "        added_fuels[-1] = np.maximum(0, added_fuels[-1])\n",
    "    return np.array(added_fuels)\n",
    "\n",
    "assert np.all(np.sum(mass_to_fuel_iterative(np.array([14, 1969, 100756])), axis=0) == np.array([2, 966, 50346]))"
   ]
  },
  {
   "cell_type": "code",
   "execution_count": 40,
   "metadata": {},
   "outputs": [
    {
     "name": "stdout",
     "output_type": "stream",
     "text": [
      "100 of 100\n",
      "100 of 100\n",
      "100 of 100\n",
      "100 of 100\n",
      "100 of 100\n",
      "100 of 100\n",
      "100 of 100\n",
      "100 of 100\n",
      "65 of 100\n"
     ]
    },
    {
     "data": {
      "text/plain": [
       "4891620"
      ]
     },
     "execution_count": 40,
     "metadata": {},
     "output_type": "execute_result"
    }
   ],
   "source": [
    "np.sum(mass_to_fuel_iterative(np.array(masses)))"
   ]
  },
  {
   "cell_type": "markdown",
   "metadata": {},
   "source": [
    "# 2 - https://adventofcode.com/2019/day/2"
   ]
  },
  {
   "cell_type": "code",
   "execution_count": 68,
   "metadata": {},
   "outputs": [],
   "source": [
    "def execute_one(buffer, i):\n",
    "    opcode = buffer[i]\n",
    "    if opcode == 1:\n",
    "        # add\n",
    "        data_idx1, data_idx2, output_idx = buffer[(i+1):(i+4)]\n",
    "        buffer[output_idx] = buffer[data_idx1] + buffer[data_idx2]\n",
    "    elif opcode == 2:\n",
    "        # mul\n",
    "        data_idx1, data_idx2, output_idx = buffer[(i+1):(i+4)]\n",
    "        buffer[output_idx] = buffer[data_idx1] * buffer[data_idx2]\n",
    "    elif opcode == 99:\n",
    "        raise StopIteration('hit opcode 99')\n",
    "    else:\n",
    "        raise ValueError(f'invalid opcode {opcode}')\n",
    "        \n",
    "        \n",
    "def run_to_end(buffer):\n",
    "    i = 0\n",
    "    while i < len(buffer):\n",
    "        try:\n",
    "            execute_one(buffer, i)\n",
    "            i += 4\n",
    "        except StopIteration:\n",
    "            return None  # success\n",
    "    raise ValueError('buffer needs to hit stop opcode')"
   ]
  },
  {
   "cell_type": "code",
   "execution_count": 69,
   "metadata": {},
   "outputs": [],
   "source": [
    "test_sets  = [([1,0,0,0,99], [2,0,0,0,99]),\n",
    "              ([2,3,0,3,99], [2,3,0,6,99]),\n",
    "              ([2,4,4,5,99,0], [2,4,4,5,99,9801]),\n",
    "              ([1,1,1,4,99,5,6,0,99], [30,1,1,4,2,5,6,0,99])\n",
    "             ]\n",
    "\n",
    "for inp, outp in test_sets:\n",
    "    buffer = np.array(inp)\n",
    "    run_to_end(buffer)\n",
    "    assert np.all(buffer == np.array(outp))"
   ]
  },
  {
   "cell_type": "code",
   "execution_count": 63,
   "metadata": {},
   "outputs": [],
   "source": [
    "input_2 = '1,0,0,3,1,1,2,3,1,3,4,3,1,5,0,3,2,10,1,19,1,5,19,23,1,23,5,27,2,27,10,31,1,5,31,35,2,35,6,39,1,6,39,43,2,13,43,47,2,9,47,51,1,6,51,55,1,55,9,59,2,6,59,63,1,5,63,67,2,67,13,71,1,9,71,75,1,75,9,79,2,79,10,83,1,6,83,87,1,5,87,91,1,6,91,95,1,95,13,99,1,10,99,103,2,6,103,107,1,107,5,111,1,111,13,115,1,115,13,119,1,13,119,123,2,123,13,127,1,127,6,131,1,131,9,135,1,5,135,139,2,139,6,143,2,6,143,147,1,5,147,151,1,151,2,155,1,9,155,0,99,2,14,0,0'"
   ]
  },
  {
   "cell_type": "code",
   "execution_count": 72,
   "metadata": {},
   "outputs": [
    {
     "data": {
      "text/plain": [
       "array([9706670,      12,       2,       2,       1,       1,       2,\n",
       "             3,       1,       3,       4,       3,       1,       5,\n",
       "             0,       3,       2,      10,       1,      48,       1,\n",
       "             5,      19,      49,       1,      23,       5,      50,\n",
       "             2,      27,      10,     200,       1,       5,      31,\n",
       "           201,       2,      35,       6,     402,       1,       6,\n",
       "            39,     404,       2,      13,      43,    2020,       2,\n",
       "             9,      47,    6060,       1,       6,      51,    6062,\n",
       "             1,      55,       9,    6065,       2,       6,      59,\n",
       "         12130,       1,       5,      63,   12131,       2,      67,\n",
       "            13,   60655,       1,       9,      71,   60658,       1,\n",
       "            75,       9,   60661,       2,      79,      10,  242644,\n",
       "             1,       6,      83,  242646,       1,       5,      87,\n",
       "        242647,       1,       6,      91,  242649,       1,      95,\n",
       "            13,  242654,       1,      10,      99,  242658,       2,\n",
       "             6,     103,  485316,       1,     107,       5,  485317,\n",
       "             1,     111,      13,  485322,       1,     115,      13,\n",
       "        485327,       1,      13,     119,  485332,       2,     123,\n",
       "            13, 2426660,       1,     127,       6, 2426662,       1,\n",
       "           131,       9, 2426665,       1,       5,     135, 2426666,\n",
       "             2,     139,       6, 4853332,       2,       6,     143,\n",
       "       9706664,       1,       5,     147, 9706665,       1,     151,\n",
       "             2, 9706667,       1,       9,     155,       0,      99,\n",
       "             2,      14,       0,       0])"
      ]
     },
     "execution_count": 72,
     "metadata": {},
     "output_type": "execute_result"
    }
   ],
   "source": [
    "buffer = np.array([int(elem) for elem in input_2.split(',')])\n",
    "\n",
    "# modifications as directed to get 1202\n",
    "buffer[1] = 12\n",
    "buffer[2] = 2\n",
    "\n",
    "assert run_to_end(buffer) == None\n",
    "buffer"
   ]
  },
  {
   "cell_type": "markdown",
   "metadata": {},
   "source": [
    "### Part 2 "
   ]
  },
  {
   "cell_type": "code",
   "execution_count": 90,
   "metadata": {},
   "outputs": [
    {
     "name": "stdout",
     "output_type": "stream",
     "text": [
      "noun=25, verb=52\n",
      "success!\n"
     ]
    },
    {
     "data": {
      "text/plain": [
       "2552"
      ]
     },
     "execution_count": 90,
     "metadata": {},
     "output_type": "execute_result"
    }
   ],
   "source": [
    "correct_value = 19690720\n",
    "done = False\n",
    "\n",
    "for noun in range(100):\n",
    "    for verb in range(100):\n",
    "        buffer = np.array([int(elem) for elem in input_2.split(',')])\n",
    "        buffer[1] = noun\n",
    "        buffer[2] = verb\n",
    "        assert run_to_end(buffer) == None\n",
    "        print(f'noun={noun}, verb={verb}\\r', end='')\n",
    "        if buffer[0] == correct_value:\n",
    "            print('\\nsuccess!')\n",
    "            done = True\n",
    "        if done:\n",
    "            break\n",
    "    if done:\n",
    "        break\n",
    "100 * noun + verb"
   ]
  },
  {
   "cell_type": "markdown",
   "metadata": {},
   "source": [
    "# 3 - https://adventofcode.com/2019/day/3"
   ]
  },
  {
   "cell_type": "code",
   "execution_count": 17,
   "metadata": {},
   "outputs": [],
   "source": [
    "from collections import defaultdict"
   ]
  },
  {
   "cell_type": "code",
   "execution_count": 18,
   "metadata": {},
   "outputs": [
    {
     "data": {
      "text/plain": [
       "(6, (3, 3))"
      ]
     },
     "execution_count": 18,
     "metadata": {},
     "output_type": "execute_result"
    }
   ],
   "source": [
    "def add_wire(wirestr, grid=None, wirecode=1):\n",
    "    if grid is None:\n",
    "        grid = defaultdict(lambda:0)\n",
    "    \n",
    "    x = y = 0\n",
    "    i = 0\n",
    "    for straight in wirestr.split(','):\n",
    "        direction = straight[0]\n",
    "        distance = int(straight[1:])\n",
    "        if direction == 'R':\n",
    "            dx, dy = 1, 0\n",
    "        elif direction == 'L':\n",
    "            dx, dy = -1, 0\n",
    "        elif direction == 'U':\n",
    "            dx, dy = 0, 1\n",
    "        elif direction == 'D':\n",
    "            dx, dy = 0, -1\n",
    "        else:\n",
    "            raise ValueError('invalid dir:', direction)\n",
    "        for _ in range(distance):\n",
    "            i += 1\n",
    "            x += dx\n",
    "            y += dy\n",
    "            if wirecode=='distance':\n",
    "                grid[x, y] = i\n",
    "            else:\n",
    "                grid[x, y] += wirecode\n",
    "    return grid\n",
    "\n",
    "def find_closest(grid, intersect_count=0):\n",
    "    shortest_distance = float('inf')\n",
    "    shortest_dxy = (None, None)\n",
    "    for (dx, dy), nwires in grid.items():\n",
    "        if nwires == intersect_count and (abs(dx)+abs(dy) < shortest_distance):\n",
    "            shortest_distance = abs(dx)+abs(dy)\n",
    "            shortest_dxy = (dx, dy)\n",
    "    return shortest_distance, shortest_dxy\n",
    "            \n",
    "#example \n",
    "ex3 = \"\"\"R8,U5,L5,D3\n",
    "U7,R6,D4,L4\"\"\"\n",
    "\n",
    "r1, r2 = ex3.split('\\n')\n",
    "grid = add_wire(r1, wirecode=-1)\n",
    "add_wire(r2, grid)\n",
    "find_closest(grid)"
   ]
  },
  {
   "cell_type": "code",
   "execution_count": 19,
   "metadata": {},
   "outputs": [
    {
     "name": "stdout",
     "output_type": "stream",
     "text": [
      "(159, (155, 4))\n"
     ]
    }
   ],
   "source": [
    "ex3_2 = \"\"\"R75,D30,R83,U83,L12,D49,R71,U7,L72\n",
    "U62,R66,U55,R34,D71,R55,D58,R83\"\"\"\n",
    "r1, r2 = ex3_2.split('\\n')\n",
    "grid = add_wire(r1, wirecode=-1)\n",
    "add_wire(r2, grid)\n",
    "print(find_closest(grid))\n",
    "assert find_closest(grid)[0]==159"
   ]
  },
  {
   "cell_type": "code",
   "execution_count": 20,
   "metadata": {},
   "outputs": [
    {
     "name": "stdout",
     "output_type": "stream",
     "text": [
      "(135, (124, 11))\n"
     ]
    }
   ],
   "source": [
    "ex3_3 = \"\"\"R98,U47,R26,D63,R33,U87,L62,D20,R33,U53,R51\n",
    "U98,R91,D20,R16,D67,R40,U7,R15,U6,R7\"\"\"\n",
    "r1, r2 = ex3_3.split('\\n')\n",
    "grid = add_wire(r1, wirecode=-1)\n",
    "add_wire(r2, grid)\n",
    "print(find_closest(grid))\n",
    "assert find_closest(grid)[0]==135"
   ]
  },
  {
   "cell_type": "code",
   "execution_count": 21,
   "metadata": {},
   "outputs": [
    {
     "data": {
      "text/plain": [
       "(280, (-30, -250))"
      ]
     },
     "execution_count": 21,
     "metadata": {},
     "output_type": "execute_result"
    }
   ],
   "source": [
    "input_3 = \"\"\"R990,D362,L316,U101,R352,U798,L314,D564,R961,D634,L203,U601,R973,U227,R996,D639,L868,D135,L977,D201,R911,D486,R906,U719,L546,U324,R302,D200,L879,D206,L872,U681,R628,D272,R511,D827,L929,U915,L399,U696,R412,D640,R234,U487,R789,U354,L620,D914,L7,D228,L55,D591,L250,D228,R816,U935,R553,U98,L833,D418,R582,D793,R804,U283,R859,D206,L842,U663,L935,U495,L995,D181,R75,D33,R126,U489,L894,D675,R33,U239,L623,D931,L830,U63,R77,D576,L85,D415,R443,U603,R654,U495,L273,U583,R10,D648,L840,U904,R489,D655,R997,U559,L614,U917,R809,U540,L41,U519,R256,U111,R29,D603,L931,U518,R443,D51,L788,U483,L665,U890,L392,D701,R907,D125,L438,D107,L266,U766,R743,D343,R898,U293,L318,U417,L23,U44,L668,U614,R83,U31,R452,U823,R16,D418,R68,U823,L53,D638,L394,D714,R992,U196,R913,D526,L458,U428,L412,U901,R610,U348,L904,D815,R274,U439,R207,D81,L20,D507,L179,U249,L221,U603,L897,U490,R127,U99,L709,U925,L818,D777,R292,U935,R801,U331,R412,U759,L698,D53,L969,U492,L502,D137,R513,D999,L808,D618,L240,U378,L284,D726,L609,U530,R537,D36,L504,D26,R244,D692,L186,U767,L690,U182,R559,D926,R706,D132,L325,D846,R494,U238,L519,U655,R57,U658,L471,D717,L964,D346,L448,U286,L457,D504,R614,U652,R583,D780,R882,U417,R573,D297,L144,U347,L254,D589,L387,U309,L88,D510,R435,U636,L640,U801,R774,U678,R247,D846,L775,U527,L225,U798,R577,U897,R11,U153,L297,D748,L284,U806,R512,U906,L181,U39,R264,D47,L561,D441,L181,U210,L278,U998,R256,D278,R350,U466,L335,D310,L4,U298,L531,D423,R851,U285,L235,D139,R209,U882,R801,D36,L777,D153,L63\n",
    "L995,D598,R577,U346,L797,D375,R621,D709,R781,U55,R965,U327,L479,U148,L334,U93,R644,U632,L557,D136,L690,D548,R982,D703,L971,U399,R600,D785,L504,U984,R18,U190,L755,D737,L787,D921,R303,U513,L544,U954,L814,U239,R550,D458,R518,D538,R362,D350,L103,U17,L362,D480,L80,U639,L361,D75,L356,D849,R635,U633,R934,U351,L314,U960,R657,U802,L687,U385,L558,D984,L996,U765,L147,D366,R908,U981,R44,U336,R396,U85,R819,D582,L21,D920,L627,D103,R922,U195,L412,D385,L159,U446,L152,U400,L303,U549,R734,D709,R661,U430,R177,U857,L53,U555,R35,D919,L163,D630,L162,U259,R46,D89,R965,D410,R37,U39,R621,D606,L816,D659,L668,D418,L775,D911,R296,U488,L129,U869,L455,U663,L942,U813,L274,D677,R161,D338,R455,D580,R976,D984,L336,U742,R334,U130,L210,U523,R958,U177,R126,U469,L513,D14,L772,D423,L369,D661,R167,D449,L685,U871,L930,U630,L54,D581,L921,U839,R782,D844,L581,D995,R110,U365,L594,D595,R391,D298,R297,U469,L148,D34,R5,D609,L654,U172,R940,D858,L682,D92,R395,D683,R947,U311,L850,U151,R452,U641,L599,D640,R86,U584,L518,D597,L724,D282,L691,D957,L119,U30,L8,D514,R237,U599,R775,U413,R802,D132,R925,U133,L980,D981,R272,U632,R995,U427,R770,D722,L817,D609,R590,D799,L699,U923,L881,U893,R79,U327,L405,D669,L702,D612,R895,D132,R420,U958,L955,U993,L817,D492,R453,D342,L575,D253,R97,U54,R456,U748,L912,U661,L987,D182,L816,U218,R933,D797,L207,D71,R546,U578,L894,D536,L253,D525,L164,D673,R784,U915,L774,U586,R733,D80,L510,U449,L403,D915,L612,D325,L470,U179,L460,U405,R297,D803,R637,U893,R565,U952,R550,U936,R378,D932,L669\"\"\"\n",
    "\n",
    "r1, r2 = input_3.split('\\n')\n",
    "grid = add_wire(r1, wirecode=-1)\n",
    "add_wire(r2, grid)\n",
    "find_closest(grid)"
   ]
  },
  {
   "cell_type": "markdown",
   "metadata": {},
   "source": [
    "### Part 2"
   ]
  },
  {
   "cell_type": "code",
   "execution_count": 31,
   "metadata": {},
   "outputs": [],
   "source": [
    "def find_intersections(grid1, grid2):\n",
    "    mind = float('inf')\n",
    "    progbar = tqdm(total=len(grid1)*len(grid2))\n",
    "    for (dx1, dy1), d1 in grid1.items():\n",
    "        for (dx2, dy2), d2 in grid2.items():\n",
    "            progbar.update(1)\n",
    "            if dx1==dx2 and dy1==dy2:\n",
    "                mind = min(mind, d1+d2)\n",
    "                print('intersect', dx1, dy1,'distance', d1+d2)\n",
    "    return mind"
   ]
  },
  {
   "cell_type": "code",
   "execution_count": 94,
   "metadata": {},
   "outputs": [],
   "source": [
    "#numpy-ified\n",
    "from scipy import spatial\n",
    "\n",
    "def find_intersections(grid1, grid2):\n",
    "    idxs1 = np.array(list(grid1.keys()))\n",
    "    idxs2 = np.array(list(grid2.keys()))\n",
    "    kdt1 = spatial.cKDTree(idxs1)\n",
    "    d, idx = kdt1.query(idxs2, p=1)\n",
    "    \n",
    "    match_idxs1 = idx[d==0]\n",
    "    match_idxs2 = np.arange(len(idxs2))[d==0]\n",
    "    \n",
    "    vals1 = np.array(list(grid1.values()))\n",
    "    vals2 = np.array(list(grid2.values()))\n",
    "    \n",
    "    mind = float('inf')\n",
    "    for idx1, idx2 in zip(match_idxs1, match_idxs2):\n",
    "        val1 = vals1[idx1]\n",
    "        val2 = vals2[idx2]\n",
    "        print('intersect', idxs1[idx1],'distance', val1+val2)\n",
    "        mind = min(mind, val1+val2)\n",
    "    \n",
    "    return mind"
   ]
  },
  {
   "cell_type": "code",
   "execution_count": 95,
   "metadata": {},
   "outputs": [
    {
     "name": "stdout",
     "output_type": "stream",
     "text": [
      "intersect [6 5] distance 30\n",
      "intersect [3 3] distance 40\n"
     ]
    }
   ],
   "source": [
    "r1, r2 = ex3.split('\\n')\n",
    "grid1 = add_wire(r1, wirecode='distance')\n",
    "grid2 = add_wire(r2, wirecode='distance')\n",
    "assert find_intersections(grid1, grid2) == 30"
   ]
  },
  {
   "cell_type": "code",
   "execution_count": 96,
   "metadata": {},
   "outputs": [
    {
     "name": "stdout",
     "output_type": "stream",
     "text": [
      "intersect [146  46] distance 624\n",
      "intersect [155  11] distance 850\n",
      "intersect [155   4] distance 726\n",
      "intersect [158 -12] distance 610\n"
     ]
    }
   ],
   "source": [
    "r1, r2 = ex3_2.split('\\n')\n",
    "grid1 = add_wire(r1, wirecode='distance')\n",
    "grid2 = add_wire(r2, wirecode='distance')\n",
    "assert find_intersections(grid1, grid2) == 610"
   ]
  },
  {
   "cell_type": "code",
   "execution_count": 97,
   "metadata": {},
   "outputs": [
    {
     "name": "stdout",
     "output_type": "stream",
     "text": [
      "intersect [107  71] distance 636\n",
      "intersect [107  51] distance 700\n",
      "intersect [107  47] distance 410\n",
      "intersect [124  11] distance 516\n",
      "intersect [157  18] distance 650\n"
     ]
    }
   ],
   "source": [
    "r1, r2 = ex3_3.split('\\n')\n",
    "grid1 = add_wire(r1, wirecode='distance')\n",
    "grid2 = add_wire(r2, wirecode='distance')\n",
    "assert find_intersections(grid1, grid2) == 410"
   ]
  },
  {
   "cell_type": "code",
   "execution_count": 98,
   "metadata": {},
   "outputs": [
    {
     "name": "stdout",
     "output_type": "stream",
     "text": [
      "intersect [ -297 -1336] distance 51064\n",
      "intersect [  715 -1281] distance 55070\n",
      "intersect [ 673 -905] distance 61528\n",
      "intersect [ 456 -806] distance 52176\n",
      "intersect [ 452 -806] distance 58040\n",
      "intersect [ 442 -806] distance 57440\n",
      "intersect [ 442 -713] distance 57832\n",
      "intersect [ 452 -713] distance 58266\n",
      "intersect [ 456 -713] distance 52410\n",
      "intersect [ 983 -362] distance 10554\n",
      "intersect [ 983 -346] distance 64164\n",
      "intersect [ 983 -328] distance 52410\n",
      "intersect [ 983 -261] distance 11374\n",
      "intersect [484 -81] distance 65692\n",
      "intersect [-264 -250] distance 63154\n",
      "intersect [ 101 -765] distance 64914\n",
      "intersect [ 442 -765] distance 61590\n",
      "intersect [ 452 -765] distance 62128\n",
      "intersect [ 456 -765] distance 56272\n",
      "intersect [ 718 -905] distance 66428\n",
      "intersect [  715 -1468] distance 61596\n",
      "intersect [ -253 -1259] distance 59620\n",
      "intersect [ -253 -1154] distance 65476\n",
      "intersect [  347 -1154] distance 65646\n",
      "intersect [  347 -1259] distance 60000\n",
      "intersect [  347 -1584] distance 63594\n",
      "intersect [   61 -1854] distance 63594\n",
      "intersect [ -157 -1259] distance 62198\n",
      "intersect [ -157 -1154] distance 68054\n",
      "intersect [-388 -680] distance 69500\n",
      "intersect [611 571] distance 114072\n",
      "intersect [712 205] distance 61686\n",
      "intersect [1026  205] distance 61022\n",
      "intersect [1227  205] distance 81726\n",
      "intersect [1269  108] distance 100690\n",
      "intersect [1269  -27] distance 63264\n",
      "intersect [1269 -160] distance 81726\n",
      "intersect [1098 -401] distance 114238\n",
      "intersect [1079 -401] distance 102486\n",
      "intersect [1046 -401] distance 102154\n",
      "intersect [ 456 -401] distance 103878\n",
      "intersect [ 453 -905] distance 114238\n",
      "intersect [  452 -1060] distance 111060\n",
      "intersect [  442 -1060] distance 109952\n",
      "intersect [ -215 -1154] distance 112582\n",
      "intersect [ -215 -1259] distance 106936\n",
      "intersect [ -297 -1478] distance 107818\n",
      "intersect [-388 -740] distance 127280\n",
      "intersect [ -30 -250] distance 128976\n"
     ]
    },
    {
     "data": {
      "text/plain": [
       "10554"
      ]
     },
     "execution_count": 98,
     "metadata": {},
     "output_type": "execute_result"
    }
   ],
   "source": [
    "r1, r2 = input_3.split('\\n')\n",
    "grid1 = add_wire(r1, wirecode='distance')\n",
    "grid2 = add_wire(r2, wirecode='distance')\n",
    "find_intersections(grid1, grid2)"
   ]
  },
  {
   "cell_type": "markdown",
   "metadata": {},
   "source": [
    "# 4 - https://adventofcode.com/2019/day/4"
   ]
  },
  {
   "cell_type": "code",
   "execution_count": 133,
   "metadata": {},
   "outputs": [
    {
     "data": {
      "application/vnd.jupyter.widget-view+json": {
       "model_id": "43912a314cfe4200b52fa3b76600c29f",
       "version_major": 2,
       "version_minor": 0
      },
      "text/plain": [
       "HBox(children=(FloatProgress(value=0.0, max=2.0), HTML(value='')))"
      ]
     },
     "metadata": {},
     "output_type": "display_data"
    },
    {
     "name": "stdout",
     "output_type": "stream",
     "text": [
      "\n"
     ]
    }
   ],
   "source": [
    "def pw_options(start, end):\n",
    "    valids = []\n",
    "    for i in tqdm(range(start, end+1)):\n",
    "        doubles = False\n",
    "        digits = np.array(list(str(i))).astype(int)\n",
    "        for d1, d2 in zip(digits[1:], digits[:-1]):\n",
    "            if d1 == d2:\n",
    "                doubles = True\n",
    "            if d1<d2:\n",
    "                break\n",
    "                \n",
    "        else:\n",
    "            if doubles:\n",
    "                valids.append(i)\n",
    "    return np.array(valids)\n",
    "assert pw_options(111110, 111111) == np.array([111111])"
   ]
  },
  {
   "cell_type": "code",
   "execution_count": 120,
   "metadata": {},
   "outputs": [
    {
     "data": {
      "application/vnd.jupyter.widget-view+json": {
       "model_id": "fbc19522373c4d798e663e45bbfa4989",
       "version_major": 2,
       "version_minor": 0
      },
      "text/plain": [
       "HBox(children=(FloatProgress(value=0.0, max=1.0), HTML(value='')))"
      ]
     },
     "metadata": {},
     "output_type": "display_data"
    },
    {
     "name": "stdout",
     "output_type": "stream",
     "text": [
      "\n"
     ]
    }
   ],
   "source": [
    "assert len(pw_options(223450, 223450))==0"
   ]
  },
  {
   "cell_type": "code",
   "execution_count": 121,
   "metadata": {},
   "outputs": [
    {
     "data": {
      "application/vnd.jupyter.widget-view+json": {
       "model_id": "edb4848afe794b9ab7e993e1ce247d19",
       "version_major": 2,
       "version_minor": 0
      },
      "text/plain": [
       "HBox(children=(FloatProgress(value=0.0, max=1.0), HTML(value='')))"
      ]
     },
     "metadata": {},
     "output_type": "display_data"
    },
    {
     "name": "stdout",
     "output_type": "stream",
     "text": [
      "\n"
     ]
    }
   ],
   "source": [
    "assert len(pw_options(123789, 123789))==0"
   ]
  },
  {
   "cell_type": "code",
   "execution_count": 135,
   "metadata": {},
   "outputs": [
    {
     "data": {
      "application/vnd.jupyter.widget-view+json": {
       "model_id": "0cfdfd2e403945d1a12cec9ed58df787",
       "version_major": 2,
       "version_minor": 0
      },
      "text/plain": [
       "HBox(children=(FloatProgress(value=0.0, max=450596.0), HTML(value='')))"
      ]
     },
     "metadata": {},
     "output_type": "display_data"
    },
    {
     "name": "stdout",
     "output_type": "stream",
     "text": [
      "\n"
     ]
    },
    {
     "data": {
      "text/plain": [
       "1929"
      ]
     },
     "execution_count": 135,
     "metadata": {},
     "output_type": "execute_result"
    }
   ],
   "source": [
    "len(pw_options(134564, 585159))"
   ]
  },
  {
   "cell_type": "markdown",
   "metadata": {},
   "source": [
    "### Part 2"
   ]
  },
  {
   "cell_type": "code",
   "execution_count": 167,
   "metadata": {},
   "outputs": [
    {
     "data": {
      "application/vnd.jupyter.widget-view+json": {
       "model_id": "a53e9ccf1eec47b58698f887b8a3df1e",
       "version_major": 2,
       "version_minor": 0
      },
      "text/plain": [
       "HBox(children=(FloatProgress(value=0.0, max=450596.0), HTML(value='')))"
      ]
     },
     "metadata": {},
     "output_type": "display_data"
    },
    {
     "name": "stdout",
     "output_type": "stream",
     "text": [
      "\n"
     ]
    },
    {
     "data": {
      "text/plain": [
       "1306"
      ]
     },
     "execution_count": 167,
     "metadata": {},
     "output_type": "execute_result"
    }
   ],
   "source": [
    "def pw_ops2(start, end):\n",
    "    options = pw_options(start, end)\n",
    "    still_options = []\n",
    "    for op in options:\n",
    "        last = 'a'\n",
    "        repeats = 0\n",
    "        set2 = False\n",
    "        for c in repr(op):\n",
    "            if last == c:\n",
    "                repeats += 1\n",
    "            else:\n",
    "                if repeats == 1:\n",
    "                    set2 = True\n",
    "                repeats = 0\n",
    "            last = c\n",
    "        if repeats == 1:\n",
    "            set2 = True\n",
    "#         still_options.append(repeats)\n",
    "        if set2:\n",
    "            still_options.append(op)\n",
    "    return still_options\n",
    "len(pw_ops2(134564, 585159))"
   ]
  },
  {
   "cell_type": "markdown",
   "metadata": {},
   "source": [
    "# 5 - https://adventofcode.com/2019/day/5"
   ]
  },
  {
   "cell_type": "markdown",
   "metadata": {},
   "source": [
    "Rebuild Intcode computer as a class"
   ]
  },
  {
   "cell_type": "code",
   "execution_count": 541,
   "metadata": {},
   "outputs": [
    {
     "name": "stdout",
     "output_type": "stream",
     "text": [
      "[1, 0, 0, 0, 99] [ 2  0  0  0 99] [2, 0, 0, 0, 99]\n",
      "[2, 3, 0, 3, 99] [ 2  3  0  6 99] [2, 3, 0, 6, 99]\n",
      "[2, 4, 4, 5, 99, 0] [   2    4    4    5   99 9801] [2, 4, 4, 5, 99, 9801]\n",
      "[1, 1, 1, 4, 99, 5, 6, 0, 99] [30  1  1  4  2  5  6  0 99] [30, 1, 1, 4, 2, 5, 6, 0, 99]\n"
     ]
    }
   ],
   "source": [
    "class Intcoder:\n",
    "    def __init__(self):\n",
    "        self.opfuncs = {}\n",
    "        self.opparams = {}\n",
    "        for nm in dir(self):\n",
    "            if nm.startswith('opcode_'):\n",
    "                codenum = int(nm.split('_')[1])\n",
    "                self.opfuncs[codenum] = opc = getattr(self, nm)\n",
    "                self.opparams[codenum] = opp = tuple(nm.split('_')[2])\n",
    "                if len(opp) != 3:\n",
    "                    raise ValueError(f'invalid number of parameters for opcode {opc}: {len(opp)}')\n",
    "                for p in opp:\n",
    "                    if p not in ('r', 'w', '0'):\n",
    "                        raise ValueError(f'invalid param code {p}')\n",
    "        \n",
    "    def opcode_1_rrw(self, a, b):\n",
    "        # add\n",
    "        return a + b\n",
    "        \n",
    "    def opcode_2_rrw(self, a, b):\n",
    "        # mul\n",
    "        return a * b\n",
    "        \n",
    "    def opcode_99_000(self):\n",
    "        # done\n",
    "        raise StopIteration('hit opcode 99')\n",
    "        \n",
    "    def decode_opcode(self, code):\n",
    "        scode = str(code)\n",
    "        codenum = int(scode[-2:])\n",
    "        argmode1 = argmode2 = argmode3 = 0\n",
    "        if len(scode) > 2:\n",
    "            argmode1 = int(scode[-3])\n",
    "        if len(scode) > 3:\n",
    "            argmode2 = int(scode[-4])\n",
    "        if len(scode) > 4:\n",
    "            argmode3 = int(scode[-5])\n",
    "        return codenum, (argmode1, argmode2, argmode3)\n",
    "        \n",
    "    def run_on_buffer(self, buffer, reset_iptr=True):\n",
    "        if reset_iptr:\n",
    "            self.i_ptr = 0\n",
    "        while self.i_ptr < len(buffer):\n",
    "            ni = 1\n",
    "            codenum, argmodes = self.decode_opcode(buffer[self.i_ptr])\n",
    "            args = []\n",
    "            writeidx = None\n",
    "            for j, (par, mode) in enumerate(zip(self.opparams[codenum], argmodes)):\n",
    "                buffer_idx = self.i_ptr + j + 1\n",
    "                if par == 'w':\n",
    "                    ni += 1\n",
    "                    if mode == 1:\n",
    "                        raise ValueError('write parameters cannot be immediate')\n",
    "                    else:\n",
    "                        writeidx = buffer[buffer_idx]\n",
    "                elif par == 'r':\n",
    "                    ni += 1\n",
    "                    if mode == 1:\n",
    "                        args.append(buffer[buffer_idx])\n",
    "                    elif mode == 0:\n",
    "                        args.append(buffer[buffer[buffer_idx]])\n",
    "            \n",
    "            self.i_ptr += ni  # setting it here allows opfuncs to reset it to somewhere arbitrary\n",
    "            try:\n",
    "                res = self.opfuncs[codenum](*args)\n",
    "                if writeidx is not None:\n",
    "                    buffer[writeidx] = res\n",
    "            except StopIteration:\n",
    "                return True\n",
    "            \n",
    "        raise ValueError('program did not terminate')\n",
    "        \n",
    "test_sets  = [([1,0,0,0,99], [2,0,0,0,99]),\n",
    "              ([2,3,0,3,99], [2,3,0,6,99]),\n",
    "              ([2,4,4,5,99,0], [2,4,4,5,99,9801]),\n",
    "              ([1,1,1,4,99,5,6,0,99], [30,1,1,4,2,5,6,0,99])\n",
    "             ]\n",
    "\n",
    "cer = Intcoder()\n",
    "for inp, outp in test_sets:\n",
    "    buffer = np.array(inp)\n",
    "    cer.run_on_buffer(buffer)\n",
    "    print(inp, buffer, outp)\n",
    "    assert np.all(buffer == np.array(outp))"
   ]
  },
  {
   "cell_type": "code",
   "execution_count": 542,
   "metadata": {},
   "outputs": [],
   "source": [
    "class Intcoder5(Intcoder):\n",
    "    def __init__(self, *args, **kwargs):\n",
    "        self.inputs = kwargs.pop('inputs', None )\n",
    "        self.outputs = []\n",
    "        self.verbose = True\n",
    "        \n",
    "        super().__init__(*args, **kwargs)\n",
    "        \n",
    "    def opcode_3_w00(self):\n",
    "        # input\n",
    "        if self.inputs is None:\n",
    "            return int(input('Input:'))\n",
    "        else:\n",
    "            return next(self.inputs)\n",
    "\n",
    "    def opcode_4_r00(self, a):\n",
    "        # output\n",
    "        if self.verbose:\n",
    "            print('Output:', a)\n",
    "        self.outputs.append(a)"
   ]
  },
  {
   "cell_type": "code",
   "execution_count": 444,
   "metadata": {},
   "outputs": [
    {
     "name": "stdout",
     "output_type": "stream",
     "text": [
      "Output: 0\n"
     ]
    },
    {
     "data": {
      "text/plain": [
       "True"
      ]
     },
     "execution_count": 444,
     "metadata": {},
     "output_type": "execute_result"
    }
   ],
   "source": [
    "i5 = Intcoder5()\n",
    "\n",
    "buffer = [4, 50, 99] + [0]*48\n",
    "i5.run_on_buffer(buffer)"
   ]
  },
  {
   "cell_type": "code",
   "execution_count": 272,
   "metadata": {},
   "outputs": [],
   "source": [
    "input_5 = '3,225,1,225,6,6,1100,1,238,225,104,0,1101,82,10,225,101,94,44,224,101,-165,224,224,4,224,1002,223,8,223,101,3,224,224,1,224,223,223,1102,35,77,225,1102,28,71,225,1102,16,36,225,102,51,196,224,101,-3468,224,224,4,224,102,8,223,223,1001,224,7,224,1,223,224,223,1001,48,21,224,101,-57,224,224,4,224,1002,223,8,223,101,6,224,224,1,223,224,223,2,188,40,224,1001,224,-5390,224,4,224,1002,223,8,223,101,2,224,224,1,224,223,223,1101,9,32,224,101,-41,224,224,4,224,1002,223,8,223,1001,224,2,224,1,223,224,223,1102,66,70,225,1002,191,28,224,101,-868,224,224,4,224,102,8,223,223,101,5,224,224,1,224,223,223,1,14,140,224,101,-80,224,224,4,224,1002,223,8,223,101,2,224,224,1,224,223,223,1102,79,70,225,1101,31,65,225,1101,11,68,225,1102,20,32,224,101,-640,224,224,4,224,1002,223,8,223,1001,224,5,224,1,224,223,223,4,223,99,0,0,0,677,0,0,0,0,0,0,0,0,0,0,0,1105,0,99999,1105,227,247,1105,1,99999,1005,227,99999,1005,0,256,1105,1,99999,1106,227,99999,1106,0,265,1105,1,99999,1006,0,99999,1006,227,274,1105,1,99999,1105,1,280,1105,1,99999,1,225,225,225,1101,294,0,0,105,1,0,1105,1,99999,1106,0,300,1105,1,99999,1,225,225,225,1101,314,0,0,106,0,0,1105,1,99999,8,226,226,224,1002,223,2,223,1006,224,329,101,1,223,223,1008,677,677,224,102,2,223,223,1006,224,344,101,1,223,223,1107,226,677,224,102,2,223,223,1005,224,359,101,1,223,223,1008,226,226,224,1002,223,2,223,1006,224,374,1001,223,1,223,1108,677,226,224,1002,223,2,223,1006,224,389,1001,223,1,223,7,677,226,224,1002,223,2,223,1006,224,404,101,1,223,223,7,226,226,224,1002,223,2,223,1005,224,419,101,1,223,223,8,226,677,224,1002,223,2,223,1006,224,434,1001,223,1,223,7,226,677,224,1002,223,2,223,1006,224,449,1001,223,1,223,107,226,677,224,1002,223,2,223,1005,224,464,1001,223,1,223,1007,677,677,224,102,2,223,223,1005,224,479,101,1,223,223,1007,226,226,224,102,2,223,223,1005,224,494,1001,223,1,223,1108,226,677,224,102,2,223,223,1005,224,509,101,1,223,223,1008,677,226,224,102,2,223,223,1005,224,524,1001,223,1,223,1007,677,226,224,102,2,223,223,1005,224,539,101,1,223,223,1108,226,226,224,1002,223,2,223,1005,224,554,101,1,223,223,108,226,226,224,102,2,223,223,1005,224,569,101,1,223,223,108,677,677,224,102,2,223,223,1005,224,584,101,1,223,223,1107,226,226,224,1002,223,2,223,1006,224,599,101,1,223,223,8,677,226,224,1002,223,2,223,1006,224,614,1001,223,1,223,108,677,226,224,102,2,223,223,1006,224,629,1001,223,1,223,1107,677,226,224,1002,223,2,223,1006,224,644,1001,223,1,223,107,677,677,224,102,2,223,223,1005,224,659,101,1,223,223,107,226,226,224,102,2,223,223,1006,224,674,1001,223,1,223,4,223,99,226'"
   ]
  },
  {
   "cell_type": "code",
   "execution_count": 279,
   "metadata": {},
   "outputs": [
    {
     "name": "stdin",
     "output_type": "stream",
     "text": [
      "Input: 1\n"
     ]
    },
    {
     "name": "stdout",
     "output_type": "stream",
     "text": [
      "Output: 0\n",
      "Output: 0\n",
      "Output: 0\n",
      "Output: 0\n",
      "Output: 0\n",
      "Output: 0\n",
      "Output: 0\n",
      "Output: 0\n",
      "Output: 0\n",
      "Output: 8332629\n"
     ]
    },
    {
     "data": {
      "text/plain": [
       "True"
      ]
     },
     "execution_count": 279,
     "metadata": {},
     "output_type": "execute_result"
    }
   ],
   "source": [
    "buffer = [int(i) for i in input_5.split(',')]\n",
    "i5.run_on_buffer(buffer)"
   ]
  },
  {
   "cell_type": "markdown",
   "metadata": {},
   "source": [
    "### Part 2"
   ]
  },
  {
   "cell_type": "code",
   "execution_count": 543,
   "metadata": {},
   "outputs": [],
   "source": [
    "class IntCoder52(Intcoder5):\n",
    "    def opcode_5_rr0(self, a, b):\n",
    "        # jump-if-true\n",
    "        if a != 0:\n",
    "            self.i_ptr = b\n",
    "            \n",
    "    def opcode_6_rr0(self, a, b):\n",
    "        # jump-if-false\n",
    "        if a == 0:\n",
    "            self.i_ptr = b\n",
    "            \n",
    "    def opcode_7_rrw(self, a, b):\n",
    "        # less than\n",
    "        if a < b:\n",
    "            return 1\n",
    "        else:\n",
    "            return 0\n",
    "        \n",
    "            \n",
    "    def opcode_8_rrw(self, a, b):\n",
    "        # equals\n",
    "        if a == b:\n",
    "            return 1\n",
    "        else:\n",
    "            return 0\n",
    "        \n",
    "i52 = Intcoder52()"
   ]
  },
  {
   "cell_type": "code",
   "execution_count": 299,
   "metadata": {},
   "outputs": [
    {
     "name": "stdin",
     "output_type": "stream",
     "text": [
      "Input: 1\n"
     ]
    },
    {
     "name": "stdout",
     "output_type": "stream",
     "text": [
      "Output: 0\n"
     ]
    },
    {
     "data": {
      "text/plain": [
       "True"
      ]
     },
     "execution_count": 299,
     "metadata": {},
     "output_type": "execute_result"
    }
   ],
   "source": [
    "# tests if equal to 8\n",
    "buffer = [3,9,8,9,10,9,4,9,99,-1,8]\n",
    "i52.run_on_buffer(buffer)\n",
    "#buffer"
   ]
  },
  {
   "cell_type": "code",
   "execution_count": 300,
   "metadata": {},
   "outputs": [
    {
     "name": "stdin",
     "output_type": "stream",
     "text": [
      "Input: 8\n"
     ]
    },
    {
     "name": "stdout",
     "output_type": "stream",
     "text": [
      "Output: 1\n"
     ]
    },
    {
     "data": {
      "text/plain": [
       "True"
      ]
     },
     "execution_count": 300,
     "metadata": {},
     "output_type": "execute_result"
    }
   ],
   "source": [
    "# tests if input is zero using jumps\n",
    "buffer = [3,12,6,12,15,1,13,14,13,4,13,99,-1,0,1,9]\n",
    "i52.run_on_buffer(buffer)\n",
    "#buffer"
   ]
  },
  {
   "cell_type": "code",
   "execution_count": 301,
   "metadata": {},
   "outputs": [
    {
     "name": "stdin",
     "output_type": "stream",
     "text": [
      "Input: 0\n"
     ]
    },
    {
     "name": "stdout",
     "output_type": "stream",
     "text": [
      "Output: 0\n"
     ]
    },
    {
     "data": {
      "text/plain": [
       "True"
      ]
     },
     "execution_count": 301,
     "metadata": {},
     "output_type": "execute_result"
    }
   ],
   "source": [
    "# immediate of above\n",
    "\n",
    "buffer = [3,3,1105,-1,9,1101,0,0,12,4,12,99,1]\n",
    "i52.run_on_buffer(buffer)\n",
    "#buffer"
   ]
  },
  {
   "cell_type": "code",
   "execution_count": 302,
   "metadata": {},
   "outputs": [
    {
     "name": "stdin",
     "output_type": "stream",
     "text": [
      "Input: 3\n"
     ]
    },
    {
     "name": "stdout",
     "output_type": "stream",
     "text": [
      "Output: 999\n"
     ]
    },
    {
     "data": {
      "text/plain": [
       "True"
      ]
     },
     "execution_count": 302,
     "metadata": {},
     "output_type": "execute_result"
    }
   ],
   "source": [
    "# \"larger example\"\n",
    "\n",
    "\n",
    "buffer = [3,21,1008,21,8,20,1005,20,22,107,8,21,20,1006,20,31,\n",
    "1106,0,36,98,0,0,1002,21,125,20,4,20,1105,1,46,104,\n",
    "999,1105,1,46,1101,1000,1,20,4,20,1105,1,46,98,99]\n",
    "i52.run_on_buffer(buffer)\n",
    "#buffer"
   ]
  },
  {
   "cell_type": "code",
   "execution_count": 306,
   "metadata": {},
   "outputs": [
    {
     "name": "stdin",
     "output_type": "stream",
     "text": [
      "Input: 5\n"
     ]
    },
    {
     "name": "stdout",
     "output_type": "stream",
     "text": [
      "Output: 8805067\n"
     ]
    },
    {
     "data": {
      "text/plain": [
       "True"
      ]
     },
     "execution_count": 306,
     "metadata": {},
     "output_type": "execute_result"
    }
   ],
   "source": [
    "buffer = [int(i) for i in input_5.split(',')]\n",
    "i52.run_on_buffer(buffer)"
   ]
  },
  {
   "cell_type": "markdown",
   "metadata": {},
   "source": [
    "# 6 - https://adventofcode.com/2019/day/6\n"
   ]
  },
  {
   "cell_type": "code",
   "execution_count": 308,
   "metadata": {},
   "outputs": [],
   "source": [
    "input_6 = \"\"\"R45)497\n",
    "TYR)159\n",
    "RJC)Z1B\n",
    "ZQB)99Z\n",
    "W6M)G8S\n",
    "KPZ)4J3\n",
    "GZ1)88C\n",
    "7DK)FWL\n",
    "1HX)LQV\n",
    "8Y6)JRY\n",
    "JBH)RLS\n",
    "TNC)SDS\n",
    "9SC)KXD\n",
    "XXN)XQC\n",
    "W3P)HHY\n",
    "L4P)3VZ\n",
    "L65)SXG\n",
    "LD4)J5Z\n",
    "8MK)88X\n",
    "1QP)TLB\n",
    "GFZ)SW1\n",
    "LQV)8Q8\n",
    "K8Q)XHQ\n",
    "6H8)JFZ\n",
    "3T3)T2L\n",
    "RGL)R81\n",
    "3HK)XWS\n",
    "GXN)KWT\n",
    "V4C)86B\n",
    "GR8)8QG\n",
    "KQ2)V4C\n",
    "JHQ)KLX\n",
    "XS5)RLY\n",
    "QZZ)RBP\n",
    "Q13)QST\n",
    "1KG)TKJ\n",
    "7DT)82Y\n",
    "3X8)WHG\n",
    "QFS)7TP\n",
    "5VW)8MK\n",
    "GMN)CD9\n",
    "T2L)YF5\n",
    "8NN)DHP\n",
    "VB7)SZL\n",
    "MJP)MZV\n",
    "18C)WS4\n",
    "SW1)3HK\n",
    "TPK)P6Z\n",
    "VG4)64H\n",
    "SVC)GXG\n",
    "9DN)RXQ\n",
    "M41)L1W\n",
    "GHN)K53\n",
    "BWG)R9H\n",
    "VHC)ZYJ\n",
    "XHF)JKB\n",
    "JN4)HTQ\n",
    "NY9)5GB\n",
    "R5Z)X5Y\n",
    "M23)2LV\n",
    "G9M)N1R\n",
    "DL5)2XD\n",
    "66B)BRZ\n",
    "DHY)FC1\n",
    "XNG)NYW\n",
    "2RV)MCV\n",
    "TH4)CZB\n",
    "27D)PQH\n",
    "6DV)TWP\n",
    "7TP)WM2\n",
    "DVZ)VVT\n",
    "C97)1PW\n",
    "JFQ)NG7\n",
    "VX4)H83\n",
    "1LP)BW4\n",
    "BRZ)HQ9\n",
    "SKX)NY9\n",
    "PSL)3P8\n",
    "41N)SVX\n",
    "G63)85M\n",
    "ZR5)W6M\n",
    "BJY)NWT\n",
    "5W3)K2T\n",
    "BS4)RQR\n",
    "3RD)KHX\n",
    "V6F)199\n",
    "MP3)QHY\n",
    "RJ8)8NN\n",
    "8XH)SCQ\n",
    "GLZ)YKY\n",
    "9JD)MB1\n",
    "SK9)ZWR\n",
    "R8S)JYR\n",
    "F31)WMG\n",
    "RXQ)5N8\n",
    "BHM)FK8\n",
    "NNQ)PBH\n",
    "G86)K8Q\n",
    "2DB)BPW\n",
    "5QX)3RD\n",
    "P6P)GXR\n",
    "JWK)L65\n",
    "TQZ)9NX\n",
    "XHQ)KGX\n",
    "X1S)QCT\n",
    "WXH)NPT\n",
    "1WM)6JV\n",
    "FK4)535\n",
    "L82)ZSR\n",
    "MC1)XW4\n",
    "WWN)YKC\n",
    "CTV)CX1\n",
    "JV5)P37\n",
    "Q93)6YW\n",
    "5TP)7MS\n",
    "YW7)GTH\n",
    "JDZ)PY3\n",
    "BSD)M39\n",
    "7BP)RYC\n",
    "CQD)9FC\n",
    "NPT)MJH\n",
    "M5C)V61\n",
    "TXL)YR8\n",
    "YF3)VW9\n",
    "6ZT)XTM\n",
    "NVF)BPK\n",
    "VZ2)WXH\n",
    "82Y)KPZ\n",
    "ZKC)DTZ\n",
    "QH2)DJ2\n",
    "TKK)729\n",
    "881)GKD\n",
    "P95)42J\n",
    "6WD)VXK\n",
    "8RY)2P6\n",
    "WXX)8J9\n",
    "LP9)7B7\n",
    "CNJ)VBY\n",
    "Z7K)VRC\n",
    "M5W)JQ7\n",
    "WK4)4V2\n",
    "ZVF)QLP\n",
    "99Z)Z7R\n",
    "9W5)6TM\n",
    "PS2)Z81\n",
    "QDD)3C7\n",
    "MF9)5CC\n",
    "6JV)DJS\n",
    "FP7)1H7\n",
    "VDH)M85\n",
    "3GF)BNF\n",
    "GT8)HPT\n",
    "K43)DSP\n",
    "8K6)QRM\n",
    "5GC)Z5Z\n",
    "6YW)H6M\n",
    "YQC)5W3\n",
    "1VG)63H\n",
    "LXH)58R\n",
    "BR6)2RB\n",
    "2S4)CKV\n",
    "SDN)ZRB\n",
    "HHY)WKD\n",
    "7QW)V52\n",
    "PC5)LYP\n",
    "9LV)P95\n",
    "LVD)Q8M\n",
    "CT8)4PS\n",
    "B8L)PND\n",
    "C32)8FS\n",
    "ZTM)V8W\n",
    "1TZ)YWS\n",
    "N1R)G2G\n",
    "729)153\n",
    "ZDJ)1PK\n",
    "LXM)TC7\n",
    "9SF)94L\n",
    "7VN)2VC\n",
    "DQS)6YD\n",
    "FCZ)DGP\n",
    "FN3)5WD\n",
    "RBP)Z86\n",
    "7VD)C97\n",
    "KBN)JWK\n",
    "L68)8ZM\n",
    "GVS)JDQ\n",
    "9G7)DCD\n",
    "QSZ)RGW\n",
    "5SY)LDK\n",
    "NKL)MHN\n",
    "ZHB)66B\n",
    "TS4)R8S\n",
    "J9R)RR7\n",
    "N67)1TZ\n",
    "HX8)XXY\n",
    "4JY)9SC\n",
    "LMP)YBH\n",
    "XS9)XXN\n",
    "RZD)WWF\n",
    "JP9)KSD\n",
    "YF5)139\n",
    "6YD)P27\n",
    "Z75)NMM\n",
    "HCC)NVC\n",
    "VVS)PHW\n",
    "8Q8)VF2\n",
    "WGX)V95\n",
    "WMC)V6F\n",
    "2TB)SDN\n",
    "P49)4VS\n",
    "K35)CF1\n",
    "4LD)YDW\n",
    "G96)M5C\n",
    "CJF)DW5\n",
    "ZRB)QMK\n",
    "QSH)P3Z\n",
    "KRV)BCJ\n",
    "DH7)3RP\n",
    "NWT)LZ5\n",
    "PND)QYX\n",
    "5QB)YBG\n",
    "ZHM)ZFT\n",
    "CJJ)BLY\n",
    "YBH)9JL\n",
    "D14)W7S\n",
    "JG9)B41\n",
    "913)CG4\n",
    "LKR)Q8W\n",
    "FNB)1DB\n",
    "BB4)RPY\n",
    "P6Z)FMX\n",
    "HPT)YV6\n",
    "DPD)G1M\n",
    "YV6)JMQ\n",
    "WW9)PVD\n",
    "349)1LJ\n",
    "BH1)LQQ\n",
    "XSM)FX9\n",
    "ZZ7)FTF\n",
    "B41)C8Z\n",
    "7XL)K2Q\n",
    "9L9)NW3\n",
    "YW1)VPF\n",
    "CYK)43W\n",
    "6NX)LP5\n",
    "H1X)Q8J\n",
    "YNQ)3CJ\n",
    "QYX)718\n",
    "VPF)DF7\n",
    "H83)PHV\n",
    "4FP)2L2\n",
    "GRD)YRN\n",
    "918)FTD\n",
    "FF4)LHM\n",
    "HQ9)HFZ\n",
    "DGP)VVS\n",
    "ZP2)9Q1\n",
    "WJC)295\n",
    "2KL)S12\n",
    "PGP)VX4\n",
    "G1M)W4F\n",
    "9WC)GMN\n",
    "YSW)G2Y\n",
    "3Y6)W2J\n",
    "BZX)Y7S\n",
    "K4W)M5W\n",
    "YJX)7DK\n",
    "2LV)N42\n",
    "GXG)DXD\n",
    "5N8)58B\n",
    "8L3)XSM\n",
    "M39)512\n",
    "QFD)5ZH\n",
    "J2S)JNX\n",
    "KBN)XCQ\n",
    "WGN)TD3\n",
    "D2H)SHC\n",
    "QZF)897\n",
    "GTJ)FTC\n",
    "3ZN)99C\n",
    "3T9)GJV\n",
    "497)FRF\n",
    "S8V)MF9\n",
    "HVY)2XK\n",
    "T31)42Y\n",
    "295)3FB\n",
    "NGP)3GF\n",
    "3HJ)MG2\n",
    "9TC)M6M\n",
    "W7S)M1L\n",
    "G1F)414\n",
    "M3K)7J5\n",
    "M9M)P3J\n",
    "93H)K1Q\n",
    "YRN)D53\n",
    "BPW)TSP\n",
    "1HX)BZW\n",
    "G3G)9ZM\n",
    "LVJ)D14\n",
    "BQJ)DPD\n",
    "C81)NPP\n",
    "WC4)3T9\n",
    "CX1)D9K\n",
    "DTZ)1SQ\n",
    "CN3)HKD\n",
    "YX5)4NQ\n",
    "DZY)RPR\n",
    "897)NKG\n",
    "FQG)BJM\n",
    "KWT)PYH\n",
    "MZV)17Y\n",
    "DSL)ZGT\n",
    "T2Q)727\n",
    "TDR)V33\n",
    "WBP)FPB\n",
    "2Y3)1KG\n",
    "12V)X1X\n",
    "9ZR)NFW\n",
    "PMN)QFD\n",
    "11H)2S4\n",
    "PHV)2WM\n",
    "JTJ)CK7\n",
    "92T)6QK\n",
    "LNG)XJM\n",
    "K8B)LVD\n",
    "9H5)94G\n",
    "1K4)X5G\n",
    "9XC)BS4\n",
    "2RB)KQ2\n",
    "MP3)SM2\n",
    "JZQ)SW2\n",
    "542)PZB\n",
    "HCR)FRW\n",
    "NDY)QFS\n",
    "DXZ)D86\n",
    "5WD)XGT\n",
    "PRB)VB4\n",
    "5DL)9H5\n",
    "XGG)LNG\n",
    "43W)5CJ\n",
    "681)RM3\n",
    "5CJ)RJ8\n",
    "DGP)QPF\n",
    "7GH)96T\n",
    "BPP)PYY\n",
    "GJ8)LVX\n",
    "2P6)4KS\n",
    "WSP)8XH\n",
    "YMN)8QQ\n",
    "9NC)Y1S\n",
    "ZCT)3FM\n",
    "8J9)K1V\n",
    "Q16)JBH\n",
    "FPB)K8B\n",
    "7PF)ZR5\n",
    "RFV)84Q\n",
    "YKQ)TPK\n",
    "M31)RXR\n",
    "Q4L)NHQ\n",
    "KSV)FPS\n",
    "JBR)TYR\n",
    "4B9)FHK\n",
    "S9X)M9M\n",
    "4HT)783\n",
    "J5D)9WC\n",
    "ZCB)6HJ\n",
    "SBH)QQ6\n",
    "VF2)PVS\n",
    "JRY)5DL\n",
    "ZY6)PNV\n",
    "ZRH)P4P\n",
    "2BQ)XTT\n",
    "CKV)SCR\n",
    "MQ7)VGW\n",
    "6SM)BZX\n",
    "MVN)1NL\n",
    "FWL)LMP\n",
    "DV9)3N2\n",
    "NG7)VG4\n",
    "7QK)8XR\n",
    "8QG)G63\n",
    "DW5)ZKC\n",
    "G8S)7GH\n",
    "DSP)T43\n",
    "X8T)FP7\n",
    "DDQ)3RN\n",
    "Q6K)CN3\n",
    "64H)X6N\n",
    "DTZ)XH2\n",
    "Z81)HTX\n",
    "YMN)SCZ\n",
    "FCL)PCC\n",
    "V6L)LQX\n",
    "KSD)RTH\n",
    "WXV)YKT\n",
    "RTH)52B\n",
    "N5B)MP1\n",
    "RRJ)8G9\n",
    "7B7)VXT\n",
    "9WW)DZY\n",
    "Y55)ZY8\n",
    "Z1B)TM8\n",
    "82Y)N8G\n",
    "C97)29K\n",
    "JXK)4N1\n",
    "WRP)BP9\n",
    "6H9)VDH\n",
    "SZP)84F\n",
    "414)NNQ\n",
    "Z6X)P3N\n",
    "P3J)9XZ\n",
    "2QB)8SJ\n",
    "VSC)8CS\n",
    "XBT)92T\n",
    "X27)6H9\n",
    "GLZ)B5L\n",
    "L13)DHJ\n",
    "J5Q)432\n",
    "69N)L2Q\n",
    "VGZ)PMN\n",
    "MCV)P9P\n",
    "34F)12V\n",
    "RX9)MJP\n",
    "QJN)BB4\n",
    "4KS)T28\n",
    "9ZB)8GT\n",
    "99C)LST\n",
    "P4P)YMG\n",
    "C9X)9XC\n",
    "M9B)KG8\n",
    "V1B)DL5\n",
    "1H7)7X8\n",
    "RK2)KPF\n",
    "KWN)M31\n",
    "718)JK9\n",
    "ZR4)7BP\n",
    "W3J)YNQ\n",
    "38B)X8T\n",
    "YBG)HF2\n",
    "NPP)GZ1\n",
    "81K)X1S\n",
    "RGW)G1F\n",
    "Y1S)5QB\n",
    "36R)BWG\n",
    "38W)131\n",
    "YTR)LJC\n",
    "71P)NR1\n",
    "H94)Z1N\n",
    "3N2)27J\n",
    "4LD)ZHM\n",
    "81K)4RT\n",
    "NPQ)RYY\n",
    "727)H4Q\n",
    "YTR)H94\n",
    "RM3)N7S\n",
    "HQ9)BZG\n",
    "3P8)GZQ\n",
    "JHP)D2V\n",
    "FXW)Q13\n",
    "7F9)56W\n",
    "7S8)NJT\n",
    "1M5)4LD\n",
    "5ZH)3YB\n",
    "KWR)RX4\n",
    "X6N)4RR\n",
    "G8S)ZR4\n",
    "RXR)6Q2\n",
    "5CC)GMC\n",
    "S9X)QSZ\n",
    "TC7)57R\n",
    "JGZ)2KL\n",
    "YR8)FQG\n",
    "QCT)BYH\n",
    "DCD)MX7\n",
    "ZD9)1TP\n",
    "LQX)JNR\n",
    "PYY)YW1\n",
    "YQ3)H7C\n",
    "R6X)XG1\n",
    "TXG)TMQ\n",
    "TWR)YF3\n",
    "MMN)M23\n",
    "5YF)9SF\n",
    "V61)PWP\n",
    "PZ6)QZF\n",
    "KG8)PRB\n",
    "L94)N7V\n",
    "XCQ)5JX\n",
    "L1C)PS2\n",
    "R81)P57\n",
    "SCZ)GMM\n",
    "TD3)3T3\n",
    "HZ4)TDR\n",
    "RR7)V6L\n",
    "4VS)R92\n",
    "Z5Z)73W\n",
    "HPR)ZVF\n",
    "G6S)5TC\n",
    "XPZ)RQZ\n",
    "42J)TWR\n",
    "X6N)XWW\n",
    "127)JN4\n",
    "BHX)9H6\n",
    "LP5)QSH\n",
    "7BT)JRR\n",
    "XTM)R9W\n",
    "JQ7)7X5\n",
    "YKY)4P5\n",
    "YMG)SQQ\n",
    "VW9)1HX\n",
    "XWW)GR8\n",
    "QGM)K55\n",
    "GHQ)XPZ\n",
    "799)21X\n",
    "NW3)6WD\n",
    "YNQ)MVX\n",
    "Q8W)YL3\n",
    "HKD)DXF\n",
    "NL6)TNC\n",
    "WKD)RP2\n",
    "FX9)6ZT\n",
    "733)41N\n",
    "SHC)FXR\n",
    "C9R)5GJ\n",
    "9TS)DCP\n",
    "4N1)W3P\n",
    "LJC)WJC\n",
    "PYH)J5Q\n",
    "8SJ)4JY\n",
    "25P)GXN\n",
    "94G)C81\n",
    "HTQ)862\n",
    "CT4)KRV\n",
    "W4F)2BQ\n",
    "HF2)V48\n",
    "458)K4W\n",
    "FYP)GLZ\n",
    "1BF)MZB\n",
    "MJK)68F\n",
    "1SQ)JV5\n",
    "BMN)JP9\n",
    "NPP)XHF\n",
    "C8Z)1LP\n",
    "LXF)HVY\n",
    "BKC)RNR\n",
    "F3H)Z6F\n",
    "PZB)38W\n",
    "NHQ)XKZ\n",
    "32T)ZP2\n",
    "MB1)D2H\n",
    "B63)MYQ\n",
    "Y31)KBN\n",
    "FC1)D43\n",
    "SCR)9TS\n",
    "6QK)DSL\n",
    "X5Y)P65\n",
    "GRG)M1M\n",
    "PBH)1K4\n",
    "HNR)ZCT\n",
    "SPP)CSB\n",
    "GXF)NM8\n",
    "J5Z)TTK\n",
    "94L)WW6\n",
    "COM)7VN\n",
    "3RN)TCS\n",
    "YQC)T16\n",
    "ZG1)VD1\n",
    "GZQ)BKC\n",
    "PYP)GJR\n",
    "KRX)WDT\n",
    "XJM)DHY\n",
    "PVS)BJY\n",
    "927)LD4\n",
    "DJH)NYX\n",
    "1DB)QLX\n",
    "3CC)4J4\n",
    "3FB)PTC\n",
    "NVC)18C\n",
    "2ZR)WGX\n",
    "29K)ZZ7\n",
    "GJV)SBH\n",
    "FTD)9ZR\n",
    "MT2)PR3\n",
    "LSS)RYT\n",
    "7FG)SL4\n",
    "9QT)27D\n",
    "FTF)G96\n",
    "DHP)DV7\n",
    "PY3)881\n",
    "KX1)L82\n",
    "KPF)V72\n",
    "D9K)LKS\n",
    "L99)NV9\n",
    "DF7)J3D\n",
    "BZG)R45\n",
    "KTR)L99\n",
    "B1X)G4G\n",
    "V77)32T\n",
    "ZP1)V5G\n",
    "V3G)7ZH\n",
    "7J6)6RB\n",
    "DXF)R8G\n",
    "8FS)GRV\n",
    "WWF)JDZ\n",
    "17Y)BMG\n",
    "DFQ)Y7W\n",
    "8VB)Y1Z\n",
    "GKD)CJJ\n",
    "88X)HNR\n",
    "Z1N)L94\n",
    "681)QJN\n",
    "4RV)HMD\n",
    "SCQ)Z75\n",
    "HH3)6TJ\n",
    "LX1)2RV\n",
    "7TX)XNG\n",
    "RQR)2Y3\n",
    "TS4)NGL\n",
    "F8L)TXG\n",
    "NM8)4HT\n",
    "PVD)5WC\n",
    "PG1)WW9\n",
    "QJY)4B9\n",
    "88C)RGL\n",
    "L1Q)1XB\n",
    "DR4)MVN\n",
    "3X2)8TP\n",
    "CG4)RVJ\n",
    "PF7)BR6\n",
    "YLJ)KX1\n",
    "KS8)SKX\n",
    "1PW)DJH\n",
    "DV9)J5D\n",
    "5JX)4LL\n",
    "H27)JW5\n",
    "PHW)127\n",
    "BYH)27N\n",
    "71V)WSP\n",
    "VL2)J64\n",
    "TC7)5TP\n",
    "JNR)DJF\n",
    "SQQ)R6X\n",
    "RMD)458\n",
    "T2Q)LSS\n",
    "9XZ)1QP\n",
    "S1H)QDP\n",
    "SST)3N8\n",
    "XKZ)FN3\n",
    "QQ6)VZ2\n",
    "DH7)DCH\n",
    "112)ZCN\n",
    "B3G)HX8\n",
    "LCZ)3WP\n",
    "4RR)3ZN\n",
    "PCC)BPP\n",
    "QST)NKL\n",
    "NYX)F3N\n",
    "84F)HKL\n",
    "CZB)2V6\n",
    "YWS)V17\n",
    "65J)FNB\n",
    "Q8W)6MP\n",
    "5TC)HCR\n",
    "8G2)NGP\n",
    "D23)4ZZ\n",
    "5WX)71P\n",
    "KHX)93H\n",
    "XH2)KS8\n",
    "Z54)112\n",
    "1LJ)GHN\n",
    "X5G)5NK\n",
    "X5Y)9LV\n",
    "JYR)253\n",
    "5GJ)HPR\n",
    "QRM)XFR\n",
    "4NQ)913\n",
    "6HJ)B63\n",
    "SFK)6SM\n",
    "7FG)RMD\n",
    "TKJ)JWT\n",
    "1XB)LXM\n",
    "WST)1VG\n",
    "NFW)HZC\n",
    "JWK)LC7\n",
    "YS8)PC5\n",
    "WXV)F8K\n",
    "27J)J7M\n",
    "KKX)HH3\n",
    "7ZH)XYD\n",
    "K53)TDK\n",
    "MX7)8NR\n",
    "RPY)PSL\n",
    "4ZZ)S61\n",
    "YYQ)519\n",
    "7VG)91Y\n",
    "918)JT8\n",
    "42Y)MRN\n",
    "8MK)WK4\n",
    "5ZY)F3H\n",
    "JNX)MP3\n",
    "RQZ)YOU\n",
    "Z7R)JG9\n",
    "FXR)5QX\n",
    "PZ4)22G\n",
    "JFZ)9JD\n",
    "QHY)9QD\n",
    "ZDJ)Q93\n",
    "2XD)RJC\n",
    "1PK)GFZ\n",
    "WKX)LXH\n",
    "G4G)6LV\n",
    "SDS)X21\n",
    "RYC)3Z8\n",
    "G2D)5ZJ\n",
    "F8K)PZ6\n",
    "96T)5YF\n",
    "3C7)VX7\n",
    "N7S)LKR\n",
    "P65)N5Q\n",
    "RLS)7F9\n",
    "1CJ)X27\n",
    "3VK)J26\n",
    "VRF)8G2\n",
    "TMQ)FK4\n",
    "LVX)Y31\n",
    "139)9QT\n",
    "7MS)PG1\n",
    "1T2)ZNN\n",
    "38W)S9X\n",
    "ZF8)681\n",
    "SZL)ZHB\n",
    "4S2)CY4\n",
    "STM)T31\n",
    "XHF)TS4\n",
    "HTX)S8V\n",
    "D43)QPN\n",
    "RYT)WKX\n",
    "BMG)MRV\n",
    "Z6F)VRF\n",
    "V72)YYQ\n",
    "G8H)Z7K\n",
    "51F)3HJ\n",
    "3CJ)TH9\n",
    "GXR)TFR\n",
    "ZFT)FXW\n",
    "S61)YKQ\n",
    "MRV)7J6\n",
    "GJR)SZP\n",
    "ZPG)JBR\n",
    "NKG)NKY\n",
    "VBD)7TX\n",
    "TZP)YS8\n",
    "LF1)8LD\n",
    "GXF)M3K\n",
    "NGL)YLJ\n",
    "512)DQS\n",
    "3HT)KWN\n",
    "KMR)CM5\n",
    "18C)SVC\n",
    "LST)7VD\n",
    "YX5)JGZ\n",
    "4P5)9DN\n",
    "KLX)JPJ\n",
    "BCJ)JG1\n",
    "LNG)RKH\n",
    "7VD)GXK\n",
    "GT1)BSD\n",
    "LHM)5LG\n",
    "H7C)5GC\n",
    "HZC)5WW\n",
    "QCF)JTJ\n",
    "V95)ZY6\n",
    "GT1)GH9\n",
    "B5L)KWR\n",
    "H6M)6DV\n",
    "NCH)PYP\n",
    "R92)LXF\n",
    "S3D)V1B\n",
    "WDT)MMN\n",
    "GXK)RXL\n",
    "QMK)8PM\n",
    "8LL)T2Q\n",
    "L2Q)W25\n",
    "V48)KZP\n",
    "LZ5)4S2\n",
    "SM2)P49\n",
    "ZNN)HCC\n",
    "63H)B3G\n",
    "9FC)7PQ\n",
    "LFY)YM8\n",
    "DCP)GVS\n",
    "JFQ)FCZ\n",
    "NVC)CT8\n",
    "K8Q)1M5\n",
    "N5Q)8K6\n",
    "MK5)5SY\n",
    "6Q2)BWQ\n",
    "17W)SK9\n",
    "K2T)MK5\n",
    "WDT)M41\n",
    "DJF)RZD\n",
    "RJ8)VSC\n",
    "GJV)NVF\n",
    "8QQ)N5B\n",
    "P37)ZTM\n",
    "FQG)CYK\n",
    "VPF)8L3\n",
    "JG1)1X2\n",
    "3VK)3X8\n",
    "199)DDQ\n",
    "2DH)HG7\n",
    "K1Q)L68\n",
    "9PK)F3T\n",
    "1VG)2ZR\n",
    "DXD)799\n",
    "FC6)2W2\n",
    "CY4)7DT\n",
    "3FM)B71\n",
    "153)YMN\n",
    "137)ZQB\n",
    "QDP)9WW\n",
    "1SW)GXF\n",
    "QHY)4M3\n",
    "2XK)HDM\n",
    "B78)XK8\n",
    "HMD)RX9\n",
    "TDX)51M\n",
    "NR4)31N\n",
    "QCT)YSW\n",
    "RLY)LNP\n",
    "R9H)BLN\n",
    "XXY)TXL\n",
    "9H6)XBT\n",
    "CD9)H1X\n",
    "GTH)K43\n",
    "NLK)7BT\n",
    "KZP)CTV\n",
    "PTC)DVZ\n",
    "TH9)9L9\n",
    "5WC)3CC\n",
    "MC1)YTR\n",
    "TLB)SDK\n",
    "FL2)SHF\n",
    "WHG)X7P\n",
    "57R)PKT\n",
    "RX4)2QB\n",
    "542)JZQ\n",
    "Y7W)918\n",
    "9QD)87J\n",
    "3LN)MT2\n",
    "TFR)FMS\n",
    "LDK)VBD\n",
    "P57)JHP\n",
    "1NL)9ZB\n",
    "G9T)YGH\n",
    "YBG)CJF\n",
    "PKT)GRG\n",
    "8LD)YX5\n",
    "XFR)MC1\n",
    "B71)3X2\n",
    "RNR)81K\n",
    "ZSR)3LN\n",
    "XGT)G8H\n",
    "YPT)KSV\n",
    "BJY)BHM\n",
    "QPN)G9T\n",
    "CH3)5G6\n",
    "YW1)DXZ\n",
    "NR1)TDX\n",
    "41Z)SST\n",
    "4RX)LF1\n",
    "58B)CNL\n",
    "CNL)7QK\n",
    "PCC)LFY\n",
    "PL8)4RX\n",
    "WS4)MJK\n",
    "XFR)7S8\n",
    "VB4)QC2\n",
    "SDK)HZ4\n",
    "N42)FCL\n",
    "TNC)QH2\n",
    "LQT)VGZ\n",
    "HG7)FC6\n",
    "7X8)YQC\n",
    "G1F)PL8\n",
    "7VD)YJX\n",
    "J7H)9TC\n",
    "X1X)WST\n",
    "5G6)69N\n",
    "4RT)V3G\n",
    "L2T)F8L\n",
    "G2Y)LCZ\n",
    "XYD)SBN\n",
    "R8G)LP9\n",
    "6RB)LDP\n",
    "H6J)NLK\n",
    "F84)WGN\n",
    "L1W)XGG\n",
    "8J9)ZPG\n",
    "FRW)PZ4\n",
    "WWX)F84\n",
    "Z86)3VK\n",
    "LYP)8LL\n",
    "GMM)BHX\n",
    "N7V)GT8\n",
    "5LH)7D3\n",
    "QLX)ZF8\n",
    "H4Q)DV9\n",
    "BW4)JXK\n",
    "SXG)H14\n",
    "MKP)927\n",
    "T28)MQ7\n",
    "YL3)K35\n",
    "253)28S\n",
    "JW5)KSR\n",
    "2RY)DR4\n",
    "MJH)NPQ\n",
    "7GH)QDD\n",
    "VBY)D6C\n",
    "783)5WX\n",
    "MRN)44R\n",
    "9ZM)D9Z\n",
    "Y1Z)WC4\n",
    "7PQ)NST\n",
    "24S)KMR\n",
    "K1V)ZP1\n",
    "J7M)SPP\n",
    "T43)JFQ\n",
    "3GF)24S\n",
    "JRR)NR4\n",
    "HN5)VL2\n",
    "JMQ)RRJ\n",
    "Z6B)9W5\n",
    "T16)5ZY\n",
    "Y7W)D7D\n",
    "519)YPT\n",
    "5WD)W3J\n",
    "Q8J)5S9\n",
    "V8W)XS9\n",
    "2WM)FYP\n",
    "NWT)VB7\n",
    "TDK)Y55\n",
    "44R)B1X\n",
    "F3N)Q6K\n",
    "ZP1)BH1\n",
    "FC6)2D9\n",
    "R9W)G2D\n",
    "NMM)RK2\n",
    "VX7)TH4\n",
    "3VZ)2DB\n",
    "BWQ)2C1\n",
    "WW6)HV4\n",
    "CX1)3HT\n",
    "M23)WVY\n",
    "PWP)4Z1\n",
    "D86)LQT\n",
    "2VC)L4P\n",
    "KGX)1SW\n",
    "5W3)NL6\n",
    "TTK)WXX\n",
    "FTC)TKK\n",
    "KPF)11H\n",
    "YKT)HN5\n",
    "TSP)H7L\n",
    "4M3)NCH\n",
    "QPF)9NC\n",
    "318)4DN\n",
    "DF7)349\n",
    "F3T)B78\n",
    "RKH)VHC\n",
    "V52)42Z\n",
    "ZGT)B7T\n",
    "MVX)QJY\n",
    "RPR)L2T\n",
    "H14)1CJ\n",
    "MP1)CQD\n",
    "D4W)KGT\n",
    "8FS)J7H\n",
    "VGW)25P\n",
    "CM5)M1V\n",
    "5WW)TQZ\n",
    "N1R)KRX\n",
    "32T)DH7\n",
    "BZW)STM\n",
    "N8G)ZD9\n",
    "51M)L1C\n",
    "2D9)9G7\n",
    "J3D)V77\n",
    "Q89)7PF\n",
    "2L2)ZCB\n",
    "RR7)Q89\n",
    "3RP)232\n",
    "Z1N)C9R\n",
    "H7L)6NX\n",
    "DJS)PGP\n",
    "VXT)65J\n",
    "7D3)1BF\n",
    "DJ2)17W\n",
    "FK4)38B\n",
    "D9Z)WMC\n",
    "4J3)PF7\n",
    "TWP)L13\n",
    "BPK)WRP\n",
    "232)318\n",
    "58R)H27\n",
    "DW5)H6J\n",
    "J26)L1Q\n",
    "WST)137\n",
    "5J9)LVJ\n",
    "C81)W1L\n",
    "CF1)5VW\n",
    "X21)5J9\n",
    "535)733\n",
    "HDM)4RV\n",
    "GR8)3Y6\n",
    "D53)TZP\n",
    "RP2)4FP\n",
    "Q4L)J2S\n",
    "27N)WWX\n",
    "B7T)YW7\n",
    "BNF)51F\n",
    "1TP)Q7L\n",
    "JK9)GTJ\n",
    "WM2)S1H\n",
    "RXL)2RY\n",
    "JWT)G86\n",
    "JT8)5LH\n",
    "XW4)G9M\n",
    "JKB)ZDJ\n",
    "7VN)1T2\n",
    "JPJ)J9R\n",
    "PR3)FF4\n",
    "D7D)SFK\n",
    "519)Q4L\n",
    "NYW)GHQ\n",
    "2G1)QGM\n",
    "Y7S)SAN\n",
    "VGZ)WWN\n",
    "NKY)G55\n",
    "LC7)BQJ\n",
    "DV7)27F\n",
    "P27)36R\n",
    "8CS)CT4\n",
    "3WP)KKX\n",
    "LNP)MKP\n",
    "V5G)WXV\n",
    "TCS)GT1\n",
    "5S9)V5N\n",
    "YKC)G3G\n",
    "FK8)GJ8\n",
    "ZNN)FL2\n",
    "68F)P6P\n",
    "M39)2DH\n",
    "MZB)LBQ\n",
    "HFZ)GRD\n",
    "PQH)8Y6\n",
    "KGT)8VB\n",
    "FPS)ZRH\n",
    "MG2)6H8\n",
    "2KL)D23\n",
    "MYQ)NDY\n",
    "159)B8L\n",
    "NJT)7VG\n",
    "87J)41Z\n",
    "V17)34F\n",
    "8GT)C9X\n",
    "ZF9)RFV\n",
    "G55)YQ3\n",
    "6JV)M9B\n",
    "4DN)CWR\n",
    "DCH)CH3\n",
    "Q89)WBP\n",
    "P3Z)XS5\n",
    "GRV)9PK\n",
    "4V2)GC4\n",
    "LBQ)7FG\n",
    "ZWR)ZG1\n",
    "RZD)N67\n",
    "7J5)542\n",
    "SHF)CNJ\n",
    "LQQ)2TB\n",
    "YDW)BMN\n",
    "8NR)8RY\n",
    "28S)QCF\n",
    "QC2)KTR\n",
    "31N)1L2\n",
    "FRF)C32\n",
    "X7P)LX1\n",
    "YGH)7QW\n",
    "XK8)7XL\n",
    "SW2)ZF9\n",
    "M6M)S3D\n",
    "8XR)DFQ\n",
    "V5N)JHQ\n",
    "MHN)Z6X\n",
    "J64)D4W\n",
    "LDP)R5Z\n",
    "W2J)G6S\n",
    "SVX)Z6B\n",
    "W1L)71V\n",
    "ZYJ)2G1\n",
    "5ZJ)D8G\n",
    "9Q1)Z54\n",
    "51M)QZZ\n",
    "Y1S)F31\n",
    "S12)Q16\n",
    "L1Q)1WM\"\"\"\n",
    "input_6_list = input_6.split('\\n')"
   ]
  },
  {
   "cell_type": "code",
   "execution_count": 372,
   "metadata": {},
   "outputs": [],
   "source": [
    "from collections import defaultdict\n",
    "\n",
    "class OrbitGraph:\n",
    "    def __init__(self, text=None):\n",
    "        self._child_map = defaultdict(list)\n",
    "        \n",
    "        if text is not None:\n",
    "            self.populate_graph_via_text(text)\n",
    "        \n",
    "    def populate_graph_via_text(self, text):\n",
    "        if isinstance(text, str):\n",
    "            text = text.split('\\n')\n",
    "        for texti in text:\n",
    "            orbitee, orbiter = texti.split(')')\n",
    "            self._child_map[orbitee].append(orbiter)\n",
    "            \n",
    "    @property\n",
    "    def child_map(self):\n",
    "        return {k:tuple(v) for k,v in self._child_map.items()}\n",
    "        \n",
    "    @property\n",
    "    def parent_map(self):\n",
    "        parent_map = {}\n",
    "        for parent, children in self._child_map.items():\n",
    "            for child in children:\n",
    "                if child in parent_map and parent != parent_map[child]:\n",
    "                    msg = 'invalid orbit map - object {} has two parents: {} and {}!'\n",
    "                    raise ValueError(msg.format(child, parent, parent_map[child]))\n",
    "                parent_map[child] = parent\n",
    "        return parent_map\n",
    "    \n",
    "    @property\n",
    "    def all_bodies(self):\n",
    "        bodies = set()\n",
    "        for p, children in self.child_map.items():\n",
    "            bodies.add(p)\n",
    "            for c in children:\n",
    "                bodies.add(c)\n",
    "        return bodies\n",
    "    \n",
    "    @property\n",
    "    def nx_graph(self):\n",
    "        return networkx.DiGraph(self.child_map).reverse()\n",
    "    \n",
    "    def count_orbits(self):\n",
    "        return {bod: networkx.shortest_path_length(self.nx_graph, bod, 'COM') for bod in og.all_bodies}\n",
    "    "
   ]
  },
  {
   "cell_type": "code",
   "execution_count": 373,
   "metadata": {},
   "outputs": [
    {
     "data": {
      "text/plain": [
       "({'COM': ('B',),\n",
       "  'B': ('C', 'G'),\n",
       "  'C': ('D',),\n",
       "  'D': ('E', 'I'),\n",
       "  'E': ('F', 'J'),\n",
       "  'G': ('H',),\n",
       "  'J': ('K',),\n",
       "  'K': ('L',)},\n",
       " {'B': 'COM',\n",
       "  'C': 'B',\n",
       "  'G': 'B',\n",
       "  'D': 'C',\n",
       "  'E': 'D',\n",
       "  'I': 'D',\n",
       "  'F': 'E',\n",
       "  'J': 'E',\n",
       "  'H': 'G',\n",
       "  'K': 'J',\n",
       "  'L': 'K'},\n",
       " {'B', 'C', 'COM', 'D', 'E', 'F', 'G', 'H', 'I', 'J', 'K', 'L'})"
      ]
     },
     "execution_count": 373,
     "metadata": {},
     "output_type": "execute_result"
    }
   ],
   "source": [
    "example_input_6 = \"\"\"COM)B\n",
    "B)C\n",
    "C)D\n",
    "D)E\n",
    "E)F\n",
    "B)G\n",
    "G)H\n",
    "D)I\n",
    "E)J\n",
    "J)K\n",
    "K)L\"\"\"\n",
    "og = OrbitGraph(example_input_6)\n",
    "\n",
    "assert np.sum(list(og.count_orbits().values())) == 42\n",
    "\n",
    "og.child_map, og.parent_map, og.all_bodies"
   ]
  },
  {
   "cell_type": "code",
   "execution_count": 374,
   "metadata": {},
   "outputs": [
    {
     "data": {
      "text/plain": [
       "144909"
      ]
     },
     "execution_count": 374,
     "metadata": {},
     "output_type": "execute_result"
    }
   ],
   "source": [
    "og = OrbitGraph(input_6)\n",
    "orb_count = og.count_orbits()\n",
    "\n",
    "np.sum(list(orb_count.values()))"
   ]
  },
  {
   "cell_type": "markdown",
   "metadata": {},
   "source": [
    "### Part 2"
   ]
  },
  {
   "cell_type": "code",
   "execution_count": 345,
   "metadata": {},
   "outputs": [],
   "source": [
    "import networkx"
   ]
  },
  {
   "cell_type": "code",
   "execution_count": 387,
   "metadata": {},
   "outputs": [],
   "source": [
    "example_input_6_2 = \"\"\"COM)B\n",
    "B)C\n",
    "C)D\n",
    "D)E\n",
    "E)F\n",
    "B)G\n",
    "G)H\n",
    "D)I\n",
    "E)J\n",
    "J)K\n",
    "K)L\n",
    "K)YOU\n",
    "I)SAN\"\"\""
   ]
  },
  {
   "cell_type": "code",
   "execution_count": 388,
   "metadata": {},
   "outputs": [
    {
     "data": {
      "image/png": "[encoded data removed]",
      "text/plain": [
       "<Figure size 432x288 with 1 Axes>"
      ]
     },
     "metadata": {},
     "output_type": "display_data"
    }
   ],
   "source": [
    "eog2 = OrbitGraph(example_input_6_2)\n",
    "\n",
    "g = networkx.DiGraph(eog2.child_map).reverse()\n",
    "networkx.draw_networkx(g)"
   ]
  },
  {
   "cell_type": "code",
   "execution_count": 391,
   "metadata": {},
   "outputs": [
    {
     "data": {
      "text/plain": [
       "4"
      ]
     },
     "execution_count": 391,
     "metadata": {},
     "output_type": "execute_result"
    }
   ],
   "source": [
    "networkx.shortest_path_length(eog2.nx_graph.to_undirected(), 'YOU', 'SAN') - 2"
   ]
  },
  {
   "cell_type": "code",
   "execution_count": 392,
   "metadata": {},
   "outputs": [
    {
     "data": {
      "text/plain": [
       "259"
      ]
     },
     "execution_count": 392,
     "metadata": {},
     "output_type": "execute_result"
    }
   ],
   "source": [
    "networkx.shortest_path_length(og.nx_graph.to_undirected(), 'YOU', 'SAN') - 2"
   ]
  },
  {
   "cell_type": "markdown",
   "metadata": {},
   "source": [
    "# 7 - https://adventofcode.com/2019/day/7"
   ]
  },
  {
   "cell_type": "code",
   "execution_count": 555,
   "metadata": {},
   "outputs": [],
   "source": [
    "class Intcoder6(IntCoder52):\n",
    "    def run_on_buffer(self, buffer, reset_iptr=True):\n",
    "        if isinstance(buffer, str):\n",
    "            buffer = [int(i) for i in buffer.split(',')]\n",
    "            \n",
    "        super().run_on_buffer(buffer, reset_iptr)\n",
    "        return buffer\n",
    "ic6 = Intcoder6()"
   ]
  },
  {
   "cell_type": "code",
   "execution_count": 556,
   "metadata": {},
   "outputs": [],
   "source": [
    "def run_intcoder_on_amps(phase_schedule, buffer, intcoder_class=Intcoder6, verbose=True):\n",
    "    if len(phase_schedule) != 5:\n",
    "        raise ValueError('need 5 phases')\n",
    "    ic = intcoder_class()\n",
    "    ic.outputs = [0]\n",
    "    ic.verbose = verbose\n",
    "\n",
    "    for amp, phase in zip('ABCDE', phase_schedule): \n",
    "        if verbose:\n",
    "            print('On Amp', amp)\n",
    "        ic.inputs = iter([phase, ic.outputs[-1]])\n",
    "        ic.run_on_buffer(buffer)\n",
    "    return ic.outputs"
   ]
  },
  {
   "cell_type": "code",
   "execution_count": 557,
   "metadata": {},
   "outputs": [
    {
     "name": "stdout",
     "output_type": "stream",
     "text": [
      "On Amp A\n",
      "Output: 4\n",
      "On Amp B\n",
      "Output: 43\n",
      "On Amp C\n",
      "Output: 432\n",
      "On Amp D\n",
      "Output: 4321\n",
      "On Amp E\n",
      "Output: 43210\n"
     ]
    }
   ],
   "source": [
    "example_input_7_1 = '3,15,3,16,1002,16,10,16,1,16,15,15,4,15,99,0,0'\n",
    "assert run_intcoder_on_amps([4,3,2,1,0], example_input_7_1)[-1] == 43210"
   ]
  },
  {
   "cell_type": "code",
   "execution_count": 558,
   "metadata": {},
   "outputs": [],
   "source": [
    "from itertools import permutations\n"
   ]
  },
  {
   "cell_type": "code",
   "execution_count": 559,
   "metadata": {},
   "outputs": [
    {
     "data": {
      "application/vnd.jupyter.widget-view+json": {
       "model_id": "2f7e4efc139744dabc60da9d8a1e9165",
       "version_major": 2,
       "version_minor": 0
      },
      "text/plain": [
       "HBox(children=(FloatProgress(value=0.0, max=120.0), HTML(value='')))"
      ]
     },
     "metadata": {},
     "output_type": "display_data"
    },
    {
     "name": "stdout",
     "output_type": "stream",
     "text": [
      "\n"
     ]
    },
    {
     "data": {
      "text/plain": [
       "((4, 3, 2, 1, 0), 43210)"
      ]
     },
     "execution_count": 559,
     "metadata": {},
     "output_type": "execute_result"
    }
   ],
   "source": [
    "def find_best_phase(code):\n",
    "    phase_options = list(permutations(range(5)))\n",
    "    maxres = -1\n",
    "    best_phases = None\n",
    "    for phases in tqdm(phase_options):\n",
    "        res = run_intcoder_on_amps(phases, code, verbose=False)[-1]\n",
    "        if res > maxres:\n",
    "            best_phases = phases\n",
    "            maxres = res\n",
    "    return best_phases, maxres\n",
    "\n",
    "find_best_phase(example_input_7_1)"
   ]
  },
  {
   "cell_type": "code",
   "execution_count": 560,
   "metadata": {},
   "outputs": [
    {
     "data": {
      "application/vnd.jupyter.widget-view+json": {
       "model_id": "daa5975235f34ad9935edd8af2ea15b2",
       "version_major": 2,
       "version_minor": 0
      },
      "text/plain": [
       "HBox(children=(FloatProgress(value=0.0, max=120.0), HTML(value='')))"
      ]
     },
     "metadata": {},
     "output_type": "display_data"
    },
    {
     "name": "stdout",
     "output_type": "stream",
     "text": [
      "\n"
     ]
    }
   ],
   "source": [
    "example_input_7_2 = '3,23,3,24,1002,24,10,24,1002,23,-1,23,101,5,23,23,1,24,23,23,4,23,99,0,0'\n",
    "ps, m = find_best_phase(example_input_7_2)\n",
    "assert ps == (0, 1, 2, 3, 4)\n",
    "assert m == 54321"
   ]
  },
  {
   "cell_type": "code",
   "execution_count": 561,
   "metadata": {},
   "outputs": [
    {
     "data": {
      "application/vnd.jupyter.widget-view+json": {
       "model_id": "9080b95e57c240868e94c1801e522080",
       "version_major": 2,
       "version_minor": 0
      },
      "text/plain": [
       "HBox(children=(FloatProgress(value=0.0, max=120.0), HTML(value='')))"
      ]
     },
     "metadata": {},
     "output_type": "display_data"
    },
    {
     "name": "stdout",
     "output_type": "stream",
     "text": [
      "\n"
     ]
    }
   ],
   "source": [
    "example_input_7_3 = '3,31,3,32,1002,32,10,32,1001,31,-2,31,1007,31,0,33,1002,33,7,33,1,33,31,31,1,32,31,31,4,31,99,0,0,0'\n",
    "ps, m = find_best_phase(example_input_7_3)\n",
    "assert ps == (1,0, 4, 3, 2)\n",
    "assert m == 65210"
   ]
  },
  {
   "cell_type": "code",
   "execution_count": 562,
   "metadata": {},
   "outputs": [],
   "source": [
    "input_7='3,8,1001,8,10,8,105,1,0,0,21,46,67,76,101,118,199,280,361,442,99999,3,9,1002,9,4,9,1001,9,2,9,102,3,9,9,101,3,9,9,102,2,9,9,4,9,99,3,9,1001,9,3,9,102,2,9,9,1001,9,2,9,1002,9,3,9,4,9,99,3,9,101,3,9,9,4,9,99,3,9,1001,9,2,9,1002,9,5,9,101,5,9,9,1002,9,4,9,101,5,9,9,4,9,99,3,9,102,2,9,9,1001,9,5,9,102,2,9,9,4,9,99,3,9,1002,9,2,9,4,9,3,9,1002,9,2,9,4,9,3,9,101,2,9,9,4,9,3,9,101,1,9,9,4,9,3,9,102,2,9,9,4,9,3,9,102,2,9,9,4,9,3,9,1002,9,2,9,4,9,3,9,101,1,9,9,4,9,3,9,102,2,9,9,4,9,3,9,101,2,9,9,4,9,99,3,9,101,1,9,9,4,9,3,9,1002,9,2,9,4,9,3,9,102,2,9,9,4,9,3,9,101,1,9,9,4,9,3,9,101,2,9,9,4,9,3,9,102,2,9,9,4,9,3,9,101,2,9,9,4,9,3,9,102,2,9,9,4,9,3,9,1002,9,2,9,4,9,3,9,101,2,9,9,4,9,99,3,9,1001,9,1,9,4,9,3,9,1002,9,2,9,4,9,3,9,1002,9,2,9,4,9,3,9,101,1,9,9,4,9,3,9,102,2,9,9,4,9,3,9,1001,9,1,9,4,9,3,9,1002,9,2,9,4,9,3,9,1001,9,1,9,4,9,3,9,101,1,9,9,4,9,3,9,101,2,9,9,4,9,99,3,9,1002,9,2,9,4,9,3,9,1001,9,1,9,4,9,3,9,101,2,9,9,4,9,3,9,101,2,9,9,4,9,3,9,102,2,9,9,4,9,3,9,102,2,9,9,4,9,3,9,102,2,9,9,4,9,3,9,102,2,9,9,4,9,3,9,101,1,9,9,4,9,3,9,1001,9,2,9,4,9,99,3,9,102,2,9,9,4,9,3,9,102,2,9,9,4,9,3,9,101,2,9,9,4,9,3,9,101,1,9,9,4,9,3,9,101,2,9,9,4,9,3,9,1001,9,2,9,4,9,3,9,1001,9,2,9,4,9,3,9,101,2,9,9,4,9,3,9,1002,9,2,9,4,9,3,9,101,2,9,9,4,9,99'"
   ]
  },
  {
   "cell_type": "code",
   "execution_count": 563,
   "metadata": {},
   "outputs": [
    {
     "data": {
      "application/vnd.jupyter.widget-view+json": {
       "model_id": "a4c97650f11a4e1eb0b7a008cddbaa28",
       "version_major": 2,
       "version_minor": 0
      },
      "text/plain": [
       "HBox(children=(FloatProgress(value=0.0, max=120.0), HTML(value='')))"
      ]
     },
     "metadata": {},
     "output_type": "display_data"
    },
    {
     "name": "stdout",
     "output_type": "stream",
     "text": [
      "\n"
     ]
    },
    {
     "data": {
      "text/plain": [
       "((2, 1, 3, 4, 0), 87138)"
      ]
     },
     "execution_count": 563,
     "metadata": {},
     "output_type": "execute_result"
    }
   ],
   "source": [
    "find_best_phase(input_7)"
   ]
  },
  {
   "cell_type": "markdown",
   "metadata": {},
   "source": [
    "### Part 2"
   ]
  },
  {
   "cell_type": "markdown",
   "metadata": {},
   "source": [
    "now must keep amp buffers distinct..."
   ]
  },
  {
   "cell_type": "code",
   "execution_count": 570,
   "metadata": {},
   "outputs": [],
   "source": [
    "def make_amp_buffers(code):\n",
    "    return {amp:[[int(i) for i in code.split(',')], 0] for amp in 'ABCDE'}"
   ]
  },
  {
   "cell_type": "code",
   "execution_count": 571,
   "metadata": {},
   "outputs": [],
   "source": [
    "example_input_72_1 = '3,26,1001,26,-4,26,3,27,1002,27,2,27,1,27,26,27,4,27,1001,28,-1,28,1005,28,6,99,0,0,5'"
   ]
  },
  {
   "cell_type": "code",
   "execution_count": 574,
   "metadata": {},
   "outputs": [
    {
     "name": "stdout",
     "output_type": "stream",
     "text": [
      "setup done [0, 5, 14, 31, 64, 129]\n"
     ]
    },
    {
     "ename": "KeyboardInterrupt",
     "evalue": "",
     "output_type": "error",
     "traceback": [
      "\u001b[0;31m---------------------------------------------------------------------------\u001b[0m",
      "\u001b[0;31mKeyboardInterrupt\u001b[0m                         Traceback (most recent call last)",
      "\u001b[0;32m<ipython-input-574-ef5f7c9535bd>\u001b[0m in \u001b[0;36m<module>\u001b[0;34m\u001b[0m\n\u001b[1;32m     19\u001b[0m         \u001b[0mic\u001b[0m\u001b[0;34m.\u001b[0m\u001b[0minputs\u001b[0m \u001b[0;34m=\u001b[0m \u001b[0miter\u001b[0m\u001b[0;34m(\u001b[0m\u001b[0;34m[\u001b[0m\u001b[0mic\u001b[0m\u001b[0;34m.\u001b[0m\u001b[0moutputs\u001b[0m\u001b[0;34m[\u001b[0m\u001b[0;34m-\u001b[0m\u001b[0;36m1\u001b[0m\u001b[0;34m]\u001b[0m\u001b[0;34m]\u001b[0m\u001b[0;34m)\u001b[0m\u001b[0;34m\u001b[0m\u001b[0;34m\u001b[0m\u001b[0m\n\u001b[1;32m     20\u001b[0m         \u001b[0mic\u001b[0m\u001b[0;34m.\u001b[0m\u001b[0mi_ptr\u001b[0m \u001b[0;34m=\u001b[0m \u001b[0mbuffers\u001b[0m\u001b[0;34m[\u001b[0m\u001b[0mamp\u001b[0m\u001b[0;34m]\u001b[0m\u001b[0;34m[\u001b[0m\u001b[0;36m1\u001b[0m\u001b[0;34m]\u001b[0m\u001b[0;34m\u001b[0m\u001b[0;34m\u001b[0m\u001b[0m\n\u001b[0;32m---> 21\u001b[0;31m         \u001b[0mic\u001b[0m\u001b[0;34m.\u001b[0m\u001b[0mrun_on_buffer\u001b[0m\u001b[0;34m(\u001b[0m\u001b[0mbuffers\u001b[0m\u001b[0;34m[\u001b[0m\u001b[0mamp\u001b[0m\u001b[0;34m]\u001b[0m\u001b[0;34m[\u001b[0m\u001b[0;36m0\u001b[0m\u001b[0;34m]\u001b[0m\u001b[0;34m,\u001b[0m \u001b[0mreset_iptr\u001b[0m\u001b[0;34m=\u001b[0m\u001b[0;32mFalse\u001b[0m\u001b[0;34m)\u001b[0m\u001b[0;34m\u001b[0m\u001b[0;34m\u001b[0m\u001b[0m\n\u001b[0m\u001b[1;32m     22\u001b[0m         \u001b[0mtest_buffers\u001b[0m\u001b[0;34m.\u001b[0m\u001b[0mappend\u001b[0m\u001b[0;34m(\u001b[0m\u001b[0mamp\u001b[0m\u001b[0;34m+\u001b[0m\u001b[0mstr\u001b[0m\u001b[0;34m(\u001b[0m\u001b[0mbuffers\u001b[0m\u001b[0;34m[\u001b[0m\u001b[0mamp\u001b[0m\u001b[0;34m]\u001b[0m\u001b[0;34m)\u001b[0m\u001b[0;34m)\u001b[0m\u001b[0;34m\u001b[0m\u001b[0;34m\u001b[0m\u001b[0m\n",
      "\u001b[0;32m<ipython-input-555-0f1f29b3da96>\u001b[0m in \u001b[0;36mrun_on_buffer\u001b[0;34m(self, buffer, reset_iptr)\u001b[0m\n\u001b[1;32m      4\u001b[0m             \u001b[0mbuffer\u001b[0m \u001b[0;34m=\u001b[0m \u001b[0;34m[\u001b[0m\u001b[0mint\u001b[0m\u001b[0;34m(\u001b[0m\u001b[0mi\u001b[0m\u001b[0;34m)\u001b[0m \u001b[0;32mfor\u001b[0m \u001b[0mi\u001b[0m \u001b[0;32min\u001b[0m \u001b[0mbuffer\u001b[0m\u001b[0;34m.\u001b[0m\u001b[0msplit\u001b[0m\u001b[0;34m(\u001b[0m\u001b[0;34m','\u001b[0m\u001b[0;34m)\u001b[0m\u001b[0;34m]\u001b[0m\u001b[0;34m\u001b[0m\u001b[0;34m\u001b[0m\u001b[0m\n\u001b[1;32m      5\u001b[0m \u001b[0;34m\u001b[0m\u001b[0m\n\u001b[0;32m----> 6\u001b[0;31m         \u001b[0msuper\u001b[0m\u001b[0;34m(\u001b[0m\u001b[0;34m)\u001b[0m\u001b[0;34m.\u001b[0m\u001b[0mrun_on_buffer\u001b[0m\u001b[0;34m(\u001b[0m\u001b[0mbuffer\u001b[0m\u001b[0;34m,\u001b[0m \u001b[0mreset_iptr\u001b[0m\u001b[0;34m)\u001b[0m\u001b[0;34m\u001b[0m\u001b[0;34m\u001b[0m\u001b[0m\n\u001b[0m\u001b[1;32m      7\u001b[0m         \u001b[0;32mreturn\u001b[0m \u001b[0mbuffer\u001b[0m\u001b[0;34m\u001b[0m\u001b[0;34m\u001b[0m\u001b[0m\n\u001b[1;32m      8\u001b[0m \u001b[0mic6\u001b[0m \u001b[0;34m=\u001b[0m \u001b[0mIntcoder6\u001b[0m\u001b[0;34m(\u001b[0m\u001b[0;34m)\u001b[0m\u001b[0;34m\u001b[0m\u001b[0;34m\u001b[0m\u001b[0m\n",
      "\u001b[0;32m<ipython-input-541-c7804555f14a>\u001b[0m in \u001b[0;36mrun_on_buffer\u001b[0;34m(self, buffer, reset_iptr)\u001b[0m\n\u001b[1;32m     46\u001b[0m             \u001b[0margs\u001b[0m \u001b[0;34m=\u001b[0m \u001b[0;34m[\u001b[0m\u001b[0;34m]\u001b[0m\u001b[0;34m\u001b[0m\u001b[0;34m\u001b[0m\u001b[0m\n\u001b[1;32m     47\u001b[0m             \u001b[0mwriteidx\u001b[0m \u001b[0;34m=\u001b[0m \u001b[0;32mNone\u001b[0m\u001b[0;34m\u001b[0m\u001b[0;34m\u001b[0m\u001b[0m\n\u001b[0;32m---> 48\u001b[0;31m             \u001b[0;32mfor\u001b[0m \u001b[0mj\u001b[0m\u001b[0;34m,\u001b[0m \u001b[0;34m(\u001b[0m\u001b[0mpar\u001b[0m\u001b[0;34m,\u001b[0m \u001b[0mmode\u001b[0m\u001b[0;34m)\u001b[0m \u001b[0;32min\u001b[0m \u001b[0menumerate\u001b[0m\u001b[0;34m(\u001b[0m\u001b[0mzip\u001b[0m\u001b[0;34m(\u001b[0m\u001b[0mself\u001b[0m\u001b[0;34m.\u001b[0m\u001b[0mopparams\u001b[0m\u001b[0;34m[\u001b[0m\u001b[0mcodenum\u001b[0m\u001b[0;34m]\u001b[0m\u001b[0;34m,\u001b[0m \u001b[0margmodes\u001b[0m\u001b[0;34m)\u001b[0m\u001b[0;34m)\u001b[0m\u001b[0;34m:\u001b[0m\u001b[0;34m\u001b[0m\u001b[0;34m\u001b[0m\u001b[0m\n\u001b[0m\u001b[1;32m     49\u001b[0m                 \u001b[0mbuffer_idx\u001b[0m \u001b[0;34m=\u001b[0m \u001b[0mself\u001b[0m\u001b[0;34m.\u001b[0m\u001b[0mi_ptr\u001b[0m \u001b[0;34m+\u001b[0m \u001b[0mj\u001b[0m \u001b[0;34m+\u001b[0m \u001b[0;36m1\u001b[0m\u001b[0;34m\u001b[0m\u001b[0;34m\u001b[0m\u001b[0m\n\u001b[1;32m     50\u001b[0m                 \u001b[0;32mif\u001b[0m \u001b[0mpar\u001b[0m \u001b[0;34m==\u001b[0m \u001b[0;34m'w'\u001b[0m\u001b[0;34m:\u001b[0m\u001b[0;34m\u001b[0m\u001b[0;34m\u001b[0m\u001b[0m\n",
      "\u001b[0;31mKeyboardInterrupt\u001b[0m: "
     ]
    }
   ],
   "source": [
    "phases = [9,8,7,6,5]\n",
    "buffers = make_amp_buffers(example_input_72_1)\n",
    "amp_iptr = {}\n",
    "\n",
    "ic = Intcoder6()\n",
    "ic.outputs = [0]\n",
    "ic.verbose = False\n",
    "\n",
    "for ph, amp in zip(phases, buffers):\n",
    "    ic.inputs = iter([ph, ic.outputs[-1]])\n",
    "    ic.run_on_buffer(buffers[amp][0])\n",
    "    buffers[amp][1] = ic.i_ptr\n",
    "    \n",
    "print('setup done', ic.outputs)\n",
    "    \n",
    "test_buffers = []\n",
    "while True:\n",
    "    for amp in buffers:\n",
    "        ic.inputs = iter([ic.outputs[-1]])\n",
    "        ic.i_ptr = buffers[amp][1]\n",
    "        ic.run_on_buffer(buffers[amp][0], reset_iptr=False)\n",
    "        test_buffers.append(amp+str(buffers[amp]))"
   ]
  },
  {
   "cell_type": "code",
   "execution_count": 503,
   "metadata": {},
   "outputs": [],
   "source": []
  },
  {
   "cell_type": "markdown",
   "metadata": {},
   "source": [
    "# 8 - https://adventofcode.com/2019/day/8\n"
   ]
  },
  {
   "cell_type": "code",
   "execution_count": null,
   "metadata": {},
   "outputs": [],
   "source": []
  },
  {
   "cell_type": "markdown",
   "metadata": {},
   "source": [
    "# 9 - https://adventofcode.com/2019/day/9\n"
   ]
  },
  {
   "cell_type": "code",
   "execution_count": null,
   "metadata": {},
   "outputs": [],
   "source": []
  },
  {
   "cell_type": "markdown",
   "metadata": {},
   "source": [
    "# 10 - https://adventofcode.com/2019/day/10\n"
   ]
  },
  {
   "cell_type": "code",
   "execution_count": null,
   "metadata": {},
   "outputs": [],
   "source": []
  },
  {
   "cell_type": "markdown",
   "metadata": {},
   "source": [
    "# 11 - https://adventofcode.com/2019/day/11\n"
   ]
  },
  {
   "cell_type": "code",
   "execution_count": null,
   "metadata": {},
   "outputs": [],
   "source": []
  },
  {
   "cell_type": "markdown",
   "metadata": {},
   "source": [
    "# 12 - https://adventofcode.com/2019/day/12\n"
   ]
  },
  {
   "cell_type": "code",
   "execution_count": null,
   "metadata": {},
   "outputs": [],
   "source": []
  },
  {
   "cell_type": "markdown",
   "metadata": {},
   "source": [
    "# 13 - https://adventofcode.com/2019/day/13\n"
   ]
  },
  {
   "cell_type": "code",
   "execution_count": null,
   "metadata": {},
   "outputs": [],
   "source": []
  },
  {
   "cell_type": "markdown",
   "metadata": {},
   "source": [
    "# 14 - https://adventofcode.com/2019/day/14\n"
   ]
  },
  {
   "cell_type": "code",
   "execution_count": null,
   "metadata": {},
   "outputs": [],
   "source": []
  },
  {
   "cell_type": "markdown",
   "metadata": {},
   "source": [
    "# 15 - https://adventofcode.com/2019/day/15\n"
   ]
  },
  {
   "cell_type": "code",
   "execution_count": null,
   "metadata": {},
   "outputs": [],
   "source": []
  },
  {
   "cell_type": "markdown",
   "metadata": {},
   "source": [
    "# 16 - https://adventofcode.com/2019/day/16\n"
   ]
  },
  {
   "cell_type": "code",
   "execution_count": null,
   "metadata": {},
   "outputs": [],
   "source": []
  },
  {
   "cell_type": "markdown",
   "metadata": {},
   "source": [
    "# 17 - https://adventofcode.com/2019/day/17\n"
   ]
  },
  {
   "cell_type": "code",
   "execution_count": null,
   "metadata": {},
   "outputs": [],
   "source": []
  },
  {
   "cell_type": "markdown",
   "metadata": {},
   "source": [
    "# 18 - https://adventofcode.com/2019/day/18\n"
   ]
  },
  {
   "cell_type": "code",
   "execution_count": null,
   "metadata": {},
   "outputs": [],
   "source": []
  },
  {
   "cell_type": "markdown",
   "metadata": {},
   "source": [
    "# 19 - https://adventofcode.com/2019/day/19\n"
   ]
  },
  {
   "cell_type": "code",
   "execution_count": null,
   "metadata": {},
   "outputs": [],
   "source": []
  },
  {
   "cell_type": "markdown",
   "metadata": {},
   "source": [
    "# 20 - https://adventofcode.com/2019/day/20\n"
   ]
  },
  {
   "cell_type": "code",
   "execution_count": null,
   "metadata": {},
   "outputs": [],
   "source": []
  },
  {
   "cell_type": "markdown",
   "metadata": {},
   "source": [
    "# 21 - https://adventofcode.com/2019/day/21\n"
   ]
  },
  {
   "cell_type": "code",
   "execution_count": null,
   "metadata": {},
   "outputs": [],
   "source": []
  },
  {
   "cell_type": "markdown",
   "metadata": {},
   "source": [
    "# 22 - https://adventofcode.com/2019/day/22\n"
   ]
  },
  {
   "cell_type": "code",
   "execution_count": null,
   "metadata": {},
   "outputs": [],
   "source": []
  },
  {
   "cell_type": "markdown",
   "metadata": {},
   "source": [
    "\n",
    "# 23 - https://adventofcode.com/2019/day/23\n"
   ]
  },
  {
   "cell_type": "code",
   "execution_count": null,
   "metadata": {},
   "outputs": [],
   "source": []
  },
  {
   "cell_type": "markdown",
   "metadata": {},
   "source": [
    "# 24 - https://adventofcode.com/2019/day/24\n"
   ]
  },
  {
   "cell_type": "code",
   "execution_count": null,
   "metadata": {},
   "outputs": [],
   "source": []
  },
  {
   "cell_type": "markdown",
   "metadata": {},
   "source": [
    "# 25 - https://adventofcode.com/2019/day/25"
   ]
  },
  {
   "cell_type": "code",
   "execution_count": null,
   "metadata": {},
   "outputs": [],
   "source": []
  }
 ],
 "metadata": {
  "kernelspec": {
   "display_name": "Python 3",
   "language": "python",
   "name": "python3"
  },
  "language_info": {
   "codemirror_mode": {
    "name": "ipython",
    "version": 3
   },
   "file_extension": ".py",
   "mimetype": "text/x-python",
   "name": "python",
   "nbconvert_exporter": "python",
   "pygments_lexer": "ipython3",
   "version": "3.8.0"
  }
 },
 "nbformat": 4,
 "nbformat_minor": 4
}
