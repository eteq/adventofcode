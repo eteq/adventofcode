{
 "cells": [
  {
   "cell_type": "markdown",
   "metadata": {},
   "source": [
    "Resuming for funsies"
   ]
  },
  {
   "cell_type": "code",
   "execution_count": 9,
   "metadata": {},
   "outputs": [],
   "source": [
    "import numpy as np\n",
    "\n",
    "%matplotlib inline\n",
    "from matplotlib import pyplot as plt"
   ]
  },
  {
   "cell_type": "markdown",
   "metadata": {},
   "source": [
    "# Day 8"
   ]
  },
  {
   "cell_type": "code",
   "execution_count": 11,
   "metadata": {},
   "outputs": [],
   "source": [
    "width = 25\n",
    "height = 6\n",
    "\n",
    "with open('input8') as f:\n",
    "    image_data = [int(e) for e in f.read().strip()]"
   ]
  },
  {
   "cell_type": "code",
   "execution_count": 55,
   "metadata": {},
   "outputs": [
    {
     "data": {
      "text/plain": [
       "(100, 6, 25)"
      ]
     },
     "execution_count": 55,
     "metadata": {},
     "output_type": "execute_result"
    }
   ],
   "source": [
    "nlayers = len(image_data)/(25*6)\n",
    "assert int(nlayers) == nlayers\n",
    "nlayers = int(nlayers)\n",
    "\n",
    "image = np.array(image_data).reshape(nlayers, height, width)\n",
    "image.shape"
   ]
  },
  {
   "cell_type": "markdown",
   "metadata": {},
   "source": [
    "## Part 1"
   ]
  },
  {
   "cell_type": "code",
   "execution_count": 56,
   "metadata": {},
   "outputs": [
    {
     "data": {
      "text/plain": [
       "array([260, 268, 273, 278, 273, 272, 275, 266, 265, 266, 265, 264, 268,\n",
       "       267, 269, 273, 255, 274, 271, 265, 261, 262, 255, 266, 257, 251,\n",
       "       256, 242, 258, 255, 254, 255, 250, 250, 240, 251, 237, 247, 232,\n",
       "       245, 235, 245, 242, 228, 225, 224, 239, 220, 222, 228, 227, 229,\n",
       "       219, 234, 221, 222, 228, 224, 217, 213, 209, 221, 204, 193, 213,\n",
       "       209, 200, 202, 196, 198, 188, 181, 195, 189, 193, 181, 211, 203,\n",
       "       186, 187, 188, 170, 178, 182, 177, 188, 185, 185, 179, 185, 179,\n",
       "       172, 178, 171, 184, 174, 164, 187, 160, 149])"
      ]
     },
     "execution_count": 56,
     "metadata": {},
     "output_type": "execute_result"
    }
   ],
   "source": [
    "nzeros"
   ]
  },
  {
   "cell_type": "code",
   "execution_count": 66,
   "metadata": {},
   "outputs": [
    {
     "data": {
      "text/plain": [
       "17"
      ]
     },
     "execution_count": 66,
     "metadata": {},
     "output_type": "execute_result"
    }
   ],
   "source": [
    "nzeros = np.sum(image==0, axis=(1, 2))\n",
    "idx_minzeros = np.argmin(nzeros)\n",
    "idx_minzeros"
   ]
  },
  {
   "cell_type": "code",
   "execution_count": 67,
   "metadata": {},
   "outputs": [
    {
     "data": {
      "text/plain": [
       "1820"
      ]
     },
     "execution_count": 67,
     "metadata": {},
     "output_type": "execute_result"
    }
   ],
   "source": [
    "minlayer = image[idx_minzeros]\n",
    "np.sum(minlayer==2)*np.sum(minlayer==1)"
   ]
  },
  {
   "cell_type": "markdown",
   "metadata": {},
   "source": [
    "## Part 2 "
   ]
  },
  {
   "cell_type": "code",
   "execution_count": 78,
   "metadata": {},
   "outputs": [
    {
     "data": {
      "text/plain": [
       "<matplotlib.image.AxesImage at 0x7f5cc6a0c0a0>"
      ]
     },
     "execution_count": 78,
     "metadata": {},
     "output_type": "execute_result"
    },
    {
     "data": {
      "image/png": "[encoded data removed]",
      "text/plain": [
       "<Figure size 432x288 with 1 Axes>"
      ]
     },
     "metadata": {
      "needs_background": "light"
     },
     "output_type": "display_data"
    }
   ],
   "source": [
    "result = image[0].copy()\n",
    "\n",
    "for layer in image[1:]:\n",
    "    still_transparent = result == 2\n",
    "    if np.sum(still_transparent) == 0:\n",
    "        break\n",
    "    result[still_transparent] = layer[still_transparent]\n",
    "black = result==0\n",
    "plt.imshow(black)"
   ]
  },
  {
   "cell_type": "markdown",
   "metadata": {},
   "source": [
    "# Day 9\n",
    "\n",
    "See [Intcode_tester](Intcode_tester.ipynb)"
   ]
  },
  {
   "cell_type": "markdown",
   "metadata": {},
   "source": [
    "# Day 10"
   ]
  },
  {
   "cell_type": "code",
   "execution_count": 20,
   "metadata": {},
   "outputs": [],
   "source": [
    "with open('input_10') as f:\n",
    "    asteroid_map = f.read().strip()"
   ]
  },
  {
   "cell_type": "code",
   "execution_count": 62,
   "metadata": {},
   "outputs": [],
   "source": [
    "def map_to_array(astmap):\n",
    "    return np.array([[e=='#' for e in row] for row in astmap.split('\\n')]).T\n",
    "\n",
    "def array_to_map(arr, marker='#'):\n",
    "    buffer = []\n",
    "    for row in arr.T:\n",
    "        for element in row:\n",
    "            buffer.append(marker if element else '.')\n",
    "        buffer.append('\\n')\n",
    "    return ''.join(buffer)"
   ]
  },
  {
   "cell_type": "markdown",
   "metadata": {},
   "source": [
    "## Part 1"
   ]
  },
  {
   "cell_type": "code",
   "execution_count": 48,
   "metadata": {},
   "outputs": [
    {
     "name": "stdout",
     "output_type": "stream",
     "text": [
      ".#..#\n",
      ".....\n",
      "#####\n",
      "....#\n",
      "...##\n",
      "\n"
     ]
    }
   ],
   "source": [
    "test_input = \"\"\"\n",
    ".#..#\n",
    ".....\n",
    "#####\n",
    "....#\n",
    "...##\n",
    "\"\"\"[1:-1]\n",
    "test_array = map_to_array(test_input)\n",
    "print(array_to_map(test_array))\n",
    "\n",
    "# check that indexing convention is consistent\n",
    "assert test_array[1, 0]\n",
    "assert test_array[2, 2]\n",
    "assert not test_array[1, 1]"
   ]
  },
  {
   "cell_type": "code",
   "execution_count": 51,
   "metadata": {},
   "outputs": [
    {
     "data": {
      "text/plain": [
       "[(0, 2),\n",
       " (1, 0),\n",
       " (1, 2),\n",
       " (2, 2),\n",
       " (3, 2),\n",
       " (3, 4),\n",
       " (4, 0),\n",
       " (4, 2),\n",
       " (4, 3),\n",
       " (4, 4)]"
      ]
     },
     "execution_count": 51,
     "metadata": {},
     "output_type": "execute_result"
    }
   ],
   "source": [
    "test_asteroids = list(zip(*np.where(test_array)))\n",
    "test_asteroids"
   ]
  },
  {
   "cell_type": "markdown",
   "metadata": {},
   "source": [
    "Core algorithm for finding if asteroid B blocks view from A:\n",
    "1. compute v = B-A\n",
    "2. determine the smallest rational ratio vector w of vy/vx\n",
    "3. B blocks B + w, B+ 2*w, etc until off the grid"
   ]
  },
  {
   "cell_type": "code",
   "execution_count": 69,
   "metadata": {},
   "outputs": [
    {
     "name": "stdout",
     "output_type": "stream",
     "text": [
      ".....\n",
      ".....\n",
      "..XXX\n",
      ".....\n",
      ".....\n",
      "\n"
     ]
    }
   ],
   "source": [
    "from math import gcd\n",
    "\n",
    "def make_blockage_map(source_coords, otherasteroid_coords):\n",
    "    # returns True where they are *not* visible\n",
    "    max_x = max_y = 0\n",
    "    for x, y in [source_coords] + otherasteroid_coords:\n",
    "        if x > max_x:\n",
    "            max_x = x\n",
    "        if y > max_y:\n",
    "            max_y = y\n",
    "        \n",
    "    \n",
    "    blockage_map = np.zeros((max_x+1, max_y+1), dtype=bool)\n",
    "    Ax, Ay = source_coords\n",
    "    \n",
    "    for Bx, By in otherasteroid_coords:\n",
    "        dx = Bx - Ax\n",
    "        dy = By - Ay\n",
    "        \n",
    "        vgcd = gcd(dx, dy)\n",
    "        dx //= vgcd\n",
    "        dy //= vgcd\n",
    "\n",
    "        Cx = Bx + dx\n",
    "        Cy = By + dy\n",
    "        while 0 <= Cx < blockage_map.shape[0] and 0 <= Cy < blockage_map.shape[1]:\n",
    "            blockage_map[Cx, Cy] = True\n",
    "            Cx += dx\n",
    "            Cy += dy\n",
    "    \n",
    "    return blockage_map\n",
    "\n",
    "blockage1 = make_blockage_map(test_asteroids[0], test_asteroids[1:])\n",
    "print(array_to_map(blockage1, 'X'))"
   ]
  },
  {
   "cell_type": "code",
   "execution_count": 72,
   "metadata": {},
   "outputs": [
    {
     "name": "stdout",
     "output_type": "stream",
     "text": [
      ".#..#\n",
      ".....\n",
      ".#...\n",
      "....#\n",
      "...##\n",
      "\n"
     ]
    }
   ],
   "source": [
    "def visible_asteroids(source_coords, otherasteroid_coords):\n",
    "    blockage_map = make_blockage_map(source_coords, otherasteroid_coords)\n",
    "    asteroids = np.zeros_like(blockage_map)\n",
    "    for x, y in otherasteroid_coords:\n",
    "        asteroids[x, y] = True\n",
    "    return asteroids & ~blockage_map\n",
    "visible1 = visible_asteroids(test_asteroids[0], test_asteroids[1:])\n",
    "print(array_to_map(visible1, '#'))"
   ]
  },
  {
   "cell_type": "code",
   "execution_count": 80,
   "metadata": {},
   "outputs": [
    {
     "name": "stdout",
     "output_type": "stream",
     "text": [
      ".7..7\n",
      ".....\n",
      "67775\n",
      "....7\n",
      "...87\n"
     ]
    }
   ],
   "source": [
    "visible_count = -np.ones(test_array.shape, dtype=int)\n",
    "for i, ast in enumerate(test_asteroids):\n",
    "    other_asteroids = test_asteroids.copy()\n",
    "    other_asteroids.pop(i)\n",
    "    visible_count[ast[0], ast[1]] = np.sum(visible_asteroids(ast, other_asteroids).ravel())\n",
    "for row in visible_count.T:\n",
    "    for element in row:\n",
    "        print('.' if element==-1 else element, end='')\n",
    "    print('')"
   ]
  },
  {
   "cell_type": "markdown",
   "metadata": {},
   "source": [
    "Above looks just like the example."
   ]
  },
  {
   "cell_type": "code",
   "execution_count": 96,
   "metadata": {},
   "outputs": [],
   "source": [
    "def find_best_asteroid(astmap):\n",
    "    ast_array = map_to_array(astmap)\n",
    "    asteroids = list(zip(*np.where(ast_array)))\n",
    "    \n",
    "    visible_count = -np.ones(ast_array.shape, dtype=int)\n",
    "    for i, ast in enumerate(asteroids):\n",
    "        other_asteroids = asteroids.copy()\n",
    "        other_asteroids.pop(i)\n",
    "        visible_count[ast[0], ast[1]] = np.sum(visible_asteroids(ast, other_asteroids).ravel())\n",
    "        \n",
    "    bestidx = np.where(np.max(visible_count)==visible_count)\n",
    "    bestidx = (bestidx[0][0], bestidx[1][0])\n",
    "        \n",
    "    return bestidx, visible_count.T"
   ]
  },
  {
   "cell_type": "code",
   "execution_count": 100,
   "metadata": {},
   "outputs": [
    {
     "data": {
      "text/plain": [
       "((5, 8),\n",
       " array([[-1, -1, -1, -1, -1, -1, 30, -1, 30, -1],\n",
       "        [32, -1, -1, 29, -1, 27, -1, -1, -1, -1],\n",
       "        [-1, -1, 27, 32, 28, 32, 29, 29, 27, -1],\n",
       "        [-1, 30, -1, 30, -1, 28, 29, 31, -1, -1],\n",
       "        [-1, 32, -1, -1, 30, -1, -1, -1, -1, -1],\n",
       "        [-1, -1, 32, -1, -1, -1, -1, 30, -1, 31],\n",
       "        [29, -1, -1, 30, -1, -1, -1, -1, 30, -1],\n",
       "        [-1, 28, 31, -1, 32, -1, -1, 30, 30, 28],\n",
       "        [30, 32, -1, -1, -1, 33, -1, -1, 29, -1],\n",
       "        [-1, 27, -1, -1, -1, -1, 30, 32, 31, 25]]))"
      ]
     },
     "execution_count": 100,
     "metadata": {},
     "output_type": "execute_result"
    }
   ],
   "source": [
    "test_map2 = \"\"\"\n",
    "......#.#.\n",
    "#..#.#....\n",
    "..#######.\n",
    ".#.#.###..\n",
    ".#..#.....\n",
    "..#....#.#\n",
    "#..#....#.\n",
    ".##.#..###\n",
    "##...#..#.\n",
    ".#....####\n",
    "\"\"\"[1:-1]\n",
    "result = find_best_asteroid(test_map2)\n",
    "assert result[0] == (5, 8)\n",
    "result"
   ]
  },
  {
   "cell_type": "markdown",
   "metadata": {},
   "source": [
    "Real thing:"
   ]
  },
  {
   "cell_type": "code",
   "execution_count": 104,
   "metadata": {},
   "outputs": [
    {
     "data": {
      "text/plain": [
       "((17, 22),\n",
       " array([[ -1, 255,  -1, ...,  -1,  -1,  -1],\n",
       "        [ -1, 257,  -1, ..., 259,  -1, 272],\n",
       "        [250,  -1,  -1, ...,  -1,  -1,  -1],\n",
       "        ...,\n",
       "        [ -1,  -1, 249, ...,  -1,  -1,  -1],\n",
       "        [ -1, 256,  -1, ...,  -1,  -1,  -1],\n",
       "        [ -1,  -1,  -1, ..., 261, 254,  -1]]))"
      ]
     },
     "execution_count": 104,
     "metadata": {},
     "output_type": "execute_result"
    }
   ],
   "source": [
    "result = find_best_asteroid(asteroid_map)\n",
    "result"
   ]
  },
  {
   "cell_type": "code",
   "execution_count": 106,
   "metadata": {},
   "outputs": [
    {
     "data": {
      "text/plain": [
       "276"
      ]
     },
     "execution_count": 106,
     "metadata": {},
     "output_type": "execute_result"
    }
   ],
   "source": [
    "np.max(result[1])"
   ]
  },
  {
   "cell_type": "markdown",
   "metadata": {},
   "source": [
    "## Part 2 "
   ]
  },
  {
   "cell_type": "code",
   "execution_count": null,
   "metadata": {},
   "outputs": [],
   "source": []
  },
  {
   "cell_type": "markdown",
   "metadata": {},
   "source": [
    "# Day N"
   ]
  },
  {
   "cell_type": "markdown",
   "metadata": {},
   "source": [
    "## Part 1"
   ]
  },
  {
   "cell_type": "code",
   "execution_count": null,
   "metadata": {},
   "outputs": [],
   "source": []
  },
  {
   "cell_type": "markdown",
   "metadata": {},
   "source": [
    "## Part 2 "
   ]
  },
  {
   "cell_type": "code",
   "execution_count": null,
   "metadata": {},
   "outputs": [],
   "source": []
  }
 ],
 "metadata": {
  "kernelspec": {
   "display_name": "Python 3",
   "language": "python",
   "name": "python3"
  },
  "language_info": {
   "codemirror_mode": {
    "name": "ipython",
    "version": 3
   },
   "file_extension": ".py",
   "mimetype": "text/x-python",
   "name": "python",
   "nbconvert_exporter": "python",
   "pygments_lexer": "ipython3",
   "version": "3.8.5"
  }
 },
 "nbformat": 4,
 "nbformat_minor": 4
}
