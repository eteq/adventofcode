{
 "cells": [
  {
   "cell_type": "code",
   "execution_count": 1,
   "metadata": {},
   "outputs": [],
   "source": [
    "import intcode\n",
    "from importlib import reload"
   ]
  },
  {
   "cell_type": "markdown",
   "metadata": {},
   "source": [
    "# Day 2"
   ]
  },
  {
   "cell_type": "code",
   "execution_count": 2,
   "metadata": {},
   "outputs": [],
   "source": [
    "with open('input_2') as f:\n",
    "    iprogram = f.read()"
   ]
  },
  {
   "cell_type": "markdown",
   "metadata": {},
   "source": [
    "## Part 1"
   ]
  },
  {
   "cell_type": "code",
   "execution_count": 3,
   "metadata": {},
   "outputs": [],
   "source": [
    "reload(intcode)\n",
    "icode = intcode.IntCodeComputer()"
   ]
  },
  {
   "cell_type": "markdown",
   "metadata": {},
   "source": [
    "Make sure the example program executes as expected"
   ]
  },
  {
   "cell_type": "code",
   "execution_count": 4,
   "metadata": {},
   "outputs": [],
   "source": [
    "test_program = '1,9,10,3,2,3,11,0,99,30,40,50'\n",
    "\n",
    "icode.load(test_program)\n",
    "icode.execute_to_halt(1000)\n",
    "\n",
    "assert icode.instruction_pointer == 8\n",
    "\n",
    "check_buffer = [3500,9,10,70,\n",
    "2,3,11,0,\n",
    "99,\n",
    "30,40,50]\n",
    "assert len(icode.buffer)==len(check_buffer) and all([icode.buffer[i] == check_buffer[i] for i in range(len(check_buffer))])"
   ]
  },
  {
   "cell_type": "markdown",
   "metadata": {},
   "source": [
    "Another test program"
   ]
  },
  {
   "cell_type": "code",
   "execution_count": 5,
   "metadata": {},
   "outputs": [],
   "source": [
    "icode.load('1,1,1,4,99,5,6,0,99')\n",
    "icode.execute_to_halt(1000)\n",
    "\n",
    "assert icode.instruction_pointer == 8\n",
    "\n",
    "check_buffer = [30,1,1,4,2,5,6,0,99]\n",
    "assert len(icode.buffer)==len(check_buffer) and all([icode.buffer[i] == check_buffer[i] for i in range(len(check_buffer))])"
   ]
  },
  {
   "cell_type": "markdown",
   "metadata": {},
   "source": [
    "Now the real puzzle"
   ]
  },
  {
   "cell_type": "code",
   "execution_count": 6,
   "metadata": {},
   "outputs": [
    {
     "data": {
      "text/plain": [
       "9706670"
      ]
     },
     "execution_count": 6,
     "metadata": {},
     "output_type": "execute_result"
    }
   ],
   "source": [
    "icode.load(iprogram)\n",
    "icode.buffer[1] = 12\n",
    "icode.buffer[2] = 2\n",
    "\n",
    "icode.execute_to_halt(1000)\n",
    "icode.buffer[0]"
   ]
  },
  {
   "cell_type": "code",
   "execution_count": 7,
   "metadata": {},
   "outputs": [],
   "source": [
    "assert icode.buffer[0] == 9706670"
   ]
  },
  {
   "cell_type": "markdown",
   "metadata": {},
   "source": [
    "## Part 2 "
   ]
  },
  {
   "cell_type": "code",
   "execution_count": 8,
   "metadata": {},
   "outputs": [
    {
     "data": {
      "text/plain": [
       "(25, 52)"
      ]
     },
     "execution_count": 8,
     "metadata": {},
     "output_type": "execute_result"
    }
   ],
   "source": [
    "def run_program(noun, verb):\n",
    "    icode.load(iprogram)\n",
    "    icode.buffer[1] = noun\n",
    "    icode.buffer[2] = verb\n",
    "    icode.execute_to_halt(1000)\n",
    "    return icode.buffer[0]\n",
    "\n",
    "done = None\n",
    "for ni in range(100):\n",
    "    if done is not None:\n",
    "        break\n",
    "    for vi in range(100):\n",
    "        res = run_program(ni, vi)\n",
    "        if res == 19690720:\n",
    "            done = ni, vi\n",
    "done"
   ]
  },
  {
   "cell_type": "code",
   "execution_count": 9,
   "metadata": {},
   "outputs": [],
   "source": [
    "assert done[0]*100 + done[1] == 2552"
   ]
  },
  {
   "cell_type": "markdown",
   "metadata": {},
   "source": [
    "# Day 5"
   ]
  },
  {
   "cell_type": "markdown",
   "metadata": {},
   "source": [
    "## Part 1"
   ]
  },
  {
   "cell_type": "code",
   "execution_count": null,
   "metadata": {},
   "outputs": [],
   "source": []
  },
  {
   "cell_type": "markdown",
   "metadata": {},
   "source": [
    "## Part 2 "
   ]
  },
  {
   "cell_type": "code",
   "execution_count": null,
   "metadata": {},
   "outputs": [],
   "source": []
  },
  {
   "cell_type": "markdown",
   "metadata": {},
   "source": [
    "# Day 9"
   ]
  },
  {
   "cell_type": "markdown",
   "metadata": {},
   "source": [
    "## Part 1"
   ]
  },
  {
   "cell_type": "code",
   "execution_count": null,
   "metadata": {},
   "outputs": [],
   "source": []
  },
  {
   "cell_type": "markdown",
   "metadata": {},
   "source": [
    "## Part 2 "
   ]
  },
  {
   "cell_type": "code",
   "execution_count": null,
   "metadata": {},
   "outputs": [],
   "source": []
  }
 ],
 "metadata": {
  "kernelspec": {
   "display_name": "Python 3",
   "language": "python",
   "name": "python3"
  },
  "language_info": {
   "codemirror_mode": {
    "name": "ipython",
    "version": 3
   },
   "file_extension": ".py",
   "mimetype": "text/x-python",
   "name": "python",
   "nbconvert_exporter": "python",
   "pygments_lexer": "ipython3",
   "version": "3.8.5"
  }
 },
 "nbformat": 4,
 "nbformat_minor": 4
}
