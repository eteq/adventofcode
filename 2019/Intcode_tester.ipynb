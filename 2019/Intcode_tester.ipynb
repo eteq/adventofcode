{
 "cells": [
  {
   "cell_type": "code",
   "execution_count": 1,
   "metadata": {},
   "outputs": [],
   "source": [
    "import intcode\n",
    "\n",
    "icode = intcode.IntCodeComputer()"
   ]
  },
  {
   "cell_type": "markdown",
   "metadata": {},
   "source": [
    "# Day 2"
   ]
  },
  {
   "cell_type": "code",
   "execution_count": 2,
   "metadata": {},
   "outputs": [],
   "source": [
    "with open('input_2') as f:\n",
    "    iprogram = f.read()"
   ]
  },
  {
   "cell_type": "markdown",
   "metadata": {},
   "source": [
    "## Part 1"
   ]
  },
  {
   "cell_type": "markdown",
   "metadata": {},
   "source": [
    "Make sure the example program executes as expected"
   ]
  },
  {
   "cell_type": "code",
   "execution_count": 3,
   "metadata": {},
   "outputs": [],
   "source": [
    "test_program = '1,9,10,3,2,3,11,0,99,30,40,50'\n",
    "\n",
    "icode.load(test_program)\n",
    "icode.execute_to_halt(1000)\n",
    "\n",
    "assert icode.instruction_pointer == 8\n",
    "\n",
    "check_buffer = [3500,9,10,70,\n",
    "2,3,11,0,\n",
    "99,\n",
    "30,40,50]\n",
    "assert len(icode.buffer)==len(check_buffer) and all([icode.buffer[i] == check_buffer[i] for i in range(len(check_buffer))])"
   ]
  },
  {
   "cell_type": "markdown",
   "metadata": {},
   "source": [
    "Another test program"
   ]
  },
  {
   "cell_type": "code",
   "execution_count": 4,
   "metadata": {},
   "outputs": [],
   "source": [
    "icode.load('1,1,1,4,99,5,6,0,99')\n",
    "icode.execute_to_halt(1000)\n",
    "\n",
    "assert icode.instruction_pointer == 8\n",
    "\n",
    "check_buffer = [30,1,1,4,2,5,6,0,99]\n",
    "assert len(icode.buffer)==len(check_buffer) and all([icode.buffer[i] == check_buffer[i] for i in range(len(check_buffer))])"
   ]
  },
  {
   "cell_type": "markdown",
   "metadata": {},
   "source": [
    "Now the real puzzle"
   ]
  },
  {
   "cell_type": "code",
   "execution_count": 5,
   "metadata": {},
   "outputs": [
    {
     "data": {
      "text/plain": [
       "9706670"
      ]
     },
     "execution_count": 5,
     "metadata": {},
     "output_type": "execute_result"
    }
   ],
   "source": [
    "icode.load(iprogram)\n",
    "icode.buffer[1] = 12\n",
    "icode.buffer[2] = 2\n",
    "\n",
    "icode.execute_to_halt(1000)\n",
    "icode.buffer[0]"
   ]
  },
  {
   "cell_type": "code",
   "execution_count": 6,
   "metadata": {},
   "outputs": [],
   "source": [
    "assert icode.buffer[0] == 9706670"
   ]
  },
  {
   "cell_type": "markdown",
   "metadata": {},
   "source": [
    "## Part 2 "
   ]
  },
  {
   "cell_type": "code",
   "execution_count": 7,
   "metadata": {},
   "outputs": [
    {
     "data": {
      "text/plain": [
       "(25, 52)"
      ]
     },
     "execution_count": 7,
     "metadata": {},
     "output_type": "execute_result"
    }
   ],
   "source": [
    "def run_program(noun, verb):\n",
    "    icode.load(iprogram)\n",
    "    icode.buffer[1] = noun\n",
    "    icode.buffer[2] = verb\n",
    "    icode.execute_to_halt(1000)\n",
    "    return icode.buffer[0]\n",
    "\n",
    "done = None\n",
    "for ni in range(100):\n",
    "    if done is not None:\n",
    "        break\n",
    "    for vi in range(100):\n",
    "        res = run_program(ni, vi)\n",
    "        if res == 19690720:\n",
    "            done = ni, vi\n",
    "done"
   ]
  },
  {
   "cell_type": "code",
   "execution_count": 8,
   "metadata": {},
   "outputs": [],
   "source": [
    "assert done[0]*100 + done[1] == 2552"
   ]
  },
  {
   "cell_type": "markdown",
   "metadata": {},
   "source": [
    "# Day 5"
   ]
  },
  {
   "cell_type": "code",
   "execution_count": 9,
   "metadata": {},
   "outputs": [],
   "source": [
    "with open('input_5') as f:\n",
    "    iprogram5 = f.read()"
   ]
  },
  {
   "cell_type": "markdown",
   "metadata": {},
   "source": [
    "## Part 1"
   ]
  },
  {
   "cell_type": "code",
   "execution_count": 10,
   "metadata": {},
   "outputs": [
    {
     "data": {
      "text/plain": [
       "[0, 0, 0, 0, 0, 0, 0, 0, 0, 8332629]"
      ]
     },
     "execution_count": 10,
     "metadata": {},
     "output_type": "execute_result"
    }
   ],
   "source": [
    "icode.load(iprogram5)\n",
    "\n",
    "#icode.execute_to_halt(1000)  # to run interactively\n",
    "\n",
    "outputs = []\n",
    "icode.execute_to_halt(1000, [1], outputs)\n",
    "outputs"
   ]
  },
  {
   "cell_type": "code",
   "execution_count": 11,
   "metadata": {},
   "outputs": [],
   "source": [
    "assert all([i==0 for i in outputs[:-1]])"
   ]
  },
  {
   "cell_type": "code",
   "execution_count": 12,
   "metadata": {},
   "outputs": [],
   "source": [
    "assert outputs[-1] == 8332629"
   ]
  },
  {
   "cell_type": "markdown",
   "metadata": {},
   "source": [
    "## Part 2 "
   ]
  },
  {
   "cell_type": "code",
   "execution_count": 13,
   "metadata": {},
   "outputs": [
    {
     "data": {
      "text/plain": [
       "[1, 0]"
      ]
     },
     "execution_count": 13,
     "metadata": {},
     "output_type": "execute_result"
    }
   ],
   "source": [
    "test_program1 = '3,9,8,9,10,9,4,9,99,-1,8'  # input equal to 8\n",
    "\n",
    "icode.load(test_program1)\n",
    "\n",
    "outputs = []\n",
    "\n",
    "icode.execute_to_halt(1000, [8], outputs)\n",
    "assert outputs[-1] == 1\n",
    "\n",
    "icode.instruction_pointer = 0\n",
    "icode.execute_to_halt(1000, [-3], outputs)\n",
    "assert outputs[-1] == 0\n",
    "\n",
    "outputs"
   ]
  },
  {
   "cell_type": "code",
   "execution_count": 14,
   "metadata": {},
   "outputs": [
    {
     "data": {
      "text/plain": [
       "[0, 1]"
      ]
     },
     "execution_count": 14,
     "metadata": {},
     "output_type": "execute_result"
    }
   ],
   "source": [
    "test_program2 = '3,9,7,9,10,9,4,9,99,-1,8'  # input less than to 8\n",
    "\n",
    "icode.load(test_program2)\n",
    "\n",
    "outputs = []\n",
    "\n",
    "icode.execute_to_halt(1000, [9], outputs)\n",
    "assert outputs[-1] == 0\n",
    "\n",
    "icode.instruction_pointer = 0\n",
    "icode.execute_to_halt(1000, [-3], outputs)\n",
    "assert outputs[-1] == 1\n",
    "\n",
    "outputs"
   ]
  },
  {
   "cell_type": "code",
   "execution_count": 15,
   "metadata": {},
   "outputs": [
    {
     "data": {
      "text/plain": [
       "[1, 0]"
      ]
     },
     "execution_count": 15,
     "metadata": {},
     "output_type": "execute_result"
    }
   ],
   "source": [
    "test_program3 = '3,3,1108,-1,8,3,4,3,99'  # input equal to 8, immediate\n",
    "\n",
    "icode.load(test_program3)\n",
    "\n",
    "outputs = []\n",
    "\n",
    "icode.execute_to_halt(1000, [8], outputs)\n",
    "assert outputs[-1] == 1\n",
    "\n",
    "icode.instruction_pointer = 0\n",
    "icode.execute_to_halt(1000, [-3], outputs)\n",
    "assert outputs[-1] == 0\n",
    "\n",
    "outputs"
   ]
  },
  {
   "cell_type": "code",
   "execution_count": 16,
   "metadata": {},
   "outputs": [
    {
     "data": {
      "text/plain": [
       "[0, 1]"
      ]
     },
     "execution_count": 16,
     "metadata": {},
     "output_type": "execute_result"
    }
   ],
   "source": [
    "test_program4 = '3,3,1107,-1,8,3,4,3,99'  # input less than to 8, immediate\n",
    "\n",
    "icode.load(test_program4)\n",
    "\n",
    "outputs = []\n",
    "\n",
    "icode.execute_to_halt(1000, [9], outputs)\n",
    "assert outputs[-1] == 0\n",
    "\n",
    "icode.instruction_pointer = 0\n",
    "icode.execute_to_halt(1000, [-3], outputs)\n",
    "assert outputs[-1] == 1\n",
    "\n",
    "outputs"
   ]
  },
  {
   "cell_type": "code",
   "execution_count": 17,
   "metadata": {},
   "outputs": [],
   "source": [
    "test_program5 = '3,12,6,12,15,1,13,14,13,4,13,99,-1,0,1,9' \n",
    "icode.load(test_program5)\n",
    "\n",
    "outputs = []\n",
    "icode.execute_to_halt(1000, [0], outputs)\n",
    "assert outputs[-1] == 0\n",
    "\n",
    "icode.load(test_program5)\n",
    "\n",
    "outputs = []\n",
    "icode.execute_to_halt(1000, [1], outputs)\n",
    "assert outputs[-1] == 1"
   ]
  },
  {
   "cell_type": "code",
   "execution_count": 18,
   "metadata": {},
   "outputs": [],
   "source": [
    "test_program6 = '3,3,1105,-1,9,1101,0,0,12,4,12,99,1'\n",
    "icode.load(test_program6)\n",
    "\n",
    "outputs = []\n",
    "icode.execute_to_halt(1000, [0], outputs)\n",
    "assert outputs[-1] == 0\n",
    "\n",
    "icode.load(test_program6)\n",
    "\n",
    "outputs = []\n",
    "icode.execute_to_halt(1000, [1], outputs)\n",
    "assert outputs[-1] == 1"
   ]
  },
  {
   "cell_type": "code",
   "execution_count": 19,
   "metadata": {},
   "outputs": [],
   "source": [
    "test_program7 = '3,21,1008,21,8,20,1005,20,22,107,8,21,20,1006,20,31,1106,0,36,98,0,0,1002,21,125,20,4,20,1105,1,46,104,999,1105,1,46,1101,1000,1,20,4,20,1105,1,46,98,99'\n",
    "\n",
    "\n",
    "outputs = []\n",
    "\n",
    "icode.load(test_program7)\n",
    "icode.execute_to_halt(1000, [-3], outputs)\n",
    "\n",
    "icode.load(test_program7)\n",
    "icode.execute_to_halt(1000, [8], outputs)\n",
    "\n",
    "icode.load(test_program7)\n",
    "icode.execute_to_halt(1000, [9], outputs)\n",
    "\n",
    "assert outputs[0] == 999\n",
    "assert outputs[1] == 1000\n",
    "assert outputs[2] == 1001"
   ]
  },
  {
   "cell_type": "markdown",
   "metadata": {},
   "source": [
    "Now the real thing"
   ]
  },
  {
   "cell_type": "code",
   "execution_count": 20,
   "metadata": {},
   "outputs": [],
   "source": [
    "icode.load(iprogram5)\n",
    "#icode.execute_to_halt(1000)  #interactive\n",
    "\n",
    "outputs = []\n",
    "icode.execute_to_halt(1000, [5], outputs)\n",
    "assert outputs[-1] == 8805067"
   ]
  },
  {
   "cell_type": "markdown",
   "metadata": {},
   "source": [
    "# Day 9"
   ]
  },
  {
   "cell_type": "code",
   "execution_count": 21,
   "metadata": {},
   "outputs": [],
   "source": [
    "with open('input_9') as f:\n",
    "    iprogram9 = f.read()"
   ]
  },
  {
   "cell_type": "markdown",
   "metadata": {},
   "source": [
    "## Part 1"
   ]
  },
  {
   "cell_type": "code",
   "execution_count": 22,
   "metadata": {},
   "outputs": [],
   "source": [
    "test_program1 = '109,1,204,-1,1001,100,1,100,1008,100,16,101,1006,101,0,99'\n",
    "icode.load(test_program1, 1000)\n",
    "\n",
    "outputs = []\n",
    "icode.execute_to_halt(1000, None, outputs)\n",
    "\n",
    "icode.load(test_program1)\n",
    "assert all([icode.buffer[i] == outputs[i] for i in range(len(outputs))])"
   ]
  },
  {
   "cell_type": "code",
   "execution_count": 23,
   "metadata": {},
   "outputs": [],
   "source": [
    "test_program2 = '1102,34915192,34915192,7,4,7,99,0'\n",
    "icode.load(test_program2)\n",
    "\n",
    "outputs = []\n",
    "icode.execute_to_halt(1000, None, outputs)\n",
    "assert len(str(outputs[0])) == 16"
   ]
  },
  {
   "cell_type": "code",
   "execution_count": 24,
   "metadata": {},
   "outputs": [],
   "source": [
    "test_program3 = '104,1125899906842624,99'\n",
    "icode.load(test_program3)\n",
    "\n",
    "outputs = []\n",
    "icode.execute_to_halt(1000, None, outputs)\n",
    "assert outputs[0] == 1125899906842624"
   ]
  },
  {
   "cell_type": "markdown",
   "metadata": {},
   "source": [
    "Now the real thing"
   ]
  },
  {
   "cell_type": "code",
   "execution_count": 25,
   "metadata": {},
   "outputs": [],
   "source": [
    "icode.load(iprogram9, 1000)\n",
    "\n",
    "# icode.execute_to_halt(1000)\n",
    "\n",
    "outputs = []\n",
    "icode.execute_to_halt(1000, [1], outputs)\n",
    "assert outputs[0] == 2594708277"
   ]
  },
  {
   "cell_type": "markdown",
   "metadata": {},
   "source": [
    "## Part 2 "
   ]
  },
  {
   "cell_type": "code",
   "execution_count": 26,
   "metadata": {},
   "outputs": [],
   "source": [
    "icode.load(iprogram9, 1000)\n",
    "\n",
    "# icode.execute_to_halt(10000000)\n",
    "\n",
    "outputs = []\n",
    "icode.execute_to_halt(10000000, [2], outputs)\n",
    "assert outputs[0] == 87721"
   ]
  },
  {
   "cell_type": "markdown",
   "metadata": {},
   "source": [
    "# Reloader"
   ]
  },
  {
   "cell_type": "code",
   "execution_count": 27,
   "metadata": {},
   "outputs": [],
   "source": [
    "from importlib import reload\n",
    "reload(intcode)\n",
    "icode = intcode.IntCodeComputer()"
   ]
  }
 ],
 "metadata": {
  "kernelspec": {
   "display_name": "Python 3",
   "language": "python",
   "name": "python3"
  },
  "language_info": {
   "codemirror_mode": {
    "name": "ipython",
    "version": 3
   },
   "file_extension": ".py",
   "mimetype": "text/x-python",
   "name": "python",
   "nbconvert_exporter": "python",
   "pygments_lexer": "ipython3",
   "version": "3.8.5"
  }
 },
 "nbformat": 4,
 "nbformat_minor": 4
}
